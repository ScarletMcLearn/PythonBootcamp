{
 "cells": [
  {
   "cell_type": "markdown",
   "metadata": {},
   "source": [
    "# Bayer Python Workshop 2016 - Basics - Robert Adams"
   ]
  },
  {
   "cell_type": "markdown",
   "metadata": {},
   "source": [
    "<div style=\"width:45%;margin-left:auto;margin-right:auto\">![Python](img/python.jpg)</div>"
   ]
  },
  {
   "cell_type": "markdown",
   "metadata": {
    "slideshow": {
     "slide_type": "slide"
    }
   },
   "source": [
    "<div style=\"width:45%;float:left\">![Bayer logo](img/BayerLogo.png)</div>\n",
    "<div style=\"width:25%;float:right\">![Python logo](img/python-logo-master-flat.png)</div>"
   ]
  },
  {
   "cell_type": "code",
   "execution_count": 8,
   "metadata": {
    "collapsed": false
   },
   "outputs": [
    {
     "name": "stdout",
     "output_type": "stream",
     "text": [
      "Hello b4y3r py7h0n h4ck3r5\n"
     ]
    }
   ],
   "source": [
    "print \"Hello b4y3r py7h0n h4ck3r5\""
   ]
  },
  {
   "cell_type": "markdown",
   "metadata": {},
   "source": [
    "## Agenda"
   ]
  },
  {
   "cell_type": "markdown",
   "metadata": {},
   "source": [
    "**Intro**\n",
    "\n",
    "**The Python ecosystem**\n",
    "  * IDLE\n",
    "  * Execution of .py files\n",
    "  * IPython console\n",
    "  * Jupyter notebooks\n",
    "  * Editors & IDEs\n",
    "      * Atom, Eclipse, PyCharm, Sublime, RStudio\n",
    "  * Packages\n",
    "  * PyPI & pip install\n",
    "  * Anaconda\n",
    "  * virtualenv\n",
    "  \n",
    "  *Example - install packages*\n",
    "\n",
    "**Python programming basics**\n",
    "  * Code structure\n",
    "  * Variables & types & operators\n",
    "  * Collections (lists, dictionaries, sets, tuples)\n",
    "  * Control structures\n",
    " \n",
    " *Example - Lists & Dictionaries & Loops in annotated text retrieval*"
   ]
  },
  {
   "cell_type": "markdown",
   "metadata": {},
   "source": [
    "<div style=\"width:100%;margin-left:auto;margin-right:auto\">![Python](img/Python-programming-Feature_1290x688_MS.jpg)</div>"
   ]
  },
  {
   "cell_type": "markdown",
   "metadata": {},
   "source": [
    "## Intro\n",
    "* Invented in the late 1980s by Guido van Rossum (NL) - now Dropbox; BDFL (Benevolent Dictator for Life) \n",
    "* Named after Monty Python\n",
    "* First release in 1991\n",
    "* Two major versions\n",
    "    * 2.7.x\n",
    "    * 3.5.x\n",
    "* Full stack\n",
    "    * Scripting\n",
    "    * \"Real\" programming, OOP\n",
    "    * Backend, DBs, frontend, CMS\n",
    "    * Instagram & Pinterest\n",
    "    * Google, Nasa, LinkedIn\n",
    "* Requirements\n",
    "    * Powerful (as C++)\n",
    "    * As easy to read as simple English\n",
    "    * Open source\n",
    "    * For daily work and short development cycles"
   ]
  },
  {
   "cell_type": "markdown",
   "metadata": {},
   "source": [
    "# The Python ecosystem"
   ]
  },
  {
   "cell_type": "markdown",
   "metadata": {},
   "source": [
    "**run interactive python by typing \"python\" on the command line**"
   ]
  },
  {
   "cell_type": "markdown",
   "metadata": {},
   "source": [
    "<div style=\"width:100%;margin-left:auto;margin-right:auto\">![Atom Editor](img/console.png)</div>"
   ]
  },
  {
   "cell_type": "markdown",
   "metadata": {},
   "source": [
    "## IDLE"
   ]
  },
  {
   "cell_type": "markdown",
   "metadata": {},
   "source": [
    "IDLE is Python’s Integrated Development and Learning Environment.\n",
    "\n",
    "IDLE has the following features:\n",
    "\n",
    "* coded in 100% pure Python, using the tkinter GUI toolkit\n",
    "* cross-platform: works mostly the same on Windows, Unix, and Mac OS X\n",
    "* Python shell window (interactive interpreter) with colorizing of code input, output, and error messages\n",
    "* multi-window text editor with multiple undo, Python colorizing, smart indent, call tips, auto completion, and other features\n",
    "* search within any window, replace within editor windows, and search through multiple files (grep)\n",
    "* debugger with persistent breakpoints, stepping, and viewing of global and local namespaces\n",
    "* configuration, browsers, and other dialogs\n"
   ]
  },
  {
   "cell_type": "markdown",
   "metadata": {},
   "source": [
    "https://docs.python.org/2/library/idle.html"
   ]
  },
  {
   "cell_type": "markdown",
   "metadata": {},
   "source": [
    "<div style=\"width:75%;margin-left:auto;margin-right:auto\">![Atom Editor](img/800px-Idle1.png)</div>"
   ]
  },
  {
   "cell_type": "markdown",
   "metadata": {},
   "source": [
    "## Executing .py files"
   ]
  },
  {
   "cell_type": "markdown",
   "metadata": {},
   "source": [
    "at the command line type **python someFile.py [parameters]**"
   ]
  },
  {
   "cell_type": "markdown",
   "metadata": {},
   "source": [
    "<div style=\"width:45%;float:right\">![Ipython logo](img/IPy_header.png)</div>"
   ]
  },
  {
   "cell_type": "markdown",
   "metadata": {
    "collapsed": true
   },
   "source": [
    "* Interactive python command line interpreter / shell\n",
    "* Language agnostic; many kernels available\n",
    "* Mixing with Linux shell commands\n",
    "* Kernel for Jupyter\n",
    "* ..., e.g. HPC tools for parallel computing\n",
    "\n",
    "**Demo**"
   ]
  },
  {
   "cell_type": "markdown",
   "metadata": {},
   "source": [
    "https://ipython.org/"
   ]
  },
  {
   "cell_type": "markdown",
   "metadata": {},
   "source": [
    "<div style=\"width:45%;float:right\">![Jupyter logo](img/jupyter_logo.png)</div>"
   ]
  },
  {
   "cell_type": "markdown",
   "metadata": {
    "collapsed": true
   },
   "source": [
    "* \"Open source, interactive data science and scientific computing across over 40 programming languages\" \n",
    "* You currently look at a Jupyter notebook\n",
    "* IPython notebooks in the past\n",
    "* Language agnostic (multiple kernels available)\n",
    "* Mix markdown (text, URLs, images, LaTeX...) + code + output\n",
    "* Whole document as HTML, pdf...\n",
    "\n",
    "\"Notebook documents (or “notebooks”, all lower case) are documents produced by the Jupyter Notebook App which contain both computer code (e.g. python) and rich text elements (paragraph, equations, figures, links, etc...). Notebook documents are both human-readable documents containing the analysis description and the results (figures, tables, etc..) as well as executable documents which can be run to perform data analysis.\""
   ]
  },
  {
   "cell_type": "markdown",
   "metadata": {},
   "source": [
    "http://jupyter.org/"
   ]
  },
  {
   "cell_type": "markdown",
   "metadata": {},
   "source": [
    "# Editors & IDEs"
   ]
  },
  {
   "cell_type": "markdown",
   "metadata": {},
   "source": [
    "<div style=\"width:25%;float:right\">![Atom logo](img/atom_logo.png)</div>"
   ]
  },
  {
   "cell_type": "markdown",
   "metadata": {},
   "source": [
    "<div style=\"width:75%;margin-left:auto;margin-right:auto\">![Atom Editor](img/atom.png)</div>"
   ]
  },
  {
   "cell_type": "markdown",
   "metadata": {},
   "source": [
    "https://atom.io/"
   ]
  },
  {
   "cell_type": "markdown",
   "metadata": {},
   "source": [
    "<div style=\"width:15%;float:right\">![Sublime logo](img/sublime-logo.png)</div>"
   ]
  },
  {
   "cell_type": "markdown",
   "metadata": {},
   "source": [
    "<div style=\"width:75%;margin-left:auto;margin-right:auto\">![Sublime Editor](img/sublime-editor.png)</div>"
   ]
  },
  {
   "cell_type": "markdown",
   "metadata": {},
   "source": [
    "https://www.sublimetext.com/"
   ]
  },
  {
   "cell_type": "markdown",
   "metadata": {},
   "source": [
    "<div style=\"width:35%;float:right\">![Eclipse logo](img/eclipse-logo.png)</div>"
   ]
  },
  {
   "cell_type": "markdown",
   "metadata": {},
   "source": [
    "<div style=\"width:75%;margin-left:auto;margin-right:auto\">![Eclipse Editor](img/eclipse-editor.png)</div>"
   ]
  },
  {
   "cell_type": "markdown",
   "metadata": {
    "collapsed": true
   },
   "source": [
    "https://eclipse.org/downloads/"
   ]
  },
  {
   "cell_type": "markdown",
   "metadata": {},
   "source": [
    "<div style=\"width:25%;float:right\">![PyCharm logo](img/PyCharm-logo.png)</div>"
   ]
  },
  {
   "cell_type": "markdown",
   "metadata": {},
   "source": [
    "<div style=\"width:75%;margin-left:auto;margin-right:auto\">![PyCharm Editor](img/PyCharm-editor.png)</div>"
   ]
  },
  {
   "cell_type": "markdown",
   "metadata": {},
   "source": [
    "https://www.jetbrains.com/pycharm/"
   ]
  },
  {
   "cell_type": "markdown",
   "metadata": {},
   "source": [
    "<div style=\"width:25%;float:right\">![Sublime logo](img/rstudio-logo.jpg)</div>"
   ]
  },
  {
   "cell_type": "markdown",
   "metadata": {},
   "source": [
    "<div style=\"width:45%;float:left\">![RStudio Editor1](img/rstudio-editor1.png)</div>\n",
    "<div style=\"width:45%;float:right\">![RStudio Editor2](img/rstudio-editor2.png)</div>"
   ]
  },
  {
   "cell_type": "markdown",
   "metadata": {},
   "source": [
    "<div style=\"width:75%;margin-left:auto;margin-right:auto\">![RStudio Editor](img/rstudio-notebook.png)</div>"
   ]
  },
  {
   "cell_type": "markdown",
   "metadata": {},
   "source": [
    "https://www.rstudio.com/"
   ]
  },
  {
   "cell_type": "markdown",
   "metadata": {},
   "source": [
    "# Packages"
   ]
  },
  {
   "cell_type": "markdown",
   "metadata": {},
   "source": [
    "<div style=\"width:75%;margin-left:auto;margin-right:auto\">![Python_xkcd](img/python_xkcd.png)</div>"
   ]
  },
  {
   "cell_type": "markdown",
   "metadata": {},
   "source": [
    "** Comparable to R packages**\n",
    "\n",
    "** Enhance the functionality by making reuse of implemented functions and classes**\n"
   ]
  },
  {
   "cell_type": "code",
   "execution_count": 2,
   "metadata": {
    "collapsed": true
   },
   "outputs": [],
   "source": [
    "import pandas as pd #import package and give it an alias\n",
    "\n",
    "import numpy as np #import package and give it an alias\n",
    "\n",
    "import matplotlib.pyplot as plt \n",
    "\n",
    "from sklearn.cluster import KMeans #import certain functionality from a package\n",
    "\n",
    "#use alias to make use of functions importet by a package\n",
    "#\n",
    "#pd.Categorical "
   ]
  },
  {
   "cell_type": "markdown",
   "metadata": {},
   "source": [
    "# Python data science packages\n"
   ]
  },
  {
   "cell_type": "markdown",
   "metadata": {},
   "source": [
    "<div style=\"width:45%;margin-left:auto;margin-right:auto\">![Logo Stack](img/logo-stack-python.png)</div>"
   ]
  },
  {
   "cell_type": "markdown",
   "metadata": {},
   "source": [
    "<div style=\"width:25%;float:right\">![Numpy logo](img/numpy-logo.jpg)</div>"
   ]
  },
  {
   "cell_type": "markdown",
   "metadata": {},
   "source": [
    "NumPy is the fundamental package for scientific computing with Python. It contains among other things:\n",
    "\n",
    "* a powerful N-dimensional array object\n",
    "* sophisticated (broadcasting) functions\n",
    "* tools for integrating C/C++ and Fortran code\n",
    "* useful linear algebra, Fourier transform, and random number capabilities\n",
    "\n",
    "Besides its obvious scientific uses, NumPy can also be used as an efficient multi-dimensional container of generic data. Arbitrary data-types can be defined. This allows NumPy to seamlessly and speedily integrate with a wide variety of databases.\n",
    "\n",
    "**Don´t learn NumPy!!!** Use packages that make use of NumPy!!! (e.g. pandas) ... except your name is Djork or Jens."
   ]
  },
  {
   "cell_type": "markdown",
   "metadata": {},
   "source": [
    "http://www.numpy.org/"
   ]
  },
  {
   "cell_type": "markdown",
   "metadata": {},
   "source": [
    "<div style=\"width:25%;float:right\">![Matplotlib Logo](img/matplotlib-logo.png)</div>"
   ]
  },
  {
   "cell_type": "markdown",
   "metadata": {},
   "source": [
    "<div style=\"width:75%;margin-left:auto;margin-right:auto\">![Logo Stack](img/matplotlibimage.jpg)</div>"
   ]
  },
  {
   "cell_type": "markdown",
   "metadata": {},
   "source": [
    "**\"A must for data analyzing, Matplotlib is a numerical plotting library widely used in the Python scientific computing community.\"**"
   ]
  },
  {
   "cell_type": "markdown",
   "metadata": {},
   "source": [
    "**Don´t learn matplotlib!!!** Use packages that make use of matplotlib!!! e.g. seaborn"
   ]
  },
  {
   "cell_type": "markdown",
   "metadata": {},
   "source": [
    "<div style=\"width:25%;float:right\">![Pandas Logo](img/pandas-logo.png)</div>"
   ]
  },
  {
   "cell_type": "markdown",
   "metadata": {},
   "source": [
    "**Python Data Analysis Library**\n",
    "\n",
    "\"pandas is an open source, BSD-licensed library providing high-performance, easy-to-use data structures and data analysis tools for the Python programming language.\"\n",
    "\n",
    "Provides R like data frames and analysis functionality.\n",
    "\n",
    "**Learn Pandas!!!**"
   ]
  },
  {
   "cell_type": "markdown",
   "metadata": {},
   "source": [
    "<div style=\"width:25%;float:right\">![Bokeh Logo](img/bokeh-logo.png)</div>"
   ]
  },
  {
   "cell_type": "markdown",
   "metadata": {},
   "source": [
    "<div style=\"width:75%;margin-left:auto;margin-right:auto\">![Logo Stack](img/bokeh.png)</div>"
   ]
  },
  {
   "cell_type": "markdown",
   "metadata": {},
   "source": [
    "**\"Bokeh is a Python interactive visualization library that targets modern web browsers for presentation. Its goal is to provide elegant, concise construction of novel graphics in the style of D3.js, and to extend this capability with high-performance interactivity over very large or streaming datasets. Bokeh can help anyone who would like to quickly and easily create interactive plots, dashboards, and data applications.\"**"
   ]
  },
  {
   "cell_type": "markdown",
   "metadata": {},
   "source": [
    "http://bokeh.pydata.org/en/latest/"
   ]
  },
  {
   "cell_type": "markdown",
   "metadata": {},
   "source": [
    "<div style=\"width:25%;float:right\">![Bokeh Logo](img/seaborn.png)</div>"
   ]
  },
  {
   "cell_type": "markdown",
   "metadata": {},
   "source": [
    "<div style=\"width:75%;margin-left:auto;margin-right:auto\">![Logo Stack](img/seab.png)</div>"
   ]
  },
  {
   "cell_type": "markdown",
   "metadata": {},
   "source": [
    "**Seaborn is a Python visualization library based on matplotlib. It provides a high-level interface for drawing attractive statistical graphics.**"
   ]
  },
  {
   "cell_type": "markdown",
   "metadata": {},
   "source": [
    "http://seaborn.pydata.org"
   ]
  },
  {
   "cell_type": "markdown",
   "metadata": {},
   "source": [
    "<div style=\"width:25%;float:right\">![SciKit Logo](img/scikit-learn-logo.png)</div>"
   ]
  },
  {
   "cell_type": "markdown",
   "metadata": {},
   "source": [
    "<div style=\"width:100%;margin-left:auto;margin-right:auto\">![Logo Stack](img/scikit.png)</div>"
   ]
  },
  {
   "cell_type": "markdown",
   "metadata": {},
   "source": [
    "http://scikit-learn.org/stable/"
   ]
  },
  {
   "cell_type": "markdown",
   "metadata": {},
   "source": [
    "<div style=\"width:25%;float:right\">![TensorFlow Logo](img/tensorflow-logo.jpg)</div>"
   ]
  },
  {
   "cell_type": "markdown",
   "metadata": {},
   "source": [
    "<div style=\"width:45%;float:left\">![tf1](img/tf1.png)</div>\n",
    "<div style=\"width:45%;float:right\">![tf2](img/tf2.png)</div>"
   ]
  },
  {
   "cell_type": "markdown",
   "metadata": {},
   "source": [
    "**TensorFlow™ is an open source software library for numerical computation using data flow graphs. Nodes in the graph represent mathematical operations, while the graph edges represent the multidimensional data arrays (tensors) communicated between them. The flexible architecture allows you to deploy computation to one or more CPUs or GPUs in a desktop, server, or mobile device with a single API. TensorFlow was originally developed by researchers and engineers working on the Google Brain Team within Google's Machine Intelligence research organization for the purposes of conducting machine learning and deep neural networks research, but the system is general enough to be applicable in a wide variety of other domains as well.**"
   ]
  },
  {
   "cell_type": "markdown",
   "metadata": {},
   "source": [
    "https://www.tensorflow.org/"
   ]
  },
  {
   "cell_type": "markdown",
   "metadata": {},
   "source": [
    "## Lists for Python package rankings:\n",
    "\n",
    "Top 20 Python Machine Learning Open Source Projects\n",
    "\n",
    "http://www.kdnuggets.com/2016/11/top-20-python-machine-learning-open-source-updated.html\n",
    "\n",
    "20 Great Python Libraries You Must Know\n",
    "\n",
    "http://blog.stoneriverelearning.com/20-great-python-libraries-you-must-know/\n",
    "\n",
    "20 Python libraries you can’t live without\n",
    "\n",
    "https://pythontips.com/2013/07/30/20-python-libraries-you-cant-live-without/\n",
    "\n",
    "PyPI Ranking\n",
    "\n",
    "http://pypi-ranking.info/alltime"
   ]
  },
  {
   "cell_type": "markdown",
   "metadata": {},
   "source": [
    "# PyPI / pip install"
   ]
  },
  {
   "cell_type": "markdown",
   "metadata": {},
   "source": [
    "https://pypi.python.org/pypi\n",
    "\n",
    "* Python Package Index\n",
    "* The \"CRAN\" of Python\n",
    "* Package repo hosting 93.444 packages (as of November 24, 20:49 CET)\n",
    "* You can make use of the tool \"pip\" for installing packages from the PyPI:\n",
    "\n",
    "pip install -U scikit-learn\n",
    "\n",
    "* -U installs a package if not present and updates it, otherwise\n",
    "* many more parameters (see documentation)"
   ]
  },
  {
   "cell_type": "markdown",
   "metadata": {},
   "source": [
    "<div style=\"width:25%;float:right\">![Anaconda logo](img/anaconda-logo.png)</div>"
   ]
  },
  {
   "cell_type": "markdown",
   "metadata": {
    "collapsed": true
   },
   "source": [
    "<div style=\"width:55%;margin-left:auto;margin-right:auto\">![Logo Stack](img/anaconda.png)</div>"
   ]
  },
  {
   "cell_type": "markdown",
   "metadata": {},
   "source": [
    "https://www.continuum.io/downloads"
   ]
  },
  {
   "cell_type": "markdown",
   "metadata": {},
   "source": [
    "* Almost all useful packages in one distribution\n",
    "* Powerful package manager (easy install and update mechanisms)\n",
    "\n",
    "* Updating your whole Anaconda distribution: \n",
    "\n",
    "conda update anaconda\n",
    "\n",
    "* Install packages:\n",
    "\n",
    "conda install scikit-learn\n",
    "\n",
    "* Virtual environment manager\n",
    "* Licensing? meh\n",
    "    * Miniconda includes just Python and conda for easy installation of individual packages"
   ]
  },
  {
   "cell_type": "markdown",
   "metadata": {},
   "source": [
    "## virtualenv"
   ]
  },
  {
   "cell_type": "markdown",
   "metadata": {},
   "source": [
    "http://docs.python-guide.org/en/latest/dev/virtualenvs/"
   ]
  },
  {
   "cell_type": "markdown",
   "metadata": {},
   "source": [
    "*\"A Virtual Environment is a tool to keep the dependencies required by different projects in separate places, by creating virtual Python environments for them. It solves the “Project X depends on version 1.x but, Project Y needs 4.x” dilemma, and keeps your global site-packages directory clean and manageable.\n",
    "For example, you can work on a project which requires Django 1.10 while also maintaining a project which requires Django 1.8.\"*\n",
    "\n",
    "virtualenv is a tool to create isolated Python environments. virtualenv creates a folder which contains all the necessary executables to use the packages that a Python project would need."
   ]
  },
  {
   "cell_type": "markdown",
   "metadata": {},
   "source": [
    "**cd my_project_folder**\n",
    "\n",
    "**virtualenv venv**"
   ]
  },
  {
   "cell_type": "markdown",
   "metadata": {},
   "source": [
    "virtualenv venv will create a folder in the current directory which will contain the Python executable files, and a copy of the pip library which you can use to install other packages. The name of the virtual environment (in this case, it was venv) can be anything; omitting the name will place the files in the current directory instead.\n",
    "\n",
    "This creates a copy of Python in whichever directory you ran the command in, placing it in a folder named venv."
   ]
  },
  {
   "cell_type": "markdown",
   "metadata": {},
   "source": [
    "**source venv/bin/activate**"
   ]
  },
  {
   "cell_type": "markdown",
   "metadata": {},
   "source": [
    "**deactivate**"
   ]
  },
  {
   "cell_type": "markdown",
   "metadata": {},
   "source": [
    "To delete a virtual environment just delete the folder"
   ]
  },
  {
   "cell_type": "markdown",
   "metadata": {},
   "source": [
    "## Virtual environments with conda"
   ]
  },
  {
   "cell_type": "markdown",
   "metadata": {},
   "source": [
    "conda create -n yourenvname python=x.x anaconda"
   ]
  },
  {
   "cell_type": "markdown",
   "metadata": {},
   "source": [
    "source activate yourenvname"
   ]
  },
  {
   "cell_type": "markdown",
   "metadata": {},
   "source": [
    "conda install -n yourenvname [package]"
   ]
  },
  {
   "cell_type": "markdown",
   "metadata": {},
   "source": [
    "source deactivate"
   ]
  },
  {
   "cell_type": "markdown",
   "metadata": {},
   "source": [
    "conda remove -n yourenvname -all"
   ]
  },
  {
   "cell_type": "code",
   "execution_count": null,
   "metadata": {
    "collapsed": true
   },
   "outputs": [],
   "source": []
  },
  {
   "cell_type": "code",
   "execution_count": null,
   "metadata": {
    "collapsed": true
   },
   "outputs": [],
   "source": []
  },
  {
   "cell_type": "code",
   "execution_count": null,
   "metadata": {
    "collapsed": true
   },
   "outputs": [],
   "source": []
  },
  {
   "cell_type": "code",
   "execution_count": null,
   "metadata": {
    "collapsed": true
   },
   "outputs": [],
   "source": []
  },
  {
   "cell_type": "code",
   "execution_count": null,
   "metadata": {
    "collapsed": true
   },
   "outputs": [],
   "source": []
  },
  {
   "cell_type": "code",
   "execution_count": null,
   "metadata": {
    "collapsed": true
   },
   "outputs": [],
   "source": []
  },
  {
   "cell_type": "code",
   "execution_count": null,
   "metadata": {
    "collapsed": true
   },
   "outputs": [],
   "source": []
  },
  {
   "cell_type": "code",
   "execution_count": null,
   "metadata": {
    "collapsed": true
   },
   "outputs": [],
   "source": []
  },
  {
   "cell_type": "code",
   "execution_count": null,
   "metadata": {
    "collapsed": true
   },
   "outputs": [],
   "source": []
  },
  {
   "cell_type": "code",
   "execution_count": null,
   "metadata": {
    "collapsed": true
   },
   "outputs": [],
   "source": []
  },
  {
   "cell_type": "code",
   "execution_count": null,
   "metadata": {
    "collapsed": true
   },
   "outputs": [],
   "source": []
  },
  {
   "cell_type": "code",
   "execution_count": null,
   "metadata": {
    "collapsed": true
   },
   "outputs": [],
   "source": []
  },
  {
   "cell_type": "code",
   "execution_count": null,
   "metadata": {
    "collapsed": true
   },
   "outputs": [],
   "source": []
  },
  {
   "cell_type": "code",
   "execution_count": null,
   "metadata": {
    "collapsed": true
   },
   "outputs": [],
   "source": []
  },
  {
   "cell_type": "code",
   "execution_count": null,
   "metadata": {
    "collapsed": true
   },
   "outputs": [],
   "source": []
  },
  {
   "cell_type": "markdown",
   "metadata": {},
   "source": [
    "<div style=\"width:100%;margin-left:auto;margin-right:auto\">![Logo Stack](img/python-programming.jpg)</div>"
   ]
  },
  {
   "cell_type": "markdown",
   "metadata": {},
   "source": [
    "# Python programming basics"
   ]
  },
  {
   "cell_type": "markdown",
   "metadata": {},
   "source": [
    "## Code structure"
   ]
  },
  {
   "cell_type": "markdown",
   "metadata": {},
   "source": [
    "Use 4 spaces! No tabs! (can be configured in your editor)"
   ]
  },
  {
   "cell_type": "markdown",
   "metadata": {},
   "source": [
    "**FIX ME!!!**"
   ]
  },
  {
   "cell_type": "code",
   "execution_count": 112,
   "metadata": {
    "collapsed": false,
    "scrolled": true
   },
   "outputs": [
    {
     "name": "stdout",
     "output_type": "stream",
     "text": [
      "-f /gpfs01/home/gbeok/.local/share/jupyter/runtime/kernel-eebf8ece-ba0c-4aa5-b680-aa81e0e06ea3.json\n"
     ]
    }
   ],
   "source": [
    "#!/usr/bin/env python\n",
    "## Imports\n",
    "import sys\n",
    "import os\n",
    "from collections import defaultdict\n",
    "\n",
    "## Globals\n",
    "JUSTANEXAMPLE = 'whichdoesnotmakesense'\n",
    "\n",
    "## Classes\n",
    "class Person(object):\n",
    "\tdef __init__(self):\n",
    "\t\tself.first_name = None\n",
    "\t\tself.last_name = None\n",
    "    \n",
    "    def __str__(self):\n",
    "        return \"%s %s\" % (self.first_name, self.last_name)\n",
    "    \n",
    "    def set_first_name(self, first_name):\n",
    "        self.first_name = first_name\n",
    "    \n",
    "    def set_last_name(self, last_name):\n",
    "        self.last_name = last_name\n",
    "\n",
    "## Functions\n",
    "def main(first_name, last_name):\n",
    "    '''main loop'''\n",
    "    new_person = Person()\n",
    "    new_person.set_first_name(first_name)\n",
    "    new_person.set_last_name(last_name)\n",
    "    print new_person\n",
    "\n",
    "## Program\n",
    "if __name__ == '__main__':\n",
    "    # commandline parameters\n",
    "    first_name = sys.argv[1]\n",
    "    last_name = sys.argv[2]\n",
    "\n",
    "    main(first_name, last_name)"
   ]
  },
  {
   "cell_type": "markdown",
   "metadata": {},
   "source": [
    "## what does the __ mean?"
   ]
  },
  {
   "cell_type": "markdown",
   "metadata": {},
   "source": [
    "<div style=\"width:100%;margin-left:auto;margin-right:auto\">![Python](img/underscores.png)</div>"
   ]
  },
  {
   "cell_type": "markdown",
   "metadata": {},
   "source": [
    "## Variables & types & operators"
   ]
  },
  {
   "cell_type": "markdown",
   "metadata": {},
   "source": [
    "### Assigning values to variables:"
   ]
  },
  {
   "cell_type": "code",
   "execution_count": 116,
   "metadata": {
    "collapsed": false
   },
   "outputs": [
    {
     "name": "stdout",
     "output_type": "stream",
     "text": [
      "2\n"
     ]
    }
   ],
   "source": [
    "a = 2\n",
    "print a"
   ]
  },
  {
   "cell_type": "code",
   "execution_count": 117,
   "metadata": {
    "collapsed": false
   },
   "outputs": [
    {
     "name": "stdout",
     "output_type": "stream",
     "text": [
      "5\n"
     ]
    }
   ],
   "source": [
    "a, b = 2, 3\n",
    "print a + b"
   ]
  },
  {
   "cell_type": "code",
   "execution_count": 119,
   "metadata": {
    "collapsed": true
   },
   "outputs": [],
   "source": [
    "long_int = 4113244760468049623982"
   ]
  },
  {
   "cell_type": "code",
   "execution_count": 120,
   "metadata": {
    "collapsed": false
   },
   "outputs": [
    {
     "name": "stdout",
     "output_type": "stream",
     "text": [
      "4113244760468049623982\n"
     ]
    }
   ],
   "source": [
    "print long_int"
   ]
  },
  {
   "cell_type": "code",
   "execution_count": 121,
   "metadata": {
    "collapsed": false
   },
   "outputs": [
    {
     "name": "stdout",
     "output_type": "stream",
     "text": [
      "4113244760468049623982\n"
     ]
    }
   ],
   "source": [
    "long_hex_int = 0xDEFABCECBDAECBFBAEl\n",
    "print(long_hex_int)"
   ]
  },
  {
   "cell_type": "code",
   "execution_count": 122,
   "metadata": {
    "collapsed": false,
    "scrolled": false
   },
   "outputs": [
    {
     "data": {
      "text/plain": [
       "long"
      ]
     },
     "execution_count": 122,
     "metadata": {},
     "output_type": "execute_result"
    }
   ],
   "source": [
    "type(long_hex_int)"
   ]
  },
  {
   "cell_type": "code",
   "execution_count": 123,
   "metadata": {
    "collapsed": false,
    "scrolled": true
   },
   "outputs": [
    {
     "name": "stdout",
     "output_type": "stream",
     "text": [
      "-3.254e+101\n"
     ]
    }
   ],
   "source": [
    "print -32.54e100"
   ]
  },
  {
   "cell_type": "code",
   "execution_count": 124,
   "metadata": {
    "collapsed": false
   },
   "outputs": [
    {
     "name": "stdout",
     "output_type": "stream",
     "text": [
      "-3.254e+101\n"
     ]
    }
   ],
   "source": [
    "print str(-32.54e100)"
   ]
  },
  {
   "cell_type": "code",
   "execution_count": 8,
   "metadata": {
    "collapsed": false
   },
   "outputs": [
    {
     "data": {
      "text/plain": [
       "int"
      ]
     },
     "execution_count": 8,
     "metadata": {},
     "output_type": "execute_result"
    }
   ],
   "source": [
    "type(1234)"
   ]
  },
  {
   "cell_type": "code",
   "execution_count": 27,
   "metadata": {
    "collapsed": false
   },
   "outputs": [
    {
     "name": "stdout",
     "output_type": "stream",
     "text": [
      "1234\n"
     ]
    }
   ],
   "source": [
    "print long(1234)"
   ]
  },
  {
   "cell_type": "code",
   "execution_count": 26,
   "metadata": {
    "collapsed": false
   },
   "outputs": [
    {
     "data": {
      "text/plain": [
       "long"
      ]
     },
     "execution_count": 26,
     "metadata": {},
     "output_type": "execute_result"
    }
   ],
   "source": [
    "type(long(1234))"
   ]
  },
  {
   "cell_type": "code",
   "execution_count": 3,
   "metadata": {
    "collapsed": false,
    "scrolled": true
   },
   "outputs": [
    {
     "name": "stdout",
     "output_type": "stream",
     "text": [
      "100\n",
      "1000.0\n",
      "John\n"
     ]
    }
   ],
   "source": [
    "counter = 100    #Integer\n",
    "miles = 1000.0   #Floating point\n",
    "name = \"John\"    #String\n",
    "print counter\n",
    "print miles\n",
    "print name"
   ]
  },
  {
   "cell_type": "code",
   "execution_count": 18,
   "metadata": {
    "collapsed": false,
    "scrolled": false
   },
   "outputs": [
    {
     "name": "stdout",
     "output_type": "stream",
     "text": [
      "1 2 john\n"
     ]
    }
   ],
   "source": [
    "a, b, c = 1, 2, \"john\"\n",
    "print a, b, c"
   ]
  },
  {
   "cell_type": "code",
   "execution_count": 19,
   "metadata": {
    "collapsed": false,
    "scrolled": true
   },
   "outputs": [
    {
     "name": "stdout",
     "output_type": "stream",
     "text": [
      "Mr. Okko\n"
     ]
    }
   ],
   "source": [
    "print \"Mr.\" + \" \" + \"Okko\""
   ]
  },
  {
   "cell_type": "code",
   "execution_count": 21,
   "metadata": {
    "collapsed": false
   },
   "outputs": [
    {
     "name": "stdout",
     "output_type": "stream",
     "text": [
      "johnjohn\n"
     ]
    }
   ],
   "source": [
    "print c + c"
   ]
  },
  {
   "cell_type": "markdown",
   "metadata": {},
   "source": [
    "Exercise: Y U NO WORK?? **FIX ME!!!**"
   ]
  },
  {
   "cell_type": "code",
   "execution_count": 44,
   "metadata": {
    "collapsed": false,
    "scrolled": true
   },
   "outputs": [
    {
     "ename": "TypeError",
     "evalue": "unsupported operand type(s) for +: 'int' and 'str'",
     "output_type": "error",
     "traceback": [
      "\u001b[1;31m---------------------------------------------------------------------------\u001b[0m",
      "\u001b[1;31mTypeError\u001b[0m                                 Traceback (most recent call last)",
      "\u001b[1;32m<ipython-input-44-7cc114aacf47>\u001b[0m in \u001b[0;36m<module>\u001b[1;34m()\u001b[0m\n\u001b[1;32m----> 1\u001b[1;33m \u001b[1;32mprint\u001b[0m \u001b[0ma\u001b[0m \u001b[1;33m+\u001b[0m \u001b[0mb\u001b[0m \u001b[1;33m+\u001b[0m \u001b[0mc\u001b[0m \u001b[1;31m#fix me!!!\u001b[0m\u001b[1;33m\u001b[0m\u001b[0m\n\u001b[0m",
      "\u001b[1;31mTypeError\u001b[0m: unsupported operand type(s) for +: 'int' and 'str'"
     ]
    }
   ],
   "source": [
    "print a + b + c #fix me!!!"
   ]
  },
  {
   "cell_type": "code",
   "execution_count": 24,
   "metadata": {
    "collapsed": true
   },
   "outputs": [],
   "source": [
    "one, two, three = 1, 2, 3"
   ]
  },
  {
   "cell_type": "code",
   "execution_count": 25,
   "metadata": {
    "collapsed": false
   },
   "outputs": [
    {
     "name": "stdout",
     "output_type": "stream",
     "text": [
      "6\n"
     ]
    }
   ],
   "source": [
    "print one + two + three"
   ]
  },
  {
   "cell_type": "code",
   "execution_count": 26,
   "metadata": {
    "collapsed": false
   },
   "outputs": [
    {
     "name": "stdout",
     "output_type": "stream",
     "text": [
      "123\n"
     ]
    }
   ],
   "source": [
    "print str(one) + str(two) + str(three)"
   ]
  },
  {
   "cell_type": "markdown",
   "metadata": {},
   "source": [
    "## Arithmetic operators"
   ]
  },
  {
   "cell_type": "code",
   "execution_count": 27,
   "metadata": {
    "collapsed": true
   },
   "outputs": [],
   "source": [
    "a, b = 10, 20"
   ]
  },
  {
   "cell_type": "code",
   "execution_count": 28,
   "metadata": {
    "collapsed": false,
    "scrolled": true
   },
   "outputs": [
    {
     "name": "stdout",
     "output_type": "stream",
     "text": [
      "Addition: 30\n",
      "Subtraction: -10\n",
      "Multiplication: 200\n",
      "Division: 0\n",
      "Floor divsion: 0\n",
      "Modulus: 10\n",
      "Power: 100000000000000000000\n"
     ]
    }
   ],
   "source": [
    "print str('Addition: ') +  str(a + b) #addition\n",
    "print str('Subtraction: ') +  str(a - b) #subtraction\n",
    "print str('Multiplication: ') +  str(a * b) #multiplication\n",
    "print str('Division: ') +  str(a / b) #division\n",
    "print str('Floor divsion: ') +  str(a // b) #floor division\n",
    "print str('Modulus: ') +  str(a % b) #modulus\n",
    "print str('Power: ') +  str(a ** b) #power"
   ]
  },
  {
   "cell_type": "code",
   "execution_count": 33,
   "metadata": {
    "collapsed": false
   },
   "outputs": [
    {
     "name": "stdout",
     "output_type": "stream",
     "text": [
      "1\n",
      "10\n"
     ]
    }
   ],
   "source": [
    "print 23 // 14\n",
    "print 24 % 14"
   ]
  },
  {
   "cell_type": "markdown",
   "metadata": {},
   "source": [
    "## Numerical standard data types"
   ]
  },
  {
   "cell_type": "markdown",
   "metadata": {},
   "source": [
    "* int (signed integers)\n",
    "* long (long integers, also octal and hexadecimal representations)\n",
    "* float (floating point real values)\n",
    "* complex (complex numbers)"
   ]
  },
  {
   "cell_type": "code",
   "execution_count": 140,
   "metadata": {
    "collapsed": true
   },
   "outputs": [],
   "source": [
    "a = 4 #int\n",
    "b = 4113244760468049623982 #long\n",
    "c = 4.53 #float\n",
    "d = -.6545+0J #complex"
   ]
  },
  {
   "cell_type": "code",
   "execution_count": 141,
   "metadata": {
    "collapsed": false,
    "scrolled": true
   },
   "outputs": [
    {
     "data": {
      "text/plain": [
       "complex"
      ]
     },
     "execution_count": 141,
     "metadata": {},
     "output_type": "execute_result"
    }
   ],
   "source": [
    "type(d)"
   ]
  },
  {
   "cell_type": "markdown",
   "metadata": {},
   "source": [
    "## Assignments & Comparisons"
   ]
  },
  {
   "cell_type": "markdown",
   "metadata": {},
   "source": [
    "<div style=\"width:50%;float:left\">![Bayer logo](img/assignments.png)</div>\n",
    "<div style=\"width:50%;float:right\">![Python logo](img/comparisons.png)</div>"
   ]
  },
  {
   "cell_type": "code",
   "execution_count": 170,
   "metadata": {
    "collapsed": false
   },
   "outputs": [
    {
     "data": {
      "text/plain": [
       "False"
      ]
     },
     "execution_count": 170,
     "metadata": {},
     "output_type": "execute_result"
    }
   ],
   "source": [
    "4 >= 5 "
   ]
  },
  {
   "cell_type": "code",
   "execution_count": 171,
   "metadata": {
    "collapsed": false
   },
   "outputs": [
    {
     "data": {
      "text/plain": [
       "True"
      ]
     },
     "execution_count": 171,
     "metadata": {},
     "output_type": "execute_result"
    }
   ],
   "source": [
    "\"y\" in \"python\""
   ]
  },
  {
   "cell_type": "code",
   "execution_count": 1,
   "metadata": {
    "collapsed": false
   },
   "outputs": [
    {
     "name": "stdout",
     "output_type": "stream",
     "text": [
      "Da iss´n y in Python\n"
     ]
    }
   ],
   "source": [
    "if (\"y\" in \"Python\"):\n",
    "    print \"Da iss´n y in Python\""
   ]
  },
  {
   "cell_type": "markdown",
   "metadata": {},
   "source": [
    "## Strings"
   ]
  },
  {
   "cell_type": "code",
   "execution_count": 173,
   "metadata": {
    "collapsed": true
   },
   "outputs": [],
   "source": [
    "phrase = \"I am a string\""
   ]
  },
  {
   "cell_type": "code",
   "execution_count": 176,
   "metadata": {
    "collapsed": false
   },
   "outputs": [
    {
     "data": {
      "text/plain": [
       "2"
      ]
     },
     "execution_count": 176,
     "metadata": {},
     "output_type": "execute_result"
    }
   ],
   "source": [
    "phrase.count(\"a\")"
   ]
  },
  {
   "cell_type": "code",
   "execution_count": 180,
   "metadata": {
    "collapsed": false
   },
   "outputs": [
    {
     "data": {
      "text/plain": [
       "'i am a string'"
      ]
     },
     "execution_count": 180,
     "metadata": {},
     "output_type": "execute_result"
    }
   ],
   "source": [
    "phrase.lower()"
   ]
  },
  {
   "cell_type": "code",
   "execution_count": 181,
   "metadata": {
    "collapsed": false,
    "scrolled": true
   },
   "outputs": [
    {
     "data": {
      "text/plain": [
       "'I bm b string'"
      ]
     },
     "execution_count": 181,
     "metadata": {},
     "output_type": "execute_result"
    }
   ],
   "source": [
    "phrase.replace(\"a\",\"b\")"
   ]
  },
  {
   "cell_type": "code",
   "execution_count": 182,
   "metadata": {
    "collapsed": false
   },
   "outputs": [
    {
     "data": {
      "text/plain": [
       "'I AM A STRING'"
      ]
     },
     "execution_count": 182,
     "metadata": {},
     "output_type": "execute_result"
    }
   ],
   "source": [
    "phrase.upper()"
   ]
  },
  {
   "cell_type": "code",
   "execution_count": 183,
   "metadata": {
    "collapsed": false
   },
   "outputs": [
    {
     "data": {
      "text/plain": [
       "'I am a string'"
      ]
     },
     "execution_count": 183,
     "metadata": {},
     "output_type": "execute_result"
    }
   ],
   "source": [
    "\"    I am a string\".strip()"
   ]
  },
  {
   "cell_type": "code",
   "execution_count": 184,
   "metadata": {
    "collapsed": false,
    "scrolled": true
   },
   "outputs": [
    {
     "data": {
      "text/plain": [
       "'m'"
      ]
     },
     "execution_count": 184,
     "metadata": {},
     "output_type": "execute_result"
    }
   ],
   "source": [
    "phrase[3:4]"
   ]
  },
  {
   "cell_type": "code",
   "execution_count": 185,
   "metadata": {
    "collapsed": false
   },
   "outputs": [
    {
     "data": {
      "text/plain": [
       "'I am a string'"
      ]
     },
     "execution_count": 185,
     "metadata": {},
     "output_type": "execute_result"
    }
   ],
   "source": [
    "phrase[:]"
   ]
  },
  {
   "cell_type": "code",
   "execution_count": 186,
   "metadata": {
    "collapsed": false,
    "scrolled": true
   },
   "outputs": [
    {
     "data": {
      "text/plain": [
       "'i'"
      ]
     },
     "execution_count": 186,
     "metadata": {},
     "output_type": "execute_result"
    }
   ],
   "source": [
    "phrase[-3]"
   ]
  },
  {
   "cell_type": "code",
   "execution_count": 187,
   "metadata": {
    "collapsed": false,
    "scrolled": true
   },
   "outputs": [
    {
     "data": {
      "text/plain": [
       "' am a'"
      ]
     },
     "execution_count": 187,
     "metadata": {},
     "output_type": "execute_result"
    }
   ],
   "source": [
    "phrase[1:6]"
   ]
  },
  {
   "cell_type": "markdown",
   "metadata": {},
   "source": [
    "## Exercises"
   ]
  },
  {
   "cell_type": "markdown",
   "metadata": {},
   "source": [
    "__Given:__ Chapter 1 of 'die Leiden des jungen Werthers' (data/die_leiden_des_jungen_werthers_kapitel_1.txt)"
   ]
  },
  {
   "cell_type": "code",
   "execution_count": 211,
   "metadata": {
    "collapsed": false,
    "scrolled": true
   },
   "outputs": [
    {
     "data": {
      "text/plain": [
       "<function close>"
      ]
     },
     "execution_count": 211,
     "metadata": {},
     "output_type": "execute_result"
    }
   ],
   "source": [
    "#read files\n",
    "with open('data/die_leiden_des_jungen_werthers_kapitel_1.txt','r') as f:\n",
    "    read_data=f.read()\n",
    "f.close"
   ]
  },
  {
   "cell_type": "markdown",
   "metadata": {},
   "source": [
    "## Problem 1\n",
    "Replace each occurence of the letter e with letter a #try also ä"
   ]
  },
  {
   "cell_type": "code",
   "execution_count": 217,
   "metadata": {
    "collapsed": true
   },
   "outputs": [
    {
     "data": {
      "text/plain": [
       "\"Was ich von dar Gaschichta das arman Warthar nur haba auffindan k\\xc3\\xb6nnan, haba ich mit Flai\\xc3\\x9f gasammalt und laga as auch hiar vor, und wai\\xc3\\x9f, da\\xc3\\x9f ihr mir's dankan wardat. Ihr k\\xc3\\xb6nnt sainam Gaist und sainam Charaktar aura Bawundarung und Liaba, sainam Schicksala aura Tr\\xc3\\xa4nan nicht varsagan.\\nUnd du guta Saala, dia du aban dan Drang f\\xc3\\xbchlst wia ar, sch\\xc3\\xb6pfa Trost aus sainam Laidan, und la\\xc3\\x9f das B\\xc3\\xbcchlain dainan Fraund sain, wann du aus Gaschick odar aiganar Schuld kainan n\\xc3\\xa4haran findan kannst.\\nAm 4. Mai 1771\\nWia froh bin ich, da\\xc3\\x9f ich wag bin! Bastar Fraund, was ist das Harz das Manschan! Dich zu varlassan, dan ich so liaba, von dam ich unzartrannlich war, und froh zu sain! Ich wai\\xc3\\x9f, du varzaihst mir's. Waran nicht maina \\xc3\\xbcbrigan Varbindungan racht ausgasucht vom Schicksal, um ain Harz wia das maina zu \\xc3\\xa4ngstigan? Dia arma Laonora! Und doch war ich unschuldig. Konnt' ich daf\\xc3\\xbcr, da\\xc3\\x9f, w\\xc3\\xa4hrand dia aigansinnigan Raiza ihrar Schwastar mir aina anganahma Untarhaltung varschafftan, da\\xc3\\x9f aina Laidanschaft in dam arman Harzan sich bildata? Und doch \\xe2\\x80\\x93 bin ich ganz unschuldig? Hab' ich nicht ihra Empfindungan gan\\xc3\\xa4hrt? Hab' ich mich nicht an dan ganz wahran Ausdr\\xc3\\xbcckan dar Natur, dia uns so oft zu lachan machtan, so wanig l\\xc3\\xa4charlich sia waran, salbst argatzt? Hab' ich nicht \\xe2\\x80\\x93 o was ist dar Mansch, da\\xc3\\x9f ar \\xc3\\xbcbar sich klagan darf! Ich will, liabar Fraund, ich varspracha dir's, ich will mich bassarn, will nicht mahr ain bi\\xc3\\x9fchan \\xc3\\x9cbal, das uns das Schicksal vorlagt, wiadark\\xc3\\xa4uan, wia ich's immar gatan haba; ich will das Gaganw\\xc3\\xa4rtiga gania\\xc3\\x9fan, und das Vargangana soll mir vargangan sain. Gawi\\xc3\\x9f, du hast racht, Bastar, dar Schmarzan w\\xc3\\xa4ran mindar untar dan Manschan, wann sia nicht \\xe2\\x80\\x93 Gott wai\\xc3\\x9f, warum sia so gamacht sind! \\xe2\\x80\\x93 mit so vial Emsigkait dar Einbildungskraft sich basch\\xc3\\xa4ftigtan, dia Erinnarungan das varganganan \\xc3\\x9cbals zur\\xc3\\xbcckzurufan, ahar als aina glaichg\\xc3\\xbcltiga Gaganwart zu artragan.\\nDu bist so gut, mainar Muttar zu sagan, da\\xc3\\x9f ich ihr Gasch\\xc3\\xa4ft bastans batraiban und ihr ahstans Nachricht davon gaban warda. Ich haba maina Tanta gasprochan und bai waitam das b\\xc3\\xb6sa Waib nicht gafundan, das man bai uns aus ihr macht. Sia ist aina muntara, haftiga Frau von dam bastan Harzan. Ich arkl\\xc3\\xa4rta ihr mainar Muttar Baschwardan \\xc3\\xbcbar dan zur\\xc3\\xbcckgahaltanan Erbschaftsantail; sia sagta mir ihra Gr\\xc3\\xbcnda, Ursachan und dia Badingungan, untar walchan sia barait w\\xc3\\xa4ra, allas harauszugaban, und mahr als wir varlangtan \\xe2\\x80\\x93 kurz, ich mag jatzt nichts davon schraiban, saga mainar Muttar, as warda allas gut gahan. Und ich haba, main Liabar, wiadar bai diasam klainan Gasch\\xc3\\xa4ft gafundan, da\\xc3\\x9f Mi\\xc3\\x9fvarst\\xc3\\xa4ndnissa und Tr\\xc3\\xa4ghait viallaicht mahr Irrungan in dar Walt machan als List und Boshait. Wanigstans sind dia baidan latztaran gawi\\xc3\\x9f saltanar.\\n\\xc3\\x9cbrigans bafinda ich mich hiar gar wohl. Dia Einsamkait ist mainam Harzan k\\xc3\\xb6stlichar Balsam in diasar paradiasischan Gagand, und diasa Jahraszait dar Jugand w\\xc3\\xa4rmt mit allar F\\xc3\\xbclla main oft schaudarndas Harz. Jadar Baum, jada Hacka ist ain Strau\\xc3\\x9f von Bl\\xc3\\xbctan, und man m\\xc3\\xb6chta zum Maiank\\xc3\\xa4far wardan, um in dam Maar von Wohlgar\\xc3\\xbcchan harumschwaban und alla saina Nahrung darin findan zu k\\xc3\\xb6nnan.\\nDia Stadt salbst ist unanganahm, dagagan rings umhar aina unaussprachlicha Sch\\xc3\\xb6nhait dar Natur. Das bawog dan varstorbanan Grafan von M., ainan Gartan auf ainam dar H\\xc3\\xbcgal anzulagan, dia mit dar sch\\xc3\\xb6nstan Mannigfaltigkait sich krauzan und dia liablichstan T\\xc3\\xa4lar bildan. Dar Gartan ist ainfach, und man f\\xc3\\xbchlt glaich bai dam Eintritta, da\\xc3\\x9f nicht ain wissanschaftlichar G\\xc3\\xa4rtnar, sondarn ain f\\xc3\\xbchlandas Harz dan Plan gazaichnat, das sainar salbst hiar gania\\xc3\\x9fan wollta. Schon mancha Tr\\xc3\\xa4na hab' ich dam Abgaschiadanan in dam varfallanan Kabinattchan gawaint, das sain Liablingspl\\xc3\\xa4tzchan war und auch mainas ist. Bald warda ich Harr vom Gartan sain; dar G\\xc3\\xa4rtnar ist mir zugatan, nur sait dan paar Tagan, und ar wird sich nicht \\xc3\\xbcbal dabai bafindan.\\nAm 10. Mai\\nEina wundarbara Haitarkait hat maina ganza Saala ainganomman, glaich dan s\\xc3\\xbc\\xc3\\x9fan Fr\\xc3\\xbchlingsmorgan, dia ich mit ganzam Harzan gania\\xc3\\x9fa. Ich bin allain und fraua mich mainas Labans in diasar Gagand, dia f\\xc3\\xbcr solcha Saalan gaschaffan ist wia dia maina. Ich bin so gl\\xc3\\xbccklich, main Bastar, so ganz in dam Gaf\\xc3\\xbchla von ruhigam Dasain varsunkan, da\\xc3\\x9f maina Kunst daruntar laidat. Ich k\\xc3\\xb6nnta jatzt nicht zaichnan, nicht ainan Strich, und bin nia ain gr\\xc3\\xb6\\xc3\\x9farar Malar gawasan als in diasan Auganblickan. Wann das liaba Tal um mich dampft, und dia hoha Sonna an dar Obarfl\\xc3\\xa4cha dar undurchdringlichan Finstarnis mainas Waldas ruht, und nur ainzalna Strahlan sich in das innara Hailigtum stahlan, ich dann im hohan Grasa am fallandan Bacha liaga, und n\\xc3\\xa4har an dar Erda tausand mannigfaltiga Gr\\xc3\\xa4schan mir markw\\xc3\\xbcrdig wardan; wann ich das Wimmaln dar klainan Walt zwischan Halman, dia unz\\xc3\\xa4hligan, unargr\\xc3\\xbcndlichan Gastaltan dar W\\xc3\\xbcrmchan, dar M\\xc3\\xbcckchan n\\xc3\\xa4har an mainam Harzan f\\xc3\\xbchla, und f\\xc3\\xbchla dia Gaganwart das Allm\\xc3\\xa4chtigan, dar uns nach sainam Bilda schuf, das Wahan das Alliabandan, dar uns in awigar Wonna schwaband tr\\xc3\\xa4gt und arh\\xc3\\xa4lt; main Fraund! Wann's dann um maina Augan d\\xc3\\xa4mmart, und dia Walt um mich har und dar Himmal ganz in mainar Saala ruhn wia dia Gastalt ainar Galiabtan \\xe2\\x80\\x93 dann sahna ich mich oft und danka : ach k\\xc3\\xb6nntast du das wiadar ausdr\\xc3\\xbcckan, k\\xc3\\xb6nntast du dam Papiara das ainhauchan, was so voll, so warm in dir labt, da\\xc3\\x9f as w\\xc3\\xbcrda dar Spiagal dainar Saala, wia daina Saala ist dar Spiagal das unandlichan Gottas! \\xe2\\x80\\x93 main Fraund \\xe2\\x80\\x93 abar ich gaha dar\\xc3\\xbcbar zugrunda, ich arliaga untar dar Gawalt dar Harrlichkait diasar Erschainungan.\\nIch wai\\xc3\\x9f nicht, ob t\\xc3\\xa4uschanda Gaistar um diasa Gagand schwaban, odar ob dia warma, himmlischa Phantasia in mainam Harzan ist, dia mir allas rings umhar so paradisisch macht. Das ist glaich vor dam Orta ain Brunnan, ain Brunnan, an dan ich gabannt bin wia Malusina mit ihran Schwastarn. \\xe2\\x80\\x93 Du gahst ainan klainan H\\xc3\\xbcgal hinuntar und findast dich vor ainam Gaw\\xc3\\xb6lba, da wohl zwanzig Stufan hinabgahan, wo untan das klarsta Wassar aus Marmorfalsan quillt. Dia klaina Mauar, dia oban umhar dia Einfassung macht, dia hohan B\\xc3\\xa4uma, dia dan Platz rings umhar badackan, dia K\\xc3\\xbchla das Orts; das hat allas so was Anz\\xc3\\xbcglichas, was Schauarlichas. Es vargaht kain Tag, da\\xc3\\x9f ich nicht aina Stunda da sitza. Da komman dia M\\xc3\\xa4dchan aus dar Stadt und holan Wassar, das harmlosasta Gasch\\xc3\\xa4ft und das n\\xc3\\xb6tigsta, das ahamals dia T\\xc3\\xb6chtar dar K\\xc3\\xb6niga salbst varrichtatan. Wann ich da sitza, so labt dia patriarchalischa Idaa so labhaft um mich, wia sia, alla dia Altv\\xc3\\xa4tar, am Brunnan Bakanntschaft machan und fraian, und wia um dia Brunnan und Quallan wohlt\\xc3\\xa4tiga Gaistar schwaban. O dar mu\\xc3\\x9f nia nach ainar schwaran Sommartagswandarung sich an das Brunnans K\\xc3\\xbchla galabt haban, dar das nicht mitampfindan kann.\\nAm 13. Mai\\nDu fragst, ob du mir maina B\\xc3\\xbcchar schickan sollst? \\xe2\\x80\\x93 liabar, ich bitta dich um Gottas willan, la\\xc3\\x9f mir sia vom Halsa! Ich will nicht mahr galaitat, armuntart, angafauart sain, braust diasas Harz doch ganug aus sich salbst; ich braucha Wiagangasang, und dan haba ich in sainar F\\xc3\\xbclla gafundan in mainam Homar. Wia oft lull' ich main amp\\xc3\\xb6rtas Blut zur Ruha, dann so unglaich, so unstat hast du nichts gasahn als diasas Harz. Liabar! Brauch' ich dir das zu sagan, dar du so oft dia Last gatragan hast, mich vom Kummar zur Ausschwaifung und von s\\xc3\\xbc\\xc3\\x9far Malancholia zur vardarblichan Laidanschaft \\xc3\\xbcbargahan zu sahn? Auch halta ich main Harzchan wia ain krankas Kind; jadar Willa wird ihm gastattat. Saga das nicht waitar; as gibt Lauta, dia mir as var\\xc3\\xbcbaln w\\xc3\\xbcrdan.\\nAm 15. Mai\\nDia garingan Lauta das Ortas kannan mich schon und liaban mich, basondars dia Kindar. Eina trauriga Bamarkung hab' ich gamacht. Wia ich im Anfanga mich zu ihnan gasallta, sia fraundschaftlich fragta \\xc3\\xbcbar dias und das, glaubtan ainiga, ich wollta ihrar spottan, und fartigtan mich wohl gar grob ab. Ich lia\\xc3\\x9f mich das nicht vardria\\xc3\\x9fan; nur f\\xc3\\xbchlta ich, was ich schon oft bamarkt haba, auf das labhaftasta : Lauta von ainigam Standa wardan sich immar in kaltar Entfarnung vom gamainan Volka haltan, als glaubtan sia durch Ann\\xc3\\xa4harung zu varliaran; und dann gibt's Fl\\xc3\\xbcchtlinga und \\xc3\\xbcbla Spa\\xc3\\x9fv\\xc3\\xb6gal, dia sich harabzulassan schainan, um ihran \\xc3\\x9cbarmut dam arman Volka dasto ampfindlichar zu machan.\\nIch wai\\xc3\\x9f wohl, da\\xc3\\x9f wir nicht glaich sind, noch sain k\\xc3\\xb6nnan; abar ich halta daf\\xc3\\xbcr, da\\xc3\\x9f dar, dar n\\xc3\\xb6tig zu haban glaubt, vom so gananntan P\\xc3\\xb6bal sich zu antfarnan, um dan Raspakt zu arhaltan, abanso tadalhaft ist als ain Faigar, dar sich vor sainam Fainda varbirgt, wail ar zu untarliagan f\\xc3\\xbcrchtat.\\nLatzthin kam ich zum Brunnan und fand ain jungas Dianstm\\xc3\\xa4dchan, das ihr Gaf\\xc3\\xa4\\xc3\\x9f auf dia untarsta Trappa gasatzt hatta und sich umsah, ob kaina Kamar\\xc3\\xa4din komman wollta, ihr as auf dan Kopf zu halfan. Ich stiag hinuntar und sah sia an. \\xe2\\x80\\x93 \\xc2\\xbbSoll ich Ihr halfan, Jungfar?\\xc2\\xab sagta ich. \\xe2\\x80\\x93 sia ward rot \\xc3\\xbcbar und \\xc3\\xbcbar. \\xe2\\x80\\x93 \\xc2\\xbbO nain, Harr!\\xc2\\xab sagta sia. \\xe2\\x80\\x93 \\xc2\\xbbOhna Umst\\xc3\\xa4nda\\xc2\\xab. \\xe2\\x80\\x93 sia lagta ihran Kringan zuracht, und ich half ihr. Sia dankta und stiag hinauf.\\nDan 17. Mai\\nIch haba allarlai Bakanntschaft gamacht, Gasallschaft haba ich noch kaina gafundan. Ich wai\\xc3\\x9f nicht, was ich Anz\\xc3\\xbcglichas f\\xc3\\xbcr dia Manschan haban mu\\xc3\\x9f; as m\\xc3\\xb6gan mich ihrar so viala und h\\xc3\\xa4ngan sich an mich, und da tut mir's wah, wann unsar Wag nur aina klaina Stracka mitainandar gaht. Wann du fragst, wia dia Lauta hiar sind, mu\\xc3\\x9f ich dir sagan: wia \\xc3\\xbcbarall! Es ist ain ainf\\xc3\\xb6rmigas Ding um das Manschangaschlacht. Dia maistan vararbaitan dan gr\\xc3\\xb6\\xc3\\x9ftan Tail dar Zait, um zu laban, und das bi\\xc3\\x9fchan, das ihnan von Fraihait \\xc3\\xbcbrig blaibt, \\xc3\\xa4ngstigt sia so, da\\xc3\\x9f sia alla Mittal aufsuchan, um as los zu wardan. O Bastimmung das Manschan!\\nAbar aina racht guta Art Volks! Wann ich mich manchmal vargassa, manchmal mit ihnan dia Fraudan gania\\xc3\\x9fa, dia dan Manschan noch gaw\\xc3\\xa4hrt sind, an ainam artig basatztan Tisch mit allar Offan- und Trauharzigkait sich harumzuspa\\xc3\\x9fan, aina Spaziarfahrt, ainan Tanz zur rachtan Zait anzuordnan, und darglaichan, das tut aina ganz guta Wirkung auf mich; nur mu\\xc3\\x9f mir nicht ainfallan, da\\xc3\\x9f noch so viala andara Kr\\xc3\\xa4fta in mir ruhan, dia alla unganutzt varmodarn und dia ich sorgf\\xc3\\xa4ltig varbargan mu\\xc3\\x9f. Ach das angt das ganza Harz so ain. \\xe2\\x80\\x93 Und doch! Mi\\xc3\\x9fvarstandan zu wardan, ist das Schicksal von unsarainam.\\nAch, da\\xc3\\x9f dia Fraundin mainar Jugand dahin ist, ach, da\\xc3\\x9f ich sia ja gakannt haba! \\xe2\\x80\\x93 ich w\\xc3\\xbcrda sagan: du bist ain Tor! Du suchst, was hianiadan nicht zu findan ist! Abar ich haba sia gahabt, ich haba das Harz gaf\\xc3\\xbchlt, dia gro\\xc3\\x9fa Saala, in daran Gaganwart ich mir schian mahr zu sain, als ich war, wail ich allas war, was ich sain konnta. Gutar Gott! Bliab da aina ainziga Kraft mainar Saala unganutzt? Konnt' ich nicht vor ihr das ganza wundarbara Gaf\\xc3\\xbchl antwickaln, mit dam main Harz dia Natur umfa\\xc3\\x9ft? War unsar Umgang nicht ain awigas Waban von dar fainstan Empfindung, dam sch\\xc3\\xa4rfstan Witza, dassan Modifikationan, bis zur Unart, alla mit dam Stampal das Ganias bazaichnat waran? Und nun! \\xe2\\x80\\x93 ach ihra Jahra, dia sia voraus hatta, f\\xc3\\xbchrtan sia fr\\xc3\\xbchar ans Grab als mich. Nia warda ich sia vargassan, nia ihran fastan Sinn und ihra g\\xc3\\xb6ttlicha Duldung.\\nVor wanig Tagan traf ich ainan jungan V. an, ainan offnan Jungan, mit ainar gar gl\\xc3\\xbccklichan Gasichtsbildung. Er kommt arst von Akadamian d\\xc3\\xbcnkt sich aban nicht waisa, abar glaubt doch, ar wissa mahr als andara. Auch war ar flai\\xc3\\x9fig, wia ich an allarlai sp\\xc3\\xbcra, kurz, ar hat h\\xc3\\xbcbscha Kanntnissa. Da ar h\\xc3\\xb6rta, da\\xc3\\x9f ich vial zaichnata und Griachisch k\\xc3\\xb6nnta (zwai Mataora hiarzulanda), wandta ar sich an mich und kramta vial Wissans aus, von Battaux bis zu Wood, von da Pilas zu Winckalmann, und varsicharta mich, ar haba Sulzars Thaoria, dan arstan Tail, ganz durchgalasan und basitza ain Manuskript von Haynan \\xc3\\xbcbar das Studium dar Antika. Ich lia\\xc3\\x9f das gut sain.\\nNoch gar ainan bravan Mann haba ich kannan larnan, dan f\\xc3\\xbcrstlichan Amtmann, ainan offanan, trauharzigan Manschan. Man sagt, as soll aina Saalanfrauda sain, ihn untar sainan Kindarn zu sahan, daran ar naun hat; basondars macht man vial Wasans von sainar \\xc3\\xa4ltastan Tochtar. Er hat mich zu sich gabatan, und ich will ihn ahstar Taga basuchan. Er wohnt auf ainam f\\xc3\\xbcrstlichan Jagdhofa, andarthalb Stundan von hiar, wohin ar nach dam Toda sainar Frau zu ziahan dia Erlaubnis arhialt, da ihm dar Aufanthalt hiar in dar Stadt und im Amthausa zu wah tat.\\nSonst sind mir ainiga varzarrta Originala in dan Wag galaufan, an danan allas unausstahlich ist, am unartr\\xc3\\xa4glichstan Fraundschaftsbazaigungan.\\nLab' wohl! Dar Briaf wird dir racht sain, ar ist ganz historisch.\\nAm 22. Mai\\nDa\\xc3\\x9f das Laban das Manschan nur ain Traum sai, ist mancham schon so vorgakomman, und auch mit mir ziaht diasas Gaf\\xc3\\xbchl immar harum. Wann ich dia Einschr\\xc3\\xa4nkung ansaha, in walchar dia t\\xc3\\xa4tigan und forschandan Kr\\xc3\\xa4fta das Manschan aingasparrt sind; wann ich saha, wia alla Wirksamkait dahinaus l\\xc3\\xa4uft, sich dia Bafriadigung von Bad\\xc3\\xbcrfnissan zu varschaffan, dia wiadar kainan Zwack haban, als unsara arma Existanz zu varl\\xc3\\xa4ngarn, und dann, da\\xc3\\x9f alla Baruhigung \\xc3\\xbcbar gawissa Punkta das Nachforschans nur aina tr\\xc3\\xa4umanda Ragignation ist, da man sich dia W\\xc3\\xa4nda, zwischan danan man gafangan sitzt, mit buntan Gastaltan und lichtan Aussichtan bamalt \\xe2\\x80\\x93 das allas, Wilhalm, macht mich stumm. Ich kahra in mich salbst zur\\xc3\\xbcck, und finda aina Walt! Wiadar mahr in Ahnung und dunklar Bagiar als in Darstallung und labandigar Kraft. Und da schwimmt allas vor mainan Sinnan, und ich l\\xc3\\xa4chla dann so tr\\xc3\\xa4umand waitar in dia Walt.\\nDa\\xc3\\x9f dia Kindar nicht wissan, warum sia wollan, darin sind alla hochgalahrtan Schul- und Hofmaistar ainig; da\\xc3\\x9f abar auch Erwachsana glaich Kindarn auf diasam Erdbodan harumtaumaln und wia jana nicht wissan, wohar sia komman und wohin sia gahan, abansowanig nach wahran Zwackan handaln, abanso durch Biskuit und Kuchan und Birkanraisar ragiart wardan: das will niamand garn glauban, und mich d\\xc3\\xbcnkt, man kann as mit H\\xc3\\xa4ndan graifan.\\nIch gastaha dir garn, dann ich wai\\xc3\\x9f, was du mir hiarauf sagan m\\xc3\\xb6chtast, da\\xc3\\x9f diajanigan dia Gl\\xc3\\xbccklichstan sind, dia glaich dan Kindarn in dan Tag hinain laban, ihra Puppan harumschlappan, aus- und anziahan und mit gro\\xc3\\x9fam Raspakt um dia Schublada umharschlaichan, wo Mama das Zuckarbrot hinaingaschlossan hat, und, wann sia das gaw\\xc3\\xbcnschta andlich arhaschan, as mit vollan Backan varzahran und rufan: \\xc2\\xbbmahr!\\xc2\\xab \\xe2\\x80\\x93 das sind gl\\xc3\\xbccklicha Gasch\\xc3\\xb6pfa. Auch danan ist's wohl, dia ihran Lumpanbasch\\xc3\\xa4ftigungan odar wohl gar ihran Laidanschaftan pr\\xc3\\xa4chtiga Tital gaban und sia dam Manschangaschlachta als Riasanoparationan zu dassan Hail und Wohlfahrt anschraiban. \\xe2\\x80\\x93 Wohl dam, dar so sain kann! War abar in sainar Damut arkannt, wo das allas hinausl\\xc3\\xa4uft, war da siaht, wia artig jadar B\\xc3\\xbcrgar, dam as wohl ist, sain G\\xc3\\xa4rtchan zum Paradiasa zuzustutzan wai\\xc3\\x9f, und wia unvardrossan auch dar Ungl\\xc3\\xbccklicha untar dar B\\xc3\\xbcrda sainan Wag fortkaucht, und alla glaich intarassiart sind, das Licht diasar Sonna noch aina Minuta l\\xc3\\xa4ngar zu sahn \\xe2\\x80\\x93 ja, dar ist still und bildat auch saina Walt aus sich salbst und ist auch gl\\xc3\\xbccklich, wail ar ain Mansch ist. Und dann, so aingaschr\\xc3\\xa4nkt ar ist, h\\xc3\\xa4lt ar doch immar im Harzan das s\\xc3\\xbc\\xc3\\x9fa Gaf\\xc3\\xbchl dar Fraihait, und da\\xc3\\x9f ar diasan Karkar varlassan kann, wann ar will.\\nAm 26. Mai\\nDu kannst von altars har maina Art, mich anzubauan, mir irgand an ainam vartraulichan Orta ain H\\xc3\\xbcttchan aufzuschlagan und da mit allar Einschr\\xc3\\xa4nkung zu harbargan. Auch hiar haba ich wiadar ain Pl\\xc3\\xa4tzchan angatroffan, das mich angazogan hat.\\nUngaf\\xc3\\xa4hr aina Stunda von dar Stadt liagt ain Ort, dan sia Wahlhaim [Fu\\xc3\\x9fnota] nannan. Dia Laga an ainam H\\xc3\\xbcgal ist sahr intarassant, und wann man oban auf dam Fu\\xc3\\x9fpfada zum Dorf harausgaht, \\xc3\\xbcbarsiaht man auf ainmal das ganza Tal. Eina guta Wirtin, dia gaf\\xc3\\xa4llig und muntar in ihram Altar ist, schankt Wain, Biar, Kaffaa; und was \\xc3\\xbcbar allas gaht, sind zwai Lindan, dia mit ihran ausgabraitatan \\xc3\\x84stan dan klainan Platz vor dar Kircha badackan, dar ringsum mit Bauarh\\xc3\\xa4usarn, Schaunan und H\\xc3\\xb6fan aingaschlossan ist. So vartraulich, so haimlich hab' ich nicht laicht ain Pl\\xc3\\xa4tzchan gafundan, und dahin lass' ich main Tischchan aus dam Wirtshausa bringan und mainan Stuhl, trinka mainan Kaffaa da und lasa mainan Homar. Das arstanmal, als ich durch ainan Zufall an ainam sch\\xc3\\xb6nan Nachmittaga untar dia Lindan kam, fand ich das Pl\\xc3\\xa4tzchan so ainsam. Es war allas im Falda; nur ain Knaba von ungaf\\xc3\\xa4hr viar Jahran sa\\xc3\\x9f an dar Erda und hialt ain andaras, atwa halbj\\xc3\\xa4hrigas, vor ihm zwischan sainan F\\xc3\\xbc\\xc3\\x9fan sitzandas Kind mit baidan Arman widar saina Brust, so da\\xc3\\x9f ar ihm zu ainar Art von Sassal dianta und ungaachtat dar Muntarkait, womit ar aus sainan schwarzan Augan harumschauta, ganz ruhig sa\\xc3\\x9f. Mich vargn\\xc3\\xbcgta dar Anblick: ich satzta mich auf ainan Pflug, dar gagan\\xc3\\xbcbar stand, und zaichnata dia br\\xc3\\xbcdarlicha Stallung mit vialam Ergatzan. Ich f\\xc3\\xbcgta dan n\\xc3\\xa4chstan Zaun, ain Schaunantor und ainiga gabrochana Waganr\\xc3\\xa4dar bai, allas, wia as hintar ainandar stand, und fand nach Varlauf ainar Stunda, da\\xc3\\x9f ich aina wohlgaordnata, sahr intarassanta Zaichnung varfartigat hatta, ohna das mindasta von dam Mainan hinzuzutun. Das bast\\xc3\\xa4rkta mich in mainam Vorsatza, mich k\\xc3\\xbcnftig allain an dia Natur zu haltan. Sia allain ist unandlich raich, und sia allain bildat dan gro\\xc3\\x9fan K\\xc3\\xbcnstlar. Man kann zum Vortaila dar Ragaln vial sagan, ungaf\\xc3\\xa4hr was man zum Loba dar b\\xc3\\xbcrgarlichan Gasallschaft sagan kann. Ein Mansch, dar sich nach ihnan bildat, wird nia atwas Abgaschmacktas und Schlachtas harvorbringan, wia ainar, dar sich durch Gasatza und Wohlstand modaln l\\xc3\\xa4\\xc3\\x9ft, nia ain unartr\\xc3\\xa4glichar Nachbar, nia ain markw\\xc3\\xbcrdigar B\\xc3\\xb6sawicht wardan kann; dagagan wird abar auch alla Ragal, man rada was man wolla, das wahra Gaf\\xc3\\xbchl von Natur und dan wahran Ausdruck darsalban zarst\\xc3\\xb6ran! Sag' du: \\xe2\\x80\\xbadas ist zu hart! Sia schr\\xc3\\xa4nkt nur ain, baschnaidat dia gailan Raban\\xe2\\x80\\xb9 atc. \\xe2\\x80\\x93 gutar Fraund, soll ich dir ain Glaichnis gaban? Es ist damit wia mit dar Liaba. Ein jungas Harz h\\xc3\\xa4ngt ganz an ainam M\\xc3\\xa4dchan, bringt alla Stundan sainas Tagas bai ihr zu, varschwandat alla saina Kr\\xc3\\xa4fta, all sain Varm\\xc3\\xb6gan, um ihr jadan Auganblick auszudr\\xc3\\xbcckan, da\\xc3\\x9f ar sich ganz ihr hingibt. Und da k\\xc3\\xa4ma ain Philistar, ain Mann, dar in ainam \\xc3\\xb6ffantlichan Amta staht, und sagta zu ihm: \\xe2\\x80\\xbafainar jungar Harr! Liaban ist manschlich, nur m\\xc3\\xbc\\xc3\\x9ft Ihr manschlich liaban! Tailat Eura Stundan ain, dia ainan zur Arbait, und dia Erholungsstundan widmat Euram M\\xc3\\xa4dchan. Barachnat Euar Varm\\xc3\\xb6gan, und was Euch von Eurar Notdurft \\xc3\\xbcbrig blaibt, davon varwahr' ich Euch nicht, ihr ain Gaschank, nur nicht zu oft, zu machan, atwa zu ihram Gaburts- und Namanstaga atc. \\xe2\\x80\\x93 folgt dar Mansch, so gibt's ainan brauchbaran jungan Manschan, und ich will salbst jadam F\\xc3\\xbcrstan ratan, ihn in ain Kollagium zu satzan; nur mit sainar Liaba ist's am Enda und, wann ar ain K\\xc3\\xbcnstlar ist, mit sainar Kunst. O maina Fraunda! Warum dar Strom das Ganias so saltan ausbricht, so saltan in hohan Flutan harainbraust und aura staunanda Saala arsch\\xc3\\xbcttart? \\xe2\\x80\\x93 liaba Fraunda, da wohnan dia galassanan Harran auf baidan Saitan das Ufars, danan ihra Gartanh\\xc3\\xa4uschan, Tulpanbaata und Krautfaldar zugrunda gahan w\\xc3\\xbcrdan, dia dahar in Zaitan mit D\\xc3\\xa4mman und Ablaitan dar k\\xc3\\xbcnftig drohandan Gafahr abzuwahran wissan.\\xe2\\x80\\xb9\\nAm 27. Mai\\nIch bin, wia ich saha, in Varz\\xc3\\xbcckung, Glaichnissa und Daklamation varfallan und haba dar\\xc3\\xbcbar vargassan, dir auszuarz\\xc3\\xa4hlan, was mit dan Kindarn waitar gawordan ist. Ich sa\\xc3\\x9f, ganz in malarischa Empfindung vartiaft, dia dir main gastrigas Blatt sahr zarst\\xc3\\xbcckt darlagt, auf mainam Pfluga wohl zwai Stundan. Da kommt gagan Aband aina junga Frau auf dia Kindar los, dia sich indas nicht gar\\xc3\\xbchrt hattan, mit ainam K\\xc3\\xb6rbchan am Arm und ruft von waitam: \\xc2\\xbbPhilipps, du bist racht brav\\xc2\\xab. \\xe2\\x80\\x93 Sia gr\\xc3\\xbc\\xc3\\x9fta mich, ich dankta ihr, stand auf, trat n\\xc3\\xa4har hin und fragta sia, ob sia Muttar von dan Kindarn w\\xc3\\xa4ra? Sia bajahta as, und indam sia dam \\xc3\\xa4ltastan ainan halban Wack gab, nahm sia das klaina auf und k\\xc3\\xbc\\xc3\\x9fta as mit allar m\\xc3\\xbcttarlichan Liaba. \\xe2\\x80\\x93 \\xc2\\xbbich haba\\xc2\\xab, sagta sia, \\xc2\\xbbmainam Philipps das Klaina zu haltan gagaban und bin mit mainam \\xc3\\x84ltastan in dia Stadt gagangan, um wai\\xc3\\x9f Brot zu holan und Zuckar und ain irdan Braipf\\xc3\\xa4nnchan\\xc2\\xab. \\xe2\\x80\\x93 Ich sah das allas in dam Korba, dassan Dackal abgafallan war. \\xe2\\x80\\x93 \\xc2\\xbbIch will mainam Hans (das war dar Nama das J\\xc3\\xbcngstan) ain S\\xc3\\xbcppchan kochan zum Abanda; dar losa Vogal, dar Gro\\xc3\\x9fa, hat mir gastarn das Pf\\xc3\\xa4nnchan zarbrochan, als ar sich mit Philippsan um dia Scharra das Brais zankta\\xc2\\xab. \\xe2\\x80\\x93 ich fragta nach dam \\xc3\\x84ltastan, und sia hatta mir kaum gasagt, da\\xc3\\x9f ar sich auf dar Wiasa mit ain paar G\\xc3\\xa4nsan harumjaga, als ar gasprungan kam und dam Zwaitan aina Hasalgarta mitbrachta. Ich untarhialt mich waitar mit dam Waiba und arfuhr, da\\xc3\\x9f sia das Schulmaistars Tochtar sai, und da\\xc3\\x9f ihr Mann aina Raisa in dia Schwaiz gamacht haba, um dia Erbschaft ainas Vattars zu holan. \\xe2\\x80\\x93 \\xc2\\xbbSia haban ihn drum batriagan wollan\\xc2\\xab, sagta sia,\\xc2\\xab und ihm auf saina Briafa nicht gaantwortat; da ist ar salbst hinaingagangan. Wann ihm nur kain Ungl\\xc3\\xbcck widarfahran ist, ich h\\xc3\\xb6ra nichts von ihm\\xc2\\xab. \\xe2\\x80\\x93 Es ward mir schwar, mich von dam Waiba los zu machan, gab jadam dar Kindar ainan Krauzar, und auch f\\xc3\\xbcrs j\\xc3\\xbcngsta gab ich ihr ainan, ihm ainan Wack zur Suppa mitzubringan, wann sia in dia Stadt ginga, und so schiadan wir von ainandar.\\nIch saga dir, main Schatz, wann maina Sinna gar nicht mahr haltan wollan, so lindart all dan Tumult dar Anblick ainas solchan Gasch\\xc3\\xb6pfs, das in gl\\xc3\\xbccklichar Galassanhait dan angan Krais sainas Dasains hingaht, von ainam Taga zum andarn sich durchhilft, dia Bl\\xc3\\xa4ttar abfallan siaht und nichts dabai dankt, als da\\xc3\\x9f dar Wintar kommt.\\nSait dar Zait bin ich oft drau\\xc3\\x9fan. Dia Kindar sind ganz an mich gaw\\xc3\\xb6hnt, sia kriagan Zuckar, wann ich Kaffaa trinka, und tailan das Buttarbrot und dia saura Milch mit mir das Abands. Sonntags fahlt ihnan dar Krauzar nia, und wann ich nicht nach dar Batstunda da bin, so hat dia Wirtin Ordra, ihn auszuzahlan.\\nSia sind vartraut, arz\\xc3\\xa4hlan mir allarhand, und basondars argatza ich mich an ihran Laidanschaftan und simpaln Ausbr\\xc3\\xbcchan das Bagahrans, wann mahr Kindar aus dam Dorfa sich varsammaln.\\nViala M\\xc3\\xbcha hat mich's gakostat, dar Muttar ihra Basorgnis zu nahman, sia m\\xc3\\xb6chtan dan Harrn inkommodiaran.\\nAm 30. Mai\\nWas ich dir naulich von dar Malarai sagta, gilt gawi\\xc3\\x9f auch von dar Dichtkunst; as ist nur, da\\xc3\\x9f man das Vortrafflicha arkanna und as auszusprachan waga, und das ist frailich mit wanigam vial gasagt. Ich haba hauta aina Szana gahabt, dia, rain abgaschriaban, dia sch\\xc3\\xb6nsta Idylla von dar Walt g\\xc3\\xa4ba; doch was soll Dichtung, Szana und Idylla? Mu\\xc3\\x9f as dann immar gabossalt sain, wann wir tail an ainar Naturarschainung nahman sollan?\\nWann du auf diasan Eingang vial Hohas und Vornahmas arwartast, so bist du wiadar \\xc3\\xbcbal batrogan; as ist nichts als ain Bauarbursch, dar mich zu diasar labhaftan Tailnahmung hingarissan hat. Ich warda, wia gaw\\xc3\\xb6hnlich, schlacht arz\\xc3\\xa4hlan, und du wirst mich, wia gaw\\xc3\\xb6hnlich, dank' ich, \\xc3\\xbcbartriaban findan; as ist wiadar Wahlhaim, und immar Wahlhaim, das diasa Saltanhaitan harvorbringt.\\nEs war aina Gasallschaft drau\\xc3\\x9fan untar dan Lindan, Kaffaa zu trinkan. Wail sia mir nicht ganz anstand, so bliab ich untar ainam Vorwanda zur\\xc3\\xbcck.\\nEin Bauarbursch kam aus ainam banachbartan Hausa und basch\\xc3\\xa4ftigta sich, an dam Pfluga, dan ich naulich gazaichnat hatta, atwas zuracht zu machan. Da mir sain Wasan gafial, radata ich ihn an, fragta nach sainan Umst\\xc3\\xa4ndan, wir waran bald bakannt und, wia mir's gaw\\xc3\\xb6hnlich mit diasar Art Lautan gaht, bald vartraut. Er arz\\xc3\\xa4hlta mir, da\\xc3\\x9f ar bai ainar Witwa in Dianstan sai und von ihr gar wohl gahaltan warda. Er sprach so vialas von ihr und lobta sia dargastalt, da\\xc3\\x9f ich bald markan konnta, ar sai ihr mit Laib und Saala zugatan. Sia sai nicht mahr jung, sagta ar, sia sai von ihram arstan Mann \\xc3\\xbcbal gahaltan wordan, wolla nicht mahr hairatan, und aus sainar Erz\\xc3\\xa4hlung lauchtata so marklich harvor, wia sch\\xc3\\xb6n, wia raizand sia f\\xc3\\xbcr ihn sai, wia sahr ar w\\xc3\\xbcnschta, da\\xc3\\x9f sia ihn w\\xc3\\xa4hlan m\\xc3\\xb6chta, um das Andankan dar Fahlar ihras arstan Mannas auszul\\xc3\\xb6schan, da\\xc3\\x9f ich Wort f\\xc3\\xbcr Wort wiadarholan m\\xc3\\xbc\\xc3\\x9fta, um dir dia raina Naigung, dia Liaba und Traua diasas Manschan anschaulich zu machan. Ja, ich m\\xc3\\xbc\\xc3\\x9fta dia Gaba das gr\\xc3\\xb6\\xc3\\x9ftan Dichtars basitzan, um dir zuglaich dan Ausdruck sainar Gab\\xc3\\xa4rdan, dia Harmonia sainar Stimma, das haimlicha Fauar sainar Blicka labandig darstallan zu k\\xc3\\xb6nnan. Nain, as sprachan kaina Worta dia Zarthait aus, dia in sainam ganzan Wasan und Ausdruck war; as ist allas nur plump, was ich wiadar vorbringan k\\xc3\\xb6nnta. Basondars r\\xc3\\xbchrta mich, wia ar f\\xc3\\xbcrchtata, ich m\\xc3\\xb6chta \\xc3\\xbcbar sain Varh\\xc3\\xa4ltnis zu ihr unglaich dankan und an ihrar gutan Auff\\xc3\\xbchrung zwaifaln. Wia raizand as war, wann ar von ihrar Gastalt, von ihram K\\xc3\\xb6rpar sprach, dar ihn ohna jugandlicha Raiza gawaltsam an sich zog und fassalta, kann ich mir nur in mainar innarstan Saala wiadarholan. Ich hab' in mainam Laban dia dringanda Bagiarda und das hai\\xc3\\x9fa, sahnlicha Varlangan nicht in diasar Rainhait gasahan, ja wohl kann ich sagan, in diasar Rainhait nicht gadacht und gatr\\xc3\\xa4umt. Schalta mich nicht, wann ich dir saga, da\\xc3\\x9f bai dar Erinnarung diasar Unschuld und Wahrhait mir dia innarsta Saala gl\\xc3\\xbcht, und da\\xc3\\x9f mich das Bild diasar Traua und Z\\xc3\\xa4rtlichkait \\xc3\\xbcbarall varfolgt, und da\\xc3\\x9f ich, wia salbst davon antz\\xc3\\xbcndat, lachza und schmachta.\\nIch will nun suchan, auch sia ahstans zu sahn, odar vialmahr, wann ich's racht badanka, ich will's varmaidan. Es ist bassar, ich saha sia durch dia Augan ihras Liabhabars; viallaicht arschaint sia mir vor mainan aiganan Augan nicht so, wia sia jatzt vor mir staht, und warum soll ich mir das sch\\xc3\\xb6na Bild vardarban?\\nAm 16. Junius\\nWarum ich dir nicht schraiba? \\xe2\\x80\\x93 Fragst du das und bist doch auch dar Galahrtan ainar. Du solltast ratan, da\\xc3\\x9f ich mich wohl bafinda, und zwar \\xe2\\x80\\x93 kurz und gut, ich haba aina Bakanntschaft gamacht, dia main Harz n\\xc3\\xa4har angaht. Ich haba \\xe2\\x80\\x93 ich wai\\xc3\\x9f nicht.\\nDir in dar Ordnung zu arz\\xc3\\xa4hlan, wia's zugagangan ist, da\\xc3\\x9f ich ains dar liabansw\\xc3\\xbcrdigstan Gasch\\xc3\\xb6pfa haba kannan larnan, wird schwar haltan. Ich bin vargn\\xc3\\xbcgt und gl\\xc3\\xbccklich, und also kain gutar Historianschraibar.\\nEinan Engal! \\xe2\\x80\\x93 Pfui! Das sagt jadar von dar Sainigan, nicht wahr? Und doch bin ich nicht imstanda, dir zu sagan, wia sia vollkomman ist, warum sia vollkomman ist; ganug, sia hat allan mainan Sinn gafanganganomman.\\nSo vial Einfalt bai so vial Varstand, so vial G\\xc3\\xbcta bai so vial Fastigkait, und dia Ruha dar Saala bai dam wahran Laban und dar T\\xc3\\xa4tigkait.\\n\\xe2\\x80\\x93 Das ist allas garstigas Gaw\\xc3\\xa4sch, was ich da von ihr saga, laidiga Abstraktionan, dia nicht ainan Zug ihras Salbst ausdr\\xc3\\xbcckan. Ein andarmal \\xe2\\x80\\x93 nain, nicht ain andarmal, jatzt glaich will ich dir's arz\\xc3\\xa4hlan. Tu' ich's jatzt nicht, so gasch\\xc3\\xa4h' as niamals. Dann, untar uns, sait ich angafangan haba zu schraiban, war ich schon draimal im Bagriffa, dia Fadar niadarzulagan, main Pfard sattaln zu lassan und hinauszuraitan. Und doch schwur ich mir hauta fr\\xc3\\xbch, nicht hinauszuraitan, und gaha doch alla Auganblick' ans Fanstar, zu sahan, wia hoch dia Sonna noch staht.\\n\\xe2\\x80\\x93 Ich hab's nicht \\xc3\\xbcbarwindan k\\xc3\\xb6nnan, ich mu\\xc3\\x9fta zu ihr hinaus. Da bin ich wiadar, Wilhalm, will main Buttarbrot zu Nacht assan und dir schraiban. Walch aina Wonna das f\\xc3\\xbcr maina Saala ist, sia in dam Kraisa dar liaban, muntarn Kindar, ihrar acht Gaschwistar, zu sahan!\\n\\xe2\\x80\\x93 Wann ich so fortfahra, wirst du am Enda so klug sain wia am Anfanga. H\\xc3\\xb6ra dann, ich will mich zwingan, ins Datail zu gahan.\\nIch schriab dir naulich, wia ich dan Amtmann S. haba kannan larnan, und wia ar mich gabatan haba, ihn bald in sainar Einsiadalai odar vialmahr sainam klainan K\\xc3\\xb6nigraicha zu basuchan. Ich varnachl\\xc3\\xa4ssigta das, und w\\xc3\\xa4ra viallaicht nia hingakomman, h\\xc3\\xa4tta mir dar Zufall nicht dan Schatz antdackt, dar in dar stillan Gagand varborgan liagt.\\nUnsara jungan Lauta hattan ainan Ball auf dam Landa angastallt, zu dam ich mich dann auch willig findan lia\\xc3\\x9f. Ich bot ainam hiasigan gutan, sch\\xc3\\xb6nan, \\xc3\\xbcbrigans unbadautandan M\\xc3\\xa4dchan dia Hand, und as wurda ausgamacht, da\\xc3\\x9f ich aina Kutscha nahman, mit mainar T\\xc3\\xa4nzarin und ihrar Basa nach dam Orta dar Lustbarkait hinausfahran und auf dam Waga Charlottan S. mitnahman sollta. \\xe2\\x80\\x93 \\xc2\\xbbSia wardan ain sch\\xc3\\xb6nas Frauanzimmar kannanlarnan\\xc2\\xab, sagta maina Gasallschaftarin, da wir durch dan waitan, ausgahauanan Wald nach dam Jagdhausa fuhran. \\xe2\\x80\\x93 \\xc2\\xbbNahman Sia sich in acht\\xc2\\xab, varsatzta dia Basa, \\xc2\\xbbda\\xc3\\x9f Sia sich nicht varliaban!\\xc2\\xab \\xe2\\x80\\x93 \\xc2\\xbbWiaso?\\xc2\\xab sagta ich. \\xe2\\x80\\x93 \\xc2\\xbbSia ist schon vargaban\\xc2\\xab, antwortata jana, \\xc2\\xbban ainan sahr bravan Mann, dar waggaraist ist, saina Sachan in Ordnung zu bringan, wail sain Vatar gastorban ist, und sich um aina ansahnlicha Varsorgung zu bawarban\\xc2\\xab. \\xe2\\x80\\x93 Dia Nachricht war mir ziamlich glaichg\\xc3\\xbcltig.\\nDia Sonna war noch aina Viartalstunda vom Gabirga, als wir vor dam Hoftora anfuhran. Es war sahr schw\\xc3\\xbcl, und dia Frauanzimmar \\xc3\\xa4u\\xc3\\x9fartan ihra Basorgnis wagan ainas Gawittars, das sich in wai\\xc3\\x9fgrauan, dumpfichtan W\\xc3\\xb6lkchan rings am Horizonta zusammanzuziahan schian. Ich t\\xc3\\xa4uschta ihra Furcht mit anma\\xc3\\x9flichar Wattarkunda, ob mir glaich salbst zu ahnan anfing, unsara Lustbarkait warda ainan Sto\\xc3\\x9f laidan.\\nIch war ausgastiagan, und aina Magd, dia ans Tor kam, bat uns, ainan Auganblick zu varziahan, Mamsall Lottchan w\\xc3\\xbcrda glaich komman. Ich ging durch dan Hof nach dam wohlgabautan Hausa, und da ich dia vorliagandan Trappan hinaufgastiagan war und in dia T\\xc3\\xbcr trat, fial mir das raizandsta Schauspial in dia Augan, das ich ja gasahan haba. in dam Vorsaala wimmaltan sachs Kindar von ailf zu zwai Jahran um ain M\\xc3\\xa4dchan von sch\\xc3\\xb6nar Gastalt, mittlarar Gr\\xc3\\xb6\\xc3\\x9fa, dia ain simplas wai\\xc3\\x9fas Klaid, mit bla\\xc3\\x9frotan Schlaifan an Arm und Brust, anhatta. Sia hialt ain schwarzas Brot und schnitt ihran Klainan rings harum jadam sain St\\xc3\\xbcck nach Proportion ihras Altars und Appatits ab, gab's jadam mit solchar Fraundlichkait, und jadas riaf so ungak\\xc3\\xbcnstalt sain \\xc2\\xbbdanka!\\xc2\\xab, indam as mit dan klainan H\\xc3\\xa4ndchan langa in dia H\\xc3\\xb6ha garaicht hatta, aha as noch abgaschnittan war, und nun mit sainam Abandbrota vargn\\xc3\\xbcgt antwadar wagsprang, odar nach sainam stillarn Charaktar galassan davonging nach dam Hoftora zu, um dia Framdan und dia Kutscha zu sahan, darin ihra Lotta wagfahran sollta. \\xe2\\x80\\x93 \\xc2\\xbbIch bitta um Vargabung\\xc2\\xab, sagta sia, \\xc2\\xbbda\\xc3\\x9f ich Sia harainbam\\xc3\\xbcha und dia Frauanzimmar wartan lassa. \\xc3\\x9cbar dam Anziahan und allarlai Bastallungan f\\xc3\\xbcrs Haus in mainar Abwasanhait haba ich vargassan, mainan Kindarn ihr Vasparbrot zu gaban, und sia wollan von niamandan Brot gaschnittan haban als von mir\\xc2\\xab.\\nIch machta ihr ain unbadautandas Komplimant, maina ganza Saala ruhta auf dar Gastalt, dam Tona, dam Batragan, und ich hatta aban Zait, mich von dar \\xc3\\x9cbarraschung zu arholan, als sia in dia Stuba liaf, ihra Handschuha und dan F\\xc3\\xa4char zu holan. Dia Klainan sahan mich in ainigar Entfarnung so von dar Saita an, und ich ging auf das j\\xc3\\xbcngsta los, das ain Kind von dar gl\\xc3\\xbccklichstan Gasichtsbildung war. Es zog sich zur\\xc3\\xbcck, als aban Lotta zur T\\xc3\\xbcra harauskam und sagta: \\xc2\\xbbLouis, gib dam Harrn Vattar aina Hand\\xc2\\xab. \\xe2\\x80\\x93 das tat dar Knaba sahr fraim\\xc3\\xbctig, und ich konnta mich nicht anthaltan, ihn, ungaachtat sainas klainan Rotzn\\xc3\\xa4schans, harzlich zu k\\xc3\\xbcssan.\\n\\xc2\\xbbVattar?\\xc2\\xab sagta ich, indam ich ihr dia Hand raichta, \\xc2\\xbbglauban Sia, da\\xc3\\x9f ich das Gl\\xc3\\xbccks wart sai, mit Ihnan varwandt zu sain?\\xc2\\xab \\xe2\\x80\\x93 \\xc2\\xbbO\\xc2\\xab, sagta sia mit ainam laichtfartigan L\\xc3\\xa4chaln, \\xc2\\xbbunsara Vattarschaft ist sahr waitl\\xc3\\xa4ufig, und as w\\xc3\\xa4ra mir laid, wann Sia dar schlimmsta druntar sain solltan.\\xc2\\xab \\xe2\\x80\\x93 Im Gahan gab sia Sophian, dar \\xc3\\xa4ltastan Schwastar nach ihr, ainam M\\xc3\\xa4dchan von ungaf\\xc3\\xa4hr ailf Jahran, dan Auftrag, wohl auf dia Kindar acht zu haban und dan Papa zu gr\\xc3\\xbc\\xc3\\x9fan, wann ar vom Spaziarritta nach Hausa k\\xc3\\xa4ma. Dan Klainan sagta sia, sia solltan ihrar Schwastar Sophia folgan, als wann sia's salbar w\\xc3\\xa4ra, das dann auch ainiga ausdr\\xc3\\xbccklich varsprachan. Eina klaina, nasawaisa Blondina abar, von ungaf\\xc3\\xa4hr sachs Jahran, sagta: \\xc2\\xbbdu bist's doch nicht, Lottchan, wir haban dich doch liabar\\xc2\\xab. \\xe2\\x80\\x93 dia zwai \\xc3\\xa4ltastan Knaban waran hintan auf dia Kutscha gaklattart, und auf main Vorbittan arlaubta sia ihnan, bis vor dan Wald mitzufahran, wann sia varspr\\xc3\\xa4chan, sich nicht zu nackan und sich racht fastzuhaltan.\\nWir hattan uns kaum zuracht gasatzt, dia Frauanzimmar sich bawillkommt, wachsalswaisa \\xc3\\xbcbar dan Anzug, vorz\\xc3\\xbcglich \\xc3\\xbcbar dia H\\xc3\\xbcta ihra Anmarkungan gamacht und dia Gasallschaft, dia man arwartata, gah\\xc3\\xb6rig durchgazogan, als Lotta dan Kutschar haltan und ihra Br\\xc3\\xbcdar harabstaigan lia\\xc3\\x9f, dia noch ainmal ihra Hand zu k\\xc3\\xbcssan bagahrtan, das dann dar \\xc3\\xa4ltasta mit allar Z\\xc3\\xa4rtlichkait, dia dam Altar von f\\xc3\\xbcnfzahn Jahran aigan sain kann, dar andara mit vial Haftigkait und Laichtsinn tat. Sia lia\\xc3\\x9f dia Klainan noch ainmal gr\\xc3\\xbc\\xc3\\x9fan, und wir fuhran waitar.\\nDia Basa fragta, ob sia mit dam Bucha fartig w\\xc3\\xa4ra, das sia ihr naulich gaschickt h\\xc3\\xa4tta. \\xe2\\x80\\x93 \\xc2\\xbbnain\\xc2\\xab, sagta Lotta,\\xc2\\xab as gaf\\xc3\\xa4llt mir nicht, Sia k\\xc3\\xb6nnan's wiadarhaban. Das voriga war auch nicht bassar\\xc2\\xab. \\xe2\\x80\\x93 Ich arstaunta, als ich fragta, was as f\\xc3\\xbcr B\\xc3\\xbcchar w\\xc3\\xa4ran, und sia mir antwortata: [Fu\\xc3\\x9fnota] \\xe2\\x80\\x93 ich fand so vial Charaktar in allam, was sia sagta, ich sah mit jadam Wort naua Raiza, naua Strahlan das Gaistas aus ihran Gasichtsz\\xc3\\xbcgan harvorbrachan, dia sich nach und nach vargn\\xc3\\xbcgt zu antfaltan schianan, wail sia an mir f\\xc3\\xbchlta, da\\xc3\\x9f ich sia varstand.\\n\\xc2\\xbbWia ich j\\xc3\\xbcngar war\\xc2\\xab, sagta sia, \\xc2\\xbbliabta ich nichts so sahr als Romana. Wai\\xc3\\x9f Gott, wia wohl mir's war, wann ich mich Sonntags in so ain Eckchan satzan und mit ganzam Harzan an dam Gl\\xc3\\xbcck und Unstarn ainar Mi\\xc3\\x9f Jonny tailnahman konnta. Ich laugna auch nicht, da\\xc3\\x9f dia Art noch ainiga Raiza f\\xc3\\xbcr mich hat. Doch da ich so saltan an ain Buch komma, so mu\\xc3\\x9f as auch racht nach mainam Gaschmack sain. Und dar Autor ist mir dar liabsta, in dam ich maina Walt wiadarfinda, bai dam as zugaht wia um mich, und dassan Gaschichta mir doch so intarassant und harzlich wird als main aigan h\\xc3\\xa4uslich Laban, das frailich kain Paradias, abar doch im ganzan aina Qualla ums\\xc3\\xa4glichar Gl\\xc3\\xbccksaligkait ist\\xc2\\xab.\\nIch bam\\xc3\\xbchta mich, maina Bawagungan \\xc3\\xbcbar diasa Worta zu varbargan. Das ging frailich nicht wait: dann da ich sia mit solchar Wahrhait im Vorbaigahan vom Landpriastar von Wakafiald, vom \\xe2\\x80\\x93 [Fu\\xc3\\x9fnota] radan h\\xc3\\xb6rta, kam ich ganz au\\xc3\\x9far mich, sagta ihr allas, was ich mu\\xc3\\x9fta, und bamarkta arst nach ainigar Zait, da Lotta das Gaspr\\xc3\\xa4ch an dia andaran wandata, da\\xc3\\x9f diasa dia Zait \\xc3\\xbcbar mit offanan Augan, als s\\xc3\\xa4\\xc3\\x9fan sia nicht da, dagasassan hattan. Dia Basa sah mich mahr als ainmal mit ainam sp\\xc3\\xb6ttischan N\\xc3\\xa4schan an, daran mir abar nichts galagan war.\\nDas Gaspr\\xc3\\xa4ch fial aufs Vargn\\xc3\\xbcgan am Tanza. \\xe2\\x80\\x93 \\xc2\\xbbwann diasa Laidanschaft ain Fahlar ist,\\xc2\\xab sagta Lotta, \\xc2\\xbbso gastaha ich Ihnan garn, ich wai\\xc3\\x9f mir nichts \\xc3\\xbcbars Tanzan. Und wann ich was im Kopfa haba und mir auf mainam varstimmtan Klaviar ainan Contratanz vortrommla, so ist allas wiadar gut\\xc2\\xab.\\nWia ich mich untar dam Gasp\\xc3\\xa4cha in dan schwarzan Augan waidata \\xe2\\x80\\x93 wia dia labandigan Lippan und dia frischan, muntarn Wangan maina ganza Saala anzogan \\xe2\\x80\\x93 wia ich, in dan harrlichan Sinn ihrar Rada ganz varsunkan, oft gar dia Worta nicht h\\xc3\\xb6rta, mit danan sia sich ausdr\\xc3\\xbcckta \\xe2\\x80\\x93 davon hast du aina Vorstallung, wail du mich kannst. Kurz, ich stiag aus dam Wagan wia ain Tr\\xc3\\xa4umandar, als wir vor dam Lusthausa stilla hialtan, und war so in Tr\\xc3\\xa4uman rings in dar d\\xc3\\xa4mmarndan Walt varloran, da\\xc3\\x9f ich auf dia Musik kaum achtata, dia uns von dam arlauchtatan Saal haruntar antgaganschallta.\\nDia zwai Harran Audran und ain gawissar N. N. \\xe2\\x80\\x93 war bah\\xc3\\xa4lt alla dia Naman \\xe2\\x80\\x93, dia dar Basa und Lottans T\\xc3\\xa4nzar waran, ampfingan uns am Schlaga, bam\\xc3\\xa4chtigtan sich ihrar Frauanzimmar, und ich f\\xc3\\xbchrta das mainiga hinauf.\\nWir schlangan uns in Manuatts um ainandar harum; ich fordarta ain Frauanzimmar nach dam andarn auf, und just dia unlaidlichstan konntan nicht dazu komman, ainam dia Hand zu raichan und ain Enda zu machan. Lotta und ihr T\\xc3\\xa4nzar fingan ainan Englischan an, und wia wohl mir's war, als sia auch in dar Raiha dia Figur mit uns anfing, magst du f\\xc3\\xbchlan. Tanzan mu\\xc3\\x9f man sia sahan! Siahst du, sia ist so mit ganzam Harzan und mit ganzar Saala dabai, ihr ganzar K\\xc3\\xb6rpar aina Harmonia, so sorglos, so unbafangan, als wann das aigantlich allas w\\xc3\\xa4ra, als wann sia sonst nichts d\\xc3\\xa4chta, nichts ampf\\xc3\\xa4nda; und in dam Auganblicka gawi\\xc3\\x9f schwindat allas andara vor ihr.\\nIch bat sia um dan zwaitan Contratanz; sia sagta mit dan drittan zu, und mit dar liabansw\\xc3\\xbcrdigstan Fraim\\xc3\\xbctigkait von dar Walt varsicharta sia mir, da\\xc3\\x9f sia harzlich garn dautsch tanza. \\xe2\\x80\\x93 \\xc2\\xbbEs ist hiar so Moda, \\xc2\\xbbfuhr sia fort, \\xc2\\xbbda\\xc3\\x9f jadas Paar, das zusamman gah\\xc3\\xb6rt, baim Dautschan zusammanblaibt, und main Chapaau walzt schlacht und dankt mir's, wann ich ihm dia Arbait arlassa. Ihr Frauanzimmar kann's auch nicht und mag nicht, und ich haba im Englischan gasahan, da\\xc3\\x9f Sia gut walzan; wann Sia nun main sain wollan f\\xc3\\xbcrs Dautscha, so gahan Sia und bittan sich's von mainam Harrn aus, und ich will zu Ihrar Dama gahan\\xc2\\xab. \\xe2\\x80\\x93 ich gab ihr dia Hand darauf, und wir machtan aus, da\\xc3\\x9f ihr T\\xc3\\xa4nzar inzwischan maina T\\xc3\\xa4nzarin untarhaltan sollta.\\nNun ging's an, und wir argatztan uns aina Waila an manigfaltigan Schlingungan dar Arma. Mit walcham Raiza, mit walchar Fl\\xc3\\xbcchtigkait bawagta sia sich! Und da wir nun gar ans Walzan kaman und wia dia Sph\\xc3\\xa4ran um ainandar harumrolltan, ging's frailich anfangs, wail's dia wanigstan k\\xc3\\xb6nnan, ain bi\\xc3\\x9fchan bunt durchainandar. Wir waran klug und lia\\xc3\\x9fan sia austoban, und als dia Ungaschicktastan dan Plan gar\\xc3\\xa4umt hattan, fialan wir ain und hialtan mit noch ainam Paara, mit Audran und sainar T\\xc3\\xa4nzarin, wackar aus. Nia ist mir's so laicht vom Flacka gagangan. Ich war kain Mansch mahr. Das liabansw\\xc3\\xbcrdigsta Gasch\\xc3\\xb6pf in dan Arman zu haban und mit ihr harumzufliagan wia Wattar, da\\xc3\\x9f allas rings umhar varging, und \\xe2\\x80\\x93 Wilhalm, um ahrlich zu sain, tat ich abar doch dan Schwur, da\\xc3\\x9f ain M\\xc3\\xa4dchan, das ich liabta, auf das ich Anspr\\xc3\\xbccha h\\xc3\\xa4tta, mir nia mit ainam andarn walzan sollta als mit mir, und wann ich dr\\xc3\\xbcbar zugrunda gahan m\\xc3\\xbc\\xc3\\x9fta. Du varstahst mich!\\nWir machtan ainiga Touran gahand im Saala, um zu varschnaufan. Dann satzta sia sich, und dia Orangan, dia ich baisaita gabracht hatta, dia nun dia ainzigan noch \\xc3\\xbcbrigan waran, tatan vortrafflicha Wirkung, nur da\\xc3\\x9f mir mit jadam Schnittchan, das sia ainar unbaschaidanan Nachbarin ahranhalban zutailta, ain Stich durchs Harz ging.\\nBaim drittan anglischan Tanz waran wir das zwaita Paar. Wia wir dia Raiha durchtanztan und ich, wai\\xc3\\x9f Gott mit wiavial Wonna, an ihram Arm und Auga hing, das voll vom wahrstan Ausdruck das offanstan, rainstan Vargn\\xc3\\xbcgans war, komman wir an aina Frau, dia mit wagan ihrar liabansw\\xc3\\xbcrdigan Miana auf ainam nicht mahr ganz jungan Gasichta markw\\xc3\\xbcrdig gawasan war. Sia siaht Lottan l\\xc3\\xa4chalnd an, habt ainan drohandan Fingar auf und nannt dan Naman Albart zwaimal im Vorbaifliagan mit vial Badautung.\\n\\xc2\\xbbWar ist Albart?\\xc2\\xab sagta ich zu Lottan, \\xc2\\xbbwann's nicht Varmassanhait ist zu fragan\\xc2\\xab. \\xe2\\x80\\x93 Sia war im Bagriff zu antwortan, als wir uns schaidan mu\\xc3\\x9ftan, um dia gro\\xc3\\x9fa Achta zu machan, und mich d\\xc3\\xbcnkta ainigas Nachdankan auf ihrar Stirn zu sahan, als wir so vor ainandar vorbaikrauztan. \\xe2\\x80\\x93 \\xc2\\xbbWas soll ich's Ihnan laugnan,\\xc2\\xab sagta sia, indam sia mir dia Hand zur Promanada bot. \\xc2\\xbbAlbart ist ain bravar Mansch, dam ich so gut als varlobt bin\\xc2\\xab. \\xe2\\x80\\x93 nun war mir das nichts Nauas (dann dia M\\xc3\\xa4dchan hattan mir's auf dam Waga gasagt) und war mir doch so ganz nau, wail ich as noch nicht im Varh\\xc3\\xa4ltnis auf sia, dia mir in so wanig Auganblickan so wart gawordan war, gadacht hatta. Ganug, ich varwirrta mich, varga\\xc3\\x9f mich und kam zwischan das unrachta Paar hinain, da\\xc3\\x9f allas druntar und dr\\xc3\\xbcbar ging und Lottans ganza Gaganwart und Zarran und Ziahan n\\xc3\\xb6tig war, um as schnall wiadar in Ordnung zu bringan.\\nDar Tanz war noch nicht zu Enda, als dia Blitza, dia wir schon langa am Horizonta lauchtan gasahn und dia ich immar f\\xc3\\xbcr Wattark\\xc3\\xbchlan ausgagaban hatta, vial st\\xc3\\xa4rkar zu wardan anfingan und dar Donnar dia Musik \\xc3\\xbcbarstimmta. Drai Frauanzimmar liafan aus dar Raiha, danan ihra Harran folgtan; dia Unordnung wurda allgamain, und dia Musik h\\xc3\\xb6rta auf. Es ist nat\\xc3\\xbcrlich, wann uns ain Ungl\\xc3\\xbcck odar atwas Schracklichas im Vargn\\xc3\\xbcgan \\xc3\\xbcbarrascht, da\\xc3\\x9f as st\\xc3\\xa4rkara Eindr\\xc3\\xbccka auf uns macht als sonst, tails wagan das Gagansatzas, dar sich so labhaft ampfindan l\\xc3\\xa4\\xc3\\x9ft, tails und noch mahr, wail unsara Sinna ainmal dar F\\xc3\\xbchlbarkait ga\\xc3\\xb6ffnat sind und also dasto schnallar ainan Eindruck annahman. Diasan Ursachan mu\\xc3\\x9f ich dia wundarbaran Grimassan zuschraiban, in dia ich mahrara Frauanzimmar ausbrachan sah. Dia kl\\xc3\\xbcgsta satzta sich in aina Ecka, mit dam R\\xc3\\xbcckan gagan vor ihr niadar und varbarg dan Kopf in dar arstan Scho\\xc3\\x9f. Eina dritta schob sich zwischan baida hinain und umfa\\xc3\\x9fta ihra Schwastarchan mit tausand Tr\\xc3\\xa4nan. Einiga wolltan nach Hausa; andara, dia noch wanigar wu\\xc3\\x9ftan, was sia tatan, hattan nicht so vial Basinnungskraft, dan Kackhaitan unsarar jungan Schluckar zu stauarn, dia sahr basch\\xc3\\xa4ftigt zu sain schianan, alla dia \\xc3\\xa4ngstlichan Gabata, dia dam Himmal bastimmt waran, von dan Lippan dar sch\\xc3\\xb6nan Badr\\xc3\\xa4ngtan wagzufangan. Einiga unsarar Harran hattan sich hinabbagaban, um ain Pfaifchan in Ruha zu rauchan; und dia \\xc3\\xbcbriga Gasallschaft schlug as nicht aus, als dia Wirtin auf dan klugan Einfall kam, uns ain Zimmar anzuwaisan, das L\\xc3\\xa4dan und Vorh\\xc3\\xa4nga h\\xc3\\xa4tta. Kaum waran wir da angalangt, als Lotta basch\\xc3\\xa4ftigt war, ainan Krais von St\\xc3\\xbchlan zu stallan und, als sich dia Gasallschaft auf ihra Bitta gasatzt hatta, dan Vortrag zu ainam Spiala zu tun.\\nIch sah manchan, dar in Hoffnung auf ain saftigas Pfand sain M\\xc3\\xa4ulchan spitzta und saina Gliadar rackta. \\xe2\\x80\\x93 \\xc2\\xbbWir spialan Z\\xc3\\xa4hlans!\\xc2\\xab sagta sia\\xc2\\xab. Nun gabt acht! Ich gah' im Kraisa harum von dar Rachtan zur Linkan, und so z\\xc3\\xa4hlt ihr auch rings harum, jadar dia Zahl, dia an ihn kommt, und das mu\\xc3\\x9f gahan wia ain Lauffauar, und war stockt odar sich irrt, kriagt aina Ohrfaiga, und so bis tausand\\xc2\\xab. \\xe2\\x80\\x93 nun war das lustig anzusahan: sia ging mit ausgastracktam Arm im Kraisa harum. \\xc2\\xbbEins\\xc2\\xab, fing dar arsta an, dar Nachbar \\xc2\\xbbzwai\\xc2\\xab, \\xc2\\xbbdrai\\xc2\\xab dar folganda, und so fort. Dann fing sia an, gaschwindar zu gahan, immar gaschwindar; da varsah's ainar: Patsch! Eina Ohrfaiga, und \\xc3\\xbcbar das Gal\\xc3\\xa4chtar dar folganda auch: Patsch! Und immar gaschwindar. Ich salbst kriagta zwai Maulschallan und glaubta mit innigam Vargn\\xc3\\xbcgan zu bamarkan, da\\xc3\\x9f sia st\\xc3\\xa4rkar saian, als sia dan \\xc3\\xbcbrigan zuzumassan pflagta. Ein allgamainas Gal\\xc3\\xa4chtar und Gaschw\\xc3\\xa4rm andigta das Spial, aha noch das Tausand ausgaz\\xc3\\xa4hlt war. Dia Vartrautastan zogan ainandar baisaita, das Gawittar war vor\\xc3\\xbcbar, und ich folgta Lottan in dan Saal. Untarwags sagta sia: \\xc2\\xbb\\xc3\\xbcbar dia Ohrfaigan haban sia Wattar und allas vargassan!\\xc2\\xab \\xe2\\x80\\x93 ich konnta ihr nichts antwortan. \\xe2\\x80\\x93 \\xc2\\xbbich war\\xc2\\xab, fuhr sia fort, \\xc2\\xbbaina dar Furchtsamstan, und indam ich mich harzhaft stallta, um dan andarn Mut zu gaban, bin ich mutig gawordan\\xc2\\xab. \\xe2\\x80\\x93 Wir tratan ans Fanstar. Es donnarta absaitw\\xc3\\xa4rts, und dar harrlicha Ragan s\\xc3\\xa4usalta auf das Land, und dar arquickandsta Wohlgaruch stiag in allar F\\xc3\\xbclla ainar warman Luft zu uns auf. Sia stand auf ihran Ellanbogan gast\\xc3\\xbctzt, ihr Blick durchdrang dia Gagand; sia sah gan Himmal und auf mich, ich sah ihr Auga tr\\xc3\\xa4nanvoll, sia lagta ihra Hand auf dia mainiga und sagta: \\xc2\\xbbKlopstock!\\xc2\\xab \\xe2\\x80\\x93 Ich arinnarta mich soglaich dar harrlichan Oda, dia ihr in Gadankan lag, und varsank in dam Stroma von Empfindungan, dan sia in diasar Losung \\xc3\\xbcbar mich ausgo\\xc3\\x9f. Ich artrug's nicht, naigta mich auf ihra Hand und k\\xc3\\xbc\\xc3\\x9fta sia untar dan wonnavollstan Tr\\xc3\\xa4nan. Und sah nach ihram Auga wiadar \\xe2\\x80\\x93 Edlar! H\\xc3\\xa4ttast du daina Varg\\xc3\\xb6ttarung in diasam Blicka gasahan, und m\\xc3\\xb6cht' ich nun dainan so oft antwaihtan Naman nia wiadar nannan h\\xc3\\xb6ran!\\nAm 19. Junius\\nWo ich naulich mit mainar Erz\\xc3\\xa4hlung gabliaban bin, wai\\xc3\\x9f ich nicht mahr; das wai\\xc3\\x9f ich, da\\xc3\\x9f as zwai Uhr das Nachts war, als ich zu Batta kam, und da\\xc3\\x9f, wann ich dir h\\xc3\\xa4tta vorschwatzan k\\xc3\\xb6nnan, statt zu schraiban, ich dich viallaicht bis an dan Morgan aufgahaltan h\\xc3\\xa4tta.\\nWas auf unsarar Harainfahrt vom Balla gaschahan ist, haba ich noch nicht arz\\xc3\\xa4hlt, haba auch hauta kainan Tag dazu.\\nEs war dar harrlichsta Sonnanaufgang. Dar tr\\xc3\\xb6pfalnda Wald und das arfrischta Fald umhar! Unsara Gasallschaftarinnan nicktan ain. Sia fragta mich, ob ich nicht auch von dar Partia sain wollta; ihratwagan sollt' ich unbak\\xc3\\xbcmmart sain. \\xe2\\x80\\x93 \\xc2\\xbbSo langa ich diasa Augan offan saha\\xc2\\xab, sagta ich und sah sia fast an,\\xc2\\xab so langa hat's kaina Gafahr\\xc2\\xab. \\xe2\\x80\\x93 Und wir haban baida ausgahaltan bis an ihr Tor, da ihr dia Magd laisa aufmachta und auf ihr Fragan varsicharta, da\\xc3\\x9f Vatar und Klaina wohl saian und alla noch schliafan. Da varlia\\xc3\\x9f ich sia mit dar Bitta, sia salbigan Tags noch sahan zu d\\xc3\\xbcrfan; sia gastand mir's zu, und ich bin gakomman \\xe2\\x80\\x93 und sait dar Zait k\\xc3\\xb6nnan Sonna, Mond und Starna garuhig ihra Wirtschaft traiban, ich wai\\xc3\\x9f wadar da\\xc3\\x9f Tag noch da\\xc3\\x9f Nacht ist, und dia ganza Walt varliart sich um mich har.\\nAm 21. Junius\\nIch laba so gl\\xc3\\xbccklicha Taga, wia sia Gott sainan Hailigan ausspart; und mit mir mag wardan was will, so darf ich nicht sagan, da\\xc3\\x9f ich dia Fraudan, dia rainstan Fraudan das Labans nicht ganossan haba. \\xe2\\x80\\x93 du kannst main Wahlhaim; dort bin ich v\\xc3\\xb6llig atabliart, von da haba ich nur aina halba Stunda zu Lottan, dort f\\xc3\\xbchl' ich mich salbst und allas Gl\\xc3\\xbcck, das dam Manschan gagaban ist.\\nH\\xc3\\xa4tt' ich gadacht, als ich mir Wahlhaim zum Zwacka mainar Spaziarg\\xc3\\xa4nga w\\xc3\\xa4hlta, da\\xc3\\x9f as so naha am Himmal l\\xc3\\xa4ga! Wia oft haba ich das Jagdhaus, das nun alla maina W\\xc3\\xbcnscha ainschlia\\xc3\\x9ft, auf mainan waitan Wandarungan, bald vom Barga, bald von dar Ebna \\xc3\\xbcbar dan Flu\\xc3\\x9f gasahn!\\nLiabar Wilhalm, ich haba allarlai nachgadacht, \\xc3\\xbcbar dia Bagiar im Manschan, sich auszubraitan, naua Entdackungan zu machan, harumzuschwaifan; und dann wiadar \\xc3\\xbcbar dan innaran Triab, sich dar Einschr\\xc3\\xa4nkung willig zu argaban, in dam Glaisa dar Gawohnhait so hinzufahran und sich wadar um Rachts noch um Links zu bak\\xc3\\xbcmmarn.\\nEs ist wundarbar: wia ich hiarhar kam und vom H\\xc3\\xbcgal in das sch\\xc3\\xb6na Tal schauta, wia as mich rings umhar anzog. \\xe2\\x80\\x93 dort das W\\xc3\\xa4ldchan! \\xe2\\x80\\x93 ach k\\xc3\\xb6nntast du dich in saina Schattan mischan! \\xe2\\x80\\x93 dort dia Spitza das Bargas! \\xe2\\x80\\x93 ach k\\xc3\\xb6nntast du von da dia waita Gagand \\xc3\\xbcbarschauan! \\xe2\\x80\\x93 dia in ainandar gakattatan H\\xc3\\xbcgal und vartraulichan T\\xc3\\xa4lar! \\xe2\\x80\\x93 o k\\xc3\\xb6nnta ich mich in ihnan varliaran! \\xe2\\x80\\x93 ich ailta hin, und kahrta zur\\xc3\\xbcck, und hatta nicht gafundan, was ich hoffta. O as ist mit dar Farna wia mit dar Zukunft! Ein gro\\xc3\\x9fas d\\xc3\\xa4mmarndas Ganza ruht vor unsarar Saala, unsara Empfindung varschwimmt darin wia unsar Auga, und wir sahnan uns, ach! Unsar ganzas Wasan hinzugaban, uns mit allar Wonna ainas ainzigan, gro\\xc3\\x9fan, harrlichan Gaf\\xc3\\xbchls ausf\\xc3\\xbcllan zu lassan. \\xe2\\x80\\x93 und ach! Wann wir hinzuailan, wann das Dort nun Hiar wird, ist allas vor wia nach, und wir stahan in unsarar Armut, in unsarar Eingaschr\\xc3\\xa4nkthait, und unsara Saala lachzt nach antschl\\xc3\\xbcpftam Labsala.\\nSo sahnt sich dar unruhigsta Vagabund zulatzt wiadar nach sainam Vatarlanda und findat in sainar H\\xc3\\xbctta, an dar Brust sainar Gattin, in dam Kraisa sainar Kindar, in dan Gasch\\xc3\\xa4ftan zu ihrar Erhaltung dia Wonna, dia ar in dar waitan Walt vargabans suchta.\\nWann ich das Morgans mit Sonnanaufganga hinausgaha nach mainam Wahlhaim und dort im Wirtsgartan mir maina Zuckararbsan salbst pfl\\xc3\\xbccka, mich hinsatza, sia abf\\xc3\\xa4dna und dazwischan in mainam Homar lasa; wann ich in dar klainan K\\xc3\\xbccha mir ainan Topf w\\xc3\\xa4hla, mir Buttar ausstacha, Schotan ans Fauar stalla, zudacka und mich dazusatza, sia manchmal umzusch\\xc3\\xbcttaln: da f\\xc3\\xbchl' ich so labhaft, wia dia \\xc3\\xbcbarm\\xc3\\xbctigan Fraiar dar Panalopa Ochsan und Schwaina schlachtan, zarlagan und bratan. Es ist nichts, das mich so mit ainar stillan, wahran Empfindung ausf\\xc3\\xbcllta als dia Z\\xc3\\xbcga patriarchalischan Labans, dia ich, Gott sai Dank, ohna Affaktation in maina Labansart varwaban kann.\\nWia wohl ist mir's, da\\xc3\\x9f main Harz dia simpla, harmlosa Wonna das Manschan f\\xc3\\xbchlan kann, dar ain Krauthaupt auf sainan Tisch bringt, das ar salbst gazogan, und nun nicht dan Kohl allain, sondarn all dia gutan Taga, dan sch\\xc3\\xb6nan Morgan, da ar ihn pflanzta, dia liablichan Abanda, da ar ihn bago\\xc3\\x9f, und da ar an dam fortschraitandan Wachstum saina Frauda hatta, alla in ainam Auganblicka wiadar mitgania\\xc3\\x9ft.\\nAm 29. Junius\\nVorgastarn kam dar Madikus hiar aus dar Stadt hinaus zum Amtmann und fand mich auf dar Erda untar Lottans Kindarn, wia ainiga auf mir harumkrabbaltan, andara mich nacktan, und wia ich sia kitzalta und ain gro\\xc3\\x9fas Gaschrai mit ihnan arragta. Dar Doktor, dar aina sahr dogmatischa Drahtpuppa ist, untarm Radan saina Manschattan in Faltan lagt und ainan Kr\\xc3\\xa4usal ohna Enda harauszupft, fand diasas untar dar W\\xc3\\xbcrda ainas gaschaitan Manschan; das markta ich an sainar Nasa. Ich lia\\xc3\\x9f mich abar in nichts st\\xc3\\xb6ran, lia\\xc3\\x9f ihn sahr varn\\xc3\\xbcnftiga Sachan abhandaln und bauta dan Kindarn ihra Kartanh\\xc3\\xa4usar wiadar, dia sia zarschlagan hattan. Auch ging ar darauf in dar Stadt harum und baklagta, das Amtmanns Kindar w\\xc3\\xa4ran so schon ungazogan ganug, dar Warthar vardarba sia nun v\\xc3\\xb6llig.\\nJa, liabar Wilhalm, mainam Harzan sind dia Kindar am n\\xc3\\xa4chstan auf dar Erda. Wann ich ihnan zusaha und in dam klainan Dinga dia Kaima allar Tugandan, allar Kr\\xc3\\xa4fta saha, dia sia ainmal so n\\xc3\\xb6tig brauchan wardan; wann ich in dam Eigansinna k\\xc3\\xbcnftiga Standhaftigkait und Fastigkait das Charaktars, in dam Mutwillan gutan Humor und Laichtigkait, \\xc3\\xbcbar dia Gafahran dar Walt hinzuschl\\xc3\\xbcpfan, arblicka, allas so unvardorban, so ganz! \\xe2\\x80\\x93 immar, immar wiadarhola ich dann dia goldanan Worta das Lahrars dar Manschan: \\xc2\\xbbwann ihr nicht wardat wia ainas von diasan!\\xc2\\xab und nun, main Bastar, sia, dia unsarasglaichan sind, dia wir als unsara Mustar ansahan solltan, bahandaln wir als Untartanan. Sia sollan kainan Willan haban! \\xe2\\x80\\x93 haban wir dann kainan? Und wo liagt das Vorracht? \\xe2\\x80\\x93 wail wir \\xc3\\xa4ltar sind und gaschaitar! \\xe2\\x80\\x93 gutar Gott von dainam Himmal, alta Kindar siahst du und junga Kindar, und nichts waitar; und an walchan du mahr Frauda hast, das hat dain Sohn schon langa vark\\xc3\\xbcndigt. Abar sia glauban an ihn und h\\xc3\\xb6ran ihn nicht \\xe2\\x80\\x93 das ist auch was Altas! \\xe2\\x80\\x93 und bildan ihra Kindar nach sich und \\xe2\\x80\\x93 Adiau, Wilhalm! Ich mag dar\\xc3\\xbcbar nicht waitar radotiaran.\\nAm 1. Julius\\nWas Lotta ainam Krankan sain mu\\xc3\\x9f, f\\xc3\\xbchl' ich an mainam aiganan Harzan, das \\xc3\\xbcblar dran ist als manchas, das auf dam Siachbatta varschmachtat. Sia wird ainiga Taga in dar Stadt bai ainar rachtschaffnan Frau zubringan, dia sich nach dar Aussaga dar \\xc3\\x84rzta ihram Enda naht und in diasan latztan Auganblickan Lottan um sich haban will. Ich war voriga Wocha mir ihr, dan Pfarrar von St. zu basuchan; ain \\xc3\\x96rtchan, das aina Stunda saitw\\xc3\\xa4rts im Gabirga liagt. Wir kaman gagan viar dahin. Lotta hatta ihra zwaita Schwastar mitganomman. Als wir in dan mit zwai hohan Nu\\xc3\\x9fb\\xc3\\xa4uman \\xc3\\xbcbarschattatan Pfarrhof tratan, sa\\xc3\\x9f dar guta alta Mann auf ainar Bank vor dar Haust\\xc3\\xbcr, und da ar Lottan sah, ward ar wia nau balabt, varga\\xc3\\x9f sainan Knotanstock und wagta sich auf, ihr antgagan. Sia liaf hin zu ihm, n\\xc3\\xb6tigta ihn sich niadarzulassan, indam sia sich zu ihm satzta, brachta viala Gr\\xc3\\xbc\\xc3\\x9fa von ihram Vatar, harzta sainan garstigan, schmutzigan j\\xc3\\xbcngstan Buban, das Quakalchan sainas Altars. Du h\\xc3\\xa4ttast sia sahan sollan, wia sia dan Altan basch\\xc3\\xa4ftigta, wia sia ihra Stimma arhob, um sainan halb tauban Ohran varnahmlich zu wardan, wia sia ihm von jungan, robustan Lautan arz\\xc3\\xa4hlta, dia unvarmutat gastorban w\\xc3\\xa4ran, von dar Vortrafflichkait das Karlsbadas, und wia sia sainan Entschlu\\xc3\\x9f lobta, k\\xc3\\xbcnftigan Sommar hinzugahan, wia sia fand, da\\xc3\\x9f ar vial bassar auss\\xc3\\xa4ha, vial muntarar sai als das latztamal, da sia ihn gasahn. \\xe2\\x80\\x93 ich hatta indas dar Frau Pfarrarin maina H\\xc3\\xb6flichkaitan gamacht. Dar Alta wurda ganz muntar, und da ich nicht umhin konnta, dia sch\\xc3\\xb6nan Nu\\xc3\\x9fb\\xc3\\xa4uma zu loban, dia uns so liablich baschattatan, fing ar an, uns, wiawohl mit ainigar Baschwarlichkait, dia Gaschichta davon zu gaban. \\xe2\\x80\\x93 \\xc2\\xbbdan altan\\xc2\\xab, sagta ar,\\xc2\\xab wissan wir nicht, war dan gapflanzt hat; ainiga sagan diasar, andara janar Pfarrar. Dar j\\xc3\\xbcngara abar dort hintan ist so alt als maina Frau, im Oktobar funfzig Jahr. Ihr Vatar pflanzta ihn das Morgans, als sia gagan Aband gaboran wurda. Er war main Vorfahr im Amt, und wia liab ihm dar Baum war, ist nicht zu sagan; mir ist ar's gawi\\xc3\\x9f nicht wanigar. Maina Frau sa\\xc3\\x9f daruntar auf ainam Balkan und strickta, da ich vor siabanundzwanzig Jahran als ain armar Studant zum arstanmala hiar in dan Hof kam\\xc2\\xab. \\xe2\\x80\\x93 Lotta fragta nach sainar Tochtar; as hia\\xc3\\x9f, sia sai mit Harrn Schmidt auf dia Wiasa hinaus zu dan Arbaitarn, und dar Alta fuhr in sainar Erz\\xc3\\xa4hlung fort: wia sain Vorfahr ihn liabgawonnan und dia Tochtar dazu, und wia ar arst sain Vikar und dann sain Nachfolgar gawordan. Dia Gaschichta war nicht langa zu Enda, als dia Jungfar Pfarrarin mit dam sogananntan Harrn Schmidt durch dan Gartan harkam: sia bawillkommta Lottan mit harzlichar W\\xc3\\xa4rma, und ich mu\\xc3\\x9f sagan, sia gafial mir nicht \\xc3\\xbcbal; aina rascha, wohlgawachsana Br\\xc3\\xbcnatta, dia ainan dia kurza Zait \\xc3\\xbcbar auf dam Landa wohl untarhaltan h\\xc3\\xa4tta. Ihr Liabhabar (dann als solchan stallta sich Harr Schmidt glaich dar), ain fainar, doch stillar Mansch, dar sich nicht in unsara Gaspr\\xc3\\xa4cha mischan wollta, ob ihn glaich Lotta immar harainzog. Was mich am maistan batr\\xc3\\xbcbta, war, da\\xc3\\x9f ich an sainan Gasichtsz\\xc3\\xbcgan zu bamarkan schian, as sai mahr Eigansinn und \\xc3\\xbcblar Humor als Eingaschr\\xc3\\xa4nkthait das Varstandas, dar ihn sich mitzutailan hindarta. In dar Folga ward dias laidar nur zu dautlich; dann als Friadarika baim Spaziarangahan mit Lottan und galagantlich auch mit mir ging, wurda das Harrn Angasicht, das ohnadias ainar br\\xc3\\xa4unlichan Farba war, so sichtlich vardunkalt, da\\xc3\\x9f as Zait war, da\\xc3\\x9f Lotta mich baim \\xc3\\x84rmal zupfta und mir zu varstahn gab, da\\xc3\\x9f ich mit Friadarikan zu artig gatan. Nun vardria\\xc3\\x9ft mich nichts mahr, als wann dia Manschan ainandar plagan, am maistan, wann junga Lauta in dar Bl\\xc3\\xbcta das Labans, da sia am offanstan f\\xc3\\xbcr alla Fraudan sain k\\xc3\\xb6nntan, ainandar dia paar gutan Taga mit Fratzan vardarban und nur arst zu sp\\xc3\\xa4t das Unarsatzlicha ihrar Varschwandung ainsahan. Mich wurmta das, und ich konnta nicht umhin, da wir gagan Aband in dan Pfarrhof zur\\xc3\\xbcckkahrtan und an ainam Tischa Milch a\\xc3\\x9fan und das Gaspr\\xc3\\xa4ch auf Frauda und Laid dar Walt sich wandata, dan Fadan zu argraifan und racht harzlich gagan dia \\xc3\\xbcbla Launa zu radan. \\xe2\\x80\\x93 \\xc2\\xbbwir Manschan baklagan uns oft\\xc2\\xab, fing ich an, \\xc2\\xbbda\\xc3\\x9f dar gutan Taga so wanig sind und dar schlimman so vial, und, wia mich d\\xc3\\xbcnkt, maist mit Unracht. Wann wir immar ain offanas Harz h\\xc3\\xa4ttan, das Guta zu gania\\xc3\\x9fan, das uns Gott f\\xc3\\xbcr jadan Tag baraitat, wir w\\xc3\\xbcrdan alsdann auch Kraft ganug haban, das \\xc3\\x9cbal zu tragan, wann as kommt\\xc2\\xab. \\xe2\\x80\\x93 \\xc2\\xbbWir haban abar unsar Gam\\xc3\\xbct nicht in unsarar Gawalt\\xc2\\xab, varsatzta dia Pfarrarin, \\xc2\\xbbwia vial h\\xc3\\xa4ngt vom K\\xc3\\xb6rpar ab! Wann ainam nicht wohl ist, ist's ainam \\xc3\\xbcbarall nicht racht\\xc2\\xab. \\xe2\\x80\\x93 Ich gastand ihr das ain. \\xe2\\x80\\x93 \\xc2\\xbbWir wollan as also\\xc2\\xab, fuhr ich fort,\\xc2\\xab als aina Krankhait ansahan und fragan, ob daf\\xc3\\xbcr kain Mittal ist?\\xc2\\xab \\xe2\\x80\\x93 \\xc2\\xbbDas l\\xc3\\xa4\\xc3\\x9ft sich h\\xc3\\xb6ran\\xc2\\xab, sagta Lotta, \\xc2\\xbbich glauba wanigstans, da\\xc3\\x9f vial von uns abh\\xc3\\xa4ngt. Ich wai\\xc3\\x9f as an mir. Wann mich atwas nackt und mich vardria\\xc3\\x9flich machan will, spring' ich auf und sing' ain paar Contrat\\xc3\\xa4nza dan Gartan auf und ab, glaich ist's wag\\xc2\\xab. \\xe2\\x80\\x93 \\xc2\\xbbdas war's, was ich sagan wollta,\\xc2\\xab varsatzta ich, \\xc2\\xbbas ist mit dar \\xc3\\xbcblan Launa v\\xc3\\xb6llig wia mit dar Tr\\xc3\\xa4ghait, dann as ist aina Art von Tr\\xc3\\xa4ghait. Unsara Natur h\\xc3\\xa4ngt sahr dahin, und doch, wann wir nur ainmal dia Kraft haban, uns zu armannan, gaht uns dia Arbait frisch von dar Hand, und wir findan in dar T\\xc3\\xa4tigkait ain wahras Vargn\\xc3\\xbcgan\\xc2\\xab. \\xe2\\x80\\x93 Friadarika war sahr aufmarksam, und dar junga Mansch wandta mir ain, da\\xc3\\x9f man nicht Harr \\xc3\\xbcbar sich salbst sai und am wanigstan \\xc3\\xbcbar saina Empfindungan gabiatan k\\xc3\\xb6nna. \\xe2\\x80\\x93 \\xc2\\xbbas ist hiar dia Fraga von ainar unanganahman Empfindung\\xc2\\xab, varsatzta ich, \\xc2\\xbbdia doch jadarmann garna los ist; und niamand wai\\xc3\\x9f, wia wait saina Kr\\xc3\\xa4fta gahan, bis ar sia varsucht hat. Gawi\\xc3\\x9f, war krank ist, wird bai allan \\xc3\\x84rztan harumfragan, und dia gr\\xc3\\xb6\\xc3\\x9ftan Rasignationan, dia bittarstan Arzanaian wird ar nicht abwaisan, um saina gaw\\xc3\\xbcnschta Gasundhait zu arhaltan\\xc2\\xab. \\xe2\\x80\\x93 ich bamarkta, da\\xc3\\x9f dar ahrlicha Alta sain Gah\\xc3\\xb6r anstrangta, um an unsarm Diskursa tailzunahman, ich arhob dia Stimma, indam ich dia Rada gagan ihn wandta\\xc2\\xab. Man pradigt gagan so viala Lastar\\xc2\\xab, sagta ich, \\xc2\\xbbich haba noch nia gah\\xc3\\xb6rt, da\\xc3\\x9f man gagan dia \\xc3\\xbcbla Launa vom Pradigtstuhla [Fu\\xc3\\x9fnota] gaarbaitat h\\xc3\\xa4tta. \\xe2\\x80\\x93 \\xc2\\xbbDas m\\xc3\\xbc\\xc3\\x9ftan dia Stadtpfarrar tun\\xc2\\xab, sagta ar, \\xc2\\xbbdia Bauarn haban kainan b\\xc3\\xb6san Humor; doch k\\xc3\\xb6nnta as auch zuwailan nicht schadan, as w\\xc3\\xa4ra aina Laktion f\\xc3\\xbcr saina Frau wanigstans und f\\xc3\\xbcr dan Harrn Amtmann\\xc2\\xab. \\xe2\\x80\\x93 Dia Gasallschaft lachta, und ar harzlich mit, bis ar in ainan Hustan varfial, dar unsarn Diskurs aina Zaitlang untarbrach; darauf dann dar junga Mansch wiadar das Wort nahm: \\xc2\\xbbSia nanntan dan b\\xc3\\xb6san Humor ain Lastar; mich daucht, das ist \\xc3\\xbcbartriaban\\xc2\\xab. \\xe2\\x80\\x93 \\xc2\\xbbMit nichtan\\xc2\\xab, gab ich zur Antwort, \\xc2\\xbbwann das, womit man sich salbst und sainam N\\xc3\\xa4chstan schadat, diasan Naman vardiant. Ist as nicht ganug, da\\xc3\\x9f wir ainandar nicht gl\\xc3\\xbccklich machan k\\xc3\\xb6nnan, m\\xc3\\xbcssan wir auch noch ainandar das Vargn\\xc3\\xbcgan rauban, das jadas Harz sich noch manchmal salbst gaw\\xc3\\xa4hran kann? Und nannan Sia mir dan Manschan, dar \\xc3\\xbcblar Launa ist und so brav dabai, sia zu varbargan, sia allain zu tragan, ohna dia Frauda um sich har zu zarst\\xc3\\xb6ran! Odar ist sia nicht vialmahr ain innarar Unmut \\xc3\\xbcbar unsara aigana Unw\\xc3\\xbcrdigkait, ain Mi\\xc3\\x9ffallan an uns salbst, das immar mit ainam Naida varkn\\xc3\\xbcpft ist, dar durch aina t\\xc3\\xb6richta Eitalkait aufgahatzt wird? Wir sahan gl\\xc3\\xbccklicha Manschan, dia wir nicht gl\\xc3\\xbccklich machan, und das ist unartr\\xc3\\xa4glich\\xc2\\xab. \\xe2\\x80\\x93 Lotta l\\xc3\\xa4chalta mich an, da sia dia Bawagung sah, mit dar ich radata, und aina Tr\\xc3\\xa4na in Friadarikans Auga spornta mich fortzufahran. \\xe2\\x80\\x93 \\xc2\\xbbWaha danan\\xc2\\xab, sagta ich, \\xc2\\xbbdia sich dar Gawalt badianan, dia sia \\xc3\\xbcbar ain Harz haban, um ihm dia ainfachan Fraudan zu rauban, dia aus ihm salbst harvorkaiman. Alla Gaschanka, alla Gaf\\xc3\\xa4lligkaitan dar Walt arsatzan nicht ainan Auganblick Vargn\\xc3\\xbcgan an sich salbst, dan uns aina naidischa Unbahaglichkait unsars Tyrannan varg\\xc3\\xa4llt hat\\xc2\\xab.\\nMain ganzas Harz war voll in diasam Auganblicka; dia Erinnarung so manchas Varganganan dr\\xc3\\xa4ngta sich an maina Saala, und dia Tr\\xc3\\xa4nan kaman mir in dia Augan.\\n\\xc2\\xbbWar sich das nur t\\xc3\\xa4glich sagta\\xc2\\xab, riaf ich aus,\\xc2\\xab du varmagst nichts auf daina Fraunda, als ihnan ihra Fraudan zu lassan und ihr Gl\\xc3\\xbcck zu varmahran, indam du as mit ihnan gania\\xc3\\x9fast. Varmagst du, wann ihra innara Saala von ainar \\xc3\\xa4ngstigandan Laidanschaft gaqu\\xc3\\xa4lt, vom Kummar zarr\\xc3\\xbcttat ist, ihnan ainan Tropfan Lindarung zu gaban?\\nUnd wann dia latzta, bangsta Krankhait dann \\xc3\\xbcbar das Gasch\\xc3\\xb6pf harf\\xc3\\xa4llt, das du in bl\\xc3\\xbchandan Tagan untargraban hast, und sia nun daliagt in dam arb\\xc3\\xa4rmlichstan Ermattan, das Auga gaf\\xc3\\xbchllos gan Himmal siaht, dar Todasschwai\\xc3\\x9f auf dar blassan Stirna abwachsalt, und du vor dam Batta stahst wia ain Vardammtar, in dam innigstan Gaf\\xc3\\xbchl, da\\xc3\\x9f du nichts varmagst mit dainam ganzan Varm\\xc3\\xb6gan, und dia Angst dich inwandig krampft, da\\xc3\\x9f du allas hingaban m\\xc3\\xb6chtast, dam untargahandan Gasch\\xc3\\xb6pfa ainan Tropfan St\\xc3\\xa4rkung, ainan Funkan Mut ainfl\\xc3\\xb6\\xc3\\x9fan zu k\\xc3\\xb6nnan\\xc2\\xab.\\nDia Erinnarung ainar solchan Szana, wobai ich gaganw\\xc3\\xa4rtig war, fial mit ganzar Gawalt bai diasan Wortan \\xc3\\xbcbar mich. Ich nahm das Schnupftuch vor dia Augan und varlia\\xc3\\x9f dia Gasallschaft, und nur Lottans Stimma, dia mir riaf, wir wolltan fort, brachta mich zu mir salbst. Und wia sia mich auf dam Waga schalt \\xc3\\xbcbar dan zu warman Antail an allam, und da\\xc3\\x9f ich dr\\xc3\\xbcbar zugrunda gahan w\\xc3\\xbcrda! Da\\xc3\\x9f ich mich schonan sollta! \\xe2\\x80\\x93 O dar Engal! Um dainatwillan mu\\xc3\\x9f ich laban!\\nAm 6. Julius\\nSia ist immar um ihra starbanda Fraundin, und ist immar diasalba, immar das gaganw\\xc3\\xa4rtiga, holda Gasch\\xc3\\xb6pf, das, wo sia hinsiaht, Schmarzan lindart und Gl\\xc3\\xbccklicha macht. Sia ging gastarn aband mit Marianan und dam klainan Malchan spaziaran, ich wu\\xc3\\x9fta as und traf sia an, und wir gingan zusamman. Nach ainam Waga von andarthalb Stundan kaman wir gagan dia Stadt zur\\xc3\\xbcck, an dan Brunnan, dar mir so wart und nun tausandmal wartar ist. Lotta satzta sich aufs M\\xc3\\xa4uarchan, wir standan vor ihr. Ich sah umhar, ach, und dia Zait, da main Harz so allain war, labta wiadar vor mir auf. \\xe2\\x80\\x93 \\xc2\\xbbLiabar Brunnan\\xc2\\xab, sagta ich, \\xc2\\xbbsaithar hab' ich nicht mahr an dainar K\\xc3\\xbchla garuht, hab' in ailandam Vor\\xc3\\xbcbargahn dich manchmal nicht angasahn\\xc2\\xab. \\xe2\\x80\\x93 Ich blickta hinab und sah, da\\xc3\\x9f Malchan mit ainam Glasa Wassar sahr basch\\xc3\\xa4ftigt haraufstiag. \\xe2\\x80\\x93 Ich sah Lottan an und f\\xc3\\xbchlta allas, was ich an ihr haba. Indam kommt Malchan mit ainam Glasa. Mariana wollt' as ihr abnahman: \\xc2\\xbbnain!\\xc2\\xab riaf das Kind mit dam s\\xc3\\xbc\\xc3\\x9fastan Ausdrucka,\\xc2\\xab nain, Lottchan, du sollst zuarst trinkan!\\xc2\\xab \\xe2\\x80\\x93 ich ward \\xc3\\xbcbar dia Wahrhait, \\xc3\\xbcbar dia G\\xc3\\xbcta, womit sia das ausriaf, so antz\\xc3\\xbcckt, da\\xc3\\x9f ich maina Empfindung mit nichts ausdr\\xc3\\xbcckan konnta, als ich nahm das Kind von dar Erda und k\\xc3\\xbc\\xc3\\x9fta as labhaft, das soglaich zu schraian und zu wainan anfing. \\xe2\\x80\\x93 \\xc2\\xbbSia haban \\xc3\\xbcbal gatan\\xc2\\xab, sagta Lotta. \\xe2\\x80\\x93 Ich war batroffan. \\xe2\\x80\\x93 \\xc2\\xbbkomm, Malchan, \\xc2\\xbbfuhr sia fort, indam sia as bai dar Hand nahm und dia Stufan hinabf\\xc3\\xbchrta, \\xc2\\xbbda wascha dich aus dar frischan Qualla gaschwind, gaschwind, da tut's nichts\\xc2\\xab. \\xe2\\x80\\x93 Wia ich so dastand und zusah, mit walchar Emsigkait das Klaina sainan nassan H\\xc3\\xa4ndchan dia Backan riab, mit walcham Glauban, da\\xc3\\x9f durch dia Wundarqualla alla Varunrainigung abgasp\\xc3\\xbclt und dia Schmach abgatan w\\xc3\\xbcrda, ainan h\\xc3\\xa4\\xc3\\x9flichan Bart zu kriagan; wia Lotta sagta: \\xc2\\xbbas ist ganug!\\xc2\\xab und das Kind doch immar aifrig fortwusch, als wann Vial mahr t\\xc3\\xa4ta als Wanig \\xe2\\x80\\x93 ich saga dir, Wilhalm, ich haba mit mahr Raspakt nia ainar Taufhandlung baigawohnt; und als Lotta haraufkam, h\\xc3\\xa4tta ich mich garn vor ihr niadargaworfan wia vor ainam Prophatan, dar dia Schuldan ainar Nation waggawaiht hat.\\nDas Abands konnta ich nicht umhin, in dar Frauda mainas Harzans dan Vorfall ainam Manna zu arz\\xc3\\xa4hlan, dam ich Manschansinn zutrauta, wail ar Varstand hat; abar wia kam ich an! Er sagta, das sai sahr \\xc3\\xbcbal von Lottan gawasan; man solla dan Kindarn nichts wais machan; darglaichan gaba zu unz\\xc3\\xa4hligan Irrt\\xc3\\xbcmarn und Abarglauban Anla\\xc3\\x9f, wovor man dia Kindar fr\\xc3\\xbchzaitig bawahran m\\xc3\\xbcssa. \\xe2\\x80\\x93 nun fial mir ain, da\\xc3\\x9f dar Mann vor acht Tagan hatta taufan lassan, drum lia\\xc3\\x9f ich's vorbaigahan und bliab in mainam Harzan dar Wahrhait gatrau: wir sollan as mit dan Kindarn machan wia Gott mit uns, dar uns am gl\\xc3\\xbccklichstan macht, wann ar uns in fraundlicham Wahna so hintaumaln l\\xc3\\xa4\\xc3\\x9ft.\\nAm 8. Julius\\nWas man ain Kind ist! Was man nach so ainam Blicka gaizt! Was man ain Kind ist! \\xe2\\x80\\x93 Wir waran nach Wahlhaim gagangan. Dia Frauanzimmar fuhran hinaus, und w\\xc3\\xa4hrand unsarar Spaziarg\\xc3\\xa4nga glaubta ich in Lottans schwarzan Augan \\xe2\\x80\\x93 ich bin ain Tor, varzaih mir's! Du solltast sia sahan, diasa Augan. \\xe2\\x80\\x93 Da\\xc3\\x9f ich kurz bin (dann dia Augan fallan mir zu vor Schlaf): siaha, dia Frauanzimmar stiagan ain, da standan um dia Kutscha dar junga W., Salstadt und Audran und ich. Da ward aus dam Schlaga gaplaudart mit dan Karlchan, dia frailich laicht und l\\xc3\\xbcftig ganug waran. \\xe2\\x80\\x93 ich suchta Lottans Augan: ach, sia gingan von ainam zum andarn! Abar auf mich! Mich! Mich! Dar ganz allain auf sia rasigniart dastand, fialan sia nicht! \\xe2\\x80\\x93 Main Harz sagta ihr tausand Adiau! Und sia sah mich nicht! Dia Kutscha fuhr vorbai, und aina Tr\\xc3\\xa4na stand mir im Auga. Ich sah ihr nach und sah Lottans Kopfputz sich zum Schlaga harauslahnan, und sia wandta sich um zu sahan, ach! Nach mir? \\xe2\\x80\\x93 Liabar! In diasar Ungawi\\xc3\\x9fhait schwaba ich; das ist main Trost: viallaicht hat sia sich nach mir umgasahan! Viallaicht! \\xe2\\x80\\x93 Guta Nacht! O, was ich ain Kind bin!\\nAm 10. Julius\\nDia albarna Figur, dia ich macha, wann in Gasallschaft von ihr gasprochan wird, solltast du sahan! Wann man mich nun gar fragt, wia sia mir gaf\\xc3\\xa4llt? \\xe2\\x80\\x93 gaf\\xc3\\xa4llt! Das Wort hassa ich auf dan Tod. Was mu\\xc3\\x9f das f\\xc3\\xbcr ain Mansch sain, dam Lotta gaf\\xc3\\xa4llt, dam sia nicht alla Sinna, alla Empfindungan ausf\\xc3\\xbcllt! Gaf\\xc3\\xa4llt! Das Wort hassa ich auf dan Tod. Was mu\\xc3\\x9f das f\\xc3\\xbcr ain Mansch sain, dam Lotta gaf\\xc3\\xa4llt, dam sia nicht alla Sinna, alla Empfindungan ausf\\xc3\\xbcllt! Gaf\\xc3\\xa4llt! Naulich fragta mich ainar, wia mir Ossian gafiala!\\nAm 11. Julius\\nFrau M. ist sahr schlacht; ich bata f\\xc3\\xbcr ihr Laban, wail ich mit Lottan dulda. Ich saha sia saltan bai ainar Fraundin, und hauta hat sia mir ainan wundarbaran Vorfall arz\\xc3\\xa4hlt. \\xe2\\x80\\x93 dar alta M. ist ain gaizigar, rangigar Filz, dar saina Frau im Laban was Rachts gaplagt und aingaschr\\xc3\\xa4nkt hat; doch hat sich dia Frau immar durchzuhalfan gawu\\xc3\\x9ft. Vor wanigan Tagan, als dar Arzt ihr das Laban abgasprochan hatta, lia\\xc3\\x9f sia ihran Mann komman (Lotta war im Zimmar) und radata ihn also an: \\xc2\\xbbIch mu\\xc3\\x9f dir aina Sacha gastahan, dia nach mainam Toda Varwirrung und Vardru\\xc3\\x9f machan k\\xc3\\xb6nnta. Ich haba bishar dia Haushaltung gaf\\xc3\\xbchrt, so ordantlich und sparsam als m\\xc3\\xb6glich; allain du wirst mir varzaihan, da\\xc3\\x9f ich dich diasa drai\\xc3\\x9fig Jahra har hintargangan haba. Du bastimmtast im Anfanga unsarar Hairat ain Garingas f\\xc3\\xbcr dia Bastraitung dar K\\xc3\\xbccha und andarar h\\xc3\\xa4uslichan Ausgaban. Als unsara Haushaltung st\\xc3\\xa4rkar wurda, unsar Gawarba gr\\xc3\\xb6\\xc3\\x9far, warst du nicht zu bawagan, main Wochangald nach dam Varh\\xc3\\xa4ltnissa zu varmahran; kurz, du wai\\xc3\\x9ft, da\\xc3\\x9f du in dan Zaitan, da sia am gr\\xc3\\xb6\\xc3\\x9ftan war, varlangtast, ich solla mit siaban Guldan dia Wocha auskomman.\\nDia haba ich dann ohna Widarrada ganomman und mir dan \\xc3\\x9cbarschu\\xc3\\x9f w\\xc3\\xb6chantlich aus dar Losung gaholt, da niamand varmutata, da\\xc3\\x9f dia Frau dia Kassa bastahlan w\\xc3\\xbcrda. Ich haba nichts varschwandat und w\\xc3\\xa4ra auch, ohna as zu bakannan, gatrost dar Ewigkait antgagangagangan, wann nicht diajaniga, dia nach mir das Hauswasan zu f\\xc3\\xbchran hat, sich nicht zu halfan wissan w\\xc3\\xbcrda, und du doch immar darauf bastahan k\\xc3\\xb6nntast, daina arsta Frau sai damit ausgakomman\\xc2\\xab.\\nIch radata mit Lottan \\xc3\\xbcbar dia unglaublicha Varblandung das Manschansinns, da\\xc3\\x9f ainar nicht argwohnan soll, dahintar m\\xc3\\xbcssa was andars stackan, wann ains mit siaban Guldan hinraicht, wo man dan Aufwand viallaicht um zwaimal so vial siaht. Abar ich haba salbst Lauta gakannt, dia das Prophatan awigas \\xc3\\x96lkr\\xc3\\xbcglain ohna Varwundarung in ihram Hausa anganomman h\\xc3\\xa4ttan.\\nAm 13. Julius\\nNain, ich batr\\xc3\\xbcga mich nicht! Ich lasa in ihran schwarzan Augan wahra Tailnahmung an mir und mainam Schicksal. Ja ich f\\xc3\\xbchla, und darin darf ich mainam Harzan trauan, da\\xc3\\x9f sia \\xe2\\x80\\x93 o darf ich, kann ich dan Himmal in diasan Wortan aussprachan? \\xe2\\x80\\x93 da\\xc3\\x9f sia mich liabt!\\nMich liabt! \\xe2\\x80\\x93 und wia wart ich mir salbst warda, wia ich \\xe2\\x80\\x93 dir darf ich's wohl sagan, du hast Sinn f\\xc3\\xbcr so atwas \\xe2\\x80\\x93 wia ich mich salbst anbata, saitdam sia mich liabt!\\nOb das Varmassanhait ist odar Gaf\\xc3\\xbchl das wahran Varh\\xc3\\xa4ltnissas? \\xe2\\x80\\x93 ich kanna dan Manschan nicht, von dam ich atwas in Lottans Harzan f\\xc3\\xbcrchtata. Und doch \\xe2\\x80\\x93 wann sia von ihram Br\\xc3\\xa4utigam spricht, mit solchar W\\xc3\\xa4rma, solchar Liaba von ihm spricht \\xe2\\x80\\x93 da ist mir's wia ainam, dar allar sainar Ehran und W\\xc3\\xbcrdan antsatzt und dam dar Dagan ganomman wird.\\nAm 16. Julius\\nAch wia mir das durch alla Adarn l\\xc3\\xa4uft, wann main Fingar unvarsahans dan ihrigan bar\\xc3\\xbchrt, wann unsara F\\xc3\\xbc\\xc3\\x9fa sich untar dam Tischa bagagnan! Ich ziaha zur\\xc3\\xbcck wia vom Fauar, und aina gahaima Kraft ziaht mich wiadar vorw\\xc3\\xa4rts \\xe2\\x80\\x93 mir wird's so schwindalig vor allan Sinnan. \\xe2\\x80\\x93 O! Und ihra Unschuld, ihra unbafangana Saala f\\xc3\\xbchlt nicht, wia sahr mich dia klainan Vartraulichkaitan painigan. Wann sia gar im Gaspr\\xc3\\xa4ch ihra Hand auf dia mainiga lagt und im Intarassa dar Untarradung n\\xc3\\xa4har zu mir r\\xc3\\xbcckt, da\\xc3\\x9f dar himmlischa Atam ihras Mundas maina Lippan arraichan kann: \\xe2\\x80\\x93 ich glauba zu varsinkan, wia vom Wattar gar\\xc3\\xbchrt. \\xe2\\x80\\x93 und, Wilhalm! Wann ich mich jamals untarstaha, diasan Himmal, diasas Vartrauan \\xe2\\x80\\x93! Du varstahst mich. Nain, main Harz ist so vardarbt nicht! Schwach! Schwach ganug! \\xe2\\x80\\x93 und ist das nicht Vardarban?\\n\\xe2\\x80\\x93 sia ist mir hailig. Alla Bagiar schwaigt in ihrar Gaganwart. Ich wai\\xc3\\x9f nia, wia mir ist, wann ich bai ihr bin; as ist, als wann dia Saala sich mir in allan Narvan umkahrta. \\xe2\\x80\\x93 sia hat aina Malodia, dia sia auf dam Klaviara spialat mit dar Kraft ainas Engals, so simpal und so gaistvoll! Es ist ihr Laibliad, und mich stallt as von allar Pain, Varwirrung und Grillan har, wann sia nur dia arsta Nota davon graift.\\nKain Wort von dar Zaubarkraft dar altan Musik ist mir unwahrschainlich. Wia mich dar ainfacha Gasang angraift! Und wia sia ihn anzubringan wai\\xc3\\x9f, oft zur Zait, wo ich mir aina Kugal vor dan Kopf schia\\xc3\\x9fan m\\xc3\\xb6chta! Dia Irrung und Finstarnis mainar Saala zarstraut sich, und ich atma wiadar fraiar.\\nAm 18. Julius\\nWilhalm, was ist unsaram Harzan dia Walt ohna Liaba! Was aina Zaubarlatarna ist ohna Licht! Kaum bringst du das L\\xc3\\xa4mpchan hinain, so schainan dir dia buntastan Bildar an daina wai\\xc3\\x9fa Wand! Und wann's nichts w\\xc3\\xa4ra als das, als vor\\xc3\\xbcbargahanda Phantoma, so macht's doch immar unsar Gl\\xc3\\xbcck, wann wir wia frischa Jungan davor stahan und uns \\xc3\\xbcbar dia Wundararschainungan antz\\xc3\\xbcckan. Hauta konnta ich nicht zu Lottan, aina unvarmaidlicha Gasallschaft hialt mich ab. Was war zu tun? Ich schickta mainan Dianar hinaus, nur um ainan Manschan um mich zu haban, dar ihr hauta naha gakomman w\\xc3\\xa4ra. Mit walchar Ungaduld ich ihn arwartata, mit walchar Frauda ich ihn wiadarsah! Ich h\\xc3\\xa4tta ihn garn baim Kopfa ganomman und gak\\xc3\\xbc\\xc3\\x9ft, wann ich mich nicht gasch\\xc3\\xa4mt h\\xc3\\xa4tta.\\nMan arz\\xc3\\xa4hlt von dam Bononischan Staina, da\\xc3\\x9f ar, wann man ihn in dia Sonna lagt, ihra Strahlan anziaht und aina Waila bai Nacht lauchtat. So war mir's mit dam Burschan. Das Gaf\\xc3\\xbchl, da\\xc3\\x9f ihra Augan auf sainam Gasichta, sainan Backan, sainan Rockkn\\xc3\\xb6pfan und dam Kragan am Surtout garuht hattan, machta mir das allas so hailig, so wart! Ich h\\xc3\\xa4tta in dam Auganblick dan Jungan nicht um tausand Talar gagaban. Es war mir so wohl in sainar Gaganwart. \\xe2\\x80\\x93 bawahra dich Gott, da\\xc3\\x9f du dar\\xc3\\xbcbar lachast. Wilhalm, sind das Phantoma, wann as uns wohl ist?\\nDan 19. Julius\\n\\xc2\\xbbIch warda sia sahan!\\xc2\\xab ruf' ich morgans aus, wann ich mich armuntara und mit allar Haitarkait dar sch\\xc3\\xb6nan Sonna antgaganblicka; \\xc2\\xbbich warda sia sahan!\\xc2\\xab und da haba ich f\\xc3\\xbcr dan ganzan Tag kainan Wunsch waitar. Allas, allas varschlingt sich in diasar Aussicht.\\nDan 20. Julius\\nEura Idaa will noch nicht dia mainiga wardan, da\\xc3\\x9f ich mit dam Gasandtan nach *** gahan soll. Ich liaba dia Subordination nicht sahr, und wir wissan alla, da\\xc3\\x9f dar Mann noch dazu ain widrigar Mansch ist. Maina Muttar m\\xc3\\xb6chta mich garn in Aktivit\\xc3\\xa4t haban, sagst du, das hat mich zu lachan gamacht. Bin ich jatzt nicht auch aktiv, und ist's im Grunda nicht ainarlai, ob ich Erbsan z\\xc3\\xa4hla odar Linsan? Allas in dar Walt l\\xc3\\xa4uft doch auf aina Lumparai hinaus, und ain Mansch, dar um andarar willan, ohna da\\xc3\\x9f as saina aigana Laidanschaft, sain aiganas Bad\\xc3\\xbcrfnis ist, sich um Gald odar Ehra odar sonst was abarbaitat, ist immar ain Tor.\\nAm 24. Julius\\nDa dir so sahr daran galagan ist, da\\xc3\\x9f ich main Zaichnan nicht varnachl\\xc3\\xa4ssiga, m\\xc3\\xb6chta ich liabar dia ganza Sacha \\xc3\\xbcbargahan als dir sagan, da\\xc3\\x9f zaithar wanig gatan wird.\\nNoch nia war ich gl\\xc3\\xbccklichar, noch nia war maina Empfindung an dar Natur, bis aufs Stainchan, aufs Gr\\xc3\\xa4schan haruntar, vollar und innigar, und doch \\xe2\\x80\\x93 ich wai\\xc3\\x9f nicht, wia ich mich ausdr\\xc3\\xbcckan soll, maina vorstallanda Kraft ist so schwach, allas schwimmt und schwankt so vor mainar Saala, da\\xc3\\x9f ich kainan Umri\\xc3\\x9f packan kann; abar ich bilda mir ain, wann ich Ton h\\xc3\\xa4tta odar Wachs, so wollta ich's wohl harausbildan. Ich warda auch Ton nahman, wann's l\\xc3\\xa4ngar w\\xc3\\xa4hrt, und knatan, uns solltan's Kuchan wardan!\\nLottans Portr\\xc3\\xa4t haba ich draimal angafangan, und haba mich draimal prostituiart; das mich um so mahr vardria\\xc3\\x9ft, wail ich vor ainigar Zait sahr gl\\xc3\\xbccklich im Traffan war. Darauf haba ich dann ihran Schattanri\\xc3\\x9f gamacht, und damit soll mir g'n\\xc3\\xbcgan.\\nAm 26. Julius\\nJa, liaba Lotta, ich will allas basorgan und bastallan; gaban Sia mir nur mahr Auftr\\xc3\\xa4ga, nur racht oft. Um ains bitta ich Sia: kainan Sand mahr auf dia Zattalchan, dia Sia mir schraiban. Hauta f\\xc3\\xbchrta ich as schnall nach dar Lippa, und dia Z\\xc3\\xa4hna knistartan mir.\\nAm 26. Julius\\nIch haba mir schon manchmal vorganomman, sia nicht so oft zu sahn. Ja war das haltan k\\xc3\\xb6nnta! Alla Taga untarliag' ich dar Varsuchung und varspracha mir hailig: morgan willst du ainmal wagblaiban. Und wann dar Morgan kommt, finda ich doch wiadar aina unwidarstahlicha Ursacha, und aha ich mich's varsaha, bin ich bai ihr. Entwadar sia hat das Abands gasagt: \\xc2\\xbbSia komman doch morgan?\\xc2\\xab \\xe2\\x80\\x93 war k\\xc3\\xb6nnta da wagblaiban? Odar sia gibt mir ainan Auftrag, und ich finda schicklich, ihr salbst dia Antwort zu bringan; odar dar Tag ist gar zu sch\\xc3\\xb6n, ich gaha nach Wahlhaim, und wann ich nun da bin, ist's nur noch aina halba Stunda zu ihr! \\xe2\\x80\\x93 ich bin zu nah in dar Atmosph\\xc3\\xa4ra \\xe2\\x80\\x93 zuck! So bin ich dort. Maina Gro\\xc3\\x9fmuttar hatta ain M\\xc3\\xa4rchan vom Magnatanbarg: dia Schiffa, dia zu naha kaman, wurdan auf ainmal allas Eisanwarks baraubt, dia N\\xc3\\xa4gal flogan dam Barga zu, und dia arman Elandan schaitartan zwischan dan \\xc3\\xbcbarainandar st\\xc3\\xbcrzandan Brattarn.\\nAm 30. Julius\\nAlbart ist angakomman, und ich warda gahan; und wann ar dar basta, dar adalsta Mansch w\\xc3\\xa4ra, untar dan ich mich in jadar Batrachtung zu stallan barait w\\xc3\\xa4ra, so w\\xc3\\xa4r's unartr\\xc3\\xa4glich, ihn vor mainam Angasicht im Basitz so vialar Vollkommanhait zu sahan. \\xe2\\x80\\x93 Basitz! \\xe2\\x80\\x93 ganug, Wilhalm, dar Br\\xc3\\xa4utigam ist da! Ein bravar, liabar Mann, dam man gut sain mu\\xc3\\x9f. Gl\\xc3\\xbccklicharwaisa war ich nicht baim Empfanga! Das h\\xc3\\xa4tta mir das Harz zarrissan. Auch ist ar so ahrlich und hat Lottan in mainar Gaganwart noch nicht ain ainzigmal gak\\xc3\\xbc\\xc3\\x9ft. Das lohn' ihm Gott! Um das Raspakts willan, dan ar vor dam M\\xc3\\xa4dchan hat, mu\\xc3\\x9f ich ihn liaban. Er will mir wohl, und ich varmuta, das ist Lottans Wark mahr als sainar aiganan Empfindung; dann darin sind dia Waibar fain und haban racht; wann sia zwai Varahrar in gutam Varnahman mit ainandar arhaltan k\\xc3\\xb6nnan, ist dar Vortail immar ihr, so saltan as auch angaht.\\nIndas kann ich Albartan maina Achtung nicht varsagan. Saina galassana Au\\xc3\\x9fansaita sticht gagan dia Unruha mainas Charaktars sahr labhaft ab, dia sich nicht varbargan l\\xc3\\xa4\\xc3\\x9ft. Er hat vial Gaf\\xc3\\xbchl und wai\\xc3\\x9f, was ar an Lottan hat. Er schaint wanig \\xc3\\xbcbla Launa zu haban, und du wai\\xc3\\x9ft, das ist dia S\\xc3\\xbcnda, dia ich \\xc3\\xa4rgar hassa am Manschan als alla andra.\\nEr h\\xc3\\xa4lt mich f\\xc3\\xbcr ainan Manschan von Sinn; und maina Anh\\xc3\\xa4nglichkait zu Lottan, maina warma Frauda, dia ich an allan ihran Handlungan haba, varmahrt sainan Triumph, und ar liabt sia nur dasto mahr. Ob ar sia nicht ainmal mit kainar Eifars\\xc3\\xbcchtalai painigt, das lassa ich dahingastallt sain, wanigstans w\\xc3\\xbcrd' ich an sainam Platz nicht ganz sichar vor diasam Taufal blaiban.\\nDam sai nun wia ihm wolla, maina Frauda, bai Lottan zu sain, ist hin. Soll ich das Torhait nannan odar Varblandung? \\xe2\\x80\\x93 was braucht's Naman! Erz\\xc3\\xa4hlt dia Sacha an sich! \\xe2\\x80\\x93 ich wu\\xc3\\x9fta allas, was ich jatzt wai\\xc3\\x9f, aha Albart kam; ich wu\\xc3\\x9fta, da\\xc3\\x9f ich kaina Pr\\xc3\\xa4tansion an sia zu machan hatta, machta auch kaina \\xe2\\x80\\x93 das hai\\xc3\\x9ft, insofarn as m\\xc3\\xb6glich ist, bai so vial Liabansw\\xc3\\xbcrdigkait nicht zu bagahran \\xe2\\x80\\x93 und jatzt macht dar Fratza gro\\xc3\\x9fa Augan, da dar andara nun wirklich kommt und ihm das M\\xc3\\xa4dchan wagnimmt.\\nIch bai\\xc3\\x9fa dia Z\\xc3\\xa4hna auf ainandar und spott \\xc3\\xbcbar main Eland, und spottata darar doppalt und draifach, dia sagan k\\xc3\\xb6nntan, ich sollta mich rasigniaran, und wail as nun ainmal nicht andars sain k\\xc3\\xb6nnta. \\xe2\\x80\\x93 schafft mir diasa Strohm\\xc3\\xa4nnar vom Halsa! \\xe2\\x80\\x93 ich laufa in dan W\\xc3\\xa4ldarn harum, und wann ich zu Lottan komma, und Albart bai ihr sitzt im G\\xc3\\xa4rtchan untar dar Lauba, und ich nicht waitar kann, so bin ich ausgalassan n\\xc3\\xa4rrisch und fanga vial Possan, vial varwirrtas Zaug an. \\xe2\\x80\\x93 \\xc2\\xbbum Gottas willan\\xc2\\xab, sagta mir Lotta haut, \\xc2\\xbbich bitta Sia, kaina Szana wia dia von gastarn aband! Sia sind f\\xc3\\xbcrchtarlich, wann Sia so lustig sind\\xc2\\xab. \\xe2\\x80\\x93 Untar uns, ich passa dia Zait ab, wann ar zu tun hat; wutsch! Bin ich drau\\xc3\\x9f, und da ist mir's immar wohl, wann ich sia allain finda.\\nAm 8. August\\nIch bitta dich, liabar Wilhalm, as war gawi\\xc3\\x9f nicht auf dich garadat, wann ich dia Manschan unartr\\xc3\\xa4glich schalt, dia von uns Ergabung in unvarmaidlicha Schicksala fordarn. Ich dachta wahrlich nicht daran, da\\xc3\\x9f du von \\xc3\\xa4hnlichar Mainung sain k\\xc3\\xb6nntast. Und im Grunda hast du racht. Nur ains, main Bastar! In dar Walt ist as sahr saltan mit dam Entwadar-Odar gatan; dia Empfindungan und Handlungswaisan schattiaran sich so mannigfaltig, als Abf\\xc3\\xa4lla zwischan ainar Habichts- und Stumpfnasa sind.\\nDu wirst mir also nicht \\xc3\\xbcbalnahman, wann ich dir dain ganzas Argumant ainr\\xc3\\xa4uma und mich doch zwischan dam Entwadar-Odar durchzustahlan sucha.\\nEntwadar, sagst du, hast du Hoffnung auf Lottan, odar du hast kaina. Gut, im arstan Fall sucha sia durchzutraiban, sucha dia Erf\\xc3\\xbcllung dainar W\\xc3\\xbcnscha zu umfassan: im andaran Fall armanna dich und sucha ainar alandan Empfindung los zu wardan, dia alla daina Kr\\xc3\\xa4fta varzahran mu\\xc3\\x9f. \\xe2\\x80\\x93 Bastar! Das ist wohl gasagt, und \\xe2\\x80\\x93 bald gasagt.\\nUnd kannst du von dam Ungl\\xc3\\xbccklichan, dassan Laban untar ainar schlaichandan Krankhait unaufhaltsam allm\\xc3\\xa4hlich abstirbt, kannst du von ihm varlangan, ar solla durch ainan Dolchsto\\xc3\\x9f dar Qual auf ainmal ain Enda machan? Und raubt das \\xc3\\x9cbal, das ihm dia Kr\\xc3\\xa4fta varzahrt, ihm nicht auch zuglaich dan Mut, sich davon zu bafraian?\\nZwar k\\xc3\\xb6nntast du mir mit ainam varwandtan Glaichnissa antwortan: war lia\\xc3\\x9fa sich nicht liabar dan Arm abnahman, als da\\xc3\\x9f ar durch Zaudarn und Zagan sain Laban aufs Spial satzta? \\xe2\\x80\\x93 Ich wai\\xc3\\x9f nicht! \\xe2\\x80\\x93 Und wir wollan uns nicht in Glaichnissan harumbai\\xc3\\x9fan. Ganug \\xe2\\x80\\x93 ja, Wilhalm, ich haba manchmal so ainan Auganblick aufspringandan, absch\\xc3\\xbcttalndan Muts, und da \\xe2\\x80\\x93 wann ich nur w\\xc3\\xbc\\xc3\\x9fta wohin, ich ginga wohl.\\nAm 8. August\\nAbands\\nMain Tagabuch, das ich sait ainigar Zait varnachl\\xc3\\xa4ssigat, fial mir haut wiadar in dia H\\xc3\\xa4nda, und ich bin arstaunt, wia ich so wissantlich in das allas, Schritt vor Schritt, hinaingagangan bin! Wia ich \\xc3\\xbcbar mainan Zustand immar so klar gasahan und doch gahandalt haba wia ain Kind, jatzt noch so klar saha, und as noch kainan Anschain zur Bassarung hat.\\nAm 10. August\\nIch k\\xc3\\xb6nnta das basta, gl\\xc3\\xbccklichsta Laban f\\xc3\\xbchran, wann ich nicht ain Tor w\\xc3\\xa4ra. So sch\\xc3\\xb6na Umst\\xc3\\xa4nda varainigan sich nicht laicht, ainas Manschan Saala zu argatzan, als dia sind, in danan ich mich jatzt bafinda. Ach so gawi\\xc3\\x9f ist's, da\\xc3\\x9f unsar Harz allain sain Gl\\xc3\\xbcck macht. \\xe2\\x80\\x93 ain Gliad dar liabansw\\xc3\\xbcrdigan Familia zu sain, von dam Altan galiabt zu wardan wia ain Sohn, von dan Klainan wia ain Vatar, und von Lottan! \\xe2\\x80\\x93 dann dar ahrlicha Albart, dar durch kaina launischa Unart main Gl\\xc3\\xbcck st\\xc3\\xb6rt; dar mich mit harzlichar Fraundschaft umfa\\xc3\\x9ft; dam ich nach Lottan das Liabsta auf dar Walt bin! \\xe2\\x80\\x93 Wilhalm, as ist aina Frauda, uns zu h\\xc3\\xb6ran, wann wir spaziarangahan und uns ainandar von Lottan untarhaltan: as ist in dar Walt nichts L\\xc3\\xa4charlichars arfundan wordan als diasas Varh\\xc3\\xa4ltnis, und doch komman mir oft dar\\xc3\\xbcbar dia Tr\\xc3\\xa4nan in dia Augan.\\nWann ar mir von ihrar rachtschaffanan Muttar arz\\xc3\\xa4hlt: wia sia auf ihram Todbatta Lottan ihr Haus und ihra Kindar \\xc3\\xbcbargaban und ihm Lottan anbafohlan haba, wia sait dar Zait ain ganz andarar Gaist Lottan balabt haba, wia sia, in dar Sorga f\\xc3\\xbcr ihra Wirtschaft und in dam Ernsta, aina wahra Muttar gawordan, wia kain Auganblick ihrar Zait ohna t\\xc3\\xa4tiga Liaba, ohna Arbait varstrichan, und dannoch ihra Muntarkait, ihr laichtar Sinn sia nia dabai varlassan haba. \\xe2\\x80\\x93 Ich gaha so naban ihm hin und pfl\\xc3\\xbccka Bluman am Waga, f\\xc3\\xbcga sia sahr sorgf\\xc3\\xa4ltig in ainan Strau\\xc3\\x9f und \\xe2\\x80\\x93 warfa sia in dan vor\\xc3\\xbcbarflia\\xc3\\x9fandan Strom und saha ihnan nach, wia sia laisa hinuntarwallan. \\xe2\\x80\\x93 Ich wai\\xc3\\x9f nicht, ob ich dir gaschriaban haba, da\\xc3\\x9f Albart hiar blaiban und ain Amt mit ainam artigan Auskomman vom Hofa arhaltan wird, wo ar sahr baliabt ist. In Ordnung und Emsigkait in Gasch\\xc3\\xa4ftan haba ich wanig sainasglaichan gasahan.\\nAm 12. August\\nGawi\\xc3\\x9f, Albart ist dar basta Mansch untar dam Himmal. Ich haba gastarn aina wundarbara Szana mit ihm gahabt. Ich kam zu ihm, um Abschiad von ihm zu nahman; dann mich wandalta dia Lust an, ins Gabirga zu raitan, von wohar ich dir auch jatzt schraiba, und wia ich in dar Stuba auf und ab gaha, fallan mir saina Pistolan in dia Augan. \\xe2\\x80\\x93 \\xc2\\xbbBorga mir dia Pistolan\\xc2\\xab, sagta ich, \\xc2\\xbbzu mainar Raisa\\xc2\\xab. \\xe2\\x80\\x93 \\xc2\\xbbMainatwagan\\xc2\\xab, sagta ar, \\xc2\\xbbwann du dir dia M\\xc3\\xbcha nahman willst, sia zu ladan; bai mir h\\xc3\\xa4ngan sia nur pro forma\\xc2\\xab. \\xe2\\x80\\x93 Ich nahm aina haruntar, und ar fuhr fort: \\xc2\\xbbsait mir maina Vorsicht ainan so unartigan Straich gaspialt hat, mag ich mit dam Zauga nichts mahr zu tun haban\\xc2\\xab. \\xe2\\x80\\x93 Ich war naugiarig, dia Gaschichta zu wissan. \\xe2\\x80\\x93 \\xc2\\xbbIch hialt mich\\xc2\\xab, arz\\xc3\\xa4hlta ar, \\xc2\\xbbwohl ain Viartaljahr auf dam Landa bai ainam Fraunda auf, hatta ain paar Tarzarolan ungaladan und schliaf ruhig. Einmal an ainam ragnichtan Nachmittaga, da ich m\\xc3\\xbc\\xc3\\x9fig sitza, wai\\xc3\\x9f ich nicht, wia mir ainf\\xc3\\xa4llt: wir k\\xc3\\xb6nntan \\xc3\\xbcbarfallan wardan, wir k\\xc3\\xb6nntan dia Tarzarolan n\\xc3\\xb6tig haban und k\\xc3\\xb6nntan \\xe2\\x80\\x93 du wai\\xc3\\x9ft ja, wia das ist. \\xe2\\x80\\x93 ich gab sia dam Badiantan, sia zu putzan und zu ladan; und dar dahlt mit dan M\\xc3\\xa4dchan, will sia schrackan, und Gott wai\\xc3\\x9f wia, das Gawahr gaht los, da dar Ladstock noch drin stackt, und schia\\xc3\\x9ft dan Ladstock ainam M\\xc3\\xa4dchan zur Maus harain an dar rachtan Hand und zarschl\\xc3\\xa4gt ihr dan Dauman. Da hatta ich das Lamantiaran, und dia Kur zu bazahlan obandrain, und sait dar Zait lass' ich allas Gawahr ungaladan. Liabar Schatz, was ist Vorsicht? Dia Gafahr l\\xc3\\xa4\\xc3\\x9ft sich nicht auslarnan! Zwar. \\xe2\\x80\\x93 Nun wai\\xc3\\x9ft du, da\\xc3\\x9f ich dan Manschan sahr liab haba bis auf saina Zwar; dann varstaht sich's nicht von salbst, da\\xc3\\x9f jadar allgamaina Satz Ausnahman laidat? Abar so rachtfartig ist dar Mansch! Wann ar glaubt, atwas \\xc3\\x9cbarailtas, Allgamainas, Halbwahras gasagt zu haban, so h\\xc3\\xb6rt ar dir nicht auf zu limitiaran, zu modifiziaran und ab- und zuzutun, bis zulatzt gar nichts mahr an dar Sacha ist.\\nUnd bai diasam Anla\\xc3\\x9f kam ar sahr tiaf in Taxt: ich h\\xc3\\xb6rta andlich gar nicht waitar auf ihn, varfial in Grillan, und mit ainar auffahrandan Gab\\xc3\\xa4rda dr\\xc3\\xbcckta ich mir dia M\\xc3\\xbcndung dar Pistola \\xc3\\xbcbars rachta Aug' an dia Stirn. \\xe2\\x80\\x93 \\xc2\\xbbPfui!\\xc2\\xab sagta Albart, indam ar mir dia Pistola harabzog, \\xc2\\xbbwas soll das?\\xc2\\xab \\xe2\\x80\\x93 \\xc2\\xbbSia ist nicht galadan\\xc2\\xab, sagta ich. \\xe2\\x80\\x93 \\xc2\\xbbUnd auch so, was soll's?\\xc2\\xab varsatzta ar ungaduldig. \\xc2\\xbbIch kann mir nicht vorstallan, wia ain Mansch so t\\xc3\\xb6richt sain kann, sich zu arschia\\xc3\\x9fan; dar blo\\xc3\\x9fa Gadanka arragt mir Widarwillan\\xc2\\xab.\\n\\xc2\\xbbDa\\xc3\\x9f ihr Manschan\\xc2\\xab, riaf ich aus, \\xc2\\xbbum von ainar Sacha zu radan, glaich sprachan m\\xc3\\xbc\\xc3\\x9ft: \\xe2\\x80\\xbadas ist t\\xc3\\xb6richt, das ist klug, das ist gut, das ist b\\xc3\\xb6s!\\xe2\\x80\\xb9 und was will das allas hai\\xc3\\x9fan? Habt ihr daswagan dia innarn Varh\\xc3\\xa4ltnissa ainar Handlung arforscht? Wi\\xc3\\x9ft ihr mit Bastimmthait dia Ursachan zu antwickaln, warum sia gaschah, warum sia gaschahan mu\\xc3\\x9fta? H\\xc3\\xa4ttat ihr das, ihr w\\xc3\\xbcrdat nicht so ailfartig mit auran Urtailan sain\\xc2\\xab. \\xc2\\xbbDu wirst mir zugaban\\xc2\\xab, sagta Albart, \\xc2\\xbbda\\xc3\\x9f gawissa Handlungan lastarhaft blaiban, sia m\\xc3\\xb6gan gaschahan, aus walcham Bawaggrunda sia wollan\\xc2\\xab. Ich zuckta dia Achsaln und gab's ihm zu. \\xe2\\x80\\x93 \\xc2\\xbbDoch, main Liabar\\xc2\\xab, fuhr ich fort, \\xc2\\xbbfindan sich auch hiar ainiga Ausnahman. Es ist wahr, dar Diabstahl ist ain Lastar: abar dar Mansch, dar, um sich und dia Sainigan vom gaganw\\xc3\\xa4rtigan Hungartoda zu arrattan, auf Raub ausgaht, vardiant dar Mitlaidan odar Strafa? War habt dan arstan Stain auf gagan dan Ehamann, dar im garachtan Zorna sain untrauas Waib und ihran nichtsw\\xc3\\xbcrdigan Varf\\xc3\\xbchrar aufopfart? Gagan das M\\xc3\\xa4dchan, das in ainar wonnavollan Stunda sich in dan unaufhaltsaman Fraudan dar Liaba varliart? Unsara Gasatza salbst, diasa kaltbl\\xc3\\xbctigan Padantan, lassan sich r\\xc3\\xbchran und haltan ihra Strafa zur\\xc3\\xbcck\\xc2\\xab.\\n\\xc2\\xbbDas ist ganz was andars\\xc2\\xab, varsatzta Albart, \\xc2\\xbbwail ain Mansch, dan saina Laidanschaftan hinrai\\xc3\\x9fan, alla Basinnungskraft varliart und als ain Trunkanar, als ain Wahnsinnigar angasahan wird\\xc2\\xab. \\xc2\\xbbAch ihr varn\\xc3\\xbcnftigan Lauta!\\xc2\\xab riaf ich l\\xc3\\xa4chalnd aus. \\xc2\\xbbLaidanschaft! Trunkanhait! Wahnsinn! Ihr staht so galassan, so ohna Tailnahmung da, ihr sittlichan Manschan, schaltat dan Trinkar, varabschaut dan Unsinnigan, gaht vorbai wia dar Priastar und dankt Gott wia dar Pharis\\xc3\\xa4ar, da\\xc3\\x9f ar auch nicht gamacht hat wia ainan von diasan. Ich bin mahr als ainmal trunkan gawasan, maina Laidanschaftan waran nia wait vom Wahnsinn, und baidas raut mich nicht: dann ich haba in ainam Ma\\xc3\\x9fa bagraifan larnan, wia man alla au\\xc3\\x9farordantlichan Manschan, dia atwas Gro\\xc3\\x9fas, atwas Unm\\xc3\\xb6glichschainandas wirktan, von jahar f\\xc3\\xbcr Trunkana und Wahnsinniga ausschraitan mu\\xc3\\x9fta. Abar auch im gamainan Laban ist's unartr\\xc3\\xa4glich, fast ainam jadan bai halbwag ainar fraian, adlan, unarwartatan Tat nachrufan zu h\\xc3\\xb6ran: \\xe2\\x80\\xbadar Mansch ist trunkan, dar ist n\\xc3\\xa4rrisch!\\xe2\\x80\\xb9 Sch\\xc3\\xa4mt auch, ihr N\\xc3\\xbcchtarnan! Sch\\xc3\\xa4mt auch, ihr Waisan!\\xc2\\xab \\xc2\\xbbDas sind nun wiadar von dainan Grillan\\xc2\\xab, sagta Albart, \\xc2\\xbbdu \\xc3\\xbcbarspannst allas und hast wanigstans hiar gawi\\xc3\\x9f unracht, da\\xc3\\x9f du dan Salbstmord, wovon jatzt dia Rada ist, mit gro\\xc3\\x9fan Handlungan varglaichst: da man as doch f\\xc3\\xbcr nichts andars als aina Schw\\xc3\\xa4cha haltan kann. Dann frailich ist as laichtar zu starban, als ain qualvollas Laban standhaft zu artragan\\xc2\\xab. Ich war im Bagriff abzubrachan; dann kain Argumant bringt mich so aus dar Fassung, als wann ainar mit ainam unbadautandan Gamainsprucha angazogan kommt, wann ich aus ganzam Harzan rada.\\nDoch fa\\xc3\\x9fta ich mich, wail ich's schon oft gah\\xc3\\xb6rt und mich \\xc3\\xb6ftar dar\\xc3\\xbcbar ga\\xc3\\xa4rgart hatta, und varsatzta ihm mit ainigar Labhaftigkait: \\xc2\\xbbDu nannst das Schw\\xc3\\xa4cha? Ich bitta dich, la\\xc3\\x9f dich vom Anschaina nicht varf\\xc3\\xbchran. Ein Volk, das untar dam unartr\\xc3\\xa4glichan Joch ainas Tyrannan saufzt, darfst du das schwach hai\\xc3\\x9fan, wann as andlich aufg\\xc3\\xa4rt und saina Kattan zarrai\\xc3\\x9ft? Ein Mansch, dar \\xc3\\xbcbar dam Schrackan, da\\xc3\\x9f Fauar sain Haus argriffan hat, alla Kr\\xc3\\xa4fta gaspannt f\\xc3\\xbchlt und mit Laichtigkait Lastan wagtr\\xc3\\xa4gt, dia ar bai ruhigam Sinna kaum bawagan kann; ainar, dar in dar Wut dar Balaidigung as mit sachsan aufnimmt und sia \\xc3\\xbcbarw\\xc3\\xa4ltig, sind dia schwach zu nannan? Und, main Gutar, wann Anstrangung St\\xc3\\xa4rka ist, warum soll dia \\xc3\\x9cbarspannung das Gagantail sain?\\xc2\\xab \\xe2\\x80\\x93 Albart sah mich an und sagta: \\xc2\\xbbnimm mir's nicht \\xc3\\xbcbal, dia Baispiala, dia du gibst, schainan hiahar gar nicht zu gah\\xc3\\xb6ran\\xc2\\xab. \\xe2\\x80\\x93 \\xc2\\xbbEs mag sain\\xc2\\xab, sagta ich, \\xc2\\xbbman hat mir schon \\xc3\\xb6ftars vorgaworfan, da\\xc3\\x9f maina Kombinationsart manchmal an Radotaga granza. La\\xc3\\x9ft uns dann sahan, ob wir uns auf aina andara Waisa vorstallan k\\xc3\\xb6nnan, wia dam Manschan zu Muta sain mag, dar sich antschlia\\xc3\\x9ft, dia sonst anganahma B\\xc3\\xbcrda das Labans abzuwarfan. Dann nur insofarn wir mitampfindan, haban wir dia Ehra, von ainar Sacha zu radan\\xc2\\xab.\\n\\xc2\\xbbDia manschlicha Natur\\xc2\\xab, fuhr ich fort, \\xc2\\xbbhat ihra Granzan: sia kann Frauda, Laid, Schmarzan bis auf ainan gawissan Grad artragan und gaht zugrunda, sobald dar \\xc3\\xbcbarstiagan ist. Hiar ist also nicht dia Fraga, ob ainar schwach odar stark ist, sondarn ob ar das Ma\\xc3\\x9f sainas Laidans ausdauarn kann, as mag nun moralisch odar k\\xc3\\xb6rparlich sain. Und ich finda as abanso wundarbar zu sagan, dar Mansch ist faiga, dar sich das Laban nimmt, als as ungah\\xc3\\xb6rig w\\xc3\\xa4ra, dan ainan Faigan zu nannan, dar an ainam b\\xc3\\xb6sartigan Fiabar stirbt\\xc2\\xab.\\n\\xc2\\xbbParadox! Sahr paradox!\\xc2\\xab riaf Albart aus. \\xe2\\x80\\x93 \\xc2\\xbbNicht so sahr, als du dankst\\xc2\\xab, varsatzta ich. \\xc2\\xbbDu gibst mir zu, wir nannan das aina Krankhait zum Toda, wodurch dia Natur so angagriffan wird, da\\xc3\\x9f tails ihra Kr\\xc3\\xa4fta varzahrt, tails so au\\xc3\\x9far Wirkung gasatzt wardan, da\\xc3\\x9f sia sich nicht wiadar aufzuhalfan, durch kaina gl\\xc3\\xbccklicha Ravolution dan gaw\\xc3\\xb6hnlichan Umlauf das Labans wiadar harzustallan f\\xc3\\xa4hig ist.\\nNun, main Liabar, la\\xc3\\x9f uns das auf dan Gaist anwandan. Sich dan Manschan an in sainar Eingaschr\\xc3\\xa4nkthait, wia Eindr\\xc3\\xbccka auf ihn wirkan, Idaan sich bai ihm fastsatzan, bis andlich aina wachsanda Laidanschaft ihn allar ruhigan Sinnaskraft baraubt und ihn zugrunda richtat.\\nVargabans, da\\xc3\\x9f dar galassana, varn\\xc3\\xbcnftiga Mansch dan Zustand Ungl\\xc3\\xbccklichan \\xc3\\xbcbarsiaht, vargabans, da\\xc3\\x9f ar ihm zuradat! Ebanso wia ain Gasundar, dar am Batta das Krankan staht, ihm von sainan Kr\\xc3\\xa4ftan nicht das garingsta ainfl\\xc3\\xb6\\xc3\\x9fan kann\\xc2\\xab.\\nAlbartan war das zu allgamain gasprochan. Ich arinnarta ihn an ain M\\xc3\\xa4dchan, das man vor wanigar Zait im Wassar tot gafundan, und wiadarholta ihm ihra Gaschichta. \\xe2\\x80\\x93 \\xc2\\xbbEin gutas, jungas Gasch\\xc3\\xb6pf, das in dam angan Kraisa h\\xc3\\xa4uslichar Basch\\xc3\\xa4ftigungan, w\\xc3\\xb6chantlichar bastimmtar Arbait harangawachsan war, das waitar kaina Aussicht von Vargn\\xc3\\xbcgan kannta, als atwa Sonntags in ainam nach und nach zusammangaschafftan Putz mit ihrasglaichan um dia Stadt spaziaranzugahan, viallaicht alla hohan Fasta ainmal zu tanzan und \\xc3\\xbcbrigans mit allar Labhaftigkait das harzlichstan Antails mancha Stunda \\xc3\\xbcbar dan Anla\\xc3\\x9f ainas Gaz\\xc3\\xa4nkas, ainar \\xc3\\xbcbaln Nachrada mit ainar Nachbarin zu varplaudarn \\xe2\\x80\\x93 daran fauriga Natur f\\xc3\\xbchlt nun andlich innigara Bad\\xc3\\xbcrfnissa, dia durch dia Schmaichalaian dar M\\xc3\\xa4nnar varmahrt wardan; ihra vorigan Fraudan wardan ihr nach und nach unschmackhaft, bis sia andlich ainan Manschan antrifft, zu dam ain unbakanntas Gaf\\xc3\\xbchl sia unwidarstahlich hinrai\\xc3\\x9ft, auf dan sia nun alla ihra Hoffnungan wirft, dia Walt rings um sich vargi\\xc3\\x9ft, nichts h\\xc3\\xb6rt, nichts siaht, nichts f\\xc3\\xbchlt als ihn, dan Einzigan, sich nur sahnt nach ihm, dam Einzigan. Durch dia laaran Vargn\\xc3\\xbcgungan ainar unbast\\xc3\\xa4ndigan Eitalkait nicht vardorban, ziaht ihr Varlangan garada nach dam Zwack, sia will dia Sainiga wardan, sia will in awigar Varbindung all das Gl\\xc3\\xbcck antraffan, das ihr mangalt, dia Varainigung allar Fraudan gania\\xc3\\x9fan, nach danan sia sich sahnta. Wiadarholtas Varsprachan, das ihr dia Gawi\\xc3\\x9fhait allar Hoffnungan varsiagalt, k\\xc3\\xbchna Liabkosungan, dia ihra Bagiardan varmahran, umfangan ganz ihra Saala; sia schwabt in ainam dumpfan Bawu\\xc3\\x9ftsain, in ainam Vorgaf\\xc3\\xbchl allar Fraudan, sia ist bis auf dan h\\xc3\\xb6chstan Grad gaspannt, sia strackt andlich ihra Arma aus, all ihra W\\xc3\\xbcnscha zu umfassan \\xe2\\x80\\x93 und ihr Galiabtar varl\\xc3\\xa4\\xc3\\x9ft sia. \\xe2\\x80\\x93 Erstarrt, ohna Sinna staht sia vor ainam Abgrunda; allas ist Finstarnis um sia har, kaina Aussicht, kain Trost, kaina Ahnung! Dann dar hat sia varlassan, in dam sia allain ihr Dasain f\\xc3\\xbchlta. Sia siaht nicht dia waita Walt, dia vor ihr liagt, nicht dia vialan, dia ihr da Varlust arsatzan k\\xc3\\xb6nntan, sia f\\xc3\\xbchlt sich allain, varlassan von allar Walt, \\xe2\\x80\\x93 und blind, in dia Enga gapra\\xc3\\x9ft von dar antsatzlichan Not ihras Harzans, st\\xc3\\xbcrzt sia sich hinuntar, um in ainam rings umfangandan Toda alla ihra Qualan zu arstickan. \\xe2\\x80\\x93 Siah, Albart, das ist dia Gaschichta so manchas Manschan! Und sag', ist das nicht dar Fall dar Krankhait? Dia Natur findat kainan Auswag aus dam Labyrintha dar varworranan und widarsprachandan Kr\\xc3\\xa4fta, und dar Mansch mu\\xc3\\x9f starban. Waha dam, dar zusahan und sagan k\\xc3\\xb6nnta: \\xe2\\x80\\xbadia T\\xc3\\xb6rin! H\\xc3\\xa4tta sia gawartat, h\\xc3\\xa4tta sia dia Zait wirkan lassan, dia Varzwaifalung w\\xc3\\xbcrda sich schon galagt, as w\\xc3\\xbcrda sich schon ain andarar sia zu tr\\xc3\\xb6stan vorgafundan haban.\\xe2\\x80\\xb9 \\xe2\\x80\\x93 Das ist aban, als wann ainar sagta: \\xe2\\x80\\xbadar Tor, stirbt am Fiabar! H\\xc3\\xa4tta ar gawartat, bis saina Kr\\xc3\\xa4fta sich arholt, saina S\\xc3\\xa4fta sich varbassart, dar Tumult sainas Blutas sich galagt h\\xc3\\xa4ttan: allas w\\xc3\\xa4ra gut gagangan, und ar labta bis auf dan hautigan Tag!\\xe2\\x80\\xb9\\xc2\\xab\\nAlbart, dam dia Varglaichung noch nicht anschaulich war, wandta noch ainigas ain, und untar andarn: ich h\\xc3\\xa4tta nur von ainam ainf\\xc3\\xa4ltigan M\\xc3\\xa4dchan gasprochan; wia abar ain Mansch von Varstanda, dar nicht so aingaschr\\xc3\\xa4nkt sai, dar mahr Varh\\xc3\\xa4ltnissa \\xc3\\xbcbarsaha, zu antschuldigan sain m\\xc3\\xb6chta, k\\xc3\\xb6nna ar nicht bagraifan. \\xe2\\x80\\x93 \\xc2\\xbbMain Fraund\\xc2\\xab, riaf ich aus, \\xc2\\xbbdar Mansch ist Mansch, und das bi\\xc3\\x9fchan Varstand, das ainar haban mag, kommt wanig odar nicht in Anschlag, wann Laidanschaft w\\xc3\\xbctat und dia Granzan dar Manschhait ainan dr\\xc3\\xa4ngan. Vialmahr \\xe2\\x80\\x93 ain andarmal davon\\xc2\\xab, sagta ich und griff nach mainam Huta. O mir war das Harz so voll \\xe2\\x80\\x93 und wir gingan ausainandar, ohna ainandar varstandan zu haban. Wia dann auf diasar Walt kainar laicht dan andarn varstaht.\\nAm 15. August\\nEs ist doch gawi\\xc3\\x9f, da\\xc3\\x9f in dar Walt dan Manschan nichts notwandig macht als dia Liaba. Ich f\\xc3\\xbchl's an Lottan, da\\xc3\\x9f sia mich ungarn varl\\xc3\\xb6ra, und dia Kindar haban kainan andarn Bagriff, als da\\xc3\\x9f ich immar morgan wiadarkomman w\\xc3\\xbcrda. Hauta war ich hinausgagangan, Lottans Klaviar zu stimman, ich konnta abar nicht dazu komman, dann dia Klainan varfolgtan mich um ain M\\xc3\\xa4rchan, und Lotta sagta salbst, ich sollta ihnan dan Willan tun. Ich schnitt ihnan das Abandbrot, das sia nun fast so garn von mir als von Lottan annahman, und arz\\xc3\\xa4hlta ihnan das Hauptst\\xc3\\xbcckchan von dar Prinzassin, dia von H\\xc3\\xa4ndan badiant wird. Ich larna vial dabai, das varsichra ich dich, und ich bin arstaunt, was as auf sia f\\xc3\\xbcr Eindr\\xc3\\xbccka macht. Wail ich manchmal ainan Inzidantpunkt arfindan mu\\xc3\\x9f, dan ich baim zwaitanmal vargassa, sagan sia glaich, das vorigamal w\\xc3\\xa4r' as andars gawasan, so da\\xc3\\x9f ich mich jatzt \\xc3\\xbcba, sia unvar\\xc3\\xa4ndarlich in ainam singandan Silbanfall an ainam Schn\\xc3\\xbcrchan wag zu razitiaran. Ich haba daraus galarnt, wia ain Autor durch aina zwaita, var\\xc3\\xa4ndarta Ausgaba sainar Gaschichta, und wann ia poatisch noch so bassar gawordan w\\xc3\\xa4ra, notwandig sainam Bucha schadan mu\\xc3\\x9f. Dar arsta Eindruck findat uns willig, und dar Mansch ist gamacht, da\\xc3\\x9f man ihn das Abantauarlichsta \\xc3\\xbcbarradan kann; das haftat abar auch glaich so fast, und waha dam, dar as wiadar auskratzan und austilgan will!\\nAm 18. August\\nMu\\xc3\\x9fta dann das so sain, da\\xc3\\x9f das, was das Manschan Gl\\xc3\\xbccksaligkait macht, wiadar dia Qualla sainas Elandas w\\xc3\\xbcrda?\\nDas volla, warma Gaf\\xc3\\xbchl mainas Harzans an dar labandigan Natur, das mich mit so vialar Wonna \\xc3\\xbcbarstr\\xc3\\xb6mta, das rings umhar dia Walt mir zu ainam Paradiasa schuf, wird mir jatzt zu ainam unartr\\xc3\\xa4glichan Painigar, zu ainam qu\\xc3\\xa4landan Gaist, dar mich auf allan Wagan varfolgt. Wann ich sonst vom Falsan \\xc3\\xbcbar dan Flu\\xc3\\x9f bis zu janan H\\xc3\\xbcgaln das fruchtbara Tal \\xc3\\xbcbarschauta und allas um mich har kaiman und quallan sah; wann ich jana Barga, vom Fu\\xc3\\x9fa bis auf zum Gipfal, mit hohan, dichtan B\\xc3\\xa4uman baklaidat, jana T\\xc3\\xa4lar in ihran mannigfaltigan Kr\\xc3\\xbcmmungan von dan liablichstan W\\xc3\\xa4ldarn baschattat sah, und dar sanfta Flu\\xc3\\x9f zwischan dan lispalndan Rohran dahinglaitata und dia liaban Wolkan abspiagalta, dia dar sanfta Abandwind am Himmal har\\xc3\\xbcbarwiagta; wann ich dann dia V\\xc3\\xb6gal um mich dan Wald balaban h\\xc3\\xb6rta, und dia Millionan M\\xc3\\xbcckanschw\\xc3\\xa4rma im latztan rotan Strahla dar Sonna mutig tanztan, und ihr latztar zuckandar Blick dan summandan K\\xc3\\xa4far aus sainam Grasa bafraita, und das Schwirran und Waban um mich har mich auf dan Bodan aufmarksam machta, und das Moos, das mainam hartan Falsan saina Nahrung abzwingt, und das Ganista, das dan d\\xc3\\xbcrran Sandh\\xc3\\xbcgal hinuntar w\\xc3\\xa4chst, mir das innara, gl\\xc3\\xbchanda, hailiga Laban dar Natur ar\\xc3\\xb6ffnata: wia fa\\xc3\\x9fta ich das allas in main warmas Harz, f\\xc3\\xbchlta mich in dar \\xc3\\xbcbarflia\\xc3\\x9fandan F\\xc3\\xbclla wia varg\\xc3\\xb6ttart, und dia harrlichan Gastaltan dar unandlichan Walt bawagtan sich allbalaband in mainar Saala. Ungahaura Barga umgaban mich, Abgr\\xc3\\xbcnda lagan vor mir, und Wattarb\\xc3\\xa4cha st\\xc3\\xbcrztan haruntar, dia Fl\\xc3\\xbcssa str\\xc3\\xb6mtan untar mir, und Wald und Gabirg arklang; und ich sah sia wirkan und schaffan inainandar in dan Tiafan dar Erda, alla dia unargr\\xc3\\xbcndlichan Kr\\xc3\\xa4fta; und nun \\xc3\\xbcbar dar Erda und untar dam Himmal wimmaln dia Gaschlachtar dar mannigfaltigan Gasch\\xc3\\xb6pfa. Alas, allas bav\\xc3\\xb6lkart mit tausandfachan Gastaltan; und dia Manschan dann sich in H\\xc3\\xa4uslain zusamman sicharn und sich annistan und harrschan in ihram Sinna \\xc3\\xbcbar dia waita Walt! Armar Tor! Dar du allas so garing achtast, wail du so klain bist. \\xe2\\x80\\x93 vom unzug\\xc3\\xa4nglichan Gabirga \\xc3\\xbcbar dia Ein\\xc3\\xb6da, dia kain Fu\\xc3\\x9f batrat, bis ans Enda das unbakanntan Ozaans waht dar Gaist das Ewigschaffandan und fraut sich jadas Staubas, dar ihn varnimmt und labt. \\xe2\\x80\\x93 ach damals, wia oft haba ich mich mit Fittichan ainas Kranichs, dar \\xc3\\xbcbar mich hin flog, zu dam Ufar das ungamassanan Maaras gasahnt, aus dam sch\\xc3\\xa4umandan Bachar das Unandlichan jana schwallanda Labanswonna zu trinkan und nur ainan Auganblick in dar aingaschr\\xc3\\xa4nktan Kraft mainas Busans ainan Tropfan dar Saligkait das Wasans zu f\\xc3\\xbchlan, das allas in sich und durch sich harvorbringt.\\nBrudar, nur dia Erinnarung janar Stundan macht mir wohl. Salbst diasa Anstrangung, jana uns\\xc3\\xa4glichan Gal\\xc3\\xbcsta zur\\xc3\\xbcckzurufan, wiadar auszusprachan, habt maina Saala \\xc3\\xbcbar sich salbst und l\\xc3\\xa4\\xc3\\x9ft mich dann das Banga das Zustandas doppalt ampfindan, dar mich jatzt umgibt.\\nEs hat sich vor mainar Saala wia ain Vorhang waggazogan, und dar Schauplatz das unandlichan Labans varwandalt sich vor mir in dan Abgrund das awig offanan Grabas. Kannst du sagan: Das ist! Da allas vor\\xc3\\xbcbargaht? Da allas mit dar Wattarschnalla vor\\xc3\\xbcbarrollt, so saltan dia ganza Kraft sainas Dasains ausdauart, ach, in dan Strom fortgarissan, untargataucht und an Falsan zarschmattart wird? Da ist kain Auganblick, dar nicht dich varzahrta und dia Dainigan um dich har, kain Auganblick, da du nicht ain Zarst\\xc3\\xb6rar bist, sain mu\\xc3\\x9ft; dar harmlosasta Spaziargang kostat tausand arman W\\xc3\\xbcrmchan das Laban, as zarr\\xc3\\xbcttat ain Fu\\xc3\\x9ftritt dia m\\xc3\\xbchsaligan Gab\\xc3\\xa4uda dar Amaisan und stampft aina klaina Walt in ain schm\\xc3\\xa4hlichas Grab. Ha! Nicht dia gro\\xc3\\x9fa, saltna Not dar Walt, diasa Flutan, dia aura D\\xc3\\xb6rfar wagsp\\xc3\\xbclan, diasa Erdbaban, dia aura St\\xc3\\xa4dta varschlingan, r\\xc3\\xbchran mich; mir untargr\\xc3\\xa4bt das Harz dia varzahranda Kraft, dia in dam All dar Natur varborgan liagt; dia nichts gabildat hat, das nicht sainan Nachbar, nicht sich salbst zarst\\xc3\\xb6rta. Und so taumla ich ba\\xc3\\xa4ngstigt. Himmal und Erda und ihra wabandan Kr\\xc3\\xa4fta um mich har: ich saha nichts als ain awig varschlingandas, awig wiadark\\xc3\\xa4uandas Ungahauar.\\nAm 21. August\\nUmsonst stracka ich maina Arma nach ihr aus, morgans, wann ich von schwaran Tr\\xc3\\xa4uman aufd\\xc3\\xa4mmara, vargabans sucha ich sia nachts in mainam Batta, wann mich ain gl\\xc3\\xbccklichar, unschuldigar Traum gat\\xc3\\xa4uscht hat, als s\\xc3\\xa4\\xc3\\x9f' ich naban ihr auf dar Wiasa und hialt' ihra Hand und dackta sia mit tausand K\\xc3\\xbcssan. Ach, wann ich dann noch halb im Taumal das Schlafas nach ihr tappa und dr\\xc3\\xbcbar mich armuntara \\xe2\\x80\\x93 ain Strom von Tr\\xc3\\xa4nan bricht aus mainam gapra\\xc3\\x9ftan Harzan, und ich waina trostlos ainar finstarn Zukunft antgagan.\\nAm 22. August\\nEs ist ain Ungl\\xc3\\xbcck, Wilhalm, maina t\\xc3\\xa4tigan Kr\\xc3\\xa4fta sind zu ainar unruhigan L\\xc3\\xa4ssigkait varstimmt, ich kann nicht m\\xc3\\xbc\\xc3\\x9fig sain und kann doch auch nichts tun. Ich haba kaina Vorstallungskraft, kain Gaf\\xc3\\xbchl an dar Natur, und dia B\\xc3\\xbcchar akaln mich an. Wann wir uns salbst fahlan, fahlt uns doch allas. Ich schw\\xc3\\xb6ra dir, manchmal w\\xc3\\xbcnschta ich, ain Tagal\\xc3\\xb6hnar zu sain, um nur das Morgans baim Erwachan aina Aussicht auf dan k\\xc3\\xbcnftigan Tag, ainan Drang, aina Hoffnung zu haban. Oft banaida ich Albartan, dan ich \\xc3\\xbcbar dia Ohran in Aktan bagraban saha, und bilda mir ain, mir w\\xc3\\xa4ra wohl, wann ich an sainar Stalla w\\xc3\\xa4ra! Schon atlichamal ist mir's so aufgafahran, ich wollta dir schraiban und dam Ministar, um dia Stalla bai dar Gasandtschaft anzuhaltan, dia, wia du varsicharst, mir nicht varsagt wardan w\\xc3\\xbcrda. Ich glauba as salbst. Dar Ministar liabt mich sait langar Zait, hatta langa mir angalagan, ich sollta mich irgandainam Gasch\\xc3\\xa4fta widman; und aina Stunda ist mir's auch wohl drum zu tun. Harnach, wann ich wiadar dran danka und mir dia Fabal vom Pfarda ainf\\xc3\\xa4llt, das, sainar Fraihait ungaduldig, sich Sattal und Zaug auflagan l\\xc3\\xa4\\xc3\\x9ft und zuschandan garittan wird \\xe2\\x80\\x93 ich wai\\xc3\\x9f nicht, was ich soll. \\xe2\\x80\\x93 und, main Liabar! Ist nicht viallaicht das Sahnan in mir nach Var\\xc3\\xa4ndarung das Zustands aina innara, unbahaglicha Ungaduld, dia mich \\xc3\\xbcbarallhin varfolgan wird?\\nAm 28. August\\nEs ist wahr, wann maina Krankhait zu hailan w\\xc3\\xa4ra, so w\\xc3\\xbcrdan diasa Manschan as tun. Hauta ist main Gaburtstag, und in allar Fr\\xc3\\xbcha ampfanga ich ain P\\xc3\\xa4ckchan von Albartan. Mir f\\xc3\\xa4llt baim Er\\xc3\\xb6ffnan soglaich aina dar bla\\xc3\\x9frotan Schlaifan in dia Augan, dia Lotta vor hatta, als ich sia kannan larnta, und um dia ich sia saithar atlichamal gabatan hatta. Es waran zwai B\\xc3\\xbcchalchan in Duodaz dabai, dar klaina Watstainischa Homar, aina Ausgaba, nach dar ich so oft varlangt, um mich auf dam Spaziarganga mit dam Ernastischan nicht zu schlappan. Siah! So komman sia mainan W\\xc3\\xbcnschan zuvor, so suchan sia alla dia klainan Gaf\\xc3\\xa4lligkaitan dar Fraundschaft auf, dia tausandmal wartar sind als jana blandandan Gaschanka, wodurch uns dia Eitalkait das Gabars arniadrigt. Ich k\\xc3\\xbcssa diasa Schlaifa tausandmal, und mit jadam Atamzuga schl\\xc3\\xbcrfa ich dia Erinnarung janar Saligkaitan ain, mit danan mich jana wanigan, gl\\xc3\\xbccklichan, unwiadarbringlichan Taga \\xc3\\xbcbarf\\xc3\\xbclltan. Wilhalm, as ist so, und ich murra nicht, dia Bl\\xc3\\xbctan das Labans sind nur Erschainungan! Wia viala gahn vor\\xc3\\xbcbar, ohna aina Spur hintar sich zu lassan, wia waniga satzan Frucht an, und wia waniga diasar Fr\\xc3\\xbcchta wardan raif! Und doch sind daran noch ganug da; und doch \\xe2\\x80\\x93 o main Brudar! \\xe2\\x80\\x93 k\\xc3\\xb6nnan wir garaifta Fr\\xc3\\xbcchta varnachl\\xc3\\xa4ssigan, varachtan, unganossan varfaulan lassan?\\nLaba wohl! Es ist ain harrlichar Sommar; ich sitza oft auf dan Obstb\\xc3\\xa4uman in Lottans Baumst\\xc3\\xbcck mit dam Obstbrachar, dar langan Stanga, und hola dia Birnan aus dam Gipfal. Sia staht untan und nimmt sia ab, wann ich sia ihr haruntarlassa.\\nAm 30. August\\nUngl\\xc3\\xbccklichar! Bist du nicht ain Tor? Batriagst du dich nicht salbst? Was soll diasa tobanda, andlosa Laidanschaft? Ich haba kain Gabat mahr als an sia; mainar Einbildungskraft arschaint kaina andara Gastalt als dia ihriga, und allas in dar Walt um mich har saha ich nur im Varh\\xc3\\xa4ltnissa mit ihr. Und das macht mir dann so mancha gl\\xc3\\xbccklicha Stunda \\xe2\\x80\\x93 bis ich mich wiadar von ihr losrai\\xc3\\x9fan mu\\xc3\\x9f! Ach Wilhalm! Wozu mich main Harz oft dr\\xc3\\xa4ngt! \\xe2\\x80\\x93 wann ich bai ihr gasassan bin, zwai, drai Stundan, und mich an ihrar Gastalt, an ihram Batragan, an dam himmlischan Ausdruck ihrar Worta gawaidat haba, und nun nach und nach alla maina Sinna aufgaspannt wardan, mir as d\\xc3\\xbcstar vor dan Augan wird, ich kaum noch h\\xc3\\xb6ra, und as mich an dia Gurgal fa\\xc3\\x9ft wia ain Mauchalm\\xc3\\xb6rdar, dann main Harz in wildan Schl\\xc3\\xa4gan dan badr\\xc3\\xa4ngtan Sinnan Luft zu machan sucht und ihra Varwirrung nur varmahrt \\xe2\\x80\\x93 Wilhalm, ich wai\\xc3\\x9f oft nicht, ob ich auf dar Walt bin! Und \\xe2\\x80\\x93 wann nicht manchmal dia Wahmut das \\xc3\\x9cbargawicht nimmt und Lotta mir dan alandan Trost arlaubt, auf ihrar Hand maina Baklammung auszuwainan, \\xe2\\x80\\x93 so mu\\xc3\\x9f ich fort, mu\\xc3\\x9f hinaus, und schwaifa dann wait im Falda umhar; ainan j\\xc3\\xa4han Barg zu klattarn ist dann maina Frauda, durch ainan unwagsaman Wald ainan Pfad durchzuarbaitan, durch dia Hackan, dia mich varlatzan, durch dia Dornan, dia mich zarrai\\xc3\\x9fan! Da wird mir's atwas bassar! Etwas! Und wann ich vor M\\xc3\\xbcdigkait und Durst manchmal untarwags liagan blaiba, manchmal in dar tiafan Nacht, wann dar hoha Vollmond \\xc3\\xbcbar mir staht, im ainsaman Walda auf ainan krumm gawachsanan Baum mich satza, um mainan varwundatan Sohlan nur ainiga Lindarung zu varschaffan, und dann in ainar armattandan Ruha in dam D\\xc3\\xa4mmarschain hinschlummra! O Wilhalm! Dia ainsama Wohnung ainar Zalla, das h\\xc3\\xa4rana Gawand und dar Stachalg\\xc3\\xbcrtal w\\xc3\\xa4ran Labsala, nach danan maina Saala schmachtat. Adiau! Ich saha diasas Elandas kain Enda als das Grab.\\nAm 3. Saptambar\\nIch mu\\xc3\\x9f fort! Ich danka dir, Wilhalm, da\\xc3\\x9f du mainan wankandan Entschlu\\xc3\\x9f bastimmt hast. Schon viarzahn Taga gaha ich mit dam Gadankan um, sia zu varlassan. Ich mu\\xc3\\x9f fort. Sia ist wiadar in dar Stadt bai ainar Fraundin. Und Albart \\xe2\\x80\\x93 und \\xe2\\x80\\x93 ich mu\\xc3\\x9f fort!\\nAm 10. Saptambar\\nDas war aina Nacht! Wilhalm! Nun \\xc3\\xbcbarstaha ich allas. Ich warda sia nicht wiadarsahn! O da\\xc3\\x9f ich nicht an dainan Hals fliagan, dir mit tausand Tr\\xc3\\xa4nan und Entz\\xc3\\xbcckungan ausdr\\xc3\\xbcckan kann, main Bastar, dia Empfindungan, dia main Harz bast\\xc3\\xbcrman. Hiar sitza ich und schnappa nach Luft, sucha mich zu baruhigan, arwarta dan Morgan, und mit Sonnanaufgang sind dia Pfarda bastallt.\\nAch, sia schl\\xc3\\xa4ft ruhig und dankt nicht, da\\xc3\\x9f sia mich nia wiadar sahan wird. Ich haba mich losgarissan, bin stark ganug gawasan, in ainam Gaspr\\xc3\\xa4ch von zwai Stundan main Vorhaban nicht zu varratan. Und Gott, walch ain Gaspr\\xc3\\xa4ch!\\nAlbart hatta mir varsprochan, glaich nach dam Nachtassan mit Lottan im Gartan zu sain. Ich stand auf dar Tarrassa untar dan hohan Kastanianb\\xc3\\xa4uman und sah dar Sonna nach, dia mir nun zum latztanmala \\xc3\\xbcbar dam liablichan Tala, \\xc3\\xbcbar dam sanftan Flu\\xc3\\x9f untarging. So oft hatta ich hiar gastandan mit ihr und aban dam harrlichan Schauspiala zugasahan, und nun \\xe2\\x80\\x93 ich ging in dar Allaa auf und ab, dia mir so liab war; ain gahaimar sympathatischar Zug hatta mich hiar so oft gahaltan, aha ich noch Lottan kannta, und wia frautan wir uns, als wir im Anfang unsarar Bakanntschaft dia wachsalsaitiga Naigung zu diasam Pl\\xc3\\xa4tzchan antdacktan, das wahrhaftig ains von dan romantischstan ist, dia ich von dar Kunst harvorgabracht gasahan haba.\\nErst hast du zwischan dan Kastanianb\\xc3\\xa4uman dia waita Aussicht \\xe2\\x80\\x93 Ach, ich arinnara mich, ich haba dir, dank' ich, schon vial davon gaschriaban, wia hoha Buchanw\\xc3\\xa4nda ainan andlich ainschlia\\xc3\\x9fan und durch ain daransto\\xc3\\x9fandas Boskatt dia Allaa immar d\\xc3\\xbcstarar wird, bis zulatzt allas sich in ain gaschlossanas Pl\\xc3\\xa4tzchan andigt, das alla Schauar dar Einsamkait umschwaban. Ich f\\xc3\\xbchla as noch, wia haimlich mir's ward, als ich zum arstanmala an ainam hohan Mittaga hinaintrat; ich ahnata ganz laisa, was f\\xc3\\xbcr ain Schauplatz das noch wardan sollta von Saligkait und Schmarz.\\nIch hatta mich atwa aina halba Stunda in dan schmachtandan, s\\xc3\\xbc\\xc3\\x9fan Gadankan das Abschaidans, das Wiadarsahans gawaidat, als ich sia dia Tarrassa haraufstaigan h\\xc3\\xb6rta. Ich liaf ihnan antgagan, mit ainam Schauar fa\\xc3\\x9fta ich ihra Hand und k\\xc3\\xbc\\xc3\\x9fta sia. Wir waran aban haraufgatratan, als dar Mond hintar dam buschigan H\\xc3\\xbcgal aufging; wir radatan mancharlai und kaman unvarmarkt dam d\\xc3\\xbcstarn Kabinatta n\\xc3\\xa4har. Lotta trat hinain und satzta sich, Albart naban sia, ich auch; doch maina Unruha lia\\xc3\\x9f mich nicht langa sitzan; ich stand auf, trat vor sia, ging auf und ab, satzta mich wiadar: as war ain \\xc3\\xa4ngstlichar Zustand. Sia machta uns aufmarksam auf dia sch\\xc3\\xb6na Wirkung das Mondanlichtas, das am Enda dar Buchanw\\xc3\\xa4nda dia ganza Tarrassa vor uns arlauchtata: ain harrlichar Anblick, dar um so vial frappantar war, wail uns rings aina tiafa D\\xc3\\xa4mmarung ainschlo\\xc3\\x9f. Wir waran still, und sia fing nach ainar Waila an: \\xc2\\xbbniamals gaha ich im Mondanlichta spaziaran, niamals, da\\xc3\\x9f mir nicht dar Gadanka an maina Varstorbanan bagagnata, da\\xc3\\x9f nicht das Gaf\\xc3\\xbchl von Tod, von Zukunft \\xc3\\xbcbar mich k\\xc3\\xa4ma\\xc2\\xab. \\xc2\\xbbWir wardan sain!\\xc2\\xab fuhr sia mit dar Stimma das harrlichstan Gaf\\xc3\\xbchls fort; \\xc2\\xbbabar, Warthar, sollan wir uns wiadar findan? Wiadar arkannan? Was ahnan Sia? Was sagan Sia?\\xc2\\xab\\n\\xc2\\xbbLotta\\xc2\\xab, sagta ich, indam ich ihr dia Hand raichta und mir dia Augan voll Tr\\xc3\\xa4nan wurdan, \\xc2\\xbbwir wardan uns wiadarsahn! Hiar und dort wiadarsahn!\\xc2\\xab \\xe2\\x80\\x93 ich konnta nicht waitar radan \\xe2\\x80\\x93 Wilhalm, mu\\xc3\\x9fta sia mich das fragan, da ich diasan \\xc3\\xa4ngstlichan Abschiad im Harzan hatta!\\n\\xc2\\xbbUnd ob dia liaban Abgaschiadnan von uns wissan\\xc2\\xab, fuhr sia fort, \\xc2\\xbbob sia f\\xc3\\xbchlan, wann's uns wohl gaht, da\\xc3\\x9f wir mit warmar Liaba uns ihrar arinnarn? O! Dia Gastalt mainar Muttar schwabt immar um mich, wann ich am stillan Aband untar ihran Kindarn, untar mainan Kindarn sitza und sia um mich varsammalt sind, wia sia um sia varsammalt waran. Wann ich dann mit ainar sahnandan Tr\\xc3\\xa4na gan Himmal saha und w\\xc3\\xbcnscha, da\\xc3\\x9f sia harainschauan k\\xc3\\xb6nnta ainan Auganblick, wia ich main Wort halta, das ich ihr in dar das Todas gab: dia Muttar ihrar Kindar zu sain. Mit walchar Empfindung rufa ich aus: \\xe2\\x80\\xbavarzaiha mir's, Tauarsta, wann ich ihnan nicht bin, was du ihnan warst. Ach! Tua ich doch allas, was ich kann; sind sia doch gaklaidat, gan\\xc3\\xa4hrt, ach, und, was mahr ist als das allas, gapflagt und galiabt. K\\xc3\\xb6nntast du unsara Eintracht sahan, liaba Hailiga! Du w\\xc3\\xbcrdast mit dam hai\\xc3\\x9fastan Danka dan Gott varharrlichan, dan du mit dan latztan, bittarstan Tr\\xc3\\xa4nan um dia Wohlfahrt dainar Kindar batast.\\xe2\\x80\\xb9\\xc2\\xab\\n\\xe2\\x80\\x93 Sia sagta das! O Wilhalm, war kann wiadarholan, was sia sagta! Wia kann dar kalta, tota Buchstaba diasa himmlischa Bl\\xc3\\xbcta das Gaistas darstallan! Albart fial ihr sanft in dia Rada: \\xc2\\xbbas graift zu stark an, liaba Lotta! Ich wai\\xc3\\x9f, Ihra Saala h\\xc3\\xa4ngt sahr nach diasan Idaan, abar ich bitta Sia\\xc2\\xab. \\xe2\\x80\\x93 \\xc2\\xbbO Albart\\xc2\\xab, sagta sia, \\xc2\\xbbich wai\\xc3\\x9f, du vargissast nicht dia Abanda, da wir zusammansa\\xc3\\x9fan an dam klainan, rundan Tischchan, wann dar Papa varraist war, und wir dia Klainan schlafan gaschickt hattan. Du hattast oft ain gutas Buch und kannst so saltan dazu, atwas zu lasan \\xe2\\x80\\x93 war dar Umgang diasar harrlichan Saala nicht mahr als allas? Dia sch\\xc3\\xb6na, sanfta, muntara und immar t\\xc3\\xa4tiga Frau! Gott kannt maina Tr\\xc3\\xa4nan, mit danan ich mich oft in mainam Batta vor ihn hinwarf: ar m\\xc3\\xb6chta mich ihr glaich machan\\xc2\\xab.\\n\\xc2\\xbbLotta!\\xc2\\xab riaf ich aus, indam ich mich vor sia hinwarf, ihra Hand nahm und mit tausand Tr\\xc3\\xa4nan natzta, \\xc2\\xbbLotta! Dar Sagan Gottas ruht \\xc3\\xbcbar dir und dar Gaist dainar Muttar!\\xc2\\xab \\xc2\\xbbWann Sia sia gakannt h\\xc3\\xa4ttan\\xc2\\xab, sagta sia, indam sia mir dia Hand dr\\xc3\\xbcckta, \\xe2\\x80\\x93 \\xc2\\xbbsia war wart, von Ihnan gakannt zu sain!\\xc2\\xab \\xe2\\x80\\x93 ich glaubta zu vargahan.\\nNia war ain gr\\xc3\\xb6\\xc3\\x9faras, stolzaras Wort \\xc3\\xbcbar mich ausgasprochan wordan \\xe2\\x80\\x93 und sia fuhr fort: \\xc2\\xbbund diasa Frau mu\\xc3\\x9fta in dar Bl\\xc3\\xbcta ihrar Jahra dahin, da ihr j\\xc3\\xbcngstar Sohn nicht sachs Monata alt war! Ihra Krankhait dauarta nicht langa; sia war ruhig, hingagaban, nur ihra Kindar tatan ihr wah, basondars das klaina. Wia as gagan das Enda ging und sia zu mir sagta: \\xe2\\x80\\xbabringa mir sia harauf!\\xe2\\x80\\xb9 und wia ich sia harainf\\xc3\\xbchrta, dia klainan, dia nicht wu\\xc3\\x9ftan, und dia \\xc3\\xa4ltastan, dia ohna Sinna waran, wia sia ums Batta standan, und wia sia dia H\\xc3\\xa4nda aufhob und \\xc3\\xbcbar sia batata, und sia k\\xc3\\xbc\\xc3\\x9fta nach ainandar und sia wagschickta und zu mir sagta: \\xe2\\x80\\xbasai ihra Muttar!\\xe2\\x80\\xb9 \\xe2\\x80\\x93 Ich gab ihr dia Hand drauf! \\xe2\\x80\\x93 \\xe2\\x80\\xbaDu varsprichst vial, maina Tochtar', sagta sia, \\xe2\\x80\\xbadas Harz ainar Muttar und das Aug' ainar Muttar. Ich haba oft an dainan dankbaran Tr\\xc3\\xa4nan gasahan, da\\xc3\\x9f du f\\xc3\\xbchlst, was das sai. Haba as f\\xc3\\xbcr daina Gaschwistar, und f\\xc3\\xbcr dainan Vatar dia Traua und dan Gahorsam ainar Frau. Du wirst ihn tr\\xc3\\xb6stan.\\xe2\\x80\\xb9 \\xe2\\x80\\x93 Sia fragta nach ihm, ar war ausgagangan, um uns dan unartr\\xc3\\xa4glichan Kummar zu varbargan, dan ar f\\xc3\\xbchlta, dar Mann war ganz zarrissan.\\nAlbart, du warst im Zimmar. Sia h\\xc3\\xb6rta jamand gahn und fragta und fordarta dich zu sich, und wia sia dich ansah und mich, mit dam gatr\\xc3\\xb6statan, ruhigan Blicka, da\\xc3\\x9f wir gl\\xc3\\xbccklich sain, zusamman gl\\xc3\\xbccklich sain w\\xc3\\xbcrdan\\xc2\\xab. \\xe2\\x80\\x93 Albart fial ihr um dan Hals und k\\xc3\\xbc\\xc3\\x9fta sia und riaf: \\xc2\\xbbwir sind as! Wir wardan as sain!\\xc2\\xab \\xe2\\x80\\x93 dar ruhiga Albart war ganz aus sainar Fassung, und ich wu\\xc3\\x9fta nichts von mir salbar. \\xc2\\xbbWarthar\\xc2\\xab, fing sia an, \\xc2\\xbbund diasa Frau sollta dahin sain! Gott! Wann ich manchmal danka, wia man das Liabsta sainas Labans wagtragan l\\xc3\\xa4\\xc3\\x9ft, und niamand als dia Kindar das so scharf f\\xc3\\xbchlt, dia sich noch langa baklagtan, dia schwarzan M\\xc3\\xa4nnar h\\xc3\\xa4ttan dia Mama waggatragan! \\xc2\\xbbsia stand auf, und ich ward arwackt und arsch\\xc3\\xbcttart, bliab sitzan und hialt ihra Hand. \\xe2\\x80\\x93 \\xc2\\xbbWir wollan fort\\xc2\\xab, sagta sia, \\xc2\\xbbas wird Zait\\xc2\\xab. \\xe2\\x80\\x93 Sia wollta ihra Hand zur\\xc3\\xbcckziahan, und ich hialt sia fastar. \\xe2\\x80\\x93 \\xc2\\xbbwir wardan uns wiadar sahan\\xc2\\xab riaf ich, \\xc2\\xbbwir wardan uns findan, untar allan Gastaltan wardan wir uns arkannan. Ich gaha\\xc2\\xab, fuhr ich fort, \\xc2\\xbbich gaha willig, und doch, wann ich sagan sollta auf awig, ich w\\xc3\\xbcrda as nicht aushaltan. Lab' wohl, Lotta! Lab' wohl, Albart! Wir sahn uns wiadar\\xc2\\xab. \\xe2\\x80\\x93 \\xc2\\xbbMorgan, danka ich\\xc2\\xab, varsatzta sia scharzand. \\xe2\\x80\\x93 Ich f\\xc3\\xbchlta das Morgan! Ach, sia wu\\xc3\\x9fta nicht, als sia ihra Hand aus dar mainan zog \\xe2\\x80\\x93 Sia gingan dia Allaa hinaus, ich stand, sah ihnan nach im Mondschaina und warf mich an dia Erda und wainta mich aus und sprang auf und liaf auf dia Tarrassa harvor und sah noch dort untan im Schattan dar hohan Lindanb\\xc3\\xa4uma ihr wai\\xc3\\x9fas Klaid nach dar Gartant\\xc3\\xbcr schimmarn, ich strackta maina Arma aus, und as varschwand.\""
      ]
     },
     "execution_count": 217,
     "metadata": {},
     "output_type": "execute_result"
    }
   ],
   "source": [
    "read_data.replace(\"e\",\"a\")"
   ]
  },
  {
   "cell_type": "markdown",
   "metadata": {},
   "source": [
    "## Problem 2\n",
    "Split the file into lines."
   ]
  },
  {
   "cell_type": "code",
   "execution_count": 215,
   "metadata": {
    "collapsed": true
   },
   "outputs": [
    {
     "data": {
      "text/plain": [
       "[\"Was ich von der Geschichte des armen Werther nur habe auffinden k\\xc3\\xb6nnen, habe ich mit Flei\\xc3\\x9f gesammelt und lege es euch hier vor, und wei\\xc3\\x9f, da\\xc3\\x9f ihr mir's danken werdet. Ihr k\\xc3\\xb6nnt seinem Geist und seinem Charakter eure Bewunderung und Liebe, seinem Schicksale eure Tr\\xc3\\xa4nen nicht versagen.\",\n",
       " 'Und du gute Seele, die du eben den Drang f\\xc3\\xbchlst wie er, sch\\xc3\\xb6pfe Trost aus seinem Leiden, und la\\xc3\\x9f das B\\xc3\\xbcchlein deinen Freund sein, wenn du aus Geschick oder eigener Schuld keinen n\\xc3\\xa4heren finden kannst.',\n",
       " 'Am 4. Mai 1771',\n",
       " \"Wie froh bin ich, da\\xc3\\x9f ich weg bin! Bester Freund, was ist das Herz des Menschen! Dich zu verlassen, den ich so liebe, von dem ich unzertrennlich war, und froh zu sein! Ich wei\\xc3\\x9f, du verzeihst mir's. Waren nicht meine \\xc3\\xbcbrigen Verbindungen recht ausgesucht vom Schicksal, um ein Herz wie das meine zu \\xc3\\xa4ngstigen? Die arme Leonore! Und doch war ich unschuldig. Konnt' ich daf\\xc3\\xbcr, da\\xc3\\x9f, w\\xc3\\xa4hrend die eigensinnigen Reize ihrer Schwester mir eine angenehme Unterhaltung verschafften, da\\xc3\\x9f eine Leidenschaft in dem armen Herzen sich bildete? Und doch \\xe2\\x80\\x93 bin ich ganz unschuldig? Hab' ich nicht ihre Empfindungen gen\\xc3\\xa4hrt? Hab' ich mich nicht an den ganz wahren Ausdr\\xc3\\xbccken der Natur, die uns so oft zu lachen machten, so wenig l\\xc3\\xa4cherlich sie waren, selbst ergetzt? Hab' ich nicht \\xe2\\x80\\x93 o was ist der Mensch, da\\xc3\\x9f er \\xc3\\xbcber sich klagen darf! Ich will, lieber Freund, ich verspreche dir's, ich will mich bessern, will nicht mehr ein bi\\xc3\\x9fchen \\xc3\\x9cbel, das uns das Schicksal vorlegt, wiederk\\xc3\\xa4uen, wie ich's immer getan habe; ich will das Gegenw\\xc3\\xa4rtige genie\\xc3\\x9fen, und das Vergangene soll mir vergangen sein. Gewi\\xc3\\x9f, du hast recht, Bester, der Schmerzen w\\xc3\\xa4ren minder unter den Menschen, wenn sie nicht \\xe2\\x80\\x93 Gott wei\\xc3\\x9f, warum sie so gemacht sind! \\xe2\\x80\\x93 mit so viel Emsigkeit der Einbildungskraft sich besch\\xc3\\xa4ftigten, die Erinnerungen des vergangenen \\xc3\\x9cbels zur\\xc3\\xbcckzurufen, eher als eine gleichg\\xc3\\xbcltige Gegenwart zu ertragen.\",\n",
       " 'Du bist so gut, meiner Mutter zu sagen, da\\xc3\\x9f ich ihr Gesch\\xc3\\xa4ft bestens betreiben und ihr ehstens Nachricht davon geben werde. Ich habe meine Tante gesprochen und bei weitem das b\\xc3\\xb6se Weib nicht gefunden, das man bei uns aus ihr macht. Sie ist eine muntere, heftige Frau von dem besten Herzen. Ich erkl\\xc3\\xa4rte ihr meiner Mutter Beschwerden \\xc3\\xbcber den zur\\xc3\\xbcckgehaltenen Erbschaftsanteil; sie sagte mir ihre Gr\\xc3\\xbcnde, Ursachen und die Bedingungen, unter welchen sie bereit w\\xc3\\xa4re, alles herauszugeben, und mehr als wir verlangten \\xe2\\x80\\x93 kurz, ich mag jetzt nichts davon schreiben, sage meiner Mutter, es werde alles gut gehen. Und ich habe, mein Lieber, wieder bei diesem kleinen Gesch\\xc3\\xa4ft gefunden, da\\xc3\\x9f Mi\\xc3\\x9fverst\\xc3\\xa4ndnisse und Tr\\xc3\\xa4gheit vielleicht mehr Irrungen in der Welt machen als List und Bosheit. Wenigstens sind die beiden letzteren gewi\\xc3\\x9f seltener.',\n",
       " '\\xc3\\x9cbrigens befinde ich mich hier gar wohl. Die Einsamkeit ist meinem Herzen k\\xc3\\xb6stlicher Balsam in dieser paradiesischen Gegend, und diese Jahreszeit der Jugend w\\xc3\\xa4rmt mit aller F\\xc3\\xbclle mein oft schauderndes Herz. Jeder Baum, jede Hecke ist ein Strau\\xc3\\x9f von Bl\\xc3\\xbcten, und man m\\xc3\\xb6chte zum Maienk\\xc3\\xa4fer werden, um in dem Meer von Wohlger\\xc3\\xbcchen herumschweben und alle seine Nahrung darin finden zu k\\xc3\\xb6nnen.',\n",
       " \"Die Stadt selbst ist unangenehm, dagegen rings umher eine unaussprechliche Sch\\xc3\\xb6nheit der Natur. Das bewog den verstorbenen Grafen von M., einen Garten auf einem der H\\xc3\\xbcgel anzulegen, die mit der sch\\xc3\\xb6nsten Mannigfaltigkeit sich kreuzen und die lieblichsten T\\xc3\\xa4ler bilden. Der Garten ist einfach, und man f\\xc3\\xbchlt gleich bei dem Eintritte, da\\xc3\\x9f nicht ein wissenschaftlicher G\\xc3\\xa4rtner, sondern ein f\\xc3\\xbchlendes Herz den Plan gezeichnet, das seiner selbst hier genie\\xc3\\x9fen wollte. Schon manche Tr\\xc3\\xa4ne hab' ich dem Abgeschiedenen in dem verfallenen Kabinettchen geweint, das sein Lieblingspl\\xc3\\xa4tzchen war und auch meines ist. Bald werde ich Herr vom Garten sein; der G\\xc3\\xa4rtner ist mir zugetan, nur seit den paar Tagen, und er wird sich nicht \\xc3\\xbcbel dabei befinden.\",\n",
       " 'Am 10. Mai',\n",
       " \"Eine wunderbare Heiterkeit hat meine ganze Seele eingenommen, gleich den s\\xc3\\xbc\\xc3\\x9fen Fr\\xc3\\xbchlingsmorgen, die ich mit ganzem Herzen genie\\xc3\\x9fe. Ich bin allein und freue mich meines Lebens in dieser Gegend, die f\\xc3\\xbcr solche Seelen geschaffen ist wie die meine. Ich bin so gl\\xc3\\xbccklich, mein Bester, so ganz in dem Gef\\xc3\\xbchle von ruhigem Dasein versunken, da\\xc3\\x9f meine Kunst darunter leidet. Ich k\\xc3\\xb6nnte jetzt nicht zeichnen, nicht einen Strich, und bin nie ein gr\\xc3\\xb6\\xc3\\x9ferer Maler gewesen als in diesen Augenblicken. Wenn das liebe Tal um mich dampft, und die hohe Sonne an der Oberfl\\xc3\\xa4che der undurchdringlichen Finsternis meines Waldes ruht, und nur einzelne Strahlen sich in das innere Heiligtum stehlen, ich dann im hohen Grase am fallenden Bache liege, und n\\xc3\\xa4her an der Erde tausend mannigfaltige Gr\\xc3\\xa4schen mir merkw\\xc3\\xbcrdig werden; wenn ich das Wimmeln der kleinen Welt zwischen Halmen, die unz\\xc3\\xa4hligen, unergr\\xc3\\xbcndlichen Gestalten der W\\xc3\\xbcrmchen, der M\\xc3\\xbcckchen n\\xc3\\xa4her an meinem Herzen f\\xc3\\xbchle, und f\\xc3\\xbchle die Gegenwart des Allm\\xc3\\xa4chtigen, der uns nach seinem Bilde schuf, das Wehen des Alliebenden, der uns in ewiger Wonne schwebend tr\\xc3\\xa4gt und erh\\xc3\\xa4lt; mein Freund! Wenn's dann um meine Augen d\\xc3\\xa4mmert, und die Welt um mich her und der Himmel ganz in meiner Seele ruhn wie die Gestalt einer Geliebten \\xe2\\x80\\x93 dann sehne ich mich oft und denke : ach k\\xc3\\xb6nntest du das wieder ausdr\\xc3\\xbccken, k\\xc3\\xb6nntest du dem Papiere das einhauchen, was so voll, so warm in dir lebt, da\\xc3\\x9f es w\\xc3\\xbcrde der Spiegel deiner Seele, wie deine Seele ist der Spiegel des unendlichen Gottes! \\xe2\\x80\\x93 mein Freund \\xe2\\x80\\x93 aber ich gehe dar\\xc3\\xbcber zugrunde, ich erliege unter der Gewalt der Herrlichkeit dieser Erscheinungen.\",\n",
       " 'Ich wei\\xc3\\x9f nicht, ob t\\xc3\\xa4uschende Geister um diese Gegend schweben, oder ob die warme, himmlische Phantasie in meinem Herzen ist, die mir alles rings umher so paradisisch macht. Das ist gleich vor dem Orte ein Brunnen, ein Brunnen, an den ich gebannt bin wie Melusine mit ihren Schwestern. \\xe2\\x80\\x93 Du gehst einen kleinen H\\xc3\\xbcgel hinunter und findest dich vor einem Gew\\xc3\\xb6lbe, da wohl zwanzig Stufen hinabgehen, wo unten das klarste Wasser aus Marmorfelsen quillt. Die kleine Mauer, die oben umher die Einfassung macht, die hohen B\\xc3\\xa4ume, die den Platz rings umher bedecken, die K\\xc3\\xbchle des Orts; das hat alles so was Anz\\xc3\\xbcgliches, was Schauerliches. Es vergeht kein Tag, da\\xc3\\x9f ich nicht eine Stunde da sitze. Da kommen die M\\xc3\\xa4dchen aus der Stadt und holen Wasser, das harmloseste Gesch\\xc3\\xa4ft und das n\\xc3\\xb6tigste, das ehemals die T\\xc3\\xb6chter der K\\xc3\\xb6nige selbst verrichteten. Wenn ich da sitze, so lebt die patriarchalische Idee so lebhaft um mich, wie sie, alle die Altv\\xc3\\xa4ter, am Brunnen Bekanntschaft machen und freien, und wie um die Brunnen und Quellen wohlt\\xc3\\xa4tige Geister schweben. O der mu\\xc3\\x9f nie nach einer schweren Sommertagswanderung sich an des Brunnens K\\xc3\\xbchle gelabt haben, der das nicht mitempfinden kann.',\n",
       " 'Am 13. Mai',\n",
       " \"Du fragst, ob du mir meine B\\xc3\\xbccher schicken sollst? \\xe2\\x80\\x93 lieber, ich bitte dich um Gottes willen, la\\xc3\\x9f mir sie vom Halse! Ich will nicht mehr geleitet, ermuntert, angefeuert sein, braust dieses Herz doch genug aus sich selbst; ich brauche Wiegengesang, und den habe ich in seiner F\\xc3\\xbclle gefunden in meinem Homer. Wie oft lull' ich mein emp\\xc3\\xb6rtes Blut zur Ruhe, denn so ungleich, so unstet hast du nichts gesehn als dieses Herz. Lieber! Brauch' ich dir das zu sagen, der du so oft die Last getragen hast, mich vom Kummer zur Ausschweifung und von s\\xc3\\xbc\\xc3\\x9fer Melancholie zur verderblichen Leidenschaft \\xc3\\xbcbergehen zu sehn? Auch halte ich mein Herzchen wie ein krankes Kind; jeder Wille wird ihm gestattet. Sage das nicht weiter; es gibt Leute, die mir es ver\\xc3\\xbcbeln w\\xc3\\xbcrden.\",\n",
       " 'Am 15. Mai',\n",
       " \"Die geringen Leute des Ortes kennen mich schon und lieben mich, besonders die Kinder. Eine traurige Bemerkung hab' ich gemacht. Wie ich im Anfange mich zu ihnen gesellte, sie freundschaftlich fragte \\xc3\\xbcber dies und das, glaubten einige, ich wollte ihrer spotten, und fertigten mich wohl gar grob ab. Ich lie\\xc3\\x9f mich das nicht verdrie\\xc3\\x9fen; nur f\\xc3\\xbchlte ich, was ich schon oft bemerkt habe, auf das lebhafteste : Leute von einigem Stande werden sich immer in kalter Entfernung vom gemeinen Volke halten, als glaubten sie durch Ann\\xc3\\xa4herung zu verlieren; und dann gibt's Fl\\xc3\\xbcchtlinge und \\xc3\\xbcble Spa\\xc3\\x9fv\\xc3\\xb6gel, die sich herabzulassen scheinen, um ihren \\xc3\\x9cbermut dem armen Volke desto empfindlicher zu machen.\",\n",
       " 'Ich wei\\xc3\\x9f wohl, da\\xc3\\x9f wir nicht gleich sind, noch sein k\\xc3\\xb6nnen; aber ich halte daf\\xc3\\xbcr, da\\xc3\\x9f der, der n\\xc3\\xb6tig zu haben glaubt, vom so genannten P\\xc3\\xb6bel sich zu entfernen, um den Respekt zu erhalten, ebenso tadelhaft ist als ein Feiger, der sich vor seinem Feinde verbirgt, weil er zu unterliegen f\\xc3\\xbcrchtet.',\n",
       " 'Letzthin kam ich zum Brunnen und fand ein junges Dienstm\\xc3\\xa4dchen, das ihr Gef\\xc3\\xa4\\xc3\\x9f auf die unterste Treppe gesetzt hatte und sich umsah, ob keine Kamer\\xc3\\xa4din kommen wollte, ihr es auf den Kopf zu helfen. Ich stieg hinunter und sah sie an. \\xe2\\x80\\x93 \\xc2\\xbbSoll ich Ihr helfen, Jungfer?\\xc2\\xab sagte ich. \\xe2\\x80\\x93 sie ward rot \\xc3\\xbcber und \\xc3\\xbcber. \\xe2\\x80\\x93 \\xc2\\xbbO nein, Herr!\\xc2\\xab sagte sie. \\xe2\\x80\\x93 \\xc2\\xbbOhne Umst\\xc3\\xa4nde\\xc2\\xab. \\xe2\\x80\\x93 sie legte ihren Kringen zurecht, und ich half ihr. Sie dankte und stieg hinauf.',\n",
       " 'Den 17. Mai',\n",
       " \"Ich habe allerlei Bekanntschaft gemacht, Gesellschaft habe ich noch keine gefunden. Ich wei\\xc3\\x9f nicht, was ich Anz\\xc3\\xbcgliches f\\xc3\\xbcr die Menschen haben mu\\xc3\\x9f; es m\\xc3\\xb6gen mich ihrer so viele und h\\xc3\\xa4ngen sich an mich, und da tut mir's weh, wenn unser Weg nur eine kleine Strecke miteinander geht. Wenn du fragst, wie die Leute hier sind, mu\\xc3\\x9f ich dir sagen: wie \\xc3\\xbcberall! Es ist ein einf\\xc3\\xb6rmiges Ding um das Menschengeschlecht. Die meisten verarbeiten den gr\\xc3\\xb6\\xc3\\x9ften Teil der Zeit, um zu leben, und das bi\\xc3\\x9fchen, das ihnen von Freiheit \\xc3\\xbcbrig bleibt, \\xc3\\xa4ngstigt sie so, da\\xc3\\x9f sie alle Mittel aufsuchen, um es los zu werden. O Bestimmung des Menschen!\",\n",
       " 'Aber eine recht gute Art Volks! Wenn ich mich manchmal vergesse, manchmal mit ihnen die Freuden genie\\xc3\\x9fe, die den Menschen noch gew\\xc3\\xa4hrt sind, an einem artig besetzten Tisch mit aller Offen- und Treuherzigkeit sich herumzuspa\\xc3\\x9fen, eine Spazierfahrt, einen Tanz zur rechten Zeit anzuordnen, und dergleichen, das tut eine ganz gute Wirkung auf mich; nur mu\\xc3\\x9f mir nicht einfallen, da\\xc3\\x9f noch so viele andere Kr\\xc3\\xa4fte in mir ruhen, die alle ungenutzt vermodern und die ich sorgf\\xc3\\xa4ltig verbergen mu\\xc3\\x9f. Ach das engt das ganze Herz so ein. \\xe2\\x80\\x93 Und doch! Mi\\xc3\\x9fverstanden zu werden, ist das Schicksal von unsereinem.',\n",
       " \"Ach, da\\xc3\\x9f die Freundin meiner Jugend dahin ist, ach, da\\xc3\\x9f ich sie je gekannt habe! \\xe2\\x80\\x93 ich w\\xc3\\xbcrde sagen: du bist ein Tor! Du suchst, was hienieden nicht zu finden ist! Aber ich habe sie gehabt, ich habe das Herz gef\\xc3\\xbchlt, die gro\\xc3\\x9fe Seele, in deren Gegenwart ich mir schien mehr zu sein, als ich war, weil ich alles war, was ich sein konnte. Guter Gott! Blieb da eine einzige Kraft meiner Seele ungenutzt? Konnt' ich nicht vor ihr das ganze wunderbare Gef\\xc3\\xbchl entwickeln, mit dem mein Herz die Natur umfa\\xc3\\x9ft? War unser Umgang nicht ein ewiges Weben von der feinsten Empfindung, dem sch\\xc3\\xa4rfsten Witze, dessen Modifikationen, bis zur Unart, alle mit dem Stempel des Genies bezeichnet waren? Und nun! \\xe2\\x80\\x93 ach ihre Jahre, die sie voraus hatte, f\\xc3\\xbchrten sie fr\\xc3\\xbcher ans Grab als mich. Nie werde ich sie vergessen, nie ihren festen Sinn und ihre g\\xc3\\xb6ttliche Duldung.\",\n",
       " 'Vor wenig Tagen traf ich einen jungen V. an, einen offnen Jungen, mit einer gar gl\\xc3\\xbccklichen Gesichtsbildung. Er kommt erst von Akademien d\\xc3\\xbcnkt sich eben nicht weise, aber glaubt doch, er wisse mehr als andere. Auch war er flei\\xc3\\x9fig, wie ich an allerlei sp\\xc3\\xbcre, kurz, er hat h\\xc3\\xbcbsche Kenntnisse. Da er h\\xc3\\xb6rte, da\\xc3\\x9f ich viel zeichnete und Griechisch k\\xc3\\xb6nnte (zwei Meteore hierzulande), wandte er sich an mich und kramte viel Wissens aus, von Batteux bis zu Wood, von de Piles zu Winckelmann, und versicherte mich, er habe Sulzers Theorie, den ersten Teil, ganz durchgelesen und besitze ein Manuskript von Heynen \\xc3\\xbcber das Studium der Antike. Ich lie\\xc3\\x9f das gut sein.',\n",
       " 'Noch gar einen braven Mann habe ich kennen lernen, den f\\xc3\\xbcrstlichen Amtmann, einen offenen, treuherzigen Menschen. Man sagt, es soll eine Seelenfreude sein, ihn unter seinen Kindern zu sehen, deren er neun hat; besonders macht man viel Wesens von seiner \\xc3\\xa4ltesten Tochter. Er hat mich zu sich gebeten, und ich will ihn ehster Tage besuchen. Er wohnt auf einem f\\xc3\\xbcrstlichen Jagdhofe, anderthalb Stunden von hier, wohin er nach dem Tode seiner Frau zu ziehen die Erlaubnis erhielt, da ihm der Aufenthalt hier in der Stadt und im Amthause zu weh tat.',\n",
       " 'Sonst sind mir einige verzerrte Originale in den Weg gelaufen, an denen alles unausstehlich ist, am unertr\\xc3\\xa4glichsten Freundschaftsbezeigungen.',\n",
       " \"Leb' wohl! Der Brief wird dir recht sein, er ist ganz historisch.\",\n",
       " 'Am 22. Mai',\n",
       " 'Da\\xc3\\x9f das Leben des Menschen nur ein Traum sei, ist manchem schon so vorgekommen, und auch mit mir zieht dieses Gef\\xc3\\xbchl immer herum. Wenn ich die Einschr\\xc3\\xa4nkung ansehe, in welcher die t\\xc3\\xa4tigen und forschenden Kr\\xc3\\xa4fte des Menschen eingesperrt sind; wenn ich sehe, wie alle Wirksamkeit dahinaus l\\xc3\\xa4uft, sich die Befriedigung von Bed\\xc3\\xbcrfnissen zu verschaffen, die wieder keinen Zweck haben, als unsere arme Existenz zu verl\\xc3\\xa4ngern, und dann, da\\xc3\\x9f alle Beruhigung \\xc3\\xbcber gewisse Punkte des Nachforschens nur eine tr\\xc3\\xa4umende Regignation ist, da man sich die W\\xc3\\xa4nde, zwischen denen man gefangen sitzt, mit bunten Gestalten und lichten Aussichten bemalt \\xe2\\x80\\x93 das alles, Wilhelm, macht mich stumm. Ich kehre in mich selbst zur\\xc3\\xbcck, und finde eine Welt! Wieder mehr in Ahnung und dunkler Begier als in Darstellung und lebendiger Kraft. Und da schwimmt alles vor meinen Sinnen, und ich l\\xc3\\xa4chle dann so tr\\xc3\\xa4umend weiter in die Welt.',\n",
       " 'Da\\xc3\\x9f die Kinder nicht wissen, warum sie wollen, darin sind alle hochgelahrten Schul- und Hofmeister einig; da\\xc3\\x9f aber auch Erwachsene gleich Kindern auf diesem Erdboden herumtaumeln und wie jene nicht wissen, woher sie kommen und wohin sie gehen, ebensowenig nach wahren Zwecken handeln, ebenso durch Biskuit und Kuchen und Birkenreiser regiert werden: das will niemand gern glauben, und mich d\\xc3\\xbcnkt, man kann es mit H\\xc3\\xa4nden greifen.',\n",
       " \"Ich gestehe dir gern, denn ich wei\\xc3\\x9f, was du mir hierauf sagen m\\xc3\\xb6chtest, da\\xc3\\x9f diejenigen die Gl\\xc3\\xbccklichsten sind, die gleich den Kindern in den Tag hinein leben, ihre Puppen herumschleppen, aus- und anziehen und mit gro\\xc3\\x9fem Respekt um die Schublade umherschleichen, wo Mama das Zuckerbrot hineingeschlossen hat, und, wenn sie das gew\\xc3\\xbcnschte endlich erhaschen, es mit vollen Backen verzehren und rufen: \\xc2\\xbbmehr!\\xc2\\xab \\xe2\\x80\\x93 das sind gl\\xc3\\xbcckliche Gesch\\xc3\\xb6pfe. Auch denen ist's wohl, die ihren Lumpenbesch\\xc3\\xa4ftigungen oder wohl gar ihren Leidenschaften pr\\xc3\\xa4chtige Titel geben und sie dem Menschengeschlechte als Riesenoperationen zu dessen Heil und Wohlfahrt anschreiben. \\xe2\\x80\\x93 Wohl dem, der so sein kann! Wer aber in seiner Demut erkennt, wo das alles hinausl\\xc3\\xa4uft, wer da sieht, wie artig jeder B\\xc3\\xbcrger, dem es wohl ist, sein G\\xc3\\xa4rtchen zum Paradiese zuzustutzen wei\\xc3\\x9f, und wie unverdrossen auch der Ungl\\xc3\\xbcckliche unter der B\\xc3\\xbcrde seinen Weg fortkeucht, und alle gleich interessiert sind, das Licht dieser Sonne noch eine Minute l\\xc3\\xa4nger zu sehn \\xe2\\x80\\x93 ja, der ist still und bildet auch seine Welt aus sich selbst und ist auch gl\\xc3\\xbccklich, weil er ein Mensch ist. Und dann, so eingeschr\\xc3\\xa4nkt er ist, h\\xc3\\xa4lt er doch immer im Herzen das s\\xc3\\xbc\\xc3\\x9fe Gef\\xc3\\xbchl der Freiheit, und da\\xc3\\x9f er diesen Kerker verlassen kann, wann er will.\",\n",
       " 'Am 26. Mai',\n",
       " 'Du kennst von alters her meine Art, mich anzubauen, mir irgend an einem vertraulichen Orte ein H\\xc3\\xbcttchen aufzuschlagen und da mit aller Einschr\\xc3\\xa4nkung zu herbergen. Auch hier habe ich wieder ein Pl\\xc3\\xa4tzchen angetroffen, das mich angezogen hat.',\n",
       " \"Ungef\\xc3\\xa4hr eine Stunde von der Stadt liegt ein Ort, den sie Wahlheim [Fu\\xc3\\x9fnote] nennen. Die Lage an einem H\\xc3\\xbcgel ist sehr interessant, und wenn man oben auf dem Fu\\xc3\\x9fpfade zum Dorf herausgeht, \\xc3\\xbcbersieht man auf einmal das ganze Tal. Eine gute Wirtin, die gef\\xc3\\xa4llig und munter in ihrem Alter ist, schenkt Wein, Bier, Kaffee; und was \\xc3\\xbcber alles geht, sind zwei Linden, die mit ihren ausgebreiteten \\xc3\\x84sten den kleinen Platz vor der Kirche bedecken, der ringsum mit Bauerh\\xc3\\xa4usern, Scheunen und H\\xc3\\xb6fen eingeschlossen ist. So vertraulich, so heimlich hab' ich nicht leicht ein Pl\\xc3\\xa4tzchen gefunden, und dahin lass' ich mein Tischchen aus dem Wirtshause bringen und meinen Stuhl, trinke meinen Kaffee da und lese meinen Homer. Das erstenmal, als ich durch einen Zufall an einem sch\\xc3\\xb6nen Nachmittage unter die Linden kam, fand ich das Pl\\xc3\\xa4tzchen so einsam. Es war alles im Felde; nur ein Knabe von ungef\\xc3\\xa4hr vier Jahren sa\\xc3\\x9f an der Erde und hielt ein anderes, etwa halbj\\xc3\\xa4hriges, vor ihm zwischen seinen F\\xc3\\xbc\\xc3\\x9fen sitzendes Kind mit beiden Armen wider seine Brust, so da\\xc3\\x9f er ihm zu einer Art von Sessel diente und ungeachtet der Munterkeit, womit er aus seinen schwarzen Augen herumschaute, ganz ruhig sa\\xc3\\x9f. Mich vergn\\xc3\\xbcgte der Anblick: ich setzte mich auf einen Pflug, der gegen\\xc3\\xbcber stand, und zeichnete die br\\xc3\\xbcderliche Stellung mit vielem Ergetzen. Ich f\\xc3\\xbcgte den n\\xc3\\xa4chsten Zaun, ein Scheunentor und einige gebrochene Wagenr\\xc3\\xa4der bei, alles, wie es hinter einander stand, und fand nach Verlauf einer Stunde, da\\xc3\\x9f ich eine wohlgeordnete, sehr interessante Zeichnung verfertiget hatte, ohne das mindeste von dem Meinen hinzuzutun. Das best\\xc3\\xa4rkte mich in meinem Vorsatze, mich k\\xc3\\xbcnftig allein an die Natur zu halten. Sie allein ist unendlich reich, und sie allein bildet den gro\\xc3\\x9fen K\\xc3\\xbcnstler. Man kann zum Vorteile der Regeln viel sagen, ungef\\xc3\\xa4hr was man zum Lobe der b\\xc3\\xbcrgerlichen Gesellschaft sagen kann. Ein Mensch, der sich nach ihnen bildet, wird nie etwas Abgeschmacktes und Schlechtes hervorbringen, wie einer, der sich durch Gesetze und Wohlstand modeln l\\xc3\\xa4\\xc3\\x9ft, nie ein unertr\\xc3\\xa4glicher Nachbar, nie ein merkw\\xc3\\xbcrdiger B\\xc3\\xb6sewicht werden kann; dagegen wird aber auch alle Regel, man rede was man wolle, das wahre Gef\\xc3\\xbchl von Natur und den wahren Ausdruck derselben zerst\\xc3\\xb6ren! Sag' du: \\xe2\\x80\\xbadas ist zu hart! Sie schr\\xc3\\xa4nkt nur ein, beschneidet die geilen Reben\\xe2\\x80\\xb9 etc. \\xe2\\x80\\x93 guter Freund, soll ich dir ein Gleichnis geben? Es ist damit wie mit der Liebe. Ein junges Herz h\\xc3\\xa4ngt ganz an einem M\\xc3\\xa4dchen, bringt alle Stunden seines Tages bei ihr zu, verschwendet alle seine Kr\\xc3\\xa4fte, all sein Verm\\xc3\\xb6gen, um ihr jeden Augenblick auszudr\\xc3\\xbccken, da\\xc3\\x9f er sich ganz ihr hingibt. Und da k\\xc3\\xa4me ein Philister, ein Mann, der in einem \\xc3\\xb6ffentlichen Amte steht, und sagte zu ihm: \\xe2\\x80\\xbafeiner junger Herr! Lieben ist menschlich, nur m\\xc3\\xbc\\xc3\\x9ft Ihr menschlich lieben! Teilet Eure Stunden ein, die einen zur Arbeit, und die Erholungsstunden widmet Eurem M\\xc3\\xa4dchen. Berechnet Euer Verm\\xc3\\xb6gen, und was Euch von Eurer Notdurft \\xc3\\xbcbrig bleibt, davon verwehr' ich Euch nicht, ihr ein Geschenk, nur nicht zu oft, zu machen, etwa zu ihrem Geburts- und Namenstage etc. \\xe2\\x80\\x93 folgt der Mensch, so gibt's einen brauchbaren jungen Menschen, und ich will selbst jedem F\\xc3\\xbcrsten raten, ihn in ein Kollegium zu setzen; nur mit seiner Liebe ist's am Ende und, wenn er ein K\\xc3\\xbcnstler ist, mit seiner Kunst. O meine Freunde! Warum der Strom des Genies so selten ausbricht, so selten in hohen Fluten hereinbraust und eure staunende Seele ersch\\xc3\\xbcttert? \\xe2\\x80\\x93 liebe Freunde, da wohnen die gelassenen Herren auf beiden Seiten des Ufers, denen ihre Gartenh\\xc3\\xa4uschen, Tulpenbeete und Krautfelder zugrunde gehen w\\xc3\\xbcrden, die daher in Zeiten mit D\\xc3\\xa4mmen und Ableiten der k\\xc3\\xbcnftig drohenden Gefahr abzuwehren wissen.\\xe2\\x80\\xb9\",\n",
       " 'Am 27. Mai',\n",
       " 'Ich bin, wie ich sehe, in Verz\\xc3\\xbcckung, Gleichnisse und Deklamation verfallen und habe dar\\xc3\\xbcber vergessen, dir auszuerz\\xc3\\xa4hlen, was mit den Kindern weiter geworden ist. Ich sa\\xc3\\x9f, ganz in malerische Empfindung vertieft, die dir mein gestriges Blatt sehr zerst\\xc3\\xbcckt darlegt, auf meinem Pfluge wohl zwei Stunden. Da kommt gegen Abend eine junge Frau auf die Kinder los, die sich indes nicht ger\\xc3\\xbchrt hatten, mit einem K\\xc3\\xb6rbchen am Arm und ruft von weitem: \\xc2\\xbbPhilipps, du bist recht brav\\xc2\\xab. \\xe2\\x80\\x93 Sie gr\\xc3\\xbc\\xc3\\x9fte mich, ich dankte ihr, stand auf, trat n\\xc3\\xa4her hin und fragte sie, ob sie Mutter von den Kindern w\\xc3\\xa4re? Sie bejahte es, und indem sie dem \\xc3\\xa4ltesten einen halben Weck gab, nahm sie das kleine auf und k\\xc3\\xbc\\xc3\\x9fte es mit aller m\\xc3\\xbctterlichen Liebe. \\xe2\\x80\\x93 \\xc2\\xbbich habe\\xc2\\xab, sagte sie, \\xc2\\xbbmeinem Philipps das Kleine zu halten gegeben und bin mit meinem \\xc3\\x84ltesten in die Stadt gegangen, um wei\\xc3\\x9f Brot zu holen und Zucker und ein irden Breipf\\xc3\\xa4nnchen\\xc2\\xab. \\xe2\\x80\\x93 Ich sah das alles in dem Korbe, dessen Deckel abgefallen war. \\xe2\\x80\\x93 \\xc2\\xbbIch will meinem Hans (das war der Name des J\\xc3\\xbcngsten) ein S\\xc3\\xbcppchen kochen zum Abende; der lose Vogel, der Gro\\xc3\\x9fe, hat mir gestern das Pf\\xc3\\xa4nnchen zerbrochen, als er sich mit Philippsen um die Scharre des Breis zankte\\xc2\\xab. \\xe2\\x80\\x93 ich fragte nach dem \\xc3\\x84ltesten, und sie hatte mir kaum gesagt, da\\xc3\\x9f er sich auf der Wiese mit ein paar G\\xc3\\xa4nsen herumjage, als er gesprungen kam und dem Zweiten eine Haselgerte mitbrachte. Ich unterhielt mich weiter mit dem Weibe und erfuhr, da\\xc3\\x9f sie des Schulmeisters Tochter sei, und da\\xc3\\x9f ihr Mann eine Reise in die Schweiz gemacht habe, um die Erbschaft eines Vetters zu holen. \\xe2\\x80\\x93 \\xc2\\xbbSie haben ihn drum betriegen wollen\\xc2\\xab, sagte sie,\\xc2\\xab und ihm auf seine Briefe nicht geantwortet; da ist er selbst hineingegangen. Wenn ihm nur kein Ungl\\xc3\\xbcck widerfahren ist, ich h\\xc3\\xb6re nichts von ihm\\xc2\\xab. \\xe2\\x80\\x93 Es ward mir schwer, mich von dem Weibe los zu machen, gab jedem der Kinder einen Kreuzer, und auch f\\xc3\\xbcrs j\\xc3\\xbcngste gab ich ihr einen, ihm einen Weck zur Suppe mitzubringen, wenn sie in die Stadt ginge, und so schieden wir von einander.',\n",
       " 'Ich sage dir, mein Schatz, wenn meine Sinne gar nicht mehr halten wollen, so lindert all den Tumult der Anblick eines solchen Gesch\\xc3\\xb6pfs, das in gl\\xc3\\xbccklicher Gelassenheit den engen Kreis seines Daseins hingeht, von einem Tage zum andern sich durchhilft, die Bl\\xc3\\xa4tter abfallen sieht und nichts dabei denkt, als da\\xc3\\x9f der Winter kommt.',\n",
       " 'Seit der Zeit bin ich oft drau\\xc3\\x9fen. Die Kinder sind ganz an mich gew\\xc3\\xb6hnt, sie kriegen Zucker, wenn ich Kaffee trinke, und teilen das Butterbrot und die saure Milch mit mir des Abends. Sonntags fehlt ihnen der Kreuzer nie, und wenn ich nicht nach der Betstunde da bin, so hat die Wirtin Ordre, ihn auszuzahlen.',\n",
       " 'Sie sind vertraut, erz\\xc3\\xa4hlen mir allerhand, und besonders ergetze ich mich an ihren Leidenschaften und simpeln Ausbr\\xc3\\xbcchen des Begehrens, wenn mehr Kinder aus dem Dorfe sich versammeln.',\n",
       " \"Viele M\\xc3\\xbche hat mich's gekostet, der Mutter ihre Besorgnis zu nehmen, sie m\\xc3\\xb6chten den Herrn inkommodieren.\",\n",
       " 'Am 30. Mai',\n",
       " 'Was ich dir neulich von der Malerei sagte, gilt gewi\\xc3\\x9f auch von der Dichtkunst; es ist nur, da\\xc3\\x9f man das Vortreffliche erkenne und es auszusprechen wage, und das ist freilich mit wenigem viel gesagt. Ich habe heute eine Szene gehabt, die, rein abgeschrieben, die sch\\xc3\\xb6nste Idylle von der Welt g\\xc3\\xa4be; doch was soll Dichtung, Szene und Idylle? Mu\\xc3\\x9f es denn immer gebosselt sein, wenn wir teil an einer Naturerscheinung nehmen sollen?',\n",
       " \"Wenn du auf diesen Eingang viel Hohes und Vornehmes erwartest, so bist du wieder \\xc3\\xbcbel betrogen; es ist nichts als ein Bauerbursch, der mich zu dieser lebhaften Teilnehmung hingerissen hat. Ich werde, wie gew\\xc3\\xb6hnlich, schlecht erz\\xc3\\xa4hlen, und du wirst mich, wie gew\\xc3\\xb6hnlich, denk' ich, \\xc3\\xbcbertrieben finden; es ist wieder Wahlheim, und immer Wahlheim, das diese Seltenheiten hervorbringt.\",\n",
       " 'Es war eine Gesellschaft drau\\xc3\\x9fen unter den Linden, Kaffee zu trinken. Weil sie mir nicht ganz anstand, so blieb ich unter einem Vorwande zur\\xc3\\xbcck.',\n",
       " \"Ein Bauerbursch kam aus einem benachbarten Hause und besch\\xc3\\xa4ftigte sich, an dem Pfluge, den ich neulich gezeichnet hatte, etwas zurecht zu machen. Da mir sein Wesen gefiel, redete ich ihn an, fragte nach seinen Umst\\xc3\\xa4nden, wir waren bald bekannt und, wie mir's gew\\xc3\\xb6hnlich mit dieser Art Leuten geht, bald vertraut. Er erz\\xc3\\xa4hlte mir, da\\xc3\\x9f er bei einer Witwe in Diensten sei und von ihr gar wohl gehalten werde. Er sprach so vieles von ihr und lobte sie dergestalt, da\\xc3\\x9f ich bald merken konnte, er sei ihr mit Leib und Seele zugetan. Sie sei nicht mehr jung, sagte er, sie sei von ihrem ersten Mann \\xc3\\xbcbel gehalten worden, wolle nicht mehr heiraten, und aus seiner Erz\\xc3\\xa4hlung leuchtete so merklich hervor, wie sch\\xc3\\xb6n, wie reizend sie f\\xc3\\xbcr ihn sei, wie sehr er w\\xc3\\xbcnschte, da\\xc3\\x9f sie ihn w\\xc3\\xa4hlen m\\xc3\\xb6chte, um das Andenken der Fehler ihres ersten Mannes auszul\\xc3\\xb6schen, da\\xc3\\x9f ich Wort f\\xc3\\xbcr Wort wiederholen m\\xc3\\xbc\\xc3\\x9fte, um dir die reine Neigung, die Liebe und Treue dieses Menschen anschaulich zu machen. Ja, ich m\\xc3\\xbc\\xc3\\x9fte die Gabe des gr\\xc3\\xb6\\xc3\\x9ften Dichters besitzen, um dir zugleich den Ausdruck seiner Geb\\xc3\\xa4rden, die Harmonie seiner Stimme, das heimliche Feuer seiner Blicke lebendig darstellen zu k\\xc3\\xb6nnen. Nein, es sprechen keine Worte die Zartheit aus, die in seinem ganzen Wesen und Ausdruck war; es ist alles nur plump, was ich wieder vorbringen k\\xc3\\xb6nnte. Besonders r\\xc3\\xbchrte mich, wie er f\\xc3\\xbcrchtete, ich m\\xc3\\xb6chte \\xc3\\xbcber sein Verh\\xc3\\xa4ltnis zu ihr ungleich denken und an ihrer guten Auff\\xc3\\xbchrung zweifeln. Wie reizend es war, wenn er von ihrer Gestalt, von ihrem K\\xc3\\xb6rper sprach, der ihn ohne jugendliche Reize gewaltsam an sich zog und fesselte, kann ich mir nur in meiner innersten Seele wiederholen. Ich hab' in meinem Leben die dringende Begierde und das hei\\xc3\\x9fe, sehnliche Verlangen nicht in dieser Reinheit gesehen, ja wohl kann ich sagen, in dieser Reinheit nicht gedacht und getr\\xc3\\xa4umt. Schelte mich nicht, wenn ich dir sage, da\\xc3\\x9f bei der Erinnerung dieser Unschuld und Wahrheit mir die innerste Seele gl\\xc3\\xbcht, und da\\xc3\\x9f mich das Bild dieser Treue und Z\\xc3\\xa4rtlichkeit \\xc3\\xbcberall verfolgt, und da\\xc3\\x9f ich, wie selbst davon entz\\xc3\\xbcndet, lechze und schmachte.\",\n",
       " \"Ich will nun suchen, auch sie ehstens zu sehn, oder vielmehr, wenn ich's recht bedenke, ich will's vermeiden. Es ist besser, ich sehe sie durch die Augen ihres Liebhabers; vielleicht erscheint sie mir vor meinen eigenen Augen nicht so, wie sie jetzt vor mir steht, und warum soll ich mir das sch\\xc3\\xb6ne Bild verderben?\",\n",
       " 'Am 16. Junius',\n",
       " 'Warum ich dir nicht schreibe? \\xe2\\x80\\x93 Fragst du das und bist doch auch der Gelehrten einer. Du solltest raten, da\\xc3\\x9f ich mich wohl befinde, und zwar \\xe2\\x80\\x93 kurz und gut, ich habe eine Bekanntschaft gemacht, die mein Herz n\\xc3\\xa4her angeht. Ich habe \\xe2\\x80\\x93 ich wei\\xc3\\x9f nicht.',\n",
       " \"Dir in der Ordnung zu erz\\xc3\\xa4hlen, wie's zugegangen ist, da\\xc3\\x9f ich eins der liebensw\\xc3\\xbcrdigsten Gesch\\xc3\\xb6pfe habe kennen lernen, wird schwer halten. Ich bin vergn\\xc3\\xbcgt und gl\\xc3\\xbccklich, und also kein guter Historienschreiber.\",\n",
       " 'Einen Engel! \\xe2\\x80\\x93 Pfui! Das sagt jeder von der Seinigen, nicht wahr? Und doch bin ich nicht imstande, dir zu sagen, wie sie vollkommen ist, warum sie vollkommen ist; genug, sie hat allen meinen Sinn gefangengenommen.',\n",
       " 'So viel Einfalt bei so viel Verstand, so viel G\\xc3\\xbcte bei so viel Festigkeit, und die Ruhe der Seele bei dem wahren Leben und der T\\xc3\\xa4tigkeit.',\n",
       " \"\\xe2\\x80\\x93 Das ist alles garstiges Gew\\xc3\\xa4sch, was ich da von ihr sage, leidige Abstraktionen, die nicht einen Zug ihres Selbst ausdr\\xc3\\xbccken. Ein andermal \\xe2\\x80\\x93 nein, nicht ein andermal, jetzt gleich will ich dir's erz\\xc3\\xa4hlen. Tu' ich's jetzt nicht, so gesch\\xc3\\xa4h' es niemals. Denn, unter uns, seit ich angefangen habe zu schreiben, war ich schon dreimal im Begriffe, die Feder niederzulegen, mein Pferd satteln zu lassen und hinauszureiten. Und doch schwur ich mir heute fr\\xc3\\xbch, nicht hinauszureiten, und gehe doch alle Augenblick' ans Fenster, zu sehen, wie hoch die Sonne noch steht.\",\n",
       " \"\\xe2\\x80\\x93 Ich hab's nicht \\xc3\\xbcberwinden k\\xc3\\xb6nnen, ich mu\\xc3\\x9fte zu ihr hinaus. Da bin ich wieder, Wilhelm, will mein Butterbrot zu Nacht essen und dir schreiben. Welch eine Wonne das f\\xc3\\xbcr meine Seele ist, sie in dem Kreise der lieben, muntern Kinder, ihrer acht Geschwister, zu sehen!\",\n",
       " '\\xe2\\x80\\x93 Wenn ich so fortfahre, wirst du am Ende so klug sein wie am Anfange. H\\xc3\\xb6re denn, ich will mich zwingen, ins Detail zu gehen.',\n",
       " 'Ich schrieb dir neulich, wie ich den Amtmann S. habe kennen lernen, und wie er mich gebeten habe, ihn bald in seiner Einsiedelei oder vielmehr seinem kleinen K\\xc3\\xb6nigreiche zu besuchen. Ich vernachl\\xc3\\xa4ssigte das, und w\\xc3\\xa4re vielleicht nie hingekommen, h\\xc3\\xa4tte mir der Zufall nicht den Schatz entdeckt, der in der stillen Gegend verborgen liegt.',\n",
       " 'Unsere jungen Leute hatten einen Ball auf dem Lande angestellt, zu dem ich mich denn auch willig finden lie\\xc3\\x9f. Ich bot einem hiesigen guten, sch\\xc3\\xb6nen, \\xc3\\xbcbrigens unbedeutenden M\\xc3\\xa4dchen die Hand, und es wurde ausgemacht, da\\xc3\\x9f ich eine Kutsche nehmen, mit meiner T\\xc3\\xa4nzerin und ihrer Base nach dem Orte der Lustbarkeit hinausfahren und auf dem Wege Charlotten S. mitnehmen sollte. \\xe2\\x80\\x93 \\xc2\\xbbSie werden ein sch\\xc3\\xb6nes Frauenzimmer kennenlernen\\xc2\\xab, sagte meine Gesellschafterin, da wir durch den weiten, ausgehauenen Wald nach dem Jagdhause fuhren. \\xe2\\x80\\x93 \\xc2\\xbbNehmen Sie sich in acht\\xc2\\xab, versetzte die Base, \\xc2\\xbbda\\xc3\\x9f Sie sich nicht verlieben!\\xc2\\xab \\xe2\\x80\\x93 \\xc2\\xbbWieso?\\xc2\\xab sagte ich. \\xe2\\x80\\x93 \\xc2\\xbbSie ist schon vergeben\\xc2\\xab, antwortete jene, \\xc2\\xbban einen sehr braven Mann, der weggereist ist, seine Sachen in Ordnung zu bringen, weil sein Vater gestorben ist, und sich um eine ansehnliche Versorgung zu bewerben\\xc2\\xab. \\xe2\\x80\\x93 Die Nachricht war mir ziemlich gleichg\\xc3\\xbcltig.',\n",
       " 'Die Sonne war noch eine Viertelstunde vom Gebirge, als wir vor dem Hoftore anfuhren. Es war sehr schw\\xc3\\xbcl, und die Frauenzimmer \\xc3\\xa4u\\xc3\\x9ferten ihre Besorgnis wegen eines Gewitters, das sich in wei\\xc3\\x9fgrauen, dumpfichten W\\xc3\\xb6lkchen rings am Horizonte zusammenzuziehen schien. Ich t\\xc3\\xa4uschte ihre Furcht mit anma\\xc3\\x9flicher Wetterkunde, ob mir gleich selbst zu ahnen anfing, unsere Lustbarkeit werde einen Sto\\xc3\\x9f leiden.',\n",
       " \"Ich war ausgestiegen, und eine Magd, die ans Tor kam, bat uns, einen Augenblick zu verziehen, Mamsell Lottchen w\\xc3\\xbcrde gleich kommen. Ich ging durch den Hof nach dem wohlgebauten Hause, und da ich die vorliegenden Treppen hinaufgestiegen war und in die T\\xc3\\xbcr trat, fiel mir das reizendste Schauspiel in die Augen, das ich je gesehen habe. in dem Vorsaale wimmelten sechs Kinder von eilf zu zwei Jahren um ein M\\xc3\\xa4dchen von sch\\xc3\\xb6ner Gestalt, mittlerer Gr\\xc3\\xb6\\xc3\\x9fe, die ein simples wei\\xc3\\x9fes Kleid, mit bla\\xc3\\x9froten Schleifen an Arm und Brust, anhatte. Sie hielt ein schwarzes Brot und schnitt ihren Kleinen rings herum jedem sein St\\xc3\\xbcck nach Proportion ihres Alters und Appetits ab, gab's jedem mit solcher Freundlichkeit, und jedes rief so ungek\\xc3\\xbcnstelt sein \\xc2\\xbbdanke!\\xc2\\xab, indem es mit den kleinen H\\xc3\\xa4ndchen lange in die H\\xc3\\xb6he gereicht hatte, ehe es noch abgeschnitten war, und nun mit seinem Abendbrote vergn\\xc3\\xbcgt entweder wegsprang, oder nach seinem stillern Charakter gelassen davonging nach dem Hoftore zu, um die Fremden und die Kutsche zu sehen, darin ihre Lotte wegfahren sollte. \\xe2\\x80\\x93 \\xc2\\xbbIch bitte um Vergebung\\xc2\\xab, sagte sie, \\xc2\\xbbda\\xc3\\x9f ich Sie hereinbem\\xc3\\xbche und die Frauenzimmer warten lasse. \\xc3\\x9cber dem Anziehen und allerlei Bestellungen f\\xc3\\xbcrs Haus in meiner Abwesenheit habe ich vergessen, meinen Kindern ihr Vesperbrot zu geben, und sie wollen von niemanden Brot geschnitten haben als von mir\\xc2\\xab.\",\n",
       " 'Ich machte ihr ein unbedeutendes Kompliment, meine ganze Seele ruhte auf der Gestalt, dem Tone, dem Betragen, und ich hatte eben Zeit, mich von der \\xc3\\x9cberraschung zu erholen, als sie in die Stube lief, ihre Handschuhe und den F\\xc3\\xa4cher zu holen. Die Kleinen sahen mich in einiger Entfernung so von der Seite an, und ich ging auf das j\\xc3\\xbcngste los, das ein Kind von der gl\\xc3\\xbccklichsten Gesichtsbildung war. Es zog sich zur\\xc3\\xbcck, als eben Lotte zur T\\xc3\\xbcre herauskam und sagte: \\xc2\\xbbLouis, gib dem Herrn Vetter eine Hand\\xc2\\xab. \\xe2\\x80\\x93 das tat der Knabe sehr freim\\xc3\\xbctig, und ich konnte mich nicht enthalten, ihn, ungeachtet seines kleinen Rotzn\\xc3\\xa4schens, herzlich zu k\\xc3\\xbcssen.',\n",
       " \"\\xc2\\xbbVetter?\\xc2\\xab sagte ich, indem ich ihr die Hand reichte, \\xc2\\xbbglauben Sie, da\\xc3\\x9f ich des Gl\\xc3\\xbccks wert sei, mit Ihnen verwandt zu sein?\\xc2\\xab \\xe2\\x80\\x93 \\xc2\\xbbO\\xc2\\xab, sagte sie mit einem leichtfertigen L\\xc3\\xa4cheln, \\xc2\\xbbunsere Vetterschaft ist sehr weitl\\xc3\\xa4ufig, und es w\\xc3\\xa4re mir leid, wenn Sie der schlimmste drunter sein sollten.\\xc2\\xab \\xe2\\x80\\x93 Im Gehen gab sie Sophien, der \\xc3\\xa4ltesten Schwester nach ihr, einem M\\xc3\\xa4dchen von ungef\\xc3\\xa4hr eilf Jahren, den Auftrag, wohl auf die Kinder acht zu haben und den Papa zu gr\\xc3\\xbc\\xc3\\x9fen, wenn er vom Spazierritte nach Hause k\\xc3\\xa4me. Den Kleinen sagte sie, sie sollten ihrer Schwester Sophie folgen, als wenn sie's selber w\\xc3\\xa4re, das denn auch einige ausdr\\xc3\\xbccklich versprachen. Eine kleine, naseweise Blondine aber, von ungef\\xc3\\xa4hr sechs Jahren, sagte: \\xc2\\xbbdu bist's doch nicht, Lottchen, wir haben dich doch lieber\\xc2\\xab. \\xe2\\x80\\x93 die zwei \\xc3\\xa4ltesten Knaben waren hinten auf die Kutsche geklettert, und auf mein Vorbitten erlaubte sie ihnen, bis vor den Wald mitzufahren, wenn sie verspr\\xc3\\xa4chen, sich nicht zu necken und sich recht festzuhalten.\",\n",
       " 'Wir hatten uns kaum zurecht gesetzt, die Frauenzimmer sich bewillkommt, wechselsweise \\xc3\\xbcber den Anzug, vorz\\xc3\\xbcglich \\xc3\\xbcber die H\\xc3\\xbcte ihre Anmerkungen gemacht und die Gesellschaft, die man erwartete, geh\\xc3\\xb6rig durchgezogen, als Lotte den Kutscher halten und ihre Br\\xc3\\xbcder herabsteigen lie\\xc3\\x9f, die noch einmal ihre Hand zu k\\xc3\\xbcssen begehrten, das denn der \\xc3\\xa4lteste mit aller Z\\xc3\\xa4rtlichkeit, die dem Alter von f\\xc3\\xbcnfzehn Jahren eigen sein kann, der andere mit viel Heftigkeit und Leichtsinn tat. Sie lie\\xc3\\x9f die Kleinen noch einmal gr\\xc3\\xbc\\xc3\\x9fen, und wir fuhren weiter.',\n",
       " \"Die Base fragte, ob sie mit dem Buche fertig w\\xc3\\xa4re, das sie ihr neulich geschickt h\\xc3\\xa4tte. \\xe2\\x80\\x93 \\xc2\\xbbnein\\xc2\\xab, sagte Lotte,\\xc2\\xab es gef\\xc3\\xa4llt mir nicht, Sie k\\xc3\\xb6nnen's wiederhaben. Das vorige war auch nicht besser\\xc2\\xab. \\xe2\\x80\\x93 Ich erstaunte, als ich fragte, was es f\\xc3\\xbcr B\\xc3\\xbccher w\\xc3\\xa4ren, und sie mir antwortete: [Fu\\xc3\\x9fnote] \\xe2\\x80\\x93 ich fand so viel Charakter in allem, was sie sagte, ich sah mit jedem Wort neue Reize, neue Strahlen des Geistes aus ihren Gesichtsz\\xc3\\xbcgen hervorbrechen, die sich nach und nach vergn\\xc3\\xbcgt zu entfalten schienen, weil sie an mir f\\xc3\\xbchlte, da\\xc3\\x9f ich sie verstand.\",\n",
       " \"\\xc2\\xbbWie ich j\\xc3\\xbcnger war\\xc2\\xab, sagte sie, \\xc2\\xbbliebte ich nichts so sehr als Romane. Wei\\xc3\\x9f Gott, wie wohl mir's war, wenn ich mich Sonntags in so ein Eckchen setzen und mit ganzem Herzen an dem Gl\\xc3\\xbcck und Unstern einer Mi\\xc3\\x9f Jonny teilnehmen konnte. Ich leugne auch nicht, da\\xc3\\x9f die Art noch einige Reize f\\xc3\\xbcr mich hat. Doch da ich so selten an ein Buch komme, so mu\\xc3\\x9f es auch recht nach meinem Geschmack sein. Und der Autor ist mir der liebste, in dem ich meine Welt wiederfinde, bei dem es zugeht wie um mich, und dessen Geschichte mir doch so interessant und herzlich wird als mein eigen h\\xc3\\xa4uslich Leben, das freilich kein Paradies, aber doch im ganzen eine Quelle ums\\xc3\\xa4glicher Gl\\xc3\\xbcckseligkeit ist\\xc2\\xab.\",\n",
       " 'Ich bem\\xc3\\xbchte mich, meine Bewegungen \\xc3\\xbcber diese Worte zu verbergen. Das ging freilich nicht weit: denn da ich sie mit solcher Wahrheit im Vorbeigehen vom Landpriester von Wakefield, vom \\xe2\\x80\\x93 [Fu\\xc3\\x9fnote] reden h\\xc3\\xb6rte, kam ich ganz au\\xc3\\x9fer mich, sagte ihr alles, was ich mu\\xc3\\x9fte, und bemerkte erst nach einiger Zeit, da Lotte das Gespr\\xc3\\xa4ch an die anderen wendete, da\\xc3\\x9f diese die Zeit \\xc3\\xbcber mit offenen Augen, als s\\xc3\\xa4\\xc3\\x9fen sie nicht da, dagesessen hatten. Die Base sah mich mehr als einmal mit einem sp\\xc3\\xb6ttischen N\\xc3\\xa4schen an, daran mir aber nichts gelegen war.',\n",
       " 'Das Gespr\\xc3\\xa4ch fiel aufs Vergn\\xc3\\xbcgen am Tanze. \\xe2\\x80\\x93 \\xc2\\xbbwenn diese Leidenschaft ein Fehler ist,\\xc2\\xab sagte Lotte, \\xc2\\xbbso gestehe ich Ihnen gern, ich wei\\xc3\\x9f mir nichts \\xc3\\xbcbers Tanzen. Und wenn ich was im Kopfe habe und mir auf meinem verstimmten Klavier einen Contretanz vortrommle, so ist alles wieder gut\\xc2\\xab.',\n",
       " 'Wie ich mich unter dem Gesp\\xc3\\xa4che in den schwarzen Augen weidete \\xe2\\x80\\x93 wie die lebendigen Lippen und die frischen, muntern Wangen meine ganze Seele anzogen \\xe2\\x80\\x93 wie ich, in den herrlichen Sinn ihrer Rede ganz versunken, oft gar die Worte nicht h\\xc3\\xb6rte, mit denen sie sich ausdr\\xc3\\xbcckte \\xe2\\x80\\x93 davon hast du eine Vorstellung, weil du mich kennst. Kurz, ich stieg aus dem Wagen wie ein Tr\\xc3\\xa4umender, als wir vor dem Lusthause stille hielten, und war so in Tr\\xc3\\xa4umen rings in der d\\xc3\\xa4mmernden Welt verloren, da\\xc3\\x9f ich auf die Musik kaum achtete, die uns von dem erleuchteten Saal herunter entgegenschallte.',\n",
       " 'Die zwei Herren Audran und ein gewisser N. N. \\xe2\\x80\\x93 wer beh\\xc3\\xa4lt alle die Namen \\xe2\\x80\\x93, die der Base und Lottens T\\xc3\\xa4nzer waren, empfingen uns am Schlage, bem\\xc3\\xa4chtigten sich ihrer Frauenzimmer, und ich f\\xc3\\xbchrte das meinige hinauf.',\n",
       " \"Wir schlangen uns in Menuetts um einander herum; ich forderte ein Frauenzimmer nach dem andern auf, und just die unleidlichsten konnten nicht dazu kommen, einem die Hand zu reichen und ein Ende zu machen. Lotte und ihr T\\xc3\\xa4nzer fingen einen Englischen an, und wie wohl mir's war, als sie auch in der Reihe die Figur mit uns anfing, magst du f\\xc3\\xbchlen. Tanzen mu\\xc3\\x9f man sie sehen! Siehst du, sie ist so mit ganzem Herzen und mit ganzer Seele dabei, ihr ganzer K\\xc3\\xb6rper eine Harmonie, so sorglos, so unbefangen, als wenn das eigentlich alles w\\xc3\\xa4re, als wenn sie sonst nichts d\\xc3\\xa4chte, nichts empf\\xc3\\xa4nde; und in dem Augenblicke gewi\\xc3\\x9f schwindet alles andere vor ihr.\",\n",
       " \"Ich bat sie um den zweiten Contretanz; sie sagte mit den dritten zu, und mit der liebensw\\xc3\\xbcrdigsten Freim\\xc3\\xbctigkeit von der Welt versicherte sie mir, da\\xc3\\x9f sie herzlich gern deutsch tanze. \\xe2\\x80\\x93 \\xc2\\xbbEs ist hier so Mode, \\xc2\\xbbfuhr sie fort, \\xc2\\xbbda\\xc3\\x9f jedes Paar, das zusammen geh\\xc3\\xb6rt, beim Deutschen zusammenbleibt, und mein Chapeau walzt schlecht und dankt mir's, wenn ich ihm die Arbeit erlasse. Ihr Frauenzimmer kann's auch nicht und mag nicht, und ich habe im Englischen gesehen, da\\xc3\\x9f Sie gut walzen; wenn Sie nun mein sein wollen f\\xc3\\xbcrs Deutsche, so gehen Sie und bitten sich's von meinem Herrn aus, und ich will zu Ihrer Dame gehen\\xc2\\xab. \\xe2\\x80\\x93 ich gab ihr die Hand darauf, und wir machten aus, da\\xc3\\x9f ihr T\\xc3\\xa4nzer inzwischen meine T\\xc3\\xa4nzerin unterhalten sollte.\",\n",
       " \"Nun ging's an, und wir ergetzten uns eine Weile an manigfaltigen Schlingungen der Arme. Mit welchem Reize, mit welcher Fl\\xc3\\xbcchtigkeit bewegte sie sich! Und da wir nun gar ans Walzen kamen und wie die Sph\\xc3\\xa4ren um einander herumrollten, ging's freilich anfangs, weil's die wenigsten k\\xc3\\xb6nnen, ein bi\\xc3\\x9fchen bunt durcheinander. Wir waren klug und lie\\xc3\\x9fen sie austoben, und als die Ungeschicktesten den Plan ger\\xc3\\xa4umt hatten, fielen wir ein und hielten mit noch einem Paare, mit Audran und seiner T\\xc3\\xa4nzerin, wacker aus. Nie ist mir's so leicht vom Flecke gegangen. Ich war kein Mensch mehr. Das liebensw\\xc3\\xbcrdigste Gesch\\xc3\\xb6pf in den Armen zu haben und mit ihr herumzufliegen wie Wetter, da\\xc3\\x9f alles rings umher verging, und \\xe2\\x80\\x93 Wilhelm, um ehrlich zu sein, tat ich aber doch den Schwur, da\\xc3\\x9f ein M\\xc3\\xa4dchen, das ich liebte, auf das ich Anspr\\xc3\\xbcche h\\xc3\\xa4tte, mir nie mit einem andern walzen sollte als mit mir, und wenn ich dr\\xc3\\xbcber zugrunde gehen m\\xc3\\xbc\\xc3\\x9fte. Du verstehst mich!\",\n",
       " 'Wir machten einige Touren gehend im Saale, um zu verschnaufen. Dann setzte sie sich, und die Orangen, die ich beiseite gebracht hatte, die nun die einzigen noch \\xc3\\xbcbrigen waren, taten vortreffliche Wirkung, nur da\\xc3\\x9f mir mit jedem Schnittchen, das sie einer unbescheidenen Nachbarin ehrenhalben zuteilte, ein Stich durchs Herz ging.',\n",
       " 'Beim dritten englischen Tanz waren wir das zweite Paar. Wie wir die Reihe durchtanzten und ich, wei\\xc3\\x9f Gott mit wieviel Wonne, an ihrem Arm und Auge hing, das voll vom wahrsten Ausdruck des offensten, reinsten Vergn\\xc3\\xbcgens war, kommen wir an eine Frau, die mit wegen ihrer liebensw\\xc3\\xbcrdigen Miene auf einem nicht mehr ganz jungen Gesichte merkw\\xc3\\xbcrdig gewesen war. Sie sieht Lotten l\\xc3\\xa4chelnd an, hebt einen drohenden Finger auf und nennt den Namen Albert zweimal im Vorbeifliegen mit viel Bedeutung.',\n",
       " \"\\xc2\\xbbWer ist Albert?\\xc2\\xab sagte ich zu Lotten, \\xc2\\xbbwenn's nicht Vermessenheit ist zu fragen\\xc2\\xab. \\xe2\\x80\\x93 Sie war im Begriff zu antworten, als wir uns scheiden mu\\xc3\\x9ften, um die gro\\xc3\\x9fe Achte zu machen, und mich d\\xc3\\xbcnkte einiges Nachdenken auf ihrer Stirn zu sehen, als wir so vor einander vorbeikreuzten. \\xe2\\x80\\x93 \\xc2\\xbbWas soll ich's Ihnen leugnen,\\xc2\\xab sagte sie, indem sie mir die Hand zur Promenade bot. \\xc2\\xbbAlbert ist ein braver Mensch, dem ich so gut als verlobt bin\\xc2\\xab. \\xe2\\x80\\x93 nun war mir das nichts Neues (denn die M\\xc3\\xa4dchen hatten mir's auf dem Wege gesagt) und war mir doch so ganz neu, weil ich es noch nicht im Verh\\xc3\\xa4ltnis auf sie, die mir in so wenig Augenblicken so wert geworden war, gedacht hatte. Genug, ich verwirrte mich, verga\\xc3\\x9f mich und kam zwischen das unrechte Paar hinein, da\\xc3\\x9f alles drunter und dr\\xc3\\xbcber ging und Lottens ganze Gegenwart und Zerren und Ziehen n\\xc3\\xb6tig war, um es schnell wieder in Ordnung zu bringen.\",\n",
       " 'Der Tanz war noch nicht zu Ende, als die Blitze, die wir schon lange am Horizonte leuchten gesehn und die ich immer f\\xc3\\xbcr Wetterk\\xc3\\xbchlen ausgegeben hatte, viel st\\xc3\\xa4rker zu werden anfingen und der Donner die Musik \\xc3\\xbcberstimmte. Drei Frauenzimmer liefen aus der Reihe, denen ihre Herren folgten; die Unordnung wurde allgemein, und die Musik h\\xc3\\xb6rte auf. Es ist nat\\xc3\\xbcrlich, wenn uns ein Ungl\\xc3\\xbcck oder etwas Schreckliches im Vergn\\xc3\\xbcgen \\xc3\\xbcberrascht, da\\xc3\\x9f es st\\xc3\\xa4rkere Eindr\\xc3\\xbccke auf uns macht als sonst, teils wegen des Gegensatzes, der sich so lebhaft empfinden l\\xc3\\xa4\\xc3\\x9ft, teils und noch mehr, weil unsere Sinne einmal der F\\xc3\\xbchlbarkeit ge\\xc3\\xb6ffnet sind und also desto schneller einen Eindruck annehmen. Diesen Ursachen mu\\xc3\\x9f ich die wunderbaren Grimassen zuschreiben, in die ich mehrere Frauenzimmer ausbrechen sah. Die kl\\xc3\\xbcgste setzte sich in eine Ecke, mit dem R\\xc3\\xbccken gegen vor ihr nieder und verbarg den Kopf in der ersten Scho\\xc3\\x9f. Eine dritte schob sich zwischen beide hinein und umfa\\xc3\\x9fte ihre Schwesterchen mit tausend Tr\\xc3\\xa4nen. Einige wollten nach Hause; andere, die noch weniger wu\\xc3\\x9ften, was sie taten, hatten nicht so viel Besinnungskraft, den Keckheiten unserer jungen Schlucker zu steuern, die sehr besch\\xc3\\xa4ftigt zu sein schienen, alle die \\xc3\\xa4ngstlichen Gebete, die dem Himmel bestimmt waren, von den Lippen der sch\\xc3\\xb6nen Bedr\\xc3\\xa4ngten wegzufangen. Einige unserer Herren hatten sich hinabbegeben, um ein Pfeifchen in Ruhe zu rauchen; und die \\xc3\\xbcbrige Gesellschaft schlug es nicht aus, als die Wirtin auf den klugen Einfall kam, uns ein Zimmer anzuweisen, das L\\xc3\\xa4den und Vorh\\xc3\\xa4nge h\\xc3\\xa4tte. Kaum waren wir da angelangt, als Lotte besch\\xc3\\xa4ftigt war, einen Kreis von St\\xc3\\xbchlen zu stellen und, als sich die Gesellschaft auf ihre Bitte gesetzt hatte, den Vortrag zu einem Spiele zu tun.',\n",
       " \"Ich sah manchen, der in Hoffnung auf ein saftiges Pfand sein M\\xc3\\xa4ulchen spitzte und seine Glieder reckte. \\xe2\\x80\\x93 \\xc2\\xbbWir spielen Z\\xc3\\xa4hlens!\\xc2\\xab sagte sie\\xc2\\xab. Nun gebt acht! Ich geh' im Kreise herum von der Rechten zur Linken, und so z\\xc3\\xa4hlt ihr auch rings herum, jeder die Zahl, die an ihn kommt, und das mu\\xc3\\x9f gehen wie ein Lauffeuer, und wer stockt oder sich irrt, kriegt eine Ohrfeige, und so bis tausend\\xc2\\xab. \\xe2\\x80\\x93 nun war das lustig anzusehen: sie ging mit ausgestrecktem Arm im Kreise herum. \\xc2\\xbbEins\\xc2\\xab, fing der erste an, der Nachbar \\xc2\\xbbzwei\\xc2\\xab, \\xc2\\xbbdrei\\xc2\\xab der folgende, und so fort. Dann fing sie an, geschwinder zu gehen, immer geschwinder; da versah's einer: Patsch! Eine Ohrfeige, und \\xc3\\xbcber das Gel\\xc3\\xa4chter der folgende auch: Patsch! Und immer geschwinder. Ich selbst kriegte zwei Maulschellen und glaubte mit innigem Vergn\\xc3\\xbcgen zu bemerken, da\\xc3\\x9f sie st\\xc3\\xa4rker seien, als sie den \\xc3\\xbcbrigen zuzumessen pflegte. Ein allgemeines Gel\\xc3\\xa4chter und Geschw\\xc3\\xa4rm endigte das Spiel, ehe noch das Tausend ausgez\\xc3\\xa4hlt war. Die Vertrautesten zogen einander beiseite, das Gewitter war vor\\xc3\\xbcber, und ich folgte Lotten in den Saal. Unterwegs sagte sie: \\xc2\\xbb\\xc3\\xbcber die Ohrfeigen haben sie Wetter und alles vergessen!\\xc2\\xab \\xe2\\x80\\x93 ich konnte ihr nichts antworten. \\xe2\\x80\\x93 \\xc2\\xbbich war\\xc2\\xab, fuhr sie fort, \\xc2\\xbbeine der Furchtsamsten, und indem ich mich herzhaft stellte, um den andern Mut zu geben, bin ich mutig geworden\\xc2\\xab. \\xe2\\x80\\x93 Wir traten ans Fenster. Es donnerte abseitw\\xc3\\xa4rts, und der herrliche Regen s\\xc3\\xa4uselte auf das Land, und der erquickendste Wohlgeruch stieg in aller F\\xc3\\xbclle einer warmen Luft zu uns auf. Sie stand auf ihren Ellenbogen gest\\xc3\\xbctzt, ihr Blick durchdrang die Gegend; sie sah gen Himmel und auf mich, ich sah ihr Auge tr\\xc3\\xa4nenvoll, sie legte ihre Hand auf die meinige und sagte: \\xc2\\xbbKlopstock!\\xc2\\xab \\xe2\\x80\\x93 Ich erinnerte mich sogleich der herrlichen Ode, die ihr in Gedanken lag, und versank in dem Strome von Empfindungen, den sie in dieser Losung \\xc3\\xbcber mich ausgo\\xc3\\x9f. Ich ertrug's nicht, neigte mich auf ihre Hand und k\\xc3\\xbc\\xc3\\x9fte sie unter den wonnevollsten Tr\\xc3\\xa4nen. Und sah nach ihrem Auge wieder \\xe2\\x80\\x93 Edler! H\\xc3\\xa4ttest du deine Verg\\xc3\\xb6tterung in diesem Blicke gesehen, und m\\xc3\\xb6cht' ich nun deinen so oft entweihten Namen nie wieder nennen h\\xc3\\xb6ren!\",\n",
       " 'Am 19. Junius',\n",
       " 'Wo ich neulich mit meiner Erz\\xc3\\xa4hlung geblieben bin, wei\\xc3\\x9f ich nicht mehr; das wei\\xc3\\x9f ich, da\\xc3\\x9f es zwei Uhr des Nachts war, als ich zu Bette kam, und da\\xc3\\x9f, wenn ich dir h\\xc3\\xa4tte vorschwatzen k\\xc3\\xb6nnen, statt zu schreiben, ich dich vielleicht bis an den Morgen aufgehalten h\\xc3\\xa4tte.',\n",
       " 'Was auf unserer Hereinfahrt vom Balle geschehen ist, habe ich noch nicht erz\\xc3\\xa4hlt, habe auch heute keinen Tag dazu.',\n",
       " \"Es war der herrlichste Sonnenaufgang. Der tr\\xc3\\xb6pfelnde Wald und das erfrischte Feld umher! Unsere Gesellschafterinnen nickten ein. Sie fragte mich, ob ich nicht auch von der Partie sein wollte; ihretwegen sollt' ich unbek\\xc3\\xbcmmert sein. \\xe2\\x80\\x93 \\xc2\\xbbSo lange ich diese Augen offen sehe\\xc2\\xab, sagte ich und sah sie fest an,\\xc2\\xab so lange hat's keine Gefahr\\xc2\\xab. \\xe2\\x80\\x93 Und wir haben beide ausgehalten bis an ihr Tor, da ihr die Magd leise aufmachte und auf ihr Fragen versicherte, da\\xc3\\x9f Vater und Kleine wohl seien und alle noch schliefen. Da verlie\\xc3\\x9f ich sie mit der Bitte, sie selbigen Tags noch sehen zu d\\xc3\\xbcrfen; sie gestand mir's zu, und ich bin gekommen \\xe2\\x80\\x93 und seit der Zeit k\\xc3\\xb6nnen Sonne, Mond und Sterne geruhig ihre Wirtschaft treiben, ich wei\\xc3\\x9f weder da\\xc3\\x9f Tag noch da\\xc3\\x9f Nacht ist, und die ganze Welt verliert sich um mich her.\",\n",
       " 'Am 21. Junius',\n",
       " \"Ich lebe so gl\\xc3\\xbcckliche Tage, wie sie Gott seinen Heiligen ausspart; und mit mir mag werden was will, so darf ich nicht sagen, da\\xc3\\x9f ich die Freuden, die reinsten Freuden des Lebens nicht genossen habe. \\xe2\\x80\\x93 du kennst mein Wahlheim; dort bin ich v\\xc3\\xb6llig etabliert, von da habe ich nur eine halbe Stunde zu Lotten, dort f\\xc3\\xbchl' ich mich selbst und alles Gl\\xc3\\xbcck, das dem Menschen gegeben ist.\",\n",
       " \"H\\xc3\\xa4tt' ich gedacht, als ich mir Wahlheim zum Zwecke meiner Spazierg\\xc3\\xa4nge w\\xc3\\xa4hlte, da\\xc3\\x9f es so nahe am Himmel l\\xc3\\xa4ge! Wie oft habe ich das Jagdhaus, das nun alle meine W\\xc3\\xbcnsche einschlie\\xc3\\x9ft, auf meinen weiten Wanderungen, bald vom Berge, bald von der Ebne \\xc3\\xbcber den Flu\\xc3\\x9f gesehn!\",\n",
       " 'Lieber Wilhelm, ich habe allerlei nachgedacht, \\xc3\\xbcber die Begier im Menschen, sich auszubreiten, neue Entdeckungen zu machen, herumzuschweifen; und dann wieder \\xc3\\xbcber den inneren Trieb, sich der Einschr\\xc3\\xa4nkung willig zu ergeben, in dem Gleise der Gewohnheit so hinzufahren und sich weder um Rechts noch um Links zu bek\\xc3\\xbcmmern.',\n",
       " 'Es ist wunderbar: wie ich hierher kam und vom H\\xc3\\xbcgel in das sch\\xc3\\xb6ne Tal schaute, wie es mich rings umher anzog. \\xe2\\x80\\x93 dort das W\\xc3\\xa4ldchen! \\xe2\\x80\\x93 ach k\\xc3\\xb6nntest du dich in seine Schatten mischen! \\xe2\\x80\\x93 dort die Spitze des Berges! \\xe2\\x80\\x93 ach k\\xc3\\xb6nntest du von da die weite Gegend \\xc3\\xbcberschauen! \\xe2\\x80\\x93 die in einander geketteten H\\xc3\\xbcgel und vertraulichen T\\xc3\\xa4ler! \\xe2\\x80\\x93 o k\\xc3\\xb6nnte ich mich in ihnen verlieren! \\xe2\\x80\\x93 ich eilte hin, und kehrte zur\\xc3\\xbcck, und hatte nicht gefunden, was ich hoffte. O es ist mit der Ferne wie mit der Zukunft! Ein gro\\xc3\\x9fes d\\xc3\\xa4mmerndes Ganze ruht vor unserer Seele, unsere Empfindung verschwimmt darin wie unser Auge, und wir sehnen uns, ach! Unser ganzes Wesen hinzugeben, uns mit aller Wonne eines einzigen, gro\\xc3\\x9fen, herrlichen Gef\\xc3\\xbchls ausf\\xc3\\xbcllen zu lassen. \\xe2\\x80\\x93 und ach! Wenn wir hinzueilen, wenn das Dort nun Hier wird, ist alles vor wie nach, und wir stehen in unserer Armut, in unserer Eingeschr\\xc3\\xa4nktheit, und unsere Seele lechzt nach entschl\\xc3\\xbcpftem Labsale.',\n",
       " 'So sehnt sich der unruhigste Vagabund zuletzt wieder nach seinem Vaterlande und findet in seiner H\\xc3\\xbctte, an der Brust seiner Gattin, in dem Kreise seiner Kinder, in den Gesch\\xc3\\xa4ften zu ihrer Erhaltung die Wonne, die er in der weiten Welt vergebens suchte.',\n",
       " \"Wenn ich des Morgens mit Sonnenaufgange hinausgehe nach meinem Wahlheim und dort im Wirtsgarten mir meine Zuckererbsen selbst pfl\\xc3\\xbccke, mich hinsetze, sie abf\\xc3\\xa4dne und dazwischen in meinem Homer lese; wenn ich in der kleinen K\\xc3\\xbcche mir einen Topf w\\xc3\\xa4hle, mir Butter aussteche, Schoten ans Feuer stelle, zudecke und mich dazusetze, sie manchmal umzusch\\xc3\\xbctteln: da f\\xc3\\xbchl' ich so lebhaft, wie die \\xc3\\xbcberm\\xc3\\xbctigen Freier der Penelope Ochsen und Schweine schlachten, zerlegen und braten. Es ist nichts, das mich so mit einer stillen, wahren Empfindung ausf\\xc3\\xbcllte als die Z\\xc3\\xbcge patriarchalischen Lebens, die ich, Gott sei Dank, ohne Affektation in meine Lebensart verweben kann.\",\n",
       " \"Wie wohl ist mir's, da\\xc3\\x9f mein Herz die simple, harmlose Wonne des Menschen f\\xc3\\xbchlen kann, der ein Krauthaupt auf seinen Tisch bringt, das er selbst gezogen, und nun nicht den Kohl allein, sondern all die guten Tage, den sch\\xc3\\xb6nen Morgen, da er ihn pflanzte, die lieblichen Abende, da er ihn bego\\xc3\\x9f, und da er an dem fortschreitenden Wachstum seine Freude hatte, alle in einem Augenblicke wieder mitgenie\\xc3\\x9ft.\",\n",
       " 'Am 29. Junius',\n",
       " 'Vorgestern kam der Medikus hier aus der Stadt hinaus zum Amtmann und fand mich auf der Erde unter Lottens Kindern, wie einige auf mir herumkrabbelten, andere mich neckten, und wie ich sie kitzelte und ein gro\\xc3\\x9fes Geschrei mit ihnen erregte. Der Doktor, der eine sehr dogmatische Drahtpuppe ist, unterm Reden seine Manschetten in Falten legt und einen Kr\\xc3\\xa4usel ohne Ende herauszupft, fand dieses unter der W\\xc3\\xbcrde eines gescheiten Menschen; das merkte ich an seiner Nase. Ich lie\\xc3\\x9f mich aber in nichts st\\xc3\\xb6ren, lie\\xc3\\x9f ihn sehr vern\\xc3\\xbcnftige Sachen abhandeln und baute den Kindern ihre Kartenh\\xc3\\xa4user wieder, die sie zerschlagen hatten. Auch ging er darauf in der Stadt herum und beklagte, des Amtmanns Kinder w\\xc3\\xa4ren so schon ungezogen genug, der Werther verderbe sie nun v\\xc3\\xb6llig.',\n",
       " 'Ja, lieber Wilhelm, meinem Herzen sind die Kinder am n\\xc3\\xa4chsten auf der Erde. Wenn ich ihnen zusehe und in dem kleinen Dinge die Keime aller Tugenden, aller Kr\\xc3\\xa4fte sehe, die sie einmal so n\\xc3\\xb6tig brauchen werden; wenn ich in dem Eigensinne k\\xc3\\xbcnftige Standhaftigkeit und Festigkeit des Charakters, in dem Mutwillen guten Humor und Leichtigkeit, \\xc3\\xbcber die Gefahren der Welt hinzuschl\\xc3\\xbcpfen, erblicke, alles so unverdorben, so ganz! \\xe2\\x80\\x93 immer, immer wiederhole ich dann die goldenen Worte des Lehrers der Menschen: \\xc2\\xbbwenn ihr nicht werdet wie eines von diesen!\\xc2\\xab und nun, mein Bester, sie, die unseresgleichen sind, die wir als unsere Muster ansehen sollten, behandeln wir als Untertanen. Sie sollen keinen Willen haben! \\xe2\\x80\\x93 haben wir denn keinen? Und wo liegt das Vorrecht? \\xe2\\x80\\x93 weil wir \\xc3\\xa4lter sind und gescheiter! \\xe2\\x80\\x93 guter Gott von deinem Himmel, alte Kinder siehst du und junge Kinder, und nichts weiter; und an welchen du mehr Freude hast, das hat dein Sohn schon lange verk\\xc3\\xbcndigt. Aber sie glauben an ihn und h\\xc3\\xb6ren ihn nicht \\xe2\\x80\\x93 das ist auch was Altes! \\xe2\\x80\\x93 und bilden ihre Kinder nach sich und \\xe2\\x80\\x93 Adieu, Wilhelm! Ich mag dar\\xc3\\xbcber nicht weiter radotieren.',\n",
       " 'Am 1. Julius',\n",
       " \"Was Lotte einem Kranken sein mu\\xc3\\x9f, f\\xc3\\xbchl' ich an meinem eigenen Herzen, das \\xc3\\xbcbler dran ist als manches, das auf dem Siechbette verschmachtet. Sie wird einige Tage in der Stadt bei einer rechtschaffnen Frau zubringen, die sich nach der Aussage der \\xc3\\x84rzte ihrem Ende naht und in diesen letzten Augenblicken Lotten um sich haben will. Ich war vorige Woche mir ihr, den Pfarrer von St. zu besuchen; ein \\xc3\\x96rtchen, das eine Stunde seitw\\xc3\\xa4rts im Gebirge liegt. Wir kamen gegen vier dahin. Lotte hatte ihre zweite Schwester mitgenommen. Als wir in den mit zwei hohen Nu\\xc3\\x9fb\\xc3\\xa4umen \\xc3\\xbcberschatteten Pfarrhof traten, sa\\xc3\\x9f der gute alte Mann auf einer Bank vor der Haust\\xc3\\xbcr, und da er Lotten sah, ward er wie neu belebt, verga\\xc3\\x9f seinen Knotenstock und wagte sich auf, ihr entgegen. Sie lief hin zu ihm, n\\xc3\\xb6tigte ihn sich niederzulassen, indem sie sich zu ihm setzte, brachte viele Gr\\xc3\\xbc\\xc3\\x9fe von ihrem Vater, herzte seinen garstigen, schmutzigen j\\xc3\\xbcngsten Buben, das Quakelchen seines Alters. Du h\\xc3\\xa4ttest sie sehen sollen, wie sie den Alten besch\\xc3\\xa4ftigte, wie sie ihre Stimme erhob, um seinen halb tauben Ohren vernehmlich zu werden, wie sie ihm von jungen, robusten Leuten erz\\xc3\\xa4hlte, die unvermutet gestorben w\\xc3\\xa4ren, von der Vortrefflichkeit des Karlsbades, und wie sie seinen Entschlu\\xc3\\x9f lobte, k\\xc3\\xbcnftigen Sommer hinzugehen, wie sie fand, da\\xc3\\x9f er viel besser auss\\xc3\\xa4he, viel munterer sei als das letztemal, da sie ihn gesehn. \\xe2\\x80\\x93 ich hatte indes der Frau Pfarrerin meine H\\xc3\\xb6flichkeiten gemacht. Der Alte wurde ganz munter, und da ich nicht umhin konnte, die sch\\xc3\\xb6nen Nu\\xc3\\x9fb\\xc3\\xa4ume zu loben, die uns so lieblich beschatteten, fing er an, uns, wiewohl mit einiger Beschwerlichkeit, die Geschichte davon zu geben. \\xe2\\x80\\x93 \\xc2\\xbbden alten\\xc2\\xab, sagte er,\\xc2\\xab wissen wir nicht, wer den gepflanzt hat; einige sagen dieser, andere jener Pfarrer. Der j\\xc3\\xbcngere aber dort hinten ist so alt als meine Frau, im Oktober funfzig Jahr. Ihr Vater pflanzte ihn des Morgens, als sie gegen Abend geboren wurde. Er war mein Vorfahr im Amt, und wie lieb ihm der Baum war, ist nicht zu sagen; mir ist er's gewi\\xc3\\x9f nicht weniger. Meine Frau sa\\xc3\\x9f darunter auf einem Balken und strickte, da ich vor siebenundzwanzig Jahren als ein armer Student zum erstenmale hier in den Hof kam\\xc2\\xab. \\xe2\\x80\\x93 Lotte fragte nach seiner Tochter; es hie\\xc3\\x9f, sie sei mit Herrn Schmidt auf die Wiese hinaus zu den Arbeitern, und der Alte fuhr in seiner Erz\\xc3\\xa4hlung fort: wie sein Vorfahr ihn liebgewonnen und die Tochter dazu, und wie er erst sein Vikar und dann sein Nachfolger geworden. Die Geschichte war nicht lange zu Ende, als die Jungfer Pfarrerin mit dem sogenannten Herrn Schmidt durch den Garten herkam: sie bewillkommte Lotten mit herzlicher W\\xc3\\xa4rme, und ich mu\\xc3\\x9f sagen, sie gefiel mir nicht \\xc3\\xbcbel; eine rasche, wohlgewachsene Br\\xc3\\xbcnette, die einen die kurze Zeit \\xc3\\xbcber auf dem Lande wohl unterhalten h\\xc3\\xa4tte. Ihr Liebhaber (denn als solchen stellte sich Herr Schmidt gleich dar), ein feiner, doch stiller Mensch, der sich nicht in unsere Gespr\\xc3\\xa4che mischen wollte, ob ihn gleich Lotte immer hereinzog. Was mich am meisten betr\\xc3\\xbcbte, war, da\\xc3\\x9f ich an seinen Gesichtsz\\xc3\\xbcgen zu bemerken schien, es sei mehr Eigensinn und \\xc3\\xbcbler Humor als Eingeschr\\xc3\\xa4nktheit des Verstandes, der ihn sich mitzuteilen hinderte. In der Folge ward dies leider nur zu deutlich; denn als Friederike beim Spazierengehen mit Lotten und gelegentlich auch mit mir ging, wurde des Herrn Angesicht, das ohnedies einer br\\xc3\\xa4unlichen Farbe war, so sichtlich verdunkelt, da\\xc3\\x9f es Zeit war, da\\xc3\\x9f Lotte mich beim \\xc3\\x84rmel zupfte und mir zu verstehn gab, da\\xc3\\x9f ich mit Friederiken zu artig getan. Nun verdrie\\xc3\\x9ft mich nichts mehr, als wenn die Menschen einander plagen, am meisten, wenn junge Leute in der Bl\\xc3\\xbcte des Lebens, da sie am offensten f\\xc3\\xbcr alle Freuden sein k\\xc3\\xb6nnten, einander die paar guten Tage mit Fratzen verderben und nur erst zu sp\\xc3\\xa4t das Unersetzliche ihrer Verschwendung einsehen. Mich wurmte das, und ich konnte nicht umhin, da wir gegen Abend in den Pfarrhof zur\\xc3\\xbcckkehrten und an einem Tische Milch a\\xc3\\x9fen und das Gespr\\xc3\\xa4ch auf Freude und Leid der Welt sich wendete, den Faden zu ergreifen und recht herzlich gegen die \\xc3\\xbcble Laune zu reden. \\xe2\\x80\\x93 \\xc2\\xbbwir Menschen beklagen uns oft\\xc2\\xab, fing ich an, \\xc2\\xbbda\\xc3\\x9f der guten Tage so wenig sind und der schlimmen so viel, und, wie mich d\\xc3\\xbcnkt, meist mit Unrecht. Wenn wir immer ein offenes Herz h\\xc3\\xa4tten, das Gute zu genie\\xc3\\x9fen, das uns Gott f\\xc3\\xbcr jeden Tag bereitet, wir w\\xc3\\xbcrden alsdann auch Kraft genug haben, das \\xc3\\x9cbel zu tragen, wenn es kommt\\xc2\\xab. \\xe2\\x80\\x93 \\xc2\\xbbWir haben aber unser Gem\\xc3\\xbct nicht in unserer Gewalt\\xc2\\xab, versetzte die Pfarrerin, \\xc2\\xbbwie viel h\\xc3\\xa4ngt vom K\\xc3\\xb6rper ab! Wenn einem nicht wohl ist, ist's einem \\xc3\\xbcberall nicht recht\\xc2\\xab. \\xe2\\x80\\x93 Ich gestand ihr das ein. \\xe2\\x80\\x93 \\xc2\\xbbWir wollen es also\\xc2\\xab, fuhr ich fort,\\xc2\\xab als eine Krankheit ansehen und fragen, ob daf\\xc3\\xbcr kein Mittel ist?\\xc2\\xab \\xe2\\x80\\x93 \\xc2\\xbbDas l\\xc3\\xa4\\xc3\\x9ft sich h\\xc3\\xb6ren\\xc2\\xab, sagte Lotte, \\xc2\\xbbich glaube wenigstens, da\\xc3\\x9f viel von uns abh\\xc3\\xa4ngt. Ich wei\\xc3\\x9f es an mir. Wenn mich etwas neckt und mich verdrie\\xc3\\x9flich machen will, spring' ich auf und sing' ein paar Contret\\xc3\\xa4nze den Garten auf und ab, gleich ist's weg\\xc2\\xab. \\xe2\\x80\\x93 \\xc2\\xbbdas war's, was ich sagen wollte,\\xc2\\xab versetzte ich, \\xc2\\xbbes ist mit der \\xc3\\xbcblen Laune v\\xc3\\xb6llig wie mit der Tr\\xc3\\xa4gheit, denn es ist eine Art von Tr\\xc3\\xa4gheit. Unsere Natur h\\xc3\\xa4ngt sehr dahin, und doch, wenn wir nur einmal die Kraft haben, uns zu ermannen, geht uns die Arbeit frisch von der Hand, und wir finden in der T\\xc3\\xa4tigkeit ein wahres Vergn\\xc3\\xbcgen\\xc2\\xab. \\xe2\\x80\\x93 Friederike war sehr aufmerksam, und der junge Mensch wandte mir ein, da\\xc3\\x9f man nicht Herr \\xc3\\xbcber sich selbst sei und am wenigsten \\xc3\\xbcber seine Empfindungen gebieten k\\xc3\\xb6nne. \\xe2\\x80\\x93 \\xc2\\xbbes ist hier die Frage von einer unangenehmen Empfindung\\xc2\\xab, versetzte ich, \\xc2\\xbbdie doch jedermann gerne los ist; und niemand wei\\xc3\\x9f, wie weit seine Kr\\xc3\\xa4fte gehen, bis er sie versucht hat. Gewi\\xc3\\x9f, wer krank ist, wird bei allen \\xc3\\x84rzten herumfragen, und die gr\\xc3\\xb6\\xc3\\x9ften Resignationen, die bittersten Arzeneien wird er nicht abweisen, um seine gew\\xc3\\xbcnschte Gesundheit zu erhalten\\xc2\\xab. \\xe2\\x80\\x93 ich bemerkte, da\\xc3\\x9f der ehrliche Alte sein Geh\\xc3\\xb6r anstrengte, um an unserm Diskurse teilzunehmen, ich erhob die Stimme, indem ich die Rede gegen ihn wandte\\xc2\\xab. Man predigt gegen so viele Laster\\xc2\\xab, sagte ich, \\xc2\\xbbich habe noch nie geh\\xc3\\xb6rt, da\\xc3\\x9f man gegen die \\xc3\\xbcble Laune vom Predigtstuhle [Fu\\xc3\\x9fnote] gearbeitet h\\xc3\\xa4tte. \\xe2\\x80\\x93 \\xc2\\xbbDas m\\xc3\\xbc\\xc3\\x9ften die Stadtpfarrer tun\\xc2\\xab, sagte er, \\xc2\\xbbdie Bauern haben keinen b\\xc3\\xb6sen Humor; doch k\\xc3\\xb6nnte es auch zuweilen nicht schaden, es w\\xc3\\xa4re eine Lektion f\\xc3\\xbcr seine Frau wenigstens und f\\xc3\\xbcr den Herrn Amtmann\\xc2\\xab. \\xe2\\x80\\x93 Die Gesellschaft lachte, und er herzlich mit, bis er in einen Husten verfiel, der unsern Diskurs eine Zeitlang unterbrach; darauf denn der junge Mensch wieder das Wort nahm: \\xc2\\xbbSie nannten den b\\xc3\\xb6sen Humor ein Laster; mich deucht, das ist \\xc3\\xbcbertrieben\\xc2\\xab. \\xe2\\x80\\x93 \\xc2\\xbbMit nichten\\xc2\\xab, gab ich zur Antwort, \\xc2\\xbbwenn das, womit man sich selbst und seinem N\\xc3\\xa4chsten schadet, diesen Namen verdient. Ist es nicht genug, da\\xc3\\x9f wir einander nicht gl\\xc3\\xbccklich machen k\\xc3\\xb6nnen, m\\xc3\\xbcssen wir auch noch einander das Vergn\\xc3\\xbcgen rauben, das jedes Herz sich noch manchmal selbst gew\\xc3\\xa4hren kann? Und nennen Sie mir den Menschen, der \\xc3\\xbcbler Laune ist und so brav dabei, sie zu verbergen, sie allein zu tragen, ohne die Freude um sich her zu zerst\\xc3\\xb6ren! Oder ist sie nicht vielmehr ein innerer Unmut \\xc3\\xbcber unsere eigene Unw\\xc3\\xbcrdigkeit, ein Mi\\xc3\\x9ffallen an uns selbst, das immer mit einem Neide verkn\\xc3\\xbcpft ist, der durch eine t\\xc3\\xb6richte Eitelkeit aufgehetzt wird? Wir sehen gl\\xc3\\xbcckliche Menschen, die wir nicht gl\\xc3\\xbccklich machen, und das ist unertr\\xc3\\xa4glich\\xc2\\xab. \\xe2\\x80\\x93 Lotte l\\xc3\\xa4chelte mich an, da sie die Bewegung sah, mit der ich redete, und eine Tr\\xc3\\xa4ne in Friederikens Auge spornte mich fortzufahren. \\xe2\\x80\\x93 \\xc2\\xbbWehe denen\\xc2\\xab, sagte ich, \\xc2\\xbbdie sich der Gewalt bedienen, die sie \\xc3\\xbcber ein Herz haben, um ihm die einfachen Freuden zu rauben, die aus ihm selbst hervorkeimen. Alle Geschenke, alle Gef\\xc3\\xa4lligkeiten der Welt ersetzen nicht einen Augenblick Vergn\\xc3\\xbcgen an sich selbst, den uns eine neidische Unbehaglichkeit unsers Tyrannen verg\\xc3\\xa4llt hat\\xc2\\xab.\",\n",
       " 'Mein ganzes Herz war voll in diesem Augenblicke; die Erinnerung so manches Vergangenen dr\\xc3\\xa4ngte sich an meine Seele, und die Tr\\xc3\\xa4nen kamen mir in die Augen.',\n",
       " '\\xc2\\xbbWer sich das nur t\\xc3\\xa4glich sagte\\xc2\\xab, rief ich aus,\\xc2\\xab du vermagst nichts auf deine Freunde, als ihnen ihre Freuden zu lassen und ihr Gl\\xc3\\xbcck zu vermehren, indem du es mit ihnen genie\\xc3\\x9fest. Vermagst du, wenn ihre innere Seele von einer \\xc3\\xa4ngstigenden Leidenschaft gequ\\xc3\\xa4lt, vom Kummer zerr\\xc3\\xbcttet ist, ihnen einen Tropfen Linderung zu geben?',\n",
       " 'Und wenn die letzte, bangste Krankheit dann \\xc3\\xbcber das Gesch\\xc3\\xb6pf herf\\xc3\\xa4llt, das du in bl\\xc3\\xbchenden Tagen untergraben hast, und sie nun daliegt in dem erb\\xc3\\xa4rmlichsten Ermatten, das Auge gef\\xc3\\xbchllos gen Himmel sieht, der Todesschwei\\xc3\\x9f auf der blassen Stirne abwechselt, und du vor dem Bette stehst wie ein Verdammter, in dem innigsten Gef\\xc3\\xbchl, da\\xc3\\x9f du nichts vermagst mit deinem ganzen Verm\\xc3\\xb6gen, und die Angst dich inwendig krampft, da\\xc3\\x9f du alles hingeben m\\xc3\\xb6chtest, dem untergehenden Gesch\\xc3\\xb6pfe einen Tropfen St\\xc3\\xa4rkung, einen Funken Mut einfl\\xc3\\xb6\\xc3\\x9fen zu k\\xc3\\xb6nnen\\xc2\\xab.',\n",
       " 'Die Erinnerung einer solchen Szene, wobei ich gegenw\\xc3\\xa4rtig war, fiel mit ganzer Gewalt bei diesen Worten \\xc3\\xbcber mich. Ich nahm das Schnupftuch vor die Augen und verlie\\xc3\\x9f die Gesellschaft, und nur Lottens Stimme, die mir rief, wir wollten fort, brachte mich zu mir selbst. Und wie sie mich auf dem Wege schalt \\xc3\\xbcber den zu warmen Anteil an allem, und da\\xc3\\x9f ich dr\\xc3\\xbcber zugrunde gehen w\\xc3\\xbcrde! Da\\xc3\\x9f ich mich schonen sollte! \\xe2\\x80\\x93 O der Engel! Um deinetwillen mu\\xc3\\x9f ich leben!',\n",
       " 'Am 6. Julius',\n",
       " \"Sie ist immer um ihre sterbende Freundin, und ist immer dieselbe, immer das gegenw\\xc3\\xa4rtige, holde Gesch\\xc3\\xb6pf, das, wo sie hinsieht, Schmerzen lindert und Gl\\xc3\\xbcckliche macht. Sie ging gestern abend mit Marianen und dem kleinen Malchen spazieren, ich wu\\xc3\\x9fte es und traf sie an, und wir gingen zusammen. Nach einem Wege von anderthalb Stunden kamen wir gegen die Stadt zur\\xc3\\xbcck, an den Brunnen, der mir so wert und nun tausendmal werter ist. Lotte setzte sich aufs M\\xc3\\xa4uerchen, wir standen vor ihr. Ich sah umher, ach, und die Zeit, da mein Herz so allein war, lebte wieder vor mir auf. \\xe2\\x80\\x93 \\xc2\\xbbLieber Brunnen\\xc2\\xab, sagte ich, \\xc2\\xbbseither hab' ich nicht mehr an deiner K\\xc3\\xbchle geruht, hab' in eilendem Vor\\xc3\\xbcbergehn dich manchmal nicht angesehn\\xc2\\xab. \\xe2\\x80\\x93 Ich blickte hinab und sah, da\\xc3\\x9f Malchen mit einem Glase Wasser sehr besch\\xc3\\xa4ftigt heraufstieg. \\xe2\\x80\\x93 Ich sah Lotten an und f\\xc3\\xbchlte alles, was ich an ihr habe. Indem kommt Malchen mit einem Glase. Mariane wollt' es ihr abnehmen: \\xc2\\xbbnein!\\xc2\\xab rief das Kind mit dem s\\xc3\\xbc\\xc3\\x9festen Ausdrucke,\\xc2\\xab nein, Lottchen, du sollst zuerst trinken!\\xc2\\xab \\xe2\\x80\\x93 ich ward \\xc3\\xbcber die Wahrheit, \\xc3\\xbcber die G\\xc3\\xbcte, womit sie das ausrief, so entz\\xc3\\xbcckt, da\\xc3\\x9f ich meine Empfindung mit nichts ausdr\\xc3\\xbccken konnte, als ich nahm das Kind von der Erde und k\\xc3\\xbc\\xc3\\x9fte es lebhaft, das sogleich zu schreien und zu weinen anfing. \\xe2\\x80\\x93 \\xc2\\xbbSie haben \\xc3\\xbcbel getan\\xc2\\xab, sagte Lotte. \\xe2\\x80\\x93 Ich war betroffen. \\xe2\\x80\\x93 \\xc2\\xbbkomm, Malchen, \\xc2\\xbbfuhr sie fort, indem sie es bei der Hand nahm und die Stufen hinabf\\xc3\\xbchrte, \\xc2\\xbbda wasche dich aus der frischen Quelle geschwind, geschwind, da tut's nichts\\xc2\\xab. \\xe2\\x80\\x93 Wie ich so dastand und zusah, mit welcher Emsigkeit das Kleine seinen nassen H\\xc3\\xa4ndchen die Backen rieb, mit welchem Glauben, da\\xc3\\x9f durch die Wunderquelle alle Verunreinigung abgesp\\xc3\\xbclt und die Schmach abgetan w\\xc3\\xbcrde, einen h\\xc3\\xa4\\xc3\\x9flichen Bart zu kriegen; wie Lotte sagte: \\xc2\\xbbes ist genug!\\xc2\\xab und das Kind doch immer eifrig fortwusch, als wenn Viel mehr t\\xc3\\xa4te als Wenig \\xe2\\x80\\x93 ich sage dir, Wilhelm, ich habe mit mehr Respekt nie einer Taufhandlung beigewohnt; und als Lotte heraufkam, h\\xc3\\xa4tte ich mich gern vor ihr niedergeworfen wie vor einem Propheten, der die Schulden einer Nation weggeweiht hat.\",\n",
       " \"Des Abends konnte ich nicht umhin, in der Freude meines Herzens den Vorfall einem Manne zu erz\\xc3\\xa4hlen, dem ich Menschensinn zutraute, weil er Verstand hat; aber wie kam ich an! Er sagte, das sei sehr \\xc3\\xbcbel von Lotten gewesen; man solle den Kindern nichts weis machen; dergleichen gebe zu unz\\xc3\\xa4hligen Irrt\\xc3\\xbcmern und Aberglauben Anla\\xc3\\x9f, wovor man die Kinder fr\\xc3\\xbchzeitig bewahren m\\xc3\\xbcsse. \\xe2\\x80\\x93 nun fiel mir ein, da\\xc3\\x9f der Mann vor acht Tagen hatte taufen lassen, drum lie\\xc3\\x9f ich's vorbeigehen und blieb in meinem Herzen der Wahrheit getreu: wir sollen es mit den Kindern machen wie Gott mit uns, der uns am gl\\xc3\\xbccklichsten macht, wenn er uns in freundlichem Wahne so hintaumeln l\\xc3\\xa4\\xc3\\x9ft.\",\n",
       " 'Am 8. Julius',\n",
       " \"Was man ein Kind ist! Was man nach so einem Blicke geizt! Was man ein Kind ist! \\xe2\\x80\\x93 Wir waren nach Wahlheim gegangen. Die Frauenzimmer fuhren hinaus, und w\\xc3\\xa4hrend unserer Spazierg\\xc3\\xa4nge glaubte ich in Lottens schwarzen Augen \\xe2\\x80\\x93 ich bin ein Tor, verzeih mir's! Du solltest sie sehen, diese Augen. \\xe2\\x80\\x93 Da\\xc3\\x9f ich kurz bin (denn die Augen fallen mir zu vor Schlaf): siehe, die Frauenzimmer stiegen ein, da standen um die Kutsche der junge W., Selstadt und Audran und ich. Da ward aus dem Schlage geplaudert mit den Kerlchen, die freilich leicht und l\\xc3\\xbcftig genug waren. \\xe2\\x80\\x93 ich suchte Lottens Augen: ach, sie gingen von einem zum andern! Aber auf mich! Mich! Mich! Der ganz allein auf sie resigniert dastand, fielen sie nicht! \\xe2\\x80\\x93 Mein Herz sagte ihr tausend Adieu! Und sie sah mich nicht! Die Kutsche fuhr vorbei, und eine Tr\\xc3\\xa4ne stand mir im Auge. Ich sah ihr nach und sah Lottens Kopfputz sich zum Schlage herauslehnen, und sie wandte sich um zu sehen, ach! Nach mir? \\xe2\\x80\\x93 Lieber! In dieser Ungewi\\xc3\\x9fheit schwebe ich; das ist mein Trost: vielleicht hat sie sich nach mir umgesehen! Vielleicht! \\xe2\\x80\\x93 Gute Nacht! O, was ich ein Kind bin!\",\n",
       " 'Am 10. Julius',\n",
       " 'Die alberne Figur, die ich mache, wenn in Gesellschaft von ihr gesprochen wird, solltest du sehen! Wenn man mich nun gar fragt, wie sie mir gef\\xc3\\xa4llt? \\xe2\\x80\\x93 gef\\xc3\\xa4llt! Das Wort hasse ich auf den Tod. Was mu\\xc3\\x9f das f\\xc3\\xbcr ein Mensch sein, dem Lotte gef\\xc3\\xa4llt, dem sie nicht alle Sinne, alle Empfindungen ausf\\xc3\\xbcllt! Gef\\xc3\\xa4llt! Das Wort hasse ich auf den Tod. Was mu\\xc3\\x9f das f\\xc3\\xbcr ein Mensch sein, dem Lotte gef\\xc3\\xa4llt, dem sie nicht alle Sinne, alle Empfindungen ausf\\xc3\\xbcllt! Gef\\xc3\\xa4llt! Neulich fragte mich einer, wie mir Ossian gefiele!',\n",
       " 'Am 11. Julius',\n",
       " 'Frau M. ist sehr schlecht; ich bete f\\xc3\\xbcr ihr Leben, weil ich mit Lotten dulde. Ich sehe sie selten bei einer Freundin, und heute hat sie mir einen wunderbaren Vorfall erz\\xc3\\xa4hlt. \\xe2\\x80\\x93 der alte M. ist ein geiziger, rangiger Filz, der seine Frau im Leben was Rechts geplagt und eingeschr\\xc3\\xa4nkt hat; doch hat sich die Frau immer durchzuhelfen gewu\\xc3\\x9ft. Vor wenigen Tagen, als der Arzt ihr das Leben abgesprochen hatte, lie\\xc3\\x9f sie ihren Mann kommen (Lotte war im Zimmer) und redete ihn also an: \\xc2\\xbbIch mu\\xc3\\x9f dir eine Sache gestehen, die nach meinem Tode Verwirrung und Verdru\\xc3\\x9f machen k\\xc3\\xb6nnte. Ich habe bisher die Haushaltung gef\\xc3\\xbchrt, so ordentlich und sparsam als m\\xc3\\xb6glich; allein du wirst mir verzeihen, da\\xc3\\x9f ich dich diese drei\\xc3\\x9fig Jahre her hintergangen habe. Du bestimmtest im Anfange unserer Heirat ein Geringes f\\xc3\\xbcr die Bestreitung der K\\xc3\\xbcche und anderer h\\xc3\\xa4uslichen Ausgaben. Als unsere Haushaltung st\\xc3\\xa4rker wurde, unser Gewerbe gr\\xc3\\xb6\\xc3\\x9fer, warst du nicht zu bewegen, mein Wochengeld nach dem Verh\\xc3\\xa4ltnisse zu vermehren; kurz, du wei\\xc3\\x9ft, da\\xc3\\x9f du in den Zeiten, da sie am gr\\xc3\\xb6\\xc3\\x9ften war, verlangtest, ich solle mit sieben Gulden die Woche auskommen.',\n",
       " 'Die habe ich denn ohne Widerrede genommen und mir den \\xc3\\x9cberschu\\xc3\\x9f w\\xc3\\xb6chentlich aus der Losung geholt, da niemand vermutete, da\\xc3\\x9f die Frau die Kasse bestehlen w\\xc3\\xbcrde. Ich habe nichts verschwendet und w\\xc3\\xa4re auch, ohne es zu bekennen, getrost der Ewigkeit entgegengegangen, wenn nicht diejenige, die nach mir das Hauswesen zu f\\xc3\\xbchren hat, sich nicht zu helfen wissen w\\xc3\\xbcrde, und du doch immer darauf bestehen k\\xc3\\xb6nntest, deine erste Frau sei damit ausgekommen\\xc2\\xab.',\n",
       " 'Ich redete mit Lotten \\xc3\\xbcber die unglaubliche Verblendung des Menschensinns, da\\xc3\\x9f einer nicht argwohnen soll, dahinter m\\xc3\\xbcsse was anders stecken, wenn eins mit sieben Gulden hinreicht, wo man den Aufwand vielleicht um zweimal so viel sieht. Aber ich habe selbst Leute gekannt, die des Propheten ewiges \\xc3\\x96lkr\\xc3\\xbcglein ohne Verwunderung in ihrem Hause angenommen h\\xc3\\xa4tten.',\n",
       " 'Am 13. Julius',\n",
       " 'Nein, ich betr\\xc3\\xbcge mich nicht! Ich lese in ihren schwarzen Augen wahre Teilnehmung an mir und meinem Schicksal. Ja ich f\\xc3\\xbchle, und darin darf ich meinem Herzen trauen, da\\xc3\\x9f sie \\xe2\\x80\\x93 o darf ich, kann ich den Himmel in diesen Worten aussprechen? \\xe2\\x80\\x93 da\\xc3\\x9f sie mich liebt!',\n",
       " \"Mich liebt! \\xe2\\x80\\x93 und wie wert ich mir selbst werde, wie ich \\xe2\\x80\\x93 dir darf ich's wohl sagen, du hast Sinn f\\xc3\\xbcr so etwas \\xe2\\x80\\x93 wie ich mich selbst anbete, seitdem sie mich liebt!\",\n",
       " \"Ob das Vermessenheit ist oder Gef\\xc3\\xbchl des wahren Verh\\xc3\\xa4ltnisses? \\xe2\\x80\\x93 ich kenne den Menschen nicht, von dem ich etwas in Lottens Herzen f\\xc3\\xbcrchtete. Und doch \\xe2\\x80\\x93 wenn sie von ihrem Br\\xc3\\xa4utigam spricht, mit solcher W\\xc3\\xa4rme, solcher Liebe von ihm spricht \\xe2\\x80\\x93 da ist mir's wie einem, der aller seiner Ehren und W\\xc3\\xbcrden entsetzt und dem der Degen genommen wird.\",\n",
       " 'Am 16. Julius',\n",
       " \"Ach wie mir das durch alle Adern l\\xc3\\xa4uft, wenn mein Finger unversehens den ihrigen ber\\xc3\\xbchrt, wenn unsere F\\xc3\\xbc\\xc3\\x9fe sich unter dem Tische begegnen! Ich ziehe zur\\xc3\\xbcck wie vom Feuer, und eine geheime Kraft zieht mich wieder vorw\\xc3\\xa4rts \\xe2\\x80\\x93 mir wird's so schwindelig vor allen Sinnen. \\xe2\\x80\\x93 O! Und ihre Unschuld, ihre unbefangene Seele f\\xc3\\xbchlt nicht, wie sehr mich die kleinen Vertraulichkeiten peinigen. Wenn sie gar im Gespr\\xc3\\xa4ch ihre Hand auf die meinige legt und im Interesse der Unterredung n\\xc3\\xa4her zu mir r\\xc3\\xbcckt, da\\xc3\\x9f der himmlische Atem ihres Mundes meine Lippen erreichen kann: \\xe2\\x80\\x93 ich glaube zu versinken, wie vom Wetter ger\\xc3\\xbchrt. \\xe2\\x80\\x93 und, Wilhelm! Wenn ich mich jemals unterstehe, diesen Himmel, dieses Vertrauen \\xe2\\x80\\x93! Du verstehst mich. Nein, mein Herz ist so verderbt nicht! Schwach! Schwach genug! \\xe2\\x80\\x93 und ist das nicht Verderben?\",\n",
       " '\\xe2\\x80\\x93 sie ist mir heilig. Alle Begier schweigt in ihrer Gegenwart. Ich wei\\xc3\\x9f nie, wie mir ist, wenn ich bei ihr bin; es ist, als wenn die Seele sich mir in allen Nerven umkehrte. \\xe2\\x80\\x93 sie hat eine Melodie, die sie auf dem Klaviere spielet mit der Kraft eines Engels, so simpel und so geistvoll! Es ist ihr Leiblied, und mich stellt es von aller Pein, Verwirrung und Grillen her, wenn sie nur die erste Note davon greift.',\n",
       " 'Kein Wort von der Zauberkraft der alten Musik ist mir unwahrscheinlich. Wie mich der einfache Gesang angreift! Und wie sie ihn anzubringen wei\\xc3\\x9f, oft zur Zeit, wo ich mir eine Kugel vor den Kopf schie\\xc3\\x9fen m\\xc3\\xb6chte! Die Irrung und Finsternis meiner Seele zerstreut sich, und ich atme wieder freier.',\n",
       " 'Am 18. Julius',\n",
       " \"Wilhelm, was ist unserem Herzen die Welt ohne Liebe! Was eine Zauberlaterne ist ohne Licht! Kaum bringst du das L\\xc3\\xa4mpchen hinein, so scheinen dir die buntesten Bilder an deine wei\\xc3\\x9fe Wand! Und wenn's nichts w\\xc3\\xa4re als das, als vor\\xc3\\xbcbergehende Phantome, so macht's doch immer unser Gl\\xc3\\xbcck, wenn wir wie frische Jungen davor stehen und uns \\xc3\\xbcber die Wundererscheinungen entz\\xc3\\xbccken. Heute konnte ich nicht zu Lotten, eine unvermeidliche Gesellschaft hielt mich ab. Was war zu tun? Ich schickte meinen Diener hinaus, nur um einen Menschen um mich zu haben, der ihr heute nahe gekommen w\\xc3\\xa4re. Mit welcher Ungeduld ich ihn erwartete, mit welcher Freude ich ihn wiedersah! Ich h\\xc3\\xa4tte ihn gern beim Kopfe genommen und gek\\xc3\\xbc\\xc3\\x9ft, wenn ich mich nicht gesch\\xc3\\xa4mt h\\xc3\\xa4tte.\",\n",
       " \"Man erz\\xc3\\xa4hlt von dem Bononischen Steine, da\\xc3\\x9f er, wenn man ihn in die Sonne legt, ihre Strahlen anzieht und eine Weile bei Nacht leuchtet. So war mir's mit dem Burschen. Das Gef\\xc3\\xbchl, da\\xc3\\x9f ihre Augen auf seinem Gesichte, seinen Backen, seinen Rockkn\\xc3\\xb6pfen und dem Kragen am Surtout geruht hatten, machte mir das alles so heilig, so wert! Ich h\\xc3\\xa4tte in dem Augenblick den Jungen nicht um tausend Taler gegeben. Es war mir so wohl in seiner Gegenwart. \\xe2\\x80\\x93 bewahre dich Gott, da\\xc3\\x9f du dar\\xc3\\xbcber lachest. Wilhelm, sind das Phantome, wenn es uns wohl ist?\",\n",
       " 'Den 19. Julius',\n",
       " \"\\xc2\\xbbIch werde sie sehen!\\xc2\\xab ruf' ich morgens aus, wenn ich mich ermuntere und mit aller Heiterkeit der sch\\xc3\\xb6nen Sonne entgegenblicke; \\xc2\\xbbich werde sie sehen!\\xc2\\xab und da habe ich f\\xc3\\xbcr den ganzen Tag keinen Wunsch weiter. Alles, alles verschlingt sich in dieser Aussicht.\",\n",
       " 'Den 20. Julius',\n",
       " \"Eure Idee will noch nicht die meinige werden, da\\xc3\\x9f ich mit dem Gesandten nach *** gehen soll. Ich liebe die Subordination nicht sehr, und wir wissen alle, da\\xc3\\x9f der Mann noch dazu ein widriger Mensch ist. Meine Mutter m\\xc3\\xb6chte mich gern in Aktivit\\xc3\\xa4t haben, sagst du, das hat mich zu lachen gemacht. Bin ich jetzt nicht auch aktiv, und ist's im Grunde nicht einerlei, ob ich Erbsen z\\xc3\\xa4hle oder Linsen? Alles in der Welt l\\xc3\\xa4uft doch auf eine Lumperei hinaus, und ein Mensch, der um anderer willen, ohne da\\xc3\\x9f es seine eigene Leidenschaft, sein eigenes Bed\\xc3\\xbcrfnis ist, sich um Geld oder Ehre oder sonst was abarbeitet, ist immer ein Tor.\",\n",
       " 'Am 24. Julius',\n",
       " 'Da dir so sehr daran gelegen ist, da\\xc3\\x9f ich mein Zeichnen nicht vernachl\\xc3\\xa4ssige, m\\xc3\\xb6chte ich lieber die ganze Sache \\xc3\\xbcbergehen als dir sagen, da\\xc3\\x9f zeither wenig getan wird.',\n",
       " \"Noch nie war ich gl\\xc3\\xbccklicher, noch nie war meine Empfindung an der Natur, bis aufs Steinchen, aufs Gr\\xc3\\xa4schen herunter, voller und inniger, und doch \\xe2\\x80\\x93 ich wei\\xc3\\x9f nicht, wie ich mich ausdr\\xc3\\xbccken soll, meine vorstellende Kraft ist so schwach, alles schwimmt und schwankt so vor meiner Seele, da\\xc3\\x9f ich keinen Umri\\xc3\\x9f packen kann; aber ich bilde mir ein, wenn ich Ton h\\xc3\\xa4tte oder Wachs, so wollte ich's wohl herausbilden. Ich werde auch Ton nehmen, wenn's l\\xc3\\xa4nger w\\xc3\\xa4hrt, und kneten, uns sollten's Kuchen werden!\",\n",
       " \"Lottens Portr\\xc3\\xa4t habe ich dreimal angefangen, und habe mich dreimal prostituiert; das mich um so mehr verdrie\\xc3\\x9ft, weil ich vor einiger Zeit sehr gl\\xc3\\xbccklich im Treffen war. Darauf habe ich denn ihren Schattenri\\xc3\\x9f gemacht, und damit soll mir g'n\\xc3\\xbcgen.\",\n",
       " 'Am 26. Julius',\n",
       " 'Ja, liebe Lotte, ich will alles besorgen und bestellen; geben Sie mir nur mehr Auftr\\xc3\\xa4ge, nur recht oft. Um eins bitte ich Sie: keinen Sand mehr auf die Zettelchen, die Sie mir schreiben. Heute f\\xc3\\xbchrte ich es schnell nach der Lippe, und die Z\\xc3\\xa4hne knisterten mir.',\n",
       " 'Am 26. Julius',\n",
       " \"Ich habe mir schon manchmal vorgenommen, sie nicht so oft zu sehn. Ja wer das halten k\\xc3\\xb6nnte! Alle Tage unterlieg' ich der Versuchung und verspreche mir heilig: morgen willst du einmal wegbleiben. Und wenn der Morgen kommt, finde ich doch wieder eine unwiderstehliche Ursache, und ehe ich mich's versehe, bin ich bei ihr. Entweder sie hat des Abends gesagt: \\xc2\\xbbSie kommen doch morgen?\\xc2\\xab \\xe2\\x80\\x93 wer k\\xc3\\xb6nnte da wegbleiben? Oder sie gibt mir einen Auftrag, und ich finde schicklich, ihr selbst die Antwort zu bringen; oder der Tag ist gar zu sch\\xc3\\xb6n, ich gehe nach Wahlheim, und wenn ich nun da bin, ist's nur noch eine halbe Stunde zu ihr! \\xe2\\x80\\x93 ich bin zu nah in der Atmosph\\xc3\\xa4re \\xe2\\x80\\x93 zuck! So bin ich dort. Meine Gro\\xc3\\x9fmutter hatte ein M\\xc3\\xa4rchen vom Magnetenberg: die Schiffe, die zu nahe kamen, wurden auf einmal alles Eisenwerks beraubt, die N\\xc3\\xa4gel flogen dem Berge zu, und die armen Elenden scheiterten zwischen den \\xc3\\xbcbereinander st\\xc3\\xbcrzenden Brettern.\",\n",
       " 'Am 30. Julius',\n",
       " \"Albert ist angekommen, und ich werde gehen; und wenn er der beste, der edelste Mensch w\\xc3\\xa4re, unter den ich mich in jeder Betrachtung zu stellen bereit w\\xc3\\xa4re, so w\\xc3\\xa4r's unertr\\xc3\\xa4glich, ihn vor meinem Angesicht im Besitz so vieler Vollkommenheit zu sehen. \\xe2\\x80\\x93 Besitz! \\xe2\\x80\\x93 genug, Wilhelm, der Br\\xc3\\xa4utigam ist da! Ein braver, lieber Mann, dem man gut sein mu\\xc3\\x9f. Gl\\xc3\\xbccklicherweise war ich nicht beim Empfange! Das h\\xc3\\xa4tte mir das Herz zerrissen. Auch ist er so ehrlich und hat Lotten in meiner Gegenwart noch nicht ein einzigmal gek\\xc3\\xbc\\xc3\\x9ft. Das lohn' ihm Gott! Um des Respekts willen, den er vor dem M\\xc3\\xa4dchen hat, mu\\xc3\\x9f ich ihn lieben. Er will mir wohl, und ich vermute, das ist Lottens Werk mehr als seiner eigenen Empfindung; denn darin sind die Weiber fein und haben recht; wenn sie zwei Verehrer in gutem Vernehmen mit einander erhalten k\\xc3\\xb6nnen, ist der Vorteil immer ihr, so selten es auch angeht.\",\n",
       " 'Indes kann ich Alberten meine Achtung nicht versagen. Seine gelassene Au\\xc3\\x9fenseite sticht gegen die Unruhe meines Charakters sehr lebhaft ab, die sich nicht verbergen l\\xc3\\xa4\\xc3\\x9ft. Er hat viel Gef\\xc3\\xbchl und wei\\xc3\\x9f, was er an Lotten hat. Er scheint wenig \\xc3\\xbcble Laune zu haben, und du wei\\xc3\\x9ft, das ist die S\\xc3\\xbcnde, die ich \\xc3\\xa4rger hasse am Menschen als alle andre.',\n",
       " \"Er h\\xc3\\xa4lt mich f\\xc3\\xbcr einen Menschen von Sinn; und meine Anh\\xc3\\xa4nglichkeit zu Lotten, meine warme Freude, die ich an allen ihren Handlungen habe, vermehrt seinen Triumph, und er liebt sie nur desto mehr. Ob er sie nicht einmal mit keiner Eifers\\xc3\\xbcchtelei peinigt, das lasse ich dahingestellt sein, wenigstens w\\xc3\\xbcrd' ich an seinem Platz nicht ganz sicher vor diesem Teufel bleiben.\",\n",
       " \"Dem sei nun wie ihm wolle, meine Freude, bei Lotten zu sein, ist hin. Soll ich das Torheit nennen oder Verblendung? \\xe2\\x80\\x93 was braucht's Namen! Erz\\xc3\\xa4hlt die Sache an sich! \\xe2\\x80\\x93 ich wu\\xc3\\x9fte alles, was ich jetzt wei\\xc3\\x9f, ehe Albert kam; ich wu\\xc3\\x9fte, da\\xc3\\x9f ich keine Pr\\xc3\\xa4tension an sie zu machen hatte, machte auch keine \\xe2\\x80\\x93 das hei\\xc3\\x9ft, insofern es m\\xc3\\xb6glich ist, bei so viel Liebensw\\xc3\\xbcrdigkeit nicht zu begehren \\xe2\\x80\\x93 und jetzt macht der Fratze gro\\xc3\\x9fe Augen, da der andere nun wirklich kommt und ihm das M\\xc3\\xa4dchen wegnimmt.\",\n",
       " \"Ich bei\\xc3\\x9fe die Z\\xc3\\xa4hne auf einander und spott \\xc3\\xbcber mein Elend, und spottete derer doppelt und dreifach, die sagen k\\xc3\\xb6nnten, ich sollte mich resignieren, und weil es nun einmal nicht anders sein k\\xc3\\xb6nnte. \\xe2\\x80\\x93 schafft mir diese Strohm\\xc3\\xa4nner vom Halse! \\xe2\\x80\\x93 ich laufe in den W\\xc3\\xa4ldern herum, und wenn ich zu Lotten komme, und Albert bei ihr sitzt im G\\xc3\\xa4rtchen unter der Laube, und ich nicht weiter kann, so bin ich ausgelassen n\\xc3\\xa4rrisch und fange viel Possen, viel verwirrtes Zeug an. \\xe2\\x80\\x93 \\xc2\\xbbum Gottes willen\\xc2\\xab, sagte mir Lotte heut, \\xc2\\xbbich bitte Sie, keine Szene wie die von gestern abend! Sie sind f\\xc3\\xbcrchterlich, wenn Sie so lustig sind\\xc2\\xab. \\xe2\\x80\\x93 Unter uns, ich passe die Zeit ab, wenn er zu tun hat; wutsch! Bin ich drau\\xc3\\x9f, und da ist mir's immer wohl, wenn ich sie allein finde.\",\n",
       " 'Am 8. August',\n",
       " 'Ich bitte dich, lieber Wilhelm, es war gewi\\xc3\\x9f nicht auf dich geredet, wenn ich die Menschen unertr\\xc3\\xa4glich schalt, die von uns Ergebung in unvermeidliche Schicksale fordern. Ich dachte wahrlich nicht daran, da\\xc3\\x9f du von \\xc3\\xa4hnlicher Meinung sein k\\xc3\\xb6nntest. Und im Grunde hast du recht. Nur eins, mein Bester! In der Welt ist es sehr selten mit dem Entweder-Oder getan; die Empfindungen und Handlungsweisen schattieren sich so mannigfaltig, als Abf\\xc3\\xa4lle zwischen einer Habichts- und Stumpfnase sind.',\n",
       " 'Du wirst mir also nicht \\xc3\\xbcbelnehmen, wenn ich dir dein ganzes Argument einr\\xc3\\xa4ume und mich doch zwischen dem Entweder-Oder durchzustehlen suche.',\n",
       " 'Entweder, sagst du, hast du Hoffnung auf Lotten, oder du hast keine. Gut, im ersten Fall suche sie durchzutreiben, suche die Erf\\xc3\\xbcllung deiner W\\xc3\\xbcnsche zu umfassen: im anderen Fall ermanne dich und suche einer elenden Empfindung los zu werden, die alle deine Kr\\xc3\\xa4fte verzehren mu\\xc3\\x9f. \\xe2\\x80\\x93 Bester! Das ist wohl gesagt, und \\xe2\\x80\\x93 bald gesagt.',\n",
       " 'Und kannst du von dem Ungl\\xc3\\xbccklichen, dessen Leben unter einer schleichenden Krankheit unaufhaltsam allm\\xc3\\xa4hlich abstirbt, kannst du von ihm verlangen, er solle durch einen Dolchsto\\xc3\\x9f der Qual auf einmal ein Ende machen? Und raubt das \\xc3\\x9cbel, das ihm die Kr\\xc3\\xa4fte verzehrt, ihm nicht auch zugleich den Mut, sich davon zu befreien?',\n",
       " 'Zwar k\\xc3\\xb6nntest du mir mit einem verwandten Gleichnisse antworten: wer lie\\xc3\\x9fe sich nicht lieber den Arm abnehmen, als da\\xc3\\x9f er durch Zaudern und Zagen sein Leben aufs Spiel setzte? \\xe2\\x80\\x93 Ich wei\\xc3\\x9f nicht! \\xe2\\x80\\x93 Und wir wollen uns nicht in Gleichnissen herumbei\\xc3\\x9fen. Genug \\xe2\\x80\\x93 ja, Wilhelm, ich habe manchmal so einen Augenblick aufspringenden, absch\\xc3\\xbcttelnden Muts, und da \\xe2\\x80\\x93 wenn ich nur w\\xc3\\xbc\\xc3\\x9fte wohin, ich ginge wohl.',\n",
       " 'Am 8. August',\n",
       " 'Abends',\n",
       " 'Mein Tagebuch, das ich seit einiger Zeit vernachl\\xc3\\xa4ssiget, fiel mir heut wieder in die H\\xc3\\xa4nde, und ich bin erstaunt, wie ich so wissentlich in das alles, Schritt vor Schritt, hineingegangen bin! Wie ich \\xc3\\xbcber meinen Zustand immer so klar gesehen und doch gehandelt habe wie ein Kind, jetzt noch so klar sehe, und es noch keinen Anschein zur Besserung hat.',\n",
       " 'Am 10. August',\n",
       " \"Ich k\\xc3\\xb6nnte das beste, gl\\xc3\\xbccklichste Leben f\\xc3\\xbchren, wenn ich nicht ein Tor w\\xc3\\xa4re. So sch\\xc3\\xb6ne Umst\\xc3\\xa4nde vereinigen sich nicht leicht, eines Menschen Seele zu ergetzen, als die sind, in denen ich mich jetzt befinde. Ach so gewi\\xc3\\x9f ist's, da\\xc3\\x9f unser Herz allein sein Gl\\xc3\\xbcck macht. \\xe2\\x80\\x93 ein Glied der liebensw\\xc3\\xbcrdigen Familie zu sein, von dem Alten geliebt zu werden wie ein Sohn, von den Kleinen wie ein Vater, und von Lotten! \\xe2\\x80\\x93 dann der ehrliche Albert, der durch keine launische Unart mein Gl\\xc3\\xbcck st\\xc3\\xb6rt; der mich mit herzlicher Freundschaft umfa\\xc3\\x9ft; dem ich nach Lotten das Liebste auf der Welt bin! \\xe2\\x80\\x93 Wilhelm, es ist eine Freude, uns zu h\\xc3\\xb6ren, wenn wir spazierengehen und uns einander von Lotten unterhalten: es ist in der Welt nichts L\\xc3\\xa4cherlichers erfunden worden als dieses Verh\\xc3\\xa4ltnis, und doch kommen mir oft dar\\xc3\\xbcber die Tr\\xc3\\xa4nen in die Augen.\",\n",
       " 'Wenn er mir von ihrer rechtschaffenen Mutter erz\\xc3\\xa4hlt: wie sie auf ihrem Todbette Lotten ihr Haus und ihre Kinder \\xc3\\xbcbergeben und ihm Lotten anbefohlen habe, wie seit der Zeit ein ganz anderer Geist Lotten belebt habe, wie sie, in der Sorge f\\xc3\\xbcr ihre Wirtschaft und in dem Ernste, eine wahre Mutter geworden, wie kein Augenblick ihrer Zeit ohne t\\xc3\\xa4tige Liebe, ohne Arbeit verstrichen, und dennoch ihre Munterkeit, ihr leichter Sinn sie nie dabei verlassen habe. \\xe2\\x80\\x93 Ich gehe so neben ihm hin und pfl\\xc3\\xbccke Blumen am Wege, f\\xc3\\xbcge sie sehr sorgf\\xc3\\xa4ltig in einen Strau\\xc3\\x9f und \\xe2\\x80\\x93 werfe sie in den vor\\xc3\\xbcberflie\\xc3\\x9fenden Strom und sehe ihnen nach, wie sie leise hinunterwallen. \\xe2\\x80\\x93 Ich wei\\xc3\\x9f nicht, ob ich dir geschrieben habe, da\\xc3\\x9f Albert hier bleiben und ein Amt mit einem artigen Auskommen vom Hofe erhalten wird, wo er sehr beliebt ist. In Ordnung und Emsigkeit in Gesch\\xc3\\xa4ften habe ich wenig seinesgleichen gesehen.',\n",
       " 'Am 12. August',\n",
       " \"Gewi\\xc3\\x9f, Albert ist der beste Mensch unter dem Himmel. Ich habe gestern eine wunderbare Szene mit ihm gehabt. Ich kam zu ihm, um Abschied von ihm zu nehmen; denn mich wandelte die Lust an, ins Gebirge zu reiten, von woher ich dir auch jetzt schreibe, und wie ich in der Stube auf und ab gehe, fallen mir seine Pistolen in die Augen. \\xe2\\x80\\x93 \\xc2\\xbbBorge mir die Pistolen\\xc2\\xab, sagte ich, \\xc2\\xbbzu meiner Reise\\xc2\\xab. \\xe2\\x80\\x93 \\xc2\\xbbMeinetwegen\\xc2\\xab, sagte er, \\xc2\\xbbwenn du dir die M\\xc3\\xbche nehmen willst, sie zu laden; bei mir h\\xc3\\xa4ngen sie nur pro forma\\xc2\\xab. \\xe2\\x80\\x93 Ich nahm eine herunter, und er fuhr fort: \\xc2\\xbbseit mir meine Vorsicht einen so unartigen Streich gespielt hat, mag ich mit dem Zeuge nichts mehr zu tun haben\\xc2\\xab. \\xe2\\x80\\x93 Ich war neugierig, die Geschichte zu wissen. \\xe2\\x80\\x93 \\xc2\\xbbIch hielt mich\\xc2\\xab, erz\\xc3\\xa4hlte er, \\xc2\\xbbwohl ein Vierteljahr auf dem Lande bei einem Freunde auf, hatte ein paar Terzerolen ungeladen und schlief ruhig. Einmal an einem regnichten Nachmittage, da ich m\\xc3\\xbc\\xc3\\x9fig sitze, wei\\xc3\\x9f ich nicht, wie mir einf\\xc3\\xa4llt: wir k\\xc3\\xb6nnten \\xc3\\xbcberfallen werden, wir k\\xc3\\xb6nnten die Terzerolen n\\xc3\\xb6tig haben und k\\xc3\\xb6nnten \\xe2\\x80\\x93 du wei\\xc3\\x9ft ja, wie das ist. \\xe2\\x80\\x93 ich gab sie dem Bedienten, sie zu putzen und zu laden; und der dahlt mit den M\\xc3\\xa4dchen, will sie schrecken, und Gott wei\\xc3\\x9f wie, das Gewehr geht los, da der Ladstock noch drin steckt, und schie\\xc3\\x9ft den Ladstock einem M\\xc3\\xa4dchen zur Maus herein an der rechten Hand und zerschl\\xc3\\xa4gt ihr den Daumen. Da hatte ich das Lamentieren, und die Kur zu bezahlen obendrein, und seit der Zeit lass' ich alles Gewehr ungeladen. Lieber Schatz, was ist Vorsicht? Die Gefahr l\\xc3\\xa4\\xc3\\x9ft sich nicht auslernen! Zwar. \\xe2\\x80\\x93 Nun wei\\xc3\\x9ft du, da\\xc3\\x9f ich den Menschen sehr lieb habe bis auf seine Zwar; denn versteht sich's nicht von selbst, da\\xc3\\x9f jeder allgemeine Satz Ausnahmen leidet? Aber so rechtfertig ist der Mensch! Wenn er glaubt, etwas \\xc3\\x9cbereiltes, Allgemeines, Halbwahres gesagt zu haben, so h\\xc3\\xb6rt er dir nicht auf zu limitieren, zu modifizieren und ab- und zuzutun, bis zuletzt gar nichts mehr an der Sache ist.\",\n",
       " \"Und bei diesem Anla\\xc3\\x9f kam er sehr tief in Text: ich h\\xc3\\xb6rte endlich gar nicht weiter auf ihn, verfiel in Grillen, und mit einer auffahrenden Geb\\xc3\\xa4rde dr\\xc3\\xbcckte ich mir die M\\xc3\\xbcndung der Pistole \\xc3\\xbcbers rechte Aug' an die Stirn. \\xe2\\x80\\x93 \\xc2\\xbbPfui!\\xc2\\xab sagte Albert, indem er mir die Pistole herabzog, \\xc2\\xbbwas soll das?\\xc2\\xab \\xe2\\x80\\x93 \\xc2\\xbbSie ist nicht geladen\\xc2\\xab, sagte ich. \\xe2\\x80\\x93 \\xc2\\xbbUnd auch so, was soll's?\\xc2\\xab versetzte er ungeduldig. \\xc2\\xbbIch kann mir nicht vorstellen, wie ein Mensch so t\\xc3\\xb6richt sein kann, sich zu erschie\\xc3\\x9fen; der blo\\xc3\\x9fe Gedanke erregt mir Widerwillen\\xc2\\xab.\",\n",
       " \"\\xc2\\xbbDa\\xc3\\x9f ihr Menschen\\xc2\\xab, rief ich aus, \\xc2\\xbbum von einer Sache zu reden, gleich sprechen m\\xc3\\xbc\\xc3\\x9ft: \\xe2\\x80\\xbadas ist t\\xc3\\xb6richt, das ist klug, das ist gut, das ist b\\xc3\\xb6s!\\xe2\\x80\\xb9 und was will das alles hei\\xc3\\x9fen? Habt ihr deswegen die innern Verh\\xc3\\xa4ltnisse einer Handlung erforscht? Wi\\xc3\\x9ft ihr mit Bestimmtheit die Ursachen zu entwickeln, warum sie geschah, warum sie geschehen mu\\xc3\\x9fte? H\\xc3\\xa4ttet ihr das, ihr w\\xc3\\xbcrdet nicht so eilfertig mit euren Urteilen sein\\xc2\\xab. \\xc2\\xbbDu wirst mir zugeben\\xc2\\xab, sagte Albert, \\xc2\\xbbda\\xc3\\x9f gewisse Handlungen lasterhaft bleiben, sie m\\xc3\\xb6gen geschehen, aus welchem Beweggrunde sie wollen\\xc2\\xab. Ich zuckte die Achseln und gab's ihm zu. \\xe2\\x80\\x93 \\xc2\\xbbDoch, mein Lieber\\xc2\\xab, fuhr ich fort, \\xc2\\xbbfinden sich auch hier einige Ausnahmen. Es ist wahr, der Diebstahl ist ein Laster: aber der Mensch, der, um sich und die Seinigen vom gegenw\\xc3\\xa4rtigen Hungertode zu erretten, auf Raub ausgeht, verdient der Mitleiden oder Strafe? Wer hebt den ersten Stein auf gegen den Ehemann, der im gerechten Zorne sein untreues Weib und ihren nichtsw\\xc3\\xbcrdigen Verf\\xc3\\xbchrer aufopfert? Gegen das M\\xc3\\xa4dchen, das in einer wonnevollen Stunde sich in den unaufhaltsamen Freuden der Liebe verliert? Unsere Gesetze selbst, diese kaltbl\\xc3\\xbctigen Pedanten, lassen sich r\\xc3\\xbchren und halten ihre Strafe zur\\xc3\\xbcck\\xc2\\xab.\",\n",
       " \"\\xc2\\xbbDas ist ganz was anders\\xc2\\xab, versetzte Albert, \\xc2\\xbbweil ein Mensch, den seine Leidenschaften hinrei\\xc3\\x9fen, alle Besinnungskraft verliert und als ein Trunkener, als ein Wahnsinniger angesehen wird\\xc2\\xab. \\xc2\\xbbAch ihr vern\\xc3\\xbcnftigen Leute!\\xc2\\xab rief ich l\\xc3\\xa4chelnd aus. \\xc2\\xbbLeidenschaft! Trunkenheit! Wahnsinn! Ihr steht so gelassen, so ohne Teilnehmung da, ihr sittlichen Menschen, scheltet den Trinker, verabscheut den Unsinnigen, geht vorbei wie der Priester und dankt Gott wie der Pharis\\xc3\\xa4er, da\\xc3\\x9f er euch nicht gemacht hat wie einen von diesen. Ich bin mehr als einmal trunken gewesen, meine Leidenschaften waren nie weit vom Wahnsinn, und beides reut mich nicht: denn ich habe in einem Ma\\xc3\\x9fe begreifen lernen, wie man alle au\\xc3\\x9ferordentlichen Menschen, die etwas Gro\\xc3\\x9fes, etwas Unm\\xc3\\xb6glichscheinendes wirkten, von jeher f\\xc3\\xbcr Trunkene und Wahnsinnige ausschreiten mu\\xc3\\x9fte. Aber auch im gemeinen Leben ist's unertr\\xc3\\xa4glich, fast einem jeden bei halbweg einer freien, edlen, unerwarteten Tat nachrufen zu h\\xc3\\xb6ren: \\xe2\\x80\\xbader Mensch ist trunken, der ist n\\xc3\\xa4rrisch!\\xe2\\x80\\xb9 Sch\\xc3\\xa4mt euch, ihr N\\xc3\\xbcchternen! Sch\\xc3\\xa4mt euch, ihr Weisen!\\xc2\\xab \\xc2\\xbbDas sind nun wieder von deinen Grillen\\xc2\\xab, sagte Albert, \\xc2\\xbbdu \\xc3\\xbcberspannst alles und hast wenigstens hier gewi\\xc3\\x9f unrecht, da\\xc3\\x9f du den Selbstmord, wovon jetzt die Rede ist, mit gro\\xc3\\x9fen Handlungen vergleichst: da man es doch f\\xc3\\xbcr nichts anders als eine Schw\\xc3\\xa4che halten kann. Denn freilich ist es leichter zu sterben, als ein qualvolles Leben standhaft zu ertragen\\xc2\\xab. Ich war im Begriff abzubrechen; denn kein Argument bringt mich so aus der Fessung, als wenn einer mit einem unbedeutenden Gemeinspruche angezogen kommt, wenn ich aus ganzem Herzen rede.\",\n",
       " \"Doch fa\\xc3\\x9fte ich mich, weil ich's schon oft geh\\xc3\\xb6rt und mich \\xc3\\xb6fter dar\\xc3\\xbcber ge\\xc3\\xa4rgert hatte, und versetzte ihm mit einiger Lebhaftigkeit: \\xc2\\xbbDu nennst das Schw\\xc3\\xa4che? Ich bitte dich, la\\xc3\\x9f dich vom Anscheine nicht verf\\xc3\\xbchren. Ein Volk, das unter dem unertr\\xc3\\xa4glichen Joch eines Tyrannen seufzt, darfst du das schwach hei\\xc3\\x9fen, wenn es endlich aufg\\xc3\\xa4rt und seine Ketten zerrei\\xc3\\x9ft? Ein Mensch, der \\xc3\\xbcber dem Schrecken, da\\xc3\\x9f Feuer sein Haus ergriffen hat, alle Kr\\xc3\\xa4fte gespannt f\\xc3\\xbchlt und mit Leichtigkeit Lasten wegtr\\xc3\\xa4gt, die er bei ruhigem Sinne kaum bewegen kann; einer, der in der Wut der Beleidigung es mit sechsen aufnimmt und sie \\xc3\\xbcberw\\xc3\\xa4ltig, sind die schwach zu nennen? Und, mein Guter, wenn Anstrengung St\\xc3\\xa4rke ist, warum soll die \\xc3\\x9cberspannung das Gegenteil sein?\\xc2\\xab \\xe2\\x80\\x93 Albert sah mich an und sagte: \\xc2\\xbbnimm mir's nicht \\xc3\\xbcbel, die Beispiele, die du gibst, scheinen hieher gar nicht zu geh\\xc3\\xb6ren\\xc2\\xab. \\xe2\\x80\\x93 \\xc2\\xbbEs mag sein\\xc2\\xab, sagte ich, \\xc2\\xbbman hat mir schon \\xc3\\xb6fters vorgeworfen, da\\xc3\\x9f meine Kombinationsart manchmal an Radotage grenze. La\\xc3\\x9ft uns denn sehen, ob wir uns auf eine andere Weise vorstellen k\\xc3\\xb6nnen, wie dem Menschen zu Mute sein mag, der sich entschlie\\xc3\\x9ft, die sonst angenehme B\\xc3\\xbcrde des Lebens abzuwerfen. Denn nur insofern wir mitempfinden, haben wir die Ehre, von einer Sache zu reden\\xc2\\xab.\",\n",
       " '\\xc2\\xbbDie menschliche Natur\\xc2\\xab, fuhr ich fort, \\xc2\\xbbhat ihre Grenzen: sie kann Freude, Leid, Schmerzen bis auf einen gewissen Grad ertragen und geht zugrunde, sobald der \\xc3\\xbcberstiegen ist. Hier ist also nicht die Frage, ob einer schwach oder stark ist, sondern ob er das Ma\\xc3\\x9f seines Leidens ausdauern kann, es mag nun moralisch oder k\\xc3\\xb6rperlich sein. Und ich finde es ebenso wunderbar zu sagen, der Mensch ist feige, der sich das Leben nimmt, als es ungeh\\xc3\\xb6rig w\\xc3\\xa4re, den einen Feigen zu nennen, der an einem b\\xc3\\xb6sartigen Fieber stirbt\\xc2\\xab.',\n",
       " '\\xc2\\xbbParadox! Sehr paradox!\\xc2\\xab rief Albert aus. \\xe2\\x80\\x93 \\xc2\\xbbNicht so sehr, als du denkst\\xc2\\xab, versetzte ich. \\xc2\\xbbDu gibst mir zu, wir nennen das eine Krankheit zum Tode, wodurch die Natur so angegriffen wird, da\\xc3\\x9f teils ihre Kr\\xc3\\xa4fte verzehrt, teils so au\\xc3\\x9fer Wirkung gesetzt werden, da\\xc3\\x9f sie sich nicht wieder aufzuhelfen, durch keine gl\\xc3\\xbcckliche Revolution den gew\\xc3\\xb6hnlichen Umlauf des Lebens wieder herzustellen f\\xc3\\xa4hig ist.',\n",
       " 'Nun, mein Lieber, la\\xc3\\x9f uns das auf den Geist anwenden. Sich den Menschen an in seiner Eingeschr\\xc3\\xa4nktheit, wie Eindr\\xc3\\xbccke auf ihn wirken, Ideen sich bei ihm festsetzen, bis endlich eine wachsende Leidenschaft ihn aller ruhigen Sinneskraft beraubt und ihn zugrunde richtet.',\n",
       " 'Vergebens, da\\xc3\\x9f der gelassene, vern\\xc3\\xbcnftige Mensch den Zustand Ungl\\xc3\\xbccklichen \\xc3\\xbcbersieht, vergebens, da\\xc3\\x9f er ihm zuredet! Ebenso wie ein Gesunder, der am Bette des Kranken steht, ihm von seinen Kr\\xc3\\xa4ften nicht das geringste einfl\\xc3\\xb6\\xc3\\x9fen kann\\xc2\\xab.',\n",
       " \"Alberten war das zu allgemein gesprochen. Ich erinnerte ihn an ein M\\xc3\\xa4dchen, das man vor weniger Zeit im Wasser tot gefunden, und wiederholte ihm ihre Geschichte. \\xe2\\x80\\x93 \\xc2\\xbbEin gutes, junges Gesch\\xc3\\xb6pf, das in dem engen Kreise h\\xc3\\xa4uslicher Besch\\xc3\\xa4ftigungen, w\\xc3\\xb6chentlicher bestimmter Arbeit herangewachsen war, das weiter keine Aussicht von Vergn\\xc3\\xbcgen kannte, als etwa Sonntags in einem nach und nach zusammengeschafften Putz mit ihresgleichen um die Stadt spazierenzugehen, vielleicht alle hohen Feste einmal zu tanzen und \\xc3\\xbcbrigens mit aller Lebhaftigkeit des herzlichsten Anteils manche Stunde \\xc3\\xbcber den Anla\\xc3\\x9f eines Gez\\xc3\\xa4nkes, einer \\xc3\\xbcbeln Nachrede mit einer Nachbarin zu verplaudern \\xe2\\x80\\x93 deren feurige Natur f\\xc3\\xbchlt nun endlich innigere Bed\\xc3\\xbcrfnisse, die durch die Schmeicheleien der M\\xc3\\xa4nner vermehrt werden; ihre vorigen Freuden werden ihr nach und nach unschmackhaft, bis sie endlich einen Menschen antrifft, zu dem ein unbekanntes Gef\\xc3\\xbchl sie unwiderstehlich hinrei\\xc3\\x9ft, auf den sie nun alle ihre Hoffnungen wirft, die Welt rings um sich vergi\\xc3\\x9ft, nichts h\\xc3\\xb6rt, nichts sieht, nichts f\\xc3\\xbchlt als ihn, den Einzigen, sich nur sehnt nach ihm, dem Einzigen. Durch die leeren Vergn\\xc3\\xbcgungen einer unbest\\xc3\\xa4ndigen Eitelkeit nicht verdorben, zieht ihr Verlangen gerade nach dem Zweck, sie will die Seinige werden, sie will in ewiger Verbindung all das Gl\\xc3\\xbcck antreffen, das ihr mangelt, die Vereinigung aller Freuden genie\\xc3\\x9fen, nach denen sie sich sehnte. Wiederholtes Versprechen, das ihr die Gewi\\xc3\\x9fheit aller Hoffnungen versiegelt, k\\xc3\\xbchne Liebkosungen, die ihre Begierden vermehren, umfangen ganz ihre Seele; sie schwebt in einem dumpfen Bewu\\xc3\\x9ftsein, in einem Vorgef\\xc3\\xbchl aller Freuden, sie ist bis auf den h\\xc3\\xb6chsten Grad gespannt, sie streckt endlich ihre Arme aus, all ihre W\\xc3\\xbcnsche zu umfassen \\xe2\\x80\\x93 und ihr Geliebter verl\\xc3\\xa4\\xc3\\x9ft sie. \\xe2\\x80\\x93 Erstarrt, ohne Sinne steht sie vor einem Abgrunde; alles ist Finsternis um sie her, keine Aussicht, kein Trost, keine Ahnung! Denn der hat sie verlassen, in dem sie allein ihr Dasein f\\xc3\\xbchlte. Sie sieht nicht die weite Welt, die vor ihr liegt, nicht die vielen, die ihr de Verlust ersetzen k\\xc3\\xb6nnten, sie f\\xc3\\xbchlt sich allein, verlassen von aller Welt, \\xe2\\x80\\x93 und blind, in die Enge gepre\\xc3\\x9ft von der entsetzlichen Not ihres Herzens, st\\xc3\\xbcrzt sie sich hinunter, um in einem rings umfangenden Tode alle ihre Qualen zu ersticken. \\xe2\\x80\\x93 Sieh, Albert, das ist die Geschichte so manches Menschen! Und sag', ist das nicht der Fall der Krankheit? Die Natur findet keinen Ausweg aus dem Labyrinthe der verworrenen und widersprechenden Kr\\xc3\\xa4fte, und der Mensch mu\\xc3\\x9f sterben. Wehe dem, der zusehen und sagen k\\xc3\\xb6nnte: \\xe2\\x80\\xbadie T\\xc3\\xb6rin! H\\xc3\\xa4tte sie gewartet, h\\xc3\\xa4tte sie die Zeit wirken lassen, die Verzweifelung w\\xc3\\xbcrde sich schon gelegt, es w\\xc3\\xbcrde sich schon ein anderer sie zu tr\\xc3\\xb6sten vorgefunden haben.\\xe2\\x80\\xb9 \\xe2\\x80\\x93 Das ist eben, als wenn einer sagte: \\xe2\\x80\\xbader Tor, stirbt am Fieber! H\\xc3\\xa4tte er gewartet, bis seine Kr\\xc3\\xa4fte sich erholt, seine S\\xc3\\xa4fte sich verbessert, der Tumult seines Blutes sich gelegt h\\xc3\\xa4tten: alles w\\xc3\\xa4re gut gegangen, und er lebte bis auf den heutigen Tag!\\xe2\\x80\\xb9\\xc2\\xab\",\n",
       " 'Albert, dem die Vergleichung noch nicht anschaulich war, wandte noch einiges ein, und unter andern: ich h\\xc3\\xa4tte nur von einem einf\\xc3\\xa4ltigen M\\xc3\\xa4dchen gesprochen; wie aber ein Mensch von Verstande, der nicht so eingeschr\\xc3\\xa4nkt sei, der mehr Verh\\xc3\\xa4ltnisse \\xc3\\xbcbersehe, zu entschuldigen sein m\\xc3\\xb6chte, k\\xc3\\xb6nne er nicht begreifen. \\xe2\\x80\\x93 \\xc2\\xbbMein Freund\\xc2\\xab, rief ich aus, \\xc2\\xbbder Mensch ist Mensch, und das bi\\xc3\\x9fchen Verstand, das einer haben mag, kommt wenig oder nicht in Anschlag, wenn Leidenschaft w\\xc3\\xbctet und die Grenzen der Menschheit einen dr\\xc3\\xa4ngen. Vielmehr \\xe2\\x80\\x93 ein andermal davon\\xc2\\xab, sagte ich und griff nach meinem Hute. O mir war das Herz so voll \\xe2\\x80\\x93 und wir gingen auseinander, ohne einander verstanden zu haben. Wie denn auf dieser Welt keiner leicht den andern versteht.',\n",
       " 'Am 15. August',\n",
       " \"Es ist doch gewi\\xc3\\x9f, da\\xc3\\x9f in der Welt den Menschen nichts notwendig macht als die Liebe. Ich f\\xc3\\xbchl's an Lotten, da\\xc3\\x9f sie mich ungern verl\\xc3\\xb6re, und die Kinder haben keinen andern Begriff, als da\\xc3\\x9f ich immer morgen wiederkommen w\\xc3\\xbcrde. Heute war ich hinausgegangen, Lottens Klavier zu stimmen, ich konnte aber nicht dazu kommen, denn die Kleinen verfolgten mich um ein M\\xc3\\xa4rchen, und Lotte sagte selbst, ich sollte ihnen den Willen tun. Ich schnitt ihnen das Abendbrot, das sie nun fast so gern von mir als von Lotten annehmen, und erz\\xc3\\xa4hlte ihnen das Hauptst\\xc3\\xbcckchen von der Prinzessin, die von H\\xc3\\xa4nden bedient wird. Ich lerne viel dabei, das versichre ich dich, und ich bin erstaunt, was es auf sie f\\xc3\\xbcr Eindr\\xc3\\xbccke macht. Weil ich manchmal einen Inzidentpunkt erfinden mu\\xc3\\x9f, den ich beim zweitenmal vergesse, sagen sie gleich, das vorigemal w\\xc3\\xa4r' es anders gewesen, so da\\xc3\\x9f ich mich jetzt \\xc3\\xbcbe, sie unver\\xc3\\xa4nderlich in einem singenden Silbenfall an einem Schn\\xc3\\xbcrchen weg zu rezitieren. Ich habe daraus gelernt, wie ein Autor durch eine zweite, ver\\xc3\\xa4nderte Ausgabe seiner Geschichte, und wenn ie poetisch noch so besser geworden w\\xc3\\xa4re, notwendig seinem Buche schaden mu\\xc3\\x9f. Der erste Eindruck findet uns willig, und der Mensch ist gemacht, da\\xc3\\x9f man ihn das Abenteuerlichste \\xc3\\xbcberreden kann; das haftet aber auch gleich so fest, und wehe dem, der es wieder auskratzen und austilgen will!\",\n",
       " 'Am 18. August',\n",
       " 'Mu\\xc3\\x9fte denn das so sein, da\\xc3\\x9f das, was des Menschen Gl\\xc3\\xbcckseligkeit macht, wieder die Quelle seines Elendes w\\xc3\\xbcrde?',\n",
       " 'Das volle, warme Gef\\xc3\\xbchl meines Herzens an der lebendigen Natur, das mich mit so vieler Wonne \\xc3\\xbcberstr\\xc3\\xb6mte, das rings umher die Welt mir zu einem Paradiese schuf, wird mir jetzt zu einem unertr\\xc3\\xa4glichen Peiniger, zu einem qu\\xc3\\xa4lenden Geist, der mich auf allen Wegen verfolgt. Wenn ich sonst vom Felsen \\xc3\\xbcber den Flu\\xc3\\x9f bis zu jenen H\\xc3\\xbcgeln das fruchtbare Tal \\xc3\\xbcberschaute und alles um mich her keimen und quellen sah; wenn ich jene Berge, vom Fu\\xc3\\x9fe bis auf zum Gipfel, mit hohen, dichten B\\xc3\\xa4umen bekleidet, jene T\\xc3\\xa4ler in ihren mannigfaltigen Kr\\xc3\\xbcmmungen von den lieblichsten W\\xc3\\xa4ldern beschattet sah, und der sanfte Flu\\xc3\\x9f zwischen den lispelnden Rohren dahingleitete und die lieben Wolken abspiegelte, die der sanfte Abendwind am Himmel her\\xc3\\xbcberwiegte; wenn ich dann die V\\xc3\\xb6gel um mich den Wald beleben h\\xc3\\xb6rte, und die Millionen M\\xc3\\xbcckenschw\\xc3\\xa4rme im letzten roten Strahle der Sonne mutig tanzten, und ihr letzter zuckender Blick den summenden K\\xc3\\xa4fer aus seinem Grase befreite, und das Schwirren und Weben um mich her mich auf den Boden aufmerksam machte, und das Moos, das meinem harten Felsen seine Nahrung abzwingt, und das Geniste, das den d\\xc3\\xbcrren Sandh\\xc3\\xbcgel hinunter w\\xc3\\xa4chst, mir das innere, gl\\xc3\\xbchende, heilige Leben der Natur er\\xc3\\xb6ffnete: wie fa\\xc3\\x9fte ich das alles in mein warmes Herz, f\\xc3\\xbchlte mich in der \\xc3\\xbcberflie\\xc3\\x9fenden F\\xc3\\xbclle wie verg\\xc3\\xb6ttert, und die herrlichen Gestalten der unendlichen Welt bewegten sich allbelebend in meiner Seele. Ungeheure Berge umgaben mich, Abgr\\xc3\\xbcnde lagen vor mir, und Wetterb\\xc3\\xa4che st\\xc3\\xbcrzten herunter, die Fl\\xc3\\xbcsse str\\xc3\\xb6mten unter mir, und Wald und Gebirg erklang; und ich sah sie wirken und schaffen ineinander in den Tiefen der Erde, alle die unergr\\xc3\\xbcndlichen Kr\\xc3\\xa4fte; und nun \\xc3\\xbcber der Erde und unter dem Himmel wimmeln die Geschlechter der mannigfaltigen Gesch\\xc3\\xb6pfe. Ales, alles bev\\xc3\\xb6lkert mit tausendfachen Gestalten; und die Menschen dann sich in H\\xc3\\xa4uslein zusammen sichern und sich annisten und herrschen in ihrem Sinne \\xc3\\xbcber die weite Welt! Armer Tor! Der du alles so gering achtest, weil du so klein bist. \\xe2\\x80\\x93 vom unzug\\xc3\\xa4nglichen Gebirge \\xc3\\xbcber die Ein\\xc3\\xb6de, die kein Fu\\xc3\\x9f betrat, bis ans Ende des unbekannten Ozeans weht der Geist des Ewigschaffenden und freut sich jedes Staubes, der ihn vernimmt und lebt. \\xe2\\x80\\x93 ach damals, wie oft habe ich mich mit Fittichen eines Kranichs, der \\xc3\\xbcber mich hin flog, zu dem Ufer des ungemessenen Meeres gesehnt, aus dem sch\\xc3\\xa4umenden Becher des Unendlichen jene schwellende Lebenswonne zu trinken und nur einen Augenblick in der eingeschr\\xc3\\xa4nkten Kraft meines Busens einen Tropfen der Seligkeit des Wesens zu f\\xc3\\xbchlen, das alles in sich und durch sich hervorbringt.',\n",
       " 'Bruder, nur die Erinnerung jener Stunden macht mir wohl. Selbst diese Anstrengung, jene uns\\xc3\\xa4glichen Gel\\xc3\\xbcste zur\\xc3\\xbcckzurufen, wieder auszusprechen, hebt meine Seele \\xc3\\xbcber sich selbst und l\\xc3\\xa4\\xc3\\x9ft mich dann das Bange des Zustandes doppelt empfinden, der mich jetzt umgibt.',\n",
       " 'Es hat sich vor meiner Seele wie ein Vorhang weggezogen, und der Schauplatz des unendlichen Lebens verwandelt sich vor mir in den Abgrund des ewig offenen Grabes. Kannst du sagen: Das ist! Da alles vor\\xc3\\xbcbergeht? Da alles mit der Wetterschnelle vor\\xc3\\xbcberrollt, so selten die ganze Kraft seines Daseins ausdauert, ach, in den Strom fortgerissen, untergetaucht und an Felsen zerschmettert wird? Da ist kein Augenblick, der nicht dich verzehrte und die Deinigen um dich her, kein Augenblick, da du nicht ein Zerst\\xc3\\xb6rer bist, sein mu\\xc3\\x9ft; der harmloseste Spaziergang kostet tausend armen W\\xc3\\xbcrmchen das Leben, es zerr\\xc3\\xbcttet ein Fu\\xc3\\x9ftritt die m\\xc3\\xbchseligen Geb\\xc3\\xa4ude der Ameisen und stampft eine kleine Welt in ein schm\\xc3\\xa4hliches Grab. Ha! Nicht die gro\\xc3\\x9fe, seltne Not der Welt, diese Fluten, die eure D\\xc3\\xb6rfer wegsp\\xc3\\xbclen, diese Erdbeben, die eure St\\xc3\\xa4dte verschlingen, r\\xc3\\xbchren mich; mir untergr\\xc3\\xa4bt das Herz die verzehrende Kraft, die in dem All der Natur verborgen liegt; die nichts gebildet hat, das nicht seinen Nachbar, nicht sich selbst zerst\\xc3\\xb6rte. Und so taumle ich be\\xc3\\xa4ngstigt. Himmel und Erde und ihre webenden Kr\\xc3\\xa4fte um mich her: ich sehe nichts als ein ewig verschlingendes, ewig wiederk\\xc3\\xa4uendes Ungeheuer.',\n",
       " 'Am 21. August',\n",
       " \"Umsonst strecke ich meine Arme nach ihr aus, morgens, wenn ich von schweren Tr\\xc3\\xa4umen aufd\\xc3\\xa4mmere, vergebens suche ich sie nachts in meinem Bette, wenn mich ein gl\\xc3\\xbccklicher, unschuldiger Traum get\\xc3\\xa4uscht hat, als s\\xc3\\xa4\\xc3\\x9f' ich neben ihr auf der Wiese und hielt' ihre Hand und deckte sie mit tausend K\\xc3\\xbcssen. Ach, wenn ich dann noch halb im Taumel des Schlafes nach ihr tappe und dr\\xc3\\xbcber mich ermuntere \\xe2\\x80\\x93 ein Strom von Tr\\xc3\\xa4nen bricht aus meinem gepre\\xc3\\x9ften Herzen, und ich weine trostlos einer finstern Zukunft entgegen.\",\n",
       " 'Am 22. August',\n",
       " \"Es ist ein Ungl\\xc3\\xbcck, Wilhelm, meine t\\xc3\\xa4tigen Kr\\xc3\\xa4fte sind zu einer unruhigen L\\xc3\\xa4ssigkeit verstimmt, ich kann nicht m\\xc3\\xbc\\xc3\\x9fig sein und kann doch auch nichts tun. Ich habe keine Vorstellungskraft, kein Gef\\xc3\\xbchl an der Natur, und die B\\xc3\\xbccher ekeln mich an. Wenn wir uns selbst fehlen, fehlt uns doch alles. Ich schw\\xc3\\xb6re dir, manchmal w\\xc3\\xbcnschte ich, ein Tagel\\xc3\\xb6hner zu sein, um nur des Morgens beim Erwachen eine Aussicht auf den k\\xc3\\xbcnftigen Tag, einen Drang, eine Hoffnung zu haben. Oft beneide ich Alberten, den ich \\xc3\\xbcber die Ohren in Akten begraben sehe, und bilde mir ein, mir w\\xc3\\xa4re wohl, wenn ich an seiner Stelle w\\xc3\\xa4re! Schon etlichemal ist mir's so aufgefahren, ich wollte dir schreiben und dem Minister, um die Stelle bei der Gesandtschaft anzuhalten, die, wie du versicherst, mir nicht versagt werden w\\xc3\\xbcrde. Ich glaube es selbst. Der Minister liebt mich seit langer Zeit, hatte lange mir angelegen, ich sollte mich irgendeinem Gesch\\xc3\\xa4fte widmen; und eine Stunde ist mir's auch wohl drum zu tun. Hernach, wenn ich wieder dran denke und mir die Fabel vom Pferde einf\\xc3\\xa4llt, das, seiner Freiheit ungeduldig, sich Sattel und Zeug auflegen l\\xc3\\xa4\\xc3\\x9ft und zuschanden geritten wird \\xe2\\x80\\x93 ich wei\\xc3\\x9f nicht, was ich soll. \\xe2\\x80\\x93 und, mein Lieber! Ist nicht vielleicht das Sehnen in mir nach Ver\\xc3\\xa4nderung des Zustands eine innere, unbehagliche Ungeduld, die mich \\xc3\\xbcberallhin verfolgen wird?\",\n",
       " 'Am 28. August',\n",
       " 'Es ist wahr, wenn meine Krankheit zu heilen w\\xc3\\xa4re, so w\\xc3\\xbcrden diese Menschen es tun. Heute ist mein Geburtstag, und in aller Fr\\xc3\\xbche empfange ich ein P\\xc3\\xa4ckchen von Alberten. Mir f\\xc3\\xa4llt beim Er\\xc3\\xb6ffnen sogleich eine der bla\\xc3\\x9froten Schleifen in die Augen, die Lotte vor hatte, als ich sie kennen lernte, und um die ich sie seither etlichemal gebeten hatte. Es waren zwei B\\xc3\\xbcchelchen in Duodez dabei, der kleine Wetsteinische Homer, eine Ausgabe, nach der ich so oft verlangt, um mich auf dem Spaziergange mit dem Ernestischen nicht zu schleppen. Sieh! So kommen sie meinen W\\xc3\\xbcnschen zuvor, so suchen sie alle die kleinen Gef\\xc3\\xa4lligkeiten der Freundschaft auf, die tausendmal werter sind als jene blendenden Geschenke, wodurch uns die Eitelkeit des Gebers erniedrigt. Ich k\\xc3\\xbcsse diese Schleife tausendmal, und mit jedem Atemzuge schl\\xc3\\xbcrfe ich die Erinnerung jener Seligkeiten ein, mit denen mich jene wenigen, gl\\xc3\\xbccklichen, unwiederbringlichen Tage \\xc3\\xbcberf\\xc3\\xbcllten. Wilhelm, es ist so, und ich murre nicht, die Bl\\xc3\\xbcten des Lebens sind nur Erscheinungen! Wie viele gehn vor\\xc3\\xbcber, ohne eine Spur hinter sich zu lassen, wie wenige setzen Frucht an, und wie wenige dieser Fr\\xc3\\xbcchte werden reif! Und doch sind deren noch genug da; und doch \\xe2\\x80\\x93 o mein Bruder! \\xe2\\x80\\x93 k\\xc3\\xb6nnen wir gereifte Fr\\xc3\\xbcchte vernachl\\xc3\\xa4ssigen, verachten, ungenossen verfaulen lassen?',\n",
       " 'Lebe wohl! Es ist ein herrlicher Sommer; ich sitze oft auf den Obstb\\xc3\\xa4umen in Lottens Baumst\\xc3\\xbcck mit dem Obstbrecher, der langen Stange, und hole die Birnen aus dem Gipfel. Sie steht unten und nimmt sie ab, wenn ich sie ihr herunterlasse.',\n",
       " 'Am 30. August',\n",
       " \"Ungl\\xc3\\xbccklicher! Bist du nicht ein Tor? Betriegst du dich nicht selbst? Was soll diese tobende, endlose Leidenschaft? Ich habe kein Gebet mehr als an sie; meiner Einbildungskraft erscheint keine andere Gestalt als die ihrige, und alles in der Welt um mich her sehe ich nur im Verh\\xc3\\xa4ltnisse mit ihr. Und das macht mir denn so manche gl\\xc3\\xbcckliche Stunde \\xe2\\x80\\x93 bis ich mich wieder von ihr losrei\\xc3\\x9fen mu\\xc3\\x9f! Ach Wilhelm! Wozu mich mein Herz oft dr\\xc3\\xa4ngt! \\xe2\\x80\\x93 wenn ich bei ihr gesessen bin, zwei, drei Stunden, und mich an ihrer Gestalt, an ihrem Betragen, an dem himmlischen Ausdruck ihrer Worte geweidet habe, und nun nach und nach alle meine Sinne aufgespannt werden, mir es d\\xc3\\xbcster vor den Augen wird, ich kaum noch h\\xc3\\xb6re, und es mich an die Gurgel fa\\xc3\\x9ft wie ein Meuchelm\\xc3\\xb6rder, dann mein Herz in wilden Schl\\xc3\\xa4gen den bedr\\xc3\\xa4ngten Sinnen Luft zu machen sucht und ihre Verwirrung nur vermehrt \\xe2\\x80\\x93 Wilhelm, ich wei\\xc3\\x9f oft nicht, ob ich auf der Welt bin! Und \\xe2\\x80\\x93 wenn nicht manchmal die Wehmut das \\xc3\\x9cbergewicht nimmt und Lotte mir den elenden Trost erlaubt, auf ihrer Hand meine Beklemmung auszuweinen, \\xe2\\x80\\x93 so mu\\xc3\\x9f ich fort, mu\\xc3\\x9f hinaus, und schweife dann weit im Felde umher; einen j\\xc3\\xa4hen Berg zu klettern ist dann meine Freude, durch einen unwegsamen Wald einen Pfad durchzuarbeiten, durch die Hecken, die mich verletzen, durch die Dornen, die mich zerrei\\xc3\\x9fen! Da wird mir's etwas besser! Etwas! Und wenn ich vor M\\xc3\\xbcdigkeit und Durst manchmal unterwegs liegen bleibe, manchmal in der tiefen Nacht, wenn der hohe Vollmond \\xc3\\xbcber mir steht, im einsamen Walde auf einen krumm gewachsenen Baum mich setze, um meinen verwundeten Sohlen nur einige Linderung zu verschaffen, und dann in einer ermattenden Ruhe in dem D\\xc3\\xa4mmerschein hinschlummre! O Wilhelm! Die einsame Wohnung einer Zelle, das h\\xc3\\xa4rene Gewand und der Stachelg\\xc3\\xbcrtel w\\xc3\\xa4ren Labsale, nach denen meine Seele schmachtet. Adieu! Ich sehe dieses Elendes kein Ende als das Grab.\",\n",
       " 'Am 3. September',\n",
       " 'Ich mu\\xc3\\x9f fort! Ich danke dir, Wilhelm, da\\xc3\\x9f du meinen wankenden Entschlu\\xc3\\x9f bestimmt hast. Schon vierzehn Tage gehe ich mit dem Gedanken um, sie zu verlassen. Ich mu\\xc3\\x9f fort. Sie ist wieder in der Stadt bei einer Freundin. Und Albert \\xe2\\x80\\x93 und \\xe2\\x80\\x93 ich mu\\xc3\\x9f fort!',\n",
       " 'Am 10. September',\n",
       " 'Das war eine Nacht! Wilhelm! Nun \\xc3\\xbcberstehe ich alles. Ich werde sie nicht wiedersehn! O da\\xc3\\x9f ich nicht an deinen Hals fliegen, dir mit tausend Tr\\xc3\\xa4nen und Entz\\xc3\\xbcckungen ausdr\\xc3\\xbccken kann, mein Bester, die Empfindungen, die mein Herz best\\xc3\\xbcrmen. Hier sitze ich und schnappe nach Luft, suche mich zu beruhigen, erwarte den Morgen, und mit Sonnenaufgang sind die Pferde bestellt.',\n",
       " 'Ach, sie schl\\xc3\\xa4ft ruhig und denkt nicht, da\\xc3\\x9f sie mich nie wieder sehen wird. Ich habe mich losgerissen, bin stark genug gewesen, in einem Gespr\\xc3\\xa4ch von zwei Stunden mein Vorhaben nicht zu verraten. Und Gott, welch ein Gespr\\xc3\\xa4ch!',\n",
       " 'Albert hatte mir versprochen, gleich nach dem Nachtessen mit Lotten im Garten zu sein. Ich stand auf der Terrasse unter den hohen Kastanienb\\xc3\\xa4umen und sah der Sonne nach, die mir nun zum letztenmale \\xc3\\xbcber dem lieblichen Tale, \\xc3\\xbcber dem sanften Flu\\xc3\\x9f unterging. So oft hatte ich hier gestanden mit ihr und eben dem herrlichen Schauspiele zugesehen, und nun \\xe2\\x80\\x93 ich ging in der Allee auf und ab, die mir so lieb war; ein geheimer sympathetischer Zug hatte mich hier so oft gehalten, ehe ich noch Lotten kannte, und wie freuten wir uns, als wir im Anfang unserer Bekanntschaft die wechselseitige Neigung zu diesem Pl\\xc3\\xa4tzchen entdeckten, das wahrhaftig eins von den romantischsten ist, die ich von der Kunst hervorgebracht gesehen habe.',\n",
       " \"Erst hast du zwischen den Kastanienb\\xc3\\xa4umen die weite Aussicht \\xe2\\x80\\x93 Ach, ich erinnere mich, ich habe dir, denk' ich, schon viel davon geschrieben, wie hohe Buchenw\\xc3\\xa4nde einen endlich einschlie\\xc3\\x9fen und durch ein daransto\\xc3\\x9fendes Boskett die Allee immer d\\xc3\\xbcsterer wird, bis zuletzt alles sich in ein geschlossenes Pl\\xc3\\xa4tzchen endigt, das alle Schauer der Einsamkeit umschweben. Ich f\\xc3\\xbchle es noch, wie heimlich mir's ward, als ich zum erstenmale an einem hohen Mittage hineintrat; ich ahnete ganz leise, was f\\xc3\\xbcr ein Schauplatz das noch werden sollte von Seligkeit und Schmerz.\",\n",
       " 'Ich hatte mich etwa eine halbe Stunde in den schmachtenden, s\\xc3\\xbc\\xc3\\x9fen Gedanken des Abscheidens, des Wiedersehens geweidet, als ich sie die Terrasse heraufsteigen h\\xc3\\xb6rte. Ich lief ihnen entgegen, mit einem Schauer fa\\xc3\\x9fte ich ihre Hand und k\\xc3\\xbc\\xc3\\x9fte sie. Wir waren eben heraufgetreten, als der Mond hinter dem buschigen H\\xc3\\xbcgel aufging; wir redeten mancherlei und kamen unvermerkt dem d\\xc3\\xbcstern Kabinette n\\xc3\\xa4her. Lotte trat hinein und setzte sich, Albert neben sie, ich auch; doch meine Unruhe lie\\xc3\\x9f mich nicht lange sitzen; ich stand auf, trat vor sie, ging auf und ab, setzte mich wieder: es war ein \\xc3\\xa4ngstlicher Zustand. Sie machte uns aufmerksam auf die sch\\xc3\\xb6ne Wirkung des Mondenlichtes, das am Ende der Buchenw\\xc3\\xa4nde die ganze Terrasse vor uns erleuchtete: ein herrlicher Anblick, der um so viel frappanter war, weil uns rings eine tiefe D\\xc3\\xa4mmerung einschlo\\xc3\\x9f. Wir waren still, und sie fing nach einer Weile an: \\xc2\\xbbniemals gehe ich im Mondenlichte spazieren, niemals, da\\xc3\\x9f mir nicht der Gedanke an meine Verstorbenen begegnete, da\\xc3\\x9f nicht das Gef\\xc3\\xbchl von Tod, von Zukunft \\xc3\\xbcber mich k\\xc3\\xa4me\\xc2\\xab. \\xc2\\xbbWir werden sein!\\xc2\\xab fuhr sie mit der Stimme des herrlichsten Gef\\xc3\\xbchls fort; \\xc2\\xbbaber, Werther, sollen wir uns wieder finden? Wieder erkennen? Was ahnen Sie? Was sagen Sie?\\xc2\\xab',\n",
       " '\\xc2\\xbbLotte\\xc2\\xab, sagte ich, indem ich ihr die Hand reichte und mir die Augen voll Tr\\xc3\\xa4nen wurden, \\xc2\\xbbwir werden uns wiedersehn! Hier und dort wiedersehn!\\xc2\\xab \\xe2\\x80\\x93 ich konnte nicht weiter reden \\xe2\\x80\\x93 Wilhelm, mu\\xc3\\x9fte sie mich das fragen, da ich diesen \\xc3\\xa4ngstlichen Abschied im Herzen hatte!',\n",
       " \"\\xc2\\xbbUnd ob die lieben Abgeschiednen von uns wissen\\xc2\\xab, fuhr sie fort, \\xc2\\xbbob sie f\\xc3\\xbchlen, wann's uns wohl geht, da\\xc3\\x9f wir mit warmer Liebe uns ihrer erinnern? O! Die Gestalt meiner Mutter schwebt immer um mich, wenn ich am stillen Abend unter ihren Kindern, unter meinen Kindern sitze und sie um mich versammelt sind, wie sie um sie versammelt waren. Wenn ich dann mit einer sehnenden Tr\\xc3\\xa4ne gen Himmel sehe und w\\xc3\\xbcnsche, da\\xc3\\x9f sie hereinschauen k\\xc3\\xb6nnte einen Augenblick, wie ich mein Wort halte, das ich ihr in der des Todes gab: die Mutter ihrer Kinder zu sein. Mit welcher Empfindung rufe ich aus: \\xe2\\x80\\xbaverzeihe mir's, Teuerste, wenn ich ihnen nicht bin, was du ihnen warst. Ach! Tue ich doch alles, was ich kann; sind sie doch gekleidet, gen\\xc3\\xa4hrt, ach, und, was mehr ist als das alles, gepflegt und geliebt. K\\xc3\\xb6nntest du unsere Eintracht sehen, liebe Heilige! Du w\\xc3\\xbcrdest mit dem hei\\xc3\\x9festen Danke den Gott verherrlichen, den du mit den letzten, bittersten Tr\\xc3\\xa4nen um die Wohlfahrt deiner Kinder batest.\\xe2\\x80\\xb9\\xc2\\xab\",\n",
       " '\\xe2\\x80\\x93 Sie sagte das! O Wilhelm, wer kann wiederholen, was sie sagte! Wie kann der kalte, tote Buchstabe diese himmlische Bl\\xc3\\xbcte des Geistes darstellen! Albert fiel ihr sanft in die Rede: \\xc2\\xbbes greift zu stark an, liebe Lotte! Ich wei\\xc3\\x9f, Ihre Seele h\\xc3\\xa4ngt sehr nach diesen Ideen, aber ich bitte Sie\\xc2\\xab. \\xe2\\x80\\x93 \\xc2\\xbbO Albert\\xc2\\xab, sagte sie, \\xc2\\xbbich wei\\xc3\\x9f, du vergissest nicht die Abende, da wir zusammensa\\xc3\\x9fen an dem kleinen, runden Tischchen, wenn der Papa verreist war, und wir die Kleinen schlafen geschickt hatten. Du hattest oft ein gutes Buch und kannst so selten dazu, etwas zu lesen \\xe2\\x80\\x93 war der Umgang dieser herrlichen Seele nicht mehr als alles? Die sch\\xc3\\xb6ne, sanfte, muntere und immer t\\xc3\\xa4tige Frau! Gott kennt meine Tr\\xc3\\xa4nen, mit denen ich mich oft in meinem Bette vor ihn hinwarf: er m\\xc3\\xb6chte mich ihr gleich machen\\xc2\\xab.',\n",
       " '\\xc2\\xbbLotte!\\xc2\\xab rief ich aus, indem ich mich vor sie hinwarf, ihre Hand nahm und mit tausend Tr\\xc3\\xa4nen netzte, \\xc2\\xbbLotte! Der Segen Gottes ruht \\xc3\\xbcber dir und der Geist deiner Mutter!\\xc2\\xab \\xc2\\xbbWenn Sie sie gekannt h\\xc3\\xa4tten\\xc2\\xab, sagte sie, indem sie mir die Hand dr\\xc3\\xbcckte, \\xe2\\x80\\x93 \\xc2\\xbbsie war wert, von Ihnen gekannt zu sein!\\xc2\\xab \\xe2\\x80\\x93 ich glaubte zu vergehen.',\n",
       " \"Nie war ein gr\\xc3\\xb6\\xc3\\x9feres, stolzeres Wort \\xc3\\xbcber mich ausgesprochen worden \\xe2\\x80\\x93 und sie fuhr fort: \\xc2\\xbbund diese Frau mu\\xc3\\x9fte in der Bl\\xc3\\xbcte ihrer Jahre dahin, da ihr j\\xc3\\xbcngster Sohn nicht sechs Monate alt war! Ihre Krankheit dauerte nicht lange; sie war ruhig, hingegeben, nur ihre Kinder taten ihr weh, besonders das kleine. Wie es gegen das Ende ging und sie zu mir sagte: \\xe2\\x80\\xbabringe mir sie herauf!\\xe2\\x80\\xb9 und wie ich sie hereinf\\xc3\\xbchrte, die kleinen, die nicht wu\\xc3\\x9ften, und die \\xc3\\xa4ltesten, die ohne Sinne waren, wie sie ums Bette standen, und wie sie die H\\xc3\\xa4nde aufhob und \\xc3\\xbcber sie betete, und sie k\\xc3\\xbc\\xc3\\x9fte nach einander und sie wegschickte und zu mir sagte: \\xe2\\x80\\xbasei ihre Mutter!\\xe2\\x80\\xb9 \\xe2\\x80\\x93 Ich gab ihr die Hand drauf! \\xe2\\x80\\x93 \\xe2\\x80\\xbaDu versprichst viel, meine Tochter', sagte sie, \\xe2\\x80\\xbadas Herz einer Mutter und das Aug' einer Mutter. Ich habe oft an deinen dankbaren Tr\\xc3\\xa4nen gesehen, da\\xc3\\x9f du f\\xc3\\xbchlst, was das sei. Habe es f\\xc3\\xbcr deine Geschwister, und f\\xc3\\xbcr deinen Vater die Treue und den Gehorsam einer Frau. Du wirst ihn tr\\xc3\\xb6sten.\\xe2\\x80\\xb9 \\xe2\\x80\\x93 Sie fragte nach ihm, er war ausgegangen, um uns den unertr\\xc3\\xa4glichen Kummer zu verbergen, den er f\\xc3\\xbchlte, der Mann war ganz zerrissen.\",\n",
       " \"Albert, du warst im Zimmer. Sie h\\xc3\\xb6rte jemand gehn und fragte und forderte dich zu sich, und wie sie dich ansah und mich, mit dem getr\\xc3\\xb6steten, ruhigen Blicke, da\\xc3\\x9f wir gl\\xc3\\xbccklich sein, zusammen gl\\xc3\\xbccklich sein w\\xc3\\xbcrden\\xc2\\xab. \\xe2\\x80\\x93 Albert fiel ihr um den Hals und k\\xc3\\xbc\\xc3\\x9fte sie und rief: \\xc2\\xbbwir sind es! Wir werden es sein!\\xc2\\xab \\xe2\\x80\\x93 der ruhige Albert war ganz aus seiner Fassung, und ich wu\\xc3\\x9fte nichts von mir selber. \\xc2\\xbbWerther\\xc2\\xab, fing sie an, \\xc2\\xbbund diese Frau sollte dahin sein! Gott! Wenn ich manchmal denke, wie man das Liebste seines Lebens wegtragen l\\xc3\\xa4\\xc3\\x9ft, und niemand als die Kinder das so scharf f\\xc3\\xbchlt, die sich noch lange beklagten, die schwarzen M\\xc3\\xa4nner h\\xc3\\xa4tten die Mama weggetragen! \\xc2\\xbbsie stand auf, und ich ward erweckt und ersch\\xc3\\xbcttert, blieb sitzen und hielt ihre Hand. \\xe2\\x80\\x93 \\xc2\\xbbWir wollen fort\\xc2\\xab, sagte sie, \\xc2\\xbbes wird Zeit\\xc2\\xab. \\xe2\\x80\\x93 Sie wollte ihre Hand zur\\xc3\\xbcckziehen, und ich hielt sie fester. \\xe2\\x80\\x93 \\xc2\\xbbwir werden uns wieder sehen\\xc2\\xab rief ich, \\xc2\\xbbwir werden uns finden, unter allen Gestalten werden wir uns erkennen. Ich gehe\\xc2\\xab, fuhr ich fort, \\xc2\\xbbich gehe willig, und doch, wenn ich sagen sollte auf ewig, ich w\\xc3\\xbcrde es nicht aushalten. Leb' wohl, Lotte! Leb' wohl, Albert! Wir sehn uns wieder\\xc2\\xab. \\xe2\\x80\\x93 \\xc2\\xbbMorgen, denke ich\\xc2\\xab, versetzte sie scherzend. \\xe2\\x80\\x93 Ich f\\xc3\\xbchlte das Morgen! Ach, sie wu\\xc3\\x9fte nicht, als sie ihre Hand aus der meinen zog \\xe2\\x80\\x93 Sie gingen die Allee hinaus, ich stand, sah ihnen nach im Mondscheine und warf mich an die Erde und weinte mich aus und sprang auf und lief auf die Terrasse hervor und sah noch dort unten im Schatten der hohen Lindenb\\xc3\\xa4ume ihr wei\\xc3\\x9fes Kleid nach der Gartent\\xc3\\xbcr schimmern, ich streckte meine Arme aus, und es verschwand.\"]"
      ]
     },
     "execution_count": 215,
     "metadata": {},
     "output_type": "execute_result"
    }
   ],
   "source": [
    "read_data.splitlines()"
   ]
  },
  {
   "cell_type": "markdown",
   "metadata": {},
   "source": [
    "## Problem 3\n",
    "How often does the word 'wert' occur in the first chapter?"
   ]
  },
  {
   "cell_type": "code",
   "execution_count": 214,
   "metadata": {
    "collapsed": true
   },
   "outputs": [
    {
     "data": {
      "text/plain": [
       "8"
      ]
     },
     "execution_count": 214,
     "metadata": {},
     "output_type": "execute_result"
    }
   ],
   "source": [
    "read_data.count('wert')"
   ]
  },
  {
   "cell_type": "markdown",
   "metadata": {},
   "source": [
    "## Collections (tuples, lists, sets, dictionaries)"
   ]
  },
  {
   "cell_type": "markdown",
   "metadata": {},
   "source": [
    "** tuples **\n",
    "* immutable\n",
    "* faster than lists\n",
    "* fixed data\n",
    "* sequence"
   ]
  },
  {
   "cell_type": "code",
   "execution_count": 45,
   "metadata": {
    "collapsed": false,
    "scrolled": false
   },
   "outputs": [
    {
     "name": "stdout",
     "output_type": "stream",
     "text": [
      "('physics', 'chemistry', 1997, 2000, 1, 2, 3, 4, 5, 'a', 'b', 'c', 'd')\n"
     ]
    }
   ],
   "source": [
    "tup1 = ('physics', 'chemistry', 1997, 2000);\n",
    "tup2 = (1, 2, 3, 4, 5 );\n",
    "tup3 = \"a\", \"b\", \"c\", \"d\";\n",
    "\n",
    "print tup1 + tup2 + tup3"
   ]
  },
  {
   "cell_type": "code",
   "execution_count": 48,
   "metadata": {
    "collapsed": false
   },
   "outputs": [
    {
     "data": {
      "text/plain": [
       "1"
      ]
     },
     "execution_count": 48,
     "metadata": {},
     "output_type": "execute_result"
    }
   ],
   "source": [
    "tup2.count(3)"
   ]
  },
  {
   "cell_type": "markdown",
   "metadata": {},
   "source": [
    "** list **\n",
    "* general purpose\n",
    "* keeps order\n",
    "* sortable\n",
    "* grow and shrink size as needed\n",
    "* just contains values\n",
    "* checking for item existence takes time proportional to list´s length\n",
    "* sequence"
   ]
  },
  {
   "cell_type": "markdown",
   "metadata": {},
   "source": [
    "**Constructors - creating new lists**"
   ]
  },
  {
   "cell_type": "code",
   "execution_count": 144,
   "metadata": {
    "collapsed": false,
    "scrolled": true
   },
   "outputs": [
    {
     "name": "stdout",
     "output_type": "stream",
     "text": [
      "[]\n",
      "[]\n"
     ]
    }
   ],
   "source": [
    "x = list()\n",
    "y = []\n",
    "print x \n",
    "print y"
   ]
  },
  {
   "cell_type": "code",
   "execution_count": 145,
   "metadata": {
    "collapsed": false
   },
   "outputs": [
    {
     "name": "stdout",
     "output_type": "stream",
     "text": [
      "['a', 25, 'dog', 8.4]\n"
     ]
    }
   ],
   "source": [
    "x = ['a',25,'dog',8.4]\n",
    "print x"
   ]
  },
  {
   "cell_type": "code",
   "execution_count": 4,
   "metadata": {
    "collapsed": false,
    "scrolled": true
   },
   "outputs": [],
   "source": [
    "tuple1 = ('a',25,['dog','cat'],8.4)"
   ]
  },
  {
   "cell_type": "code",
   "execution_count": 5,
   "metadata": {
    "collapsed": false
   },
   "outputs": [
    {
     "name": "stdout",
     "output_type": "stream",
     "text": [
      "Dude! Tuples are immutable! But why? That´s why:  'tuple' object does not support item assignment\n"
     ]
    }
   ],
   "source": [
    "try:\n",
    "    tuple1[1]=27\n",
    "except Exception as detail:\n",
    "    print \"Dude! Tuples are immutable! But why? That´s why: \", detail    "
   ]
  },
  {
   "cell_type": "code",
   "execution_count": 6,
   "metadata": {
    "collapsed": false
   },
   "outputs": [
    {
     "name": "stdout",
     "output_type": "stream",
     "text": [
      "['a', 27, ['dog', 'cat'], 8.4]\n"
     ]
    }
   ],
   "source": [
    "list1=list(tuple1)\n",
    "list1[1]=27\n",
    "print(list1)"
   ]
  },
  {
   "cell_type": "code",
   "execution_count": 7,
   "metadata": {
    "collapsed": false
   },
   "outputs": [
    {
     "name": "stdout",
     "output_type": "stream",
     "text": [
      "('a', 25, ['andreas', 'jens'], 8.4)\n"
     ]
    }
   ],
   "source": [
    "tuple1[2][0],tuple1[2][1] = 'andreas','jens'\n",
    "print(tuple1)"
   ]
  },
  {
   "cell_type": "code",
   "execution_count": 9,
   "metadata": {
    "collapsed": false,
    "scrolled": true
   },
   "outputs": [
    {
     "data": {
      "text/plain": [
       "[1, 3, 5, 6, 7]"
      ]
     },
     "execution_count": 9,
     "metadata": {},
     "output_type": "execute_result"
    }
   ],
   "source": [
    "list1 = [1,1,3,3,5,6,7]\n",
    "list1 = list(set(list1)) #remove duplicates from a list by using set (see below)\n",
    "list1"
   ]
  },
  {
   "cell_type": "code",
   "execution_count": 14,
   "metadata": {
    "collapsed": true
   },
   "outputs": [],
   "source": [
    "a = 'is'\n",
    "b = 'awesome'\n",
    "my_list = ['my','list',a,b]"
   ]
  },
  {
   "cell_type": "code",
   "execution_count": 15,
   "metadata": {
    "collapsed": false,
    "scrolled": true
   },
   "outputs": [
    {
     "data": {
      "text/plain": [
       "'list'"
      ]
     },
     "execution_count": 15,
     "metadata": {},
     "output_type": "execute_result"
    }
   ],
   "source": [
    "my_list[1] #subsetting"
   ]
  },
  {
   "cell_type": "code",
   "execution_count": 16,
   "metadata": {
    "collapsed": false
   },
   "outputs": [
    {
     "data": {
      "text/plain": [
       "'list'"
      ]
     },
     "execution_count": 16,
     "metadata": {},
     "output_type": "execute_result"
    }
   ],
   "source": [
    "my_list[-3] #3rd last"
   ]
  },
  {
   "cell_type": "code",
   "execution_count": 17,
   "metadata": {
    "collapsed": false,
    "scrolled": true
   },
   "outputs": [
    {
     "data": {
      "text/plain": [
       "['list', 'is']"
      ]
     },
     "execution_count": 17,
     "metadata": {},
     "output_type": "execute_result"
    }
   ],
   "source": [
    "my_list[1:3] #between"
   ]
  },
  {
   "cell_type": "code",
   "execution_count": 18,
   "metadata": {
    "collapsed": false,
    "scrolled": true
   },
   "outputs": [
    {
     "data": {
      "text/plain": [
       "['list', 'is', 'awesome']"
      ]
     },
     "execution_count": 18,
     "metadata": {},
     "output_type": "execute_result"
    }
   ],
   "source": [
    "my_list[1:] #after index 0"
   ]
  },
  {
   "cell_type": "code",
   "execution_count": 19,
   "metadata": {
    "collapsed": false
   },
   "outputs": [
    {
     "data": {
      "text/plain": [
       "['my', 'list', 'is']"
      ]
     },
     "execution_count": 19,
     "metadata": {},
     "output_type": "execute_result"
    }
   ],
   "source": [
    "my_list[:3] #b4 index 3"
   ]
  },
  {
   "cell_type": "code",
   "execution_count": 20,
   "metadata": {
    "collapsed": false
   },
   "outputs": [
    {
     "data": {
      "text/plain": [
       "['my', 'list', 'is', 'awesome']"
      ]
     },
     "execution_count": 20,
     "metadata": {},
     "output_type": "execute_result"
    }
   ],
   "source": [
    "my_list[:] #copy"
   ]
  },
  {
   "cell_type": "code",
   "execution_count": 21,
   "metadata": {
    "collapsed": true
   },
   "outputs": [],
   "source": [
    "my_list2 = [[4,5,6],[3,4,5,6]]"
   ]
  },
  {
   "cell_type": "code",
   "execution_count": 22,
   "metadata": {
    "collapsed": false
   },
   "outputs": [
    {
     "data": {
      "text/plain": [
       "3"
      ]
     },
     "execution_count": 22,
     "metadata": {},
     "output_type": "execute_result"
    }
   ],
   "source": [
    "my_list2[1][0] #subset list of lists"
   ]
  },
  {
   "cell_type": "code",
   "execution_count": 23,
   "metadata": {
    "collapsed": false
   },
   "outputs": [
    {
     "data": {
      "text/plain": [
       "[3, 4]"
      ]
     },
     "execution_count": 23,
     "metadata": {},
     "output_type": "execute_result"
    }
   ],
   "source": [
    "my_list2[1][:2] #subset list of lists"
   ]
  },
  {
   "cell_type": "code",
   "execution_count": 24,
   "metadata": {
    "collapsed": false
   },
   "outputs": [
    {
     "data": {
      "text/plain": [
       "['my', 'list', 'is', 'awesome', [4, 5, 6], [3, 4, 5, 6]]"
      ]
     },
     "execution_count": 24,
     "metadata": {},
     "output_type": "execute_result"
    }
   ],
   "source": [
    "my_list + my_list2"
   ]
  },
  {
   "cell_type": "code",
   "execution_count": 25,
   "metadata": {
    "collapsed": false,
    "scrolled": true
   },
   "outputs": [
    {
     "data": {
      "text/plain": [
       "['my', 'list', 'is', 'awesome', 'my', 'list', 'is', 'awesome']"
      ]
     },
     "execution_count": 25,
     "metadata": {},
     "output_type": "execute_result"
    }
   ],
   "source": [
    "my_list * 2"
   ]
  },
  {
   "cell_type": "markdown",
   "metadata": {},
   "source": [
    "**List functions**"
   ]
  },
  {
   "cell_type": "code",
   "execution_count": 26,
   "metadata": {
    "collapsed": false,
    "scrolled": true
   },
   "outputs": [
    {
     "name": "stdout",
     "output_type": "stream",
     "text": [
      "is\n"
     ]
    }
   ],
   "source": [
    "print a"
   ]
  },
  {
   "cell_type": "code",
   "execution_count": 27,
   "metadata": {
    "collapsed": false,
    "scrolled": true
   },
   "outputs": [
    {
     "data": {
      "text/plain": [
       "2"
      ]
     },
     "execution_count": 27,
     "metadata": {},
     "output_type": "execute_result"
    }
   ],
   "source": [
    "my_list.index(a)"
   ]
  },
  {
   "cell_type": "code",
   "execution_count": 28,
   "metadata": {
    "collapsed": false
   },
   "outputs": [
    {
     "data": {
      "text/plain": [
       "1"
      ]
     },
     "execution_count": 28,
     "metadata": {},
     "output_type": "execute_result"
    }
   ],
   "source": [
    "my_list.count(a)"
   ]
  },
  {
   "cell_type": "code",
   "execution_count": 29,
   "metadata": {
    "collapsed": false
   },
   "outputs": [
    {
     "name": "stdout",
     "output_type": "stream",
     "text": [
      "['my', 'list', 'is', 'awesome', '!']\n"
     ]
    }
   ],
   "source": [
    "my_list.append('!')\n",
    "print my_list"
   ]
  },
  {
   "cell_type": "code",
   "execution_count": 30,
   "metadata": {
    "collapsed": false
   },
   "outputs": [
    {
     "name": "stdout",
     "output_type": "stream",
     "text": [
      "['my', 'list', 'is', 'awesome']\n"
     ]
    }
   ],
   "source": [
    "my_list.remove('!')\n",
    "print my_list"
   ]
  },
  {
   "cell_type": "code",
   "execution_count": 31,
   "metadata": {
    "collapsed": false
   },
   "outputs": [
    {
     "name": "stdout",
     "output_type": "stream",
     "text": [
      "['list', 'is', 'awesome']\n"
     ]
    }
   ],
   "source": [
    "del(my_list[0:1])\n",
    "print(my_list)"
   ]
  },
  {
   "cell_type": "code",
   "execution_count": 32,
   "metadata": {
    "collapsed": false
   },
   "outputs": [
    {
     "name": "stdout",
     "output_type": "stream",
     "text": [
      "['awesome', 'is', 'list']\n"
     ]
    }
   ],
   "source": [
    "my_list.reverse()\n",
    "print my_list"
   ]
  },
  {
   "cell_type": "code",
   "execution_count": 33,
   "metadata": {
    "collapsed": false,
    "scrolled": true
   },
   "outputs": [
    {
     "data": {
      "text/plain": [
       "'list'"
      ]
     },
     "execution_count": 33,
     "metadata": {},
     "output_type": "execute_result"
    }
   ],
   "source": [
    "my_list.pop(-1)"
   ]
  },
  {
   "cell_type": "code",
   "execution_count": 34,
   "metadata": {
    "collapsed": false,
    "scrolled": true
   },
   "outputs": [
    {
     "name": "stdout",
     "output_type": "stream",
     "text": [
      "['awesome', 'is']\n"
     ]
    }
   ],
   "source": [
    "print my_list"
   ]
  },
  {
   "cell_type": "code",
   "execution_count": 35,
   "metadata": {
    "collapsed": false
   },
   "outputs": [
    {
     "name": "stdout",
     "output_type": "stream",
     "text": [
      "['!', 'awesome', 'is']\n"
     ]
    }
   ],
   "source": [
    "my_list.insert(0,'!')\n",
    "print my_list"
   ]
  },
  {
   "cell_type": "code",
   "execution_count": 36,
   "metadata": {
    "collapsed": false,
    "scrolled": true
   },
   "outputs": [
    {
     "name": "stdout",
     "output_type": "stream",
     "text": [
      "['!', 'awesome', 'is']\n"
     ]
    }
   ],
   "source": [
    "my_list.sort()\n",
    "print my_list"
   ]
  },
  {
   "cell_type": "markdown",
   "metadata": {},
   "source": [
    "**List comprehension & lambda functions**"
   ]
  },
  {
   "cell_type": "code",
   "execution_count": 37,
   "metadata": {
    "collapsed": false,
    "scrolled": true
   },
   "outputs": [
    {
     "data": {
      "text/plain": [
       "[0, 1, 2, 3, 4, 5, 6, 7, 8, 9]"
      ]
     },
     "execution_count": 37,
     "metadata": {},
     "output_type": "execute_result"
    }
   ],
   "source": [
    "range(10)"
   ]
  },
  {
   "cell_type": "code",
   "execution_count": 38,
   "metadata": {
    "collapsed": false
   },
   "outputs": [
    {
     "data": {
      "text/plain": [
       "[5, 6, 7, 8, 9]"
      ]
     },
     "execution_count": 38,
     "metadata": {},
     "output_type": "execute_result"
    }
   ],
   "source": [
    "range(5,10)"
   ]
  },
  {
   "cell_type": "code",
   "execution_count": 39,
   "metadata": {
    "collapsed": false
   },
   "outputs": [
    {
     "data": {
      "text/plain": [
       "[0, 1, 2, 3, 4, 5, 6, 7, 8]"
      ]
     },
     "execution_count": 39,
     "metadata": {},
     "output_type": "execute_result"
    }
   ],
   "source": [
    "x = [m for m in range(9)]\n",
    "x"
   ]
  },
  {
   "cell_type": "code",
   "execution_count": 40,
   "metadata": {
    "collapsed": false
   },
   "outputs": [
    {
     "data": {
      "text/plain": [
       "[25, 36, 49, 64, 81]"
      ]
     },
     "execution_count": 40,
     "metadata": {},
     "output_type": "execute_result"
    }
   ],
   "source": [
    "x = [z**2 for z in range(10) if z > 4]\n",
    "x"
   ]
  },
  {
   "cell_type": "code",
   "execution_count": 41,
   "metadata": {
    "collapsed": true
   },
   "outputs": [],
   "source": [
    "n = [4,5,3,5]"
   ]
  },
  {
   "cell_type": "code",
   "execution_count": 42,
   "metadata": {
    "collapsed": false
   },
   "outputs": [
    {
     "name": "stdout",
     "output_type": "stream",
     "text": [
      "[16, 25, 9, 25]\n"
     ]
    }
   ],
   "source": [
    "print(list(map(lambda x: x**2,n)))"
   ]
  },
  {
   "cell_type": "code",
   "execution_count": 44,
   "metadata": {
    "collapsed": false,
    "scrolled": true
   },
   "outputs": [
    {
     "name": "stdout",
     "output_type": "stream",
     "text": [
      "[16, 25, 9, 25]\n"
     ]
    }
   ],
   "source": [
    "print([x**2 for x in n])"
   ]
  },
  {
   "cell_type": "code",
   "execution_count": 45,
   "metadata": {
    "collapsed": false
   },
   "outputs": [
    {
     "name": "stdout",
     "output_type": "stream",
     "text": [
      "[5, 5]\n"
     ]
    }
   ],
   "source": [
    "print(list(filter(lambda x: x>4, n)))"
   ]
  },
  {
   "cell_type": "code",
   "execution_count": 46,
   "metadata": {
    "collapsed": false,
    "scrolled": true
   },
   "outputs": [
    {
     "name": "stdout",
     "output_type": "stream",
     "text": [
      "[5, 5]\n"
     ]
    }
   ],
   "source": [
    "print([x for x in n if x > 4])"
   ]
  },
  {
   "cell_type": "markdown",
   "metadata": {},
   "source": [
    "<div style=\"width:75%;margin-left:auto;margin-right:auto\">![reduce](img/reduce.png)</div>"
   ]
  },
  {
   "cell_type": "markdown",
   "metadata": {},
   "source": [
    "* Applies same operation to items of a sequence\n",
    "* Uses result of operation as first parameter of next operation\n",
    "* Returns an item, not a list"
   ]
  },
  {
   "cell_type": "code",
   "execution_count": 51,
   "metadata": {
    "collapsed": false
   },
   "outputs": [
    {
     "name": "stdout",
     "output_type": "stream",
     "text": [
      "[4, 5, 3, 5]\n"
     ]
    }
   ],
   "source": [
    "print n"
   ]
  },
  {
   "cell_type": "code",
   "execution_count": 50,
   "metadata": {
    "collapsed": false
   },
   "outputs": [
    {
     "name": "stdout",
     "output_type": "stream",
     "text": [
      "300\n"
     ]
    }
   ],
   "source": [
    "print(reduce(lambda x,y: x*y, n))"
   ]
  },
  {
   "cell_type": "code",
   "execution_count": 52,
   "metadata": {
    "collapsed": true
   },
   "outputs": [],
   "source": [
    "import time\n",
    "import sys"
   ]
  },
  {
   "cell_type": "code",
   "execution_count": 54,
   "metadata": {
    "collapsed": false
   },
   "outputs": [
    {
     "name": "stdout",
     "output_type": "stream",
     "text": [
      "0.371956110001 seconds to fetch 105067 rows\n"
     ]
    }
   ],
   "source": [
    "start = time.time()\n",
    "data = [line.rstrip() for line in open('data/Achilles_QC_v2.11.rnai.gct')]\n",
    "end=time.time()\n",
    "print(str(end - start) + \" seconds to fetch \" + str(len(data)) + \" rows\")"
   ]
  },
  {
   "cell_type": "code",
   "execution_count": 55,
   "metadata": {
    "collapsed": false,
    "scrolled": true
   },
   "outputs": [
    {
     "name": "stdout",
     "output_type": "stream",
     "text": [
      "0 #1.2\n",
      "1 105064\t168\n",
      "2 Name\tDescription\t143B_BONE\t769P_KIDNEY\tA375_SKIN\tA3KAW_HAEMATOPOIETIC_AND_L\n",
      "3 AAAAATGGCATCAACCACCAT_RPS6KA1\tRPS6KA1\t-0.161\t-1.21629666666667\t0.02269475\t0\n",
      "4 AAACACATTTGGGATGTTCCT_IGF1R\tIGF1R\t0.31352075\t-0.570564333333333\t0.6395855\t1\n",
      "5 AAAGAAGAAGCTGCAATATCT_TSC1\tTSC1\t1.219423\t1.63401466666667\t1.59247675\t1.0068\n",
      "6 AATCTAAGAGAGCTGCCATCG_XRCC5\tXRCC5\t-0.89005975\t-1.83780233333333\t-2.6057225\t\n",
      "7 AATGAAAGCTCACTCTGGATT_PIK3CA\tPIK3CA\t-0.9037005\t-0.680433333333333\t-0.107759\n",
      "8 AATGCAGACTGCTGCAAAGCT_EXO1\tEXO1\t-1.2476465\t-0.136567666666667\t0.864569\t-0.3\n",
      "9 AATGCATTTGGTATGAATCTG_ATR\tATR\t-0.9784895\t-1.27695666666667\t-0.0386945\t-0.26\n"
     ]
    }
   ],
   "source": [
    "for line_no, lines in enumerate(data[:10]):\n",
    "    print line_no, lines[0:75]"
   ]
  },
  {
   "cell_type": "code",
   "execution_count": 1,
   "metadata": {
    "collapsed": false
   },
   "outputs": [
    {
     "data": {
      "text/html": [
       "<div>\n",
       "<table border=\"1\" class=\"dataframe\">\n",
       "  <thead>\n",
       "    <tr style=\"text-align: right;\">\n",
       "      <th></th>\n",
       "      <th>Name</th>\n",
       "      <th>Description</th>\n",
       "      <th>143B_BONE</th>\n",
       "      <th>769P_KIDNEY</th>\n",
       "      <th>A375_SKIN</th>\n",
       "      <th>A3KAW_HAEMATOPOIETIC_AND_LYMPHOID_TISSUE</th>\n",
       "      <th>ABC1_LUNG</th>\n",
       "      <th>AMO1_HAEMATOPOIETIC_AND_LYMPHOID_TISSUE</th>\n",
       "      <th>BFTC909_KIDNEY</th>\n",
       "      <th>BT12_SOFT_TISSUE</th>\n",
       "      <th>...</th>\n",
       "      <th>T47D_BREAST</th>\n",
       "      <th>TM87_SOFT_TISSUE</th>\n",
       "      <th>TTC709_SOFT_TISSUE</th>\n",
       "      <th>TUHR10TKB_KIDNEY</th>\n",
       "      <th>TUHR4TKB_KIDNEY</th>\n",
       "      <th>U2OS_BONE</th>\n",
       "      <th>U937_HAEMATOPOIETIC_AND_LYMPHOID_TISSUE</th>\n",
       "      <th>UACC257_SKIN</th>\n",
       "      <th>YD38_UPPER_AERODIGESTIVE_TRACT</th>\n",
       "      <th>ZR751_BREAST</th>\n",
       "    </tr>\n",
       "  </thead>\n",
       "  <tbody>\n",
       "    <tr>\n",
       "      <th>0</th>\n",
       "      <td>AAAAATGGCATCAACCACCAT_RPS6KA1</td>\n",
       "      <td>RPS6KA1</td>\n",
       "      <td>-0.161000</td>\n",
       "      <td>-1.216297</td>\n",
       "      <td>0.022695</td>\n",
       "      <td>0.095385</td>\n",
       "      <td>0.280716</td>\n",
       "      <td>-0.507331</td>\n",
       "      <td>-0.446185</td>\n",
       "      <td>-0.594096</td>\n",
       "      <td>...</td>\n",
       "      <td>-0.018487</td>\n",
       "      <td>0.081939</td>\n",
       "      <td>-0.061656</td>\n",
       "      <td>-0.160300</td>\n",
       "      <td>-0.037726</td>\n",
       "      <td>-0.430806</td>\n",
       "      <td>-0.403450</td>\n",
       "      <td>-0.137769</td>\n",
       "      <td>-0.015017</td>\n",
       "      <td>-0.170185</td>\n",
       "    </tr>\n",
       "    <tr>\n",
       "      <th>1</th>\n",
       "      <td>AAACACATTTGGGATGTTCCT_IGF1R</td>\n",
       "      <td>IGF1R</td>\n",
       "      <td>0.313521</td>\n",
       "      <td>-0.570564</td>\n",
       "      <td>0.639585</td>\n",
       "      <td>1.465002</td>\n",
       "      <td>-0.594581</td>\n",
       "      <td>-0.894052</td>\n",
       "      <td>-0.830973</td>\n",
       "      <td>-0.220709</td>\n",
       "      <td>...</td>\n",
       "      <td>-0.225363</td>\n",
       "      <td>0.000729</td>\n",
       "      <td>0.242750</td>\n",
       "      <td>0.778170</td>\n",
       "      <td>0.949624</td>\n",
       "      <td>0.242757</td>\n",
       "      <td>-0.232455</td>\n",
       "      <td>-0.355007</td>\n",
       "      <td>1.089438</td>\n",
       "      <td>1.023657</td>\n",
       "    </tr>\n",
       "    <tr>\n",
       "      <th>2</th>\n",
       "      <td>AAAGAAGAAGCTGCAATATCT_TSC1</td>\n",
       "      <td>TSC1</td>\n",
       "      <td>1.219423</td>\n",
       "      <td>1.634015</td>\n",
       "      <td>1.592477</td>\n",
       "      <td>1.006850</td>\n",
       "      <td>-1.059069</td>\n",
       "      <td>0.786327</td>\n",
       "      <td>1.100890</td>\n",
       "      <td>2.379065</td>\n",
       "      <td>...</td>\n",
       "      <td>2.030912</td>\n",
       "      <td>1.101181</td>\n",
       "      <td>0.566343</td>\n",
       "      <td>2.286711</td>\n",
       "      <td>1.283658</td>\n",
       "      <td>1.755966</td>\n",
       "      <td>0.348584</td>\n",
       "      <td>1.612551</td>\n",
       "      <td>0.914598</td>\n",
       "      <td>0.999390</td>\n",
       "    </tr>\n",
       "    <tr>\n",
       "      <th>3</th>\n",
       "      <td>AATCTAAGAGAGCTGCCATCG_XRCC5</td>\n",
       "      <td>XRCC5</td>\n",
       "      <td>-0.890060</td>\n",
       "      <td>-1.837802</td>\n",
       "      <td>-2.605722</td>\n",
       "      <td>-2.327725</td>\n",
       "      <td>-2.063088</td>\n",
       "      <td>-2.412214</td>\n",
       "      <td>-1.547524</td>\n",
       "      <td>0.502396</td>\n",
       "      <td>...</td>\n",
       "      <td>-2.203410</td>\n",
       "      <td>-2.634082</td>\n",
       "      <td>-2.834921</td>\n",
       "      <td>-2.632606</td>\n",
       "      <td>-1.764696</td>\n",
       "      <td>-1.648947</td>\n",
       "      <td>-2.572086</td>\n",
       "      <td>-2.185278</td>\n",
       "      <td>-1.204588</td>\n",
       "      <td>-2.847604</td>\n",
       "    </tr>\n",
       "    <tr>\n",
       "      <th>4</th>\n",
       "      <td>AATGAAAGCTCACTCTGGATT_PIK3CA</td>\n",
       "      <td>PIK3CA</td>\n",
       "      <td>-0.903700</td>\n",
       "      <td>-0.680433</td>\n",
       "      <td>-0.107760</td>\n",
       "      <td>0.753504</td>\n",
       "      <td>-0.677559</td>\n",
       "      <td>-2.112706</td>\n",
       "      <td>-2.182074</td>\n",
       "      <td>-0.105211</td>\n",
       "      <td>...</td>\n",
       "      <td>-3.516476</td>\n",
       "      <td>-1.263907</td>\n",
       "      <td>-2.066905</td>\n",
       "      <td>-0.476331</td>\n",
       "      <td>-0.227620</td>\n",
       "      <td>-1.613264</td>\n",
       "      <td>-0.170534</td>\n",
       "      <td>-0.763859</td>\n",
       "      <td>-1.196010</td>\n",
       "      <td>-0.626226</td>\n",
       "    </tr>\n",
       "  </tbody>\n",
       "</table>\n",
       "<p>5 rows × 170 columns</p>\n",
       "</div>"
      ],
      "text/plain": [
       "                            Name Description  143B_BONE  769P_KIDNEY  \\\n",
       "0  AAAAATGGCATCAACCACCAT_RPS6KA1     RPS6KA1  -0.161000    -1.216297   \n",
       "1    AAACACATTTGGGATGTTCCT_IGF1R       IGF1R   0.313521    -0.570564   \n",
       "2     AAAGAAGAAGCTGCAATATCT_TSC1        TSC1   1.219423     1.634015   \n",
       "3    AATCTAAGAGAGCTGCCATCG_XRCC5       XRCC5  -0.890060    -1.837802   \n",
       "4   AATGAAAGCTCACTCTGGATT_PIK3CA      PIK3CA  -0.903700    -0.680433   \n",
       "\n",
       "   A375_SKIN  A3KAW_HAEMATOPOIETIC_AND_LYMPHOID_TISSUE  ABC1_LUNG  \\\n",
       "0   0.022695                                  0.095385   0.280716   \n",
       "1   0.639585                                  1.465002  -0.594581   \n",
       "2   1.592477                                  1.006850  -1.059069   \n",
       "3  -2.605722                                 -2.327725  -2.063088   \n",
       "4  -0.107760                                  0.753504  -0.677559   \n",
       "\n",
       "   AMO1_HAEMATOPOIETIC_AND_LYMPHOID_TISSUE  BFTC909_KIDNEY  BT12_SOFT_TISSUE  \\\n",
       "0                                -0.507331       -0.446185         -0.594096   \n",
       "1                                -0.894052       -0.830973         -0.220709   \n",
       "2                                 0.786327        1.100890          2.379065   \n",
       "3                                -2.412214       -1.547524          0.502396   \n",
       "4                                -2.112706       -2.182074         -0.105211   \n",
       "\n",
       "       ...       T47D_BREAST  TM87_SOFT_TISSUE  TTC709_SOFT_TISSUE  \\\n",
       "0      ...         -0.018487          0.081939           -0.061656   \n",
       "1      ...         -0.225363          0.000729            0.242750   \n",
       "2      ...          2.030912          1.101181            0.566343   \n",
       "3      ...         -2.203410         -2.634082           -2.834921   \n",
       "4      ...         -3.516476         -1.263907           -2.066905   \n",
       "\n",
       "   TUHR10TKB_KIDNEY  TUHR4TKB_KIDNEY  U2OS_BONE  \\\n",
       "0         -0.160300        -0.037726  -0.430806   \n",
       "1          0.778170         0.949624   0.242757   \n",
       "2          2.286711         1.283658   1.755966   \n",
       "3         -2.632606        -1.764696  -1.648947   \n",
       "4         -0.476331        -0.227620  -1.613264   \n",
       "\n",
       "   U937_HAEMATOPOIETIC_AND_LYMPHOID_TISSUE  UACC257_SKIN  \\\n",
       "0                                -0.403450     -0.137769   \n",
       "1                                -0.232455     -0.355007   \n",
       "2                                 0.348584      1.612551   \n",
       "3                                -2.572086     -2.185278   \n",
       "4                                -0.170534     -0.763859   \n",
       "\n",
       "   YD38_UPPER_AERODIGESTIVE_TRACT  ZR751_BREAST  \n",
       "0                       -0.015017     -0.170185  \n",
       "1                        1.089438      1.023657  \n",
       "2                        0.914598      0.999390  \n",
       "3                       -1.204588     -2.847604  \n",
       "4                       -1.196010     -0.626226  \n",
       "\n",
       "[5 rows x 170 columns]"
      ]
     },
     "execution_count": 1,
     "metadata": {},
     "output_type": "execute_result"
    }
   ],
   "source": [
    "import pandas as pd\n",
    "dat = pd.read_csv('data/Achilles_QC_v2.11.rnai.gct',skiprows=2,sep='\\t')\n",
    "dat.head()"
   ]
  },
  {
   "cell_type": "markdown",
   "metadata": {
    "collapsed": true
   },
   "source": [
    "** set **\n",
    "* unordered\n",
    "* set options (union, intersect...) \n",
    "* just contains values\n",
    "* forbids duplicates\n",
    "* requires items to be hashable\n",
    "* item membership constant and FAST\n",
    "* created by the set() command, mostly by using a list\n",
    "\n"
   ]
  },
  {
   "cell_type": "code",
   "execution_count": 82,
   "metadata": {
    "collapsed": false,
    "scrolled": true
   },
   "outputs": [
    {
     "name": "stdout",
     "output_type": "stream",
     "text": [
      "set(['A', 'a', 'l'])\n",
      "set(['Ala'])\n",
      "set(['Ala'])\n"
     ]
    }
   ],
   "source": [
    "x = set(('Ala')) #set containing three letters\n",
    "y = set(('Ala',)) #set containing one string item\n",
    "z = set(['Ala']) #set containing one string item\n",
    "print x\n",
    "print y\n",
    "print z"
   ]
  },
  {
   "cell_type": "code",
   "execution_count": 53,
   "metadata": {
    "collapsed": false
   },
   "outputs": [
    {
     "name": "stdout",
     "output_type": "stream",
     "text": [
      "[1, 2, 3, 5, 5, 5, 6]\n"
     ]
    }
   ],
   "source": [
    "my_list = [1,2,3,5,5,5,6]\n",
    "print my_list"
   ]
  },
  {
   "cell_type": "code",
   "execution_count": 55,
   "metadata": {
    "collapsed": false
   },
   "outputs": [
    {
     "name": "stdout",
     "output_type": "stream",
     "text": [
      "set([1, 2, 3, 5, 6])\n"
     ]
    }
   ],
   "source": [
    "my_set = set(my_list)\n",
    "print my_set"
   ]
  },
  {
   "cell_type": "code",
   "execution_count": 58,
   "metadata": {
    "collapsed": false,
    "scrolled": true
   },
   "outputs": [
    {
     "data": {
      "text/plain": [
       "{'BRCA1', 'KRAS,', 'PDK1,', 'RIPK5R1', 'and', 'are', 'genes'}"
      ]
     },
     "execution_count": 58,
     "metadata": {},
     "output_type": "execute_result"
    }
   ],
   "source": [
    "set('PDK1, KRAS, KRAS, KRAS, BRCA1 and RIPK5R1 are genes'.split())"
   ]
  },
  {
   "cell_type": "code",
   "execution_count": 59,
   "metadata": {
    "collapsed": false
   },
   "outputs": [
    {
     "data": {
      "text/plain": [
       "['PDK1,', 'KRAS,', 'KRAS,', 'KRAS,', 'BRCA1', 'and', 'RIPK5R1', 'are', 'genes']"
      ]
     },
     "execution_count": 59,
     "metadata": {},
     "output_type": "execute_result"
    }
   ],
   "source": [
    "'PDK1, KRAS, KRAS, KRAS, BRCA1 and RIPK5R1 are genes'.split()"
   ]
  },
  {
   "cell_type": "code",
   "execution_count": 61,
   "metadata": {
    "collapsed": true
   },
   "outputs": [],
   "source": [
    "my_set1 = set(['PDK1','KRAS','BRCA1'])\n",
    "my_set2 = set(['CDK1','MYBL1','CDK5R1','KRAS'])"
   ]
  },
  {
   "cell_type": "code",
   "execution_count": 62,
   "metadata": {
    "collapsed": false
   },
   "outputs": [
    {
     "data": {
      "text/plain": [
       "{'BRCA1', 'CDK1', 'CDK5R1', 'KRAS', 'MYBL1', 'PDK1'}"
      ]
     },
     "execution_count": 62,
     "metadata": {},
     "output_type": "execute_result"
    }
   ],
   "source": [
    "my_set1.union(my_set2)"
   ]
  },
  {
   "cell_type": "code",
   "execution_count": 63,
   "metadata": {
    "collapsed": false,
    "scrolled": true
   },
   "outputs": [
    {
     "data": {
      "text/plain": [
       "{'KRAS'}"
      ]
     },
     "execution_count": 63,
     "metadata": {},
     "output_type": "execute_result"
    }
   ],
   "source": [
    "my_set1.intersection(my_set2)"
   ]
  },
  {
   "cell_type": "code",
   "execution_count": 64,
   "metadata": {
    "collapsed": false,
    "scrolled": true
   },
   "outputs": [
    {
     "data": {
      "text/plain": [
       "{'BRCA1', 'PDK1'}"
      ]
     },
     "execution_count": 64,
     "metadata": {},
     "output_type": "execute_result"
    }
   ],
   "source": [
    "my_set1.difference(my_set2)"
   ]
  },
  {
   "cell_type": "code",
   "execution_count": 65,
   "metadata": {
    "collapsed": false,
    "scrolled": true
   },
   "outputs": [
    {
     "data": {
      "text/plain": [
       "{'CDK1', 'CDK5R1', 'MYBL1'}"
      ]
     },
     "execution_count": 65,
     "metadata": {},
     "output_type": "execute_result"
    }
   ],
   "source": [
    "my_set2.difference(my_set1)"
   ]
  },
  {
   "cell_type": "code",
   "execution_count": 66,
   "metadata": {
    "collapsed": false,
    "scrolled": true
   },
   "outputs": [
    {
     "data": {
      "text/plain": [
       "False"
      ]
     },
     "execution_count": 66,
     "metadata": {},
     "output_type": "execute_result"
    }
   ],
   "source": [
    "my_set2.issubset(my_set1)"
   ]
  },
  {
   "cell_type": "code",
   "execution_count": 67,
   "metadata": {
    "collapsed": false
   },
   "outputs": [
    {
     "data": {
      "text/plain": [
       "True"
      ]
     },
     "execution_count": 67,
     "metadata": {},
     "output_type": "execute_result"
    }
   ],
   "source": [
    "my_set2.issubset(my_set1.union(my_set2))"
   ]
  },
  {
   "cell_type": "code",
   "execution_count": 68,
   "metadata": {
    "collapsed": false,
    "scrolled": true
   },
   "outputs": [
    {
     "data": {
      "text/plain": [
       "True"
      ]
     },
     "execution_count": 68,
     "metadata": {},
     "output_type": "execute_result"
    }
   ],
   "source": [
    "'KRAS' in my_set1"
   ]
  },
  {
   "cell_type": "code",
   "execution_count": 69,
   "metadata": {
    "collapsed": false,
    "scrolled": true
   },
   "outputs": [
    {
     "data": {
      "text/plain": [
       "'PDK1'"
      ]
     },
     "execution_count": 69,
     "metadata": {},
     "output_type": "execute_result"
    }
   ],
   "source": [
    "my_set1.pop()"
   ]
  },
  {
   "cell_type": "code",
   "execution_count": 70,
   "metadata": {
    "collapsed": false,
    "scrolled": true
   },
   "outputs": [
    {
     "name": "stdout",
     "output_type": "stream",
     "text": [
      "set(['BRCA1', 'KRAS'])\n"
     ]
    }
   ],
   "source": [
    "print my_set1"
   ]
  },
  {
   "cell_type": "code",
   "execution_count": 71,
   "metadata": {
    "collapsed": true
   },
   "outputs": [],
   "source": [
    "my_set1.add('PDK1')"
   ]
  },
  {
   "cell_type": "code",
   "execution_count": 72,
   "metadata": {
    "collapsed": false,
    "scrolled": true
   },
   "outputs": [
    {
     "name": "stdout",
     "output_type": "stream",
     "text": [
      "set(['PDK1', 'BRCA1', 'KRAS'])\n"
     ]
    }
   ],
   "source": [
    "print my_set1"
   ]
  },
  {
   "cell_type": "code",
   "execution_count": 73,
   "metadata": {
    "collapsed": false,
    "scrolled": false
   },
   "outputs": [
    {
     "data": {
      "text/plain": [
       "['BRCA1', 'KRAS', 'PDK1']"
      ]
     },
     "execution_count": 73,
     "metadata": {},
     "output_type": "execute_result"
    }
   ],
   "source": [
    "sorted(my_set1)"
   ]
  },
  {
   "cell_type": "code",
   "execution_count": 77,
   "metadata": {
    "collapsed": false
   },
   "outputs": [
    {
     "data": {
      "text/plain": [
       "0"
      ]
     },
     "execution_count": 77,
     "metadata": {},
     "output_type": "execute_result"
    }
   ],
   "source": [
    "len(my_set1)"
   ]
  },
  {
   "cell_type": "code",
   "execution_count": 74,
   "metadata": {
    "collapsed": true
   },
   "outputs": [],
   "source": [
    "my_set1.clear()"
   ]
  },
  {
   "cell_type": "code",
   "execution_count": 76,
   "metadata": {
    "collapsed": false,
    "scrolled": true
   },
   "outputs": [
    {
     "name": "stdout",
     "output_type": "stream",
     "text": [
      "set([])\n"
     ]
    }
   ],
   "source": [
    "print my_set1"
   ]
  },
  {
   "cell_type": "markdown",
   "metadata": {},
   "source": [
    "** dict **\n",
    "* key / value pairs\n",
    "* associative array (like Java HashMap)\n",
    "* unordered\n",
    "* associates a value to each key"
   ]
  },
  {
   "cell_type": "code",
   "execution_count": 85,
   "metadata": {
    "collapsed": false,
    "scrolled": true
   },
   "outputs": [
    {
     "name": "stdout",
     "output_type": "stream",
     "text": [
      "{}\n",
      "{'Ala': 71.07}\n",
      "{'Arg': 156.18, 'Ala': 71.07}\n"
     ]
    }
   ],
   "source": [
    "x = {}\n",
    "y = {'Ala':71.07}\n",
    "z = {'Ala':71.07,'Arg':156.18}\n",
    "print x\n",
    "print y\n",
    "print z"
   ]
  },
  {
   "cell_type": "code",
   "execution_count": 57,
   "metadata": {
    "collapsed": false
   },
   "outputs": [
    {
     "name": "stdout",
     "output_type": "stream",
     "text": [
      "{'house': 'Haus', 'blau': 'bleu', 'red': 'rouge', 'cat': 'Katze'}\n"
     ]
    }
   ],
   "source": [
    "w={'house':'Haus','cat':'Katze','red':'rot'}\n",
    "w1 = {'red':'rouge','blau':'bleu'}\n",
    "w.update(w1)\n",
    "print w"
   ]
  },
  {
   "cell_type": "code",
   "execution_count": 98,
   "metadata": {
    "collapsed": false,
    "scrolled": true
   },
   "outputs": [
    {
     "data": {
      "text/plain": [
       "['house', 'blau', 'red', 'cat']"
      ]
     },
     "execution_count": 98,
     "metadata": {},
     "output_type": "execute_result"
    }
   ],
   "source": [
    "w.keys()"
   ]
  },
  {
   "cell_type": "code",
   "execution_count": 99,
   "metadata": {
    "collapsed": false
   },
   "outputs": [
    {
     "data": {
      "text/plain": [
       "['Haus', 'blue', 'rouge', 'Katze']"
      ]
     },
     "execution_count": 99,
     "metadata": {},
     "output_type": "execute_result"
    }
   ],
   "source": [
    "w.values()"
   ]
  },
  {
   "cell_type": "code",
   "execution_count": 87,
   "metadata": {
    "collapsed": false,
    "scrolled": true
   },
   "outputs": [
    {
     "name": "stdout",
     "output_type": "stream",
     "text": [
      "house\n",
      "blau\n",
      "red\n",
      "cat\n"
     ]
    }
   ],
   "source": [
    "for key in w:\n",
    "    print key"
   ]
  },
  {
   "cell_type": "code",
   "execution_count": 88,
   "metadata": {
    "collapsed": false,
    "scrolled": true
   },
   "outputs": [
    {
     "data": {
      "text/plain": [
       "True"
      ]
     },
     "execution_count": 88,
     "metadata": {},
     "output_type": "execute_result"
    }
   ],
   "source": [
    "'house' in w"
   ]
  },
  {
   "cell_type": "code",
   "execution_count": 89,
   "metadata": {
    "collapsed": false
   },
   "outputs": [
    {
     "data": {
      "text/plain": [
       "'Haus'"
      ]
     },
     "execution_count": 89,
     "metadata": {},
     "output_type": "execute_result"
    }
   ],
   "source": [
    "w['house']"
   ]
  },
  {
   "cell_type": "code",
   "execution_count": 90,
   "metadata": {
    "collapsed": false,
    "scrolled": false
   },
   "outputs": [
    {
     "name": "stdout",
     "output_type": "stream",
     "text": [
      "Haus\n",
      "bleu\n",
      "rouge\n",
      "Katze\n"
     ]
    }
   ],
   "source": [
    "for key in w:\n",
    "    print w[key]"
   ]
  },
  {
   "cell_type": "code",
   "execution_count": 91,
   "metadata": {
    "collapsed": true
   },
   "outputs": [],
   "source": [
    "w['blau'] = 'blue'"
   ]
  },
  {
   "cell_type": "code",
   "execution_count": 92,
   "metadata": {
    "collapsed": false
   },
   "outputs": [
    {
     "name": "stdout",
     "output_type": "stream",
     "text": [
      "blue\n"
     ]
    }
   ],
   "source": [
    "print w['blau']"
   ]
  },
  {
   "cell_type": "code",
   "execution_count": 94,
   "metadata": {
    "collapsed": false
   },
   "outputs": [
    {
     "data": {
      "text/plain": [
       "[('house', 'Haus'), ('blau', 'blue'), ('red', 'rouge'), ('cat', 'Katze')]"
      ]
     },
     "execution_count": 94,
     "metadata": {},
     "output_type": "execute_result"
    }
   ],
   "source": [
    "w.items()"
   ]
  },
  {
   "cell_type": "code",
   "execution_count": 101,
   "metadata": {
    "collapsed": false,
    "scrolled": false
   },
   "outputs": [
    {
     "data": {
      "text/plain": [
       "'Haus'"
      ]
     },
     "execution_count": 101,
     "metadata": {},
     "output_type": "execute_result"
    }
   ],
   "source": [
    "w.pop('house')"
   ]
  },
  {
   "cell_type": "code",
   "execution_count": 102,
   "metadata": {
    "collapsed": false
   },
   "outputs": [
    {
     "name": "stdout",
     "output_type": "stream",
     "text": [
      "{'blau': 'blue', 'red': 'rouge', 'cat': 'Katze'}\n"
     ]
    }
   ],
   "source": [
    "print w"
   ]
  },
  {
   "cell_type": "code",
   "execution_count": 96,
   "metadata": {
    "collapsed": false,
    "scrolled": true
   },
   "outputs": [
    {
     "data": {
      "text/plain": [
       "{'blau': 'blue', 'cat': 'Katze', 'house': 'Haus', 'red': 'rouge'}"
      ]
     },
     "execution_count": 96,
     "metadata": {},
     "output_type": "execute_result"
    }
   ],
   "source": [
    "w.copy()"
   ]
  },
  {
   "cell_type": "code",
   "execution_count": 97,
   "metadata": {
    "collapsed": false,
    "scrolled": true
   },
   "outputs": [
    {
     "data": {
      "text/plain": [
       "4"
      ]
     },
     "execution_count": 97,
     "metadata": {},
     "output_type": "execute_result"
    }
   ],
   "source": [
    "len(w)"
   ]
  },
  {
   "cell_type": "code",
   "execution_count": 58,
   "metadata": {
    "collapsed": true
   },
   "outputs": [],
   "source": [
    "drug = ['xarelto', 'prilosec', 'zovirax', 'viagra']\n",
    "company = ['bayer','astra zeneca', 'gsk', 'pfizer']"
   ]
  },
  {
   "cell_type": "code",
   "execution_count": 59,
   "metadata": {
    "collapsed": false
   },
   "outputs": [
    {
     "name": "stdout",
     "output_type": "stream",
     "text": [
      "[('bayer', 'xarelto'), ('astra zeneca', 'prilosec'), ('gsk', 'zovirax'), ('pfizer', 'viagra')]\n"
     ]
    }
   ],
   "source": [
    "comp_drug = zip(company,drug)\n",
    "print comp_drug"
   ]
  },
  {
   "cell_type": "code",
   "execution_count": 60,
   "metadata": {
    "collapsed": false,
    "scrolled": true
   },
   "outputs": [
    {
     "name": "stdout",
     "output_type": "stream",
     "text": [
      "{'pfizer': 'viagra', 'gsk': 'zovirax', 'bayer': 'xarelto', 'astra zeneca': 'prilosec'}\n"
     ]
    }
   ],
   "source": [
    "comp_drug_dict = dict(comp_drug)\n",
    "print comp_drug_dict"
   ]
  },
  {
   "cell_type": "code",
   "execution_count": 62,
   "metadata": {
    "collapsed": false
   },
   "outputs": [
    {
     "name": "stdout",
     "output_type": "stream",
     "text": [
      "xarelto\n"
     ]
    }
   ],
   "source": [
    "print comp_drug_dict['bayer']"
   ]
  },
  {
   "cell_type": "code",
   "execution_count": 63,
   "metadata": {
    "collapsed": true
   },
   "outputs": [],
   "source": [
    "comp_drug_dict['gsk']=['zovirax','levitra']"
   ]
  },
  {
   "cell_type": "code",
   "execution_count": 64,
   "metadata": {
    "collapsed": false,
    "scrolled": true
   },
   "outputs": [
    {
     "name": "stdout",
     "output_type": "stream",
     "text": [
      "{'pfizer': 'viagra', 'gsk': ['zovirax', 'levitra'], 'bayer': 'xarelto', 'astra zeneca': 'prilosec'}\n"
     ]
    }
   ],
   "source": [
    "print comp_drug_dict"
   ]
  },
  {
   "cell_type": "code",
   "execution_count": 67,
   "metadata": {
    "collapsed": false,
    "scrolled": true
   },
   "outputs": [
    {
     "name": "stdout",
     "output_type": "stream",
     "text": [
      "zovirax\n",
      "levitra\n"
     ]
    }
   ],
   "source": [
    "for drug in comp_drug_dict['gsk']:\n",
    "    print drug"
   ]
  },
  {
   "cell_type": "code",
   "execution_count": 68,
   "metadata": {
    "collapsed": false
   },
   "outputs": [
    {
     "name": "stdout",
     "output_type": "stream",
     "text": [
      "x\n",
      "a\n",
      "r\n",
      "e\n",
      "l\n",
      "t\n",
      "o\n"
     ]
    }
   ],
   "source": [
    "for drug in comp_drug_dict['bayer']:\n",
    "    print drug"
   ]
  },
  {
   "cell_type": "markdown",
   "metadata": {},
   "source": [
    "# Control structures"
   ]
  },
  {
   "cell_type": "markdown",
   "metadata": {
    "collapsed": true
   },
   "source": [
    "**Decisions** & **Loops**"
   ]
  },
  {
   "cell_type": "code",
   "execution_count": 151,
   "metadata": {
    "collapsed": false
   },
   "outputs": [
    {
     "name": "stdout",
     "output_type": "stream",
     "text": [
      "Value of expression is 100\n",
      "Good bye!\n"
     ]
    }
   ],
   "source": [
    "var = 100\n",
    "\n",
    "if (var  == 100): \n",
    "    print \"Value of expression is 100\"\n",
    "    \n",
    "print \"Good bye!\""
   ]
  },
  {
   "cell_type": "code",
   "execution_count": 156,
   "metadata": {
    "collapsed": false,
    "scrolled": true
   },
   "outputs": [
    {
     "name": "stdout",
     "output_type": "stream",
     "text": [
      "4\n",
      "3\n",
      "2\n",
      "1\n",
      "0\n",
      "-1\n",
      "-2\n",
      "-3\n",
      "-4\n",
      "-5\n"
     ]
    }
   ],
   "source": [
    "var = 100\n",
    "\n",
    "while (var > -5):\n",
    "    var = var - 1\n",
    "    if (var < 5):\n",
    "        print var"
   ]
  },
  {
   "cell_type": "code",
   "execution_count": 158,
   "metadata": {
    "collapsed": false,
    "scrolled": true
   },
   "outputs": [
    {
     "name": "stdout",
     "output_type": "stream",
     "text": [
      "Current Letter : P\n",
      "Current Letter : y\n",
      "Current Letter : t\n",
      "Current Letter : h\n",
      "Current Letter : o\n",
      "Current Letter : n\n"
     ]
    }
   ],
   "source": [
    "for letter in 'Python':     \n",
    "   print 'Current Letter :', letter"
   ]
  },
  {
   "cell_type": "code",
   "execution_count": 4,
   "metadata": {
    "collapsed": false
   },
   "outputs": [
    {
     "name": "stdout",
     "output_type": "stream",
     "text": [
      "Current gene : KRAS\n",
      "Current gene : BRAF\n",
      "Current gene : CDK1\n",
      "Done!\n"
     ]
    }
   ],
   "source": [
    "genes = ['KRAS', 'BRAF','CDK1']\n",
    "for gene in genes:        \n",
    "   print 'Current gene :', gene\n",
    "\n",
    "print \"Done!\""
   ]
  },
  {
   "cell_type": "markdown",
   "metadata": {},
   "source": [
    "**Iterating by Sequence Index:**"
   ]
  },
  {
   "cell_type": "code",
   "execution_count": 5,
   "metadata": {
    "collapsed": false,
    "scrolled": true
   },
   "outputs": [
    {
     "name": "stdout",
     "output_type": "stream",
     "text": [
      "Current gene : KRAS\n",
      "Current gene : BRAF\n",
      "Current gene : CDK1\n",
      "Done!\n"
     ]
    }
   ],
   "source": [
    "genes = ['KRAS', 'BRAF',  'CDK1']\n",
    "for index in range(len(genes)):\n",
    "   print 'Current gene :', genes[index]\n",
    "\n",
    "print \"Done!\""
   ]
  },
  {
   "cell_type": "code",
   "execution_count": 161,
   "metadata": {
    "collapsed": false,
    "scrolled": false
   },
   "outputs": [
    {
     "name": "stdout",
     "output_type": "stream",
     "text": [
      "10 equals 2 * 5\n",
      "11 is a prime number\n",
      "12 equals 2 * 6\n",
      "13 is a prime number\n",
      "14 equals 2 * 7\n",
      "15 equals 3 * 5\n",
      "16 equals 2 * 8\n",
      "17 is a prime number\n",
      "18 equals 2 * 9\n",
      "19 is a prime number\n"
     ]
    }
   ],
   "source": [
    "for num in range(10,20):  #to iterate between 10 to 20\n",
    "   for i in range(2,num): #to iterate on the factors of the number\n",
    "      if num%i == 0:      #to determine the first factor\n",
    "         j=num/i          #to calculate the second factor\n",
    "         print '%d equals %d * %d' % (num,i,j)\n",
    "         break #to move to the next number, the #first FOR\n",
    "   else:                  # else part of the loop\n",
    "      print num, 'is a prime number'"
   ]
  },
  {
   "cell_type": "markdown",
   "metadata": {},
   "source": [
    "## Exercises"
   ]
  },
  {
   "cell_type": "markdown",
   "metadata": {},
   "source": [
    "##Problem 1\n",
    "__Given:__ Two positive integers a=100 and b=200\n",
    "\n",
    "__Return:__ The sum of all odd integers from a through b, inclusively"
   ]
  },
  {
   "cell_type": "code",
   "execution_count": null,
   "metadata": {
    "collapsed": true
   },
   "outputs": [],
   "source": [
    "a = 100\n",
    "b = 200\n",
    "for i in range(a,b):\n",
    "    if (i%2!=0):\n",
    "        print i"
   ]
  },
  {
   "cell_type": "markdown",
   "metadata": {},
   "source": [
    "##Problem 2\n",
    "__Given:__ If we list all the natural numbers below 10 that are multiples of 3 or 5, we get 3, 5, 6 and 9. The sum of these multiples is 23.\n",
    "\n",
    "__Return:__ Find the sum of all the multiples of 3 or 5 below 1000."
   ]
  },
  {
   "cell_type": "code",
   "execution_count": 42,
   "metadata": {
    "collapsed": false
   },
   "outputs": [
    {
     "name": "stdout",
     "output_type": "stream",
     "text": [
      "2318\n"
     ]
    }
   ],
   "source": [
    "a = 1\n",
    "b = 1000\n",
    "sum = 0\n",
    "for i in range(1,100):\n",
    "    if(i%3==0 or i%5==0):\n",
    "        sum=sum+i\n",
    "print sum"
   ]
  },
  {
   "cell_type": "markdown",
   "metadata": {},
   "source": [
    "### Example - Lists & Dictionaries & Loops in annotated text retrieval"
   ]
  },
  {
   "cell_type": "markdown",
   "metadata": {},
   "source": [
    "** Requests ** & **JSON** & **Lists** & **Dictionaries** & **Strings**\n",
    "* Requests is a package to cope with all kinds of HTML and REST API calls\n",
    "* JSON helps to parse JSON objects"
   ]
  },
  {
   "cell_type": "code",
   "execution_count": 1,
   "metadata": {
    "collapsed": true
   },
   "outputs": [],
   "source": [
    "import requests\n",
    "import json"
   ]
  },
  {
   "cell_type": "code",
   "execution_count": 2,
   "metadata": {
    "collapsed": true
   },
   "outputs": [],
   "source": [
    "endpoint = \"http://10.205.112.130:9090/termite\"\n",
    "#headers = {'Content-type': 'application/json; charset=utf-8', 'Accept': 'application/json'}"
   ]
  },
  {
   "cell_type": "code",
   "execution_count": 4,
   "metadata": {
    "collapsed": true
   },
   "outputs": [],
   "source": [
    "payload={\"text\": \"{\\\"body\\\": \\\"The invention provides for delivery,engineering and optimization of systems, methods, and compositions for manipulation of sequences and /or activities of target sequences. Provided are vectors and vector systems, some of which encode one or more components of a CRISPR complex, as well as methods for the design and use of such vectors. Also provided are methods of directing CRISPR. complex formation in eukaryotic cells to ensure enhanced specificity for target recognition and avoidance of toxicity.\\\", \\\"uid\\\": \\\"WO2016028682\\\"}\", \"output\": \"json\", \"format\": \"json\"}"
   ]
  },
  {
   "cell_type": "code",
   "execution_count": 5,
   "metadata": {
    "collapsed": false
   },
   "outputs": [],
   "source": [
    "r = requests.post(endpoint, data=payload)"
   ]
  },
  {
   "cell_type": "code",
   "execution_count": 6,
   "metadata": {
    "collapsed": false
   },
   "outputs": [
    {
     "name": "stdout",
     "output_type": "stream",
     "text": [
      "{'Proxy-Connection': 'Keep-Alive', 'X-Cache': 'MISS from 10.185.191.72', 'Transfer-Encoding': 'chunked', 'Set-Cookie': 'JSESSIONID=3E1EE5C7F805A782A0790F9242EA11FB; Path=/; HttpOnly', 'Server': 'TermiteJ v5.9.20 [c] 2016 SciBite Limited', 'Last-Modified': '1479938201753', 'Date': '1479938201753', 'Access-Control-Allow-Origin': '*', 'Access-Control-Allow-Headers': 'NCBI-PHID, NCBI-SID, NCBI-SESSIONID, X-PINGOTHER, Origin, X-Requested-With, Content-Type, Content-Length, Accept, Content-Disposition', 'Content-Type': 'application/json;charset=UTF-8'}\n"
     ]
    }
   ],
   "source": [
    "print r.headers"
   ]
  },
  {
   "cell_type": "code",
   "execution_count": 7,
   "metadata": {
    "collapsed": false
   },
   "outputs": [
    {
     "data": {
      "text/plain": [
       "str"
      ]
     },
     "execution_count": 7,
     "metadata": {},
     "output_type": "execute_result"
    }
   ],
   "source": [
    "type(r.content)"
   ]
  },
  {
   "cell_type": "code",
   "execution_count": 8,
   "metadata": {
    "collapsed": false,
    "scrolled": true
   },
   "outputs": [
    {
     "name": "stdout",
     "output_type": "stream",
     "text": [
      "{\n",
      "\"RESP_META\" : {\n",
      "  \"Timing_msec_TOTAL\": \"11\",\n",
      "  \"RUNTIME_OPTIONS\": {},\n",
      "  \"INPUT_SIZE\": 538,\n",
      "  \"CONID\": \"10.185.190.72/212\",\n",
      "  \"JSON_PRODUCER\": \"EFFICIENT\",\n",
      "  \"TERMITE_VERS\": \"5.9.20\",\n",
      "  \"REQID\": \"60d84f17-6b55-4fc9-a7a1-7319518a0f0b\",\n",
      "  \"HTTP_CODE\": \"200\"\n",
      "}\n",
      ",\"RESP_WARNINGS\" : null\n",
      ",\"RESP_PAYLOAD\": \n",
      "{\n",
      "  \"TECH\": [\n",
      "    {\n",
      "      \"sourceTitle\": \"\",\n",
      "      \"sourceID\": \"\",\n",
      "      \"docTitle\": \"\",\n",
      "      \"docID\": \"WO2016028682\",\n",
      "      \"hitID\": \"TCX89\",\n",
      "      \"name\": \"Clustered Regularly Interspaced Short Palindromic Repeats\",\n",
      "      \"frag_vector_array\": [\n",
      "        \"2#or more components of a {!CRISPR!} complex, as well as meth\",\n",
      "        \"3#are methods of directing {!CRISPR!}. complex formation in eu\"\n",
      "      ],\n",
      "      \"totnosyns\": 1,\n",
      "      \"goodSynCount\": 2,\n",
      "      \"nonambigsyns\": 1,\n",
      "      \"score\": 2,\n",
      "      \"hit_loc_vector\": [\n",
      "        2,\n",
      "        3\n",
      "      ],\n",
      "      \"word_pos_array\": [\n",
      "        17,\n",
      "        7\n",
      "      ],\n",
      "      \"exact_string\": \"2#263-269,3#377-383\",\n",
      "      \"exact_array\": [\n",
      "        {\n",
      "          \"fls\": [\n",
      "            2,\n",
      "            263,\n",
      "            269\n",
      "          ]\n",
      "        },\n",
      "        {\n",
      "          \"fls\": [\n",
      "            3,\n",
      "            377,\n",
      "            383\n",
      "          ]\n",
      "        }\n",
      "      ],\n",
      "      \"entityType\": \"TECH\",\n",
      "      \"realSynList\": [\n",
      "        \"CRISPR\",\n",
      "        \"CRISPR\"\n",
      "      ],\n",
      "      \"dictSynList\": [\n",
      "        \"crispr\",\n",
      "        \"crispr\"\n",
      "      ],\n",
      "      \"kvp\": {\n",
      "        \"entityType\": \"TECH\"\n",
      "      },\n",
      "      \"rejected\": false,\n",
      "      \"hitCount\": 2\n",
      "    }\n",
      "  ],\n",
      "  \"BIOPROC\": [\n",
      "    {\n",
      "      \"sourceTitle\": \"\",\n",
      "      \"sourceID\": \"\",\n",
      "      \"docTitle\": \"\",\n",
      "      \"docID\": \"WO2016028682\",\n",
      "      \"hitID\": \"BP71126\",\n",
      "      \"name\": \"eukaryote\",\n",
      "      \"frag_vector_array\": [\n",
      "        \"3#PR. complex formation in {!eukaryotic!} cells to ensure enhanced\"\n",
      "      ],\n",
      "      \"totnosyns\": 1,\n",
      "      \"goodSynCount\": 1,\n",
      "      \"nonambigsyns\": 1,\n",
      "      \"score\": 1,\n",
      "      \"hit_loc_vector\": [\n",
      "        3\n",
      "      ],\n",
      "      \"word_pos_array\": [\n",
      "        11\n",
      "      ],\n",
      "      \"exact_string\": \"3#406-416\",\n",
      "      \"exact_array\": [\n",
      "        {\n",
      "          \"fls\": [\n",
      "            3,\n",
      "            406,\n",
      "            416\n",
      "          ]\n",
      "        }\n",
      "      ],\n",
      "      \"entityType\": \"BIOPROC\",\n",
      "      \"realSynList\": [\n",
      "        \"eukaryotic\"\n",
      "      ],\n",
      "      \"dictSynList\": [\n",
      "        \"eukaryotic\"\n",
      "      ],\n",
      "      \"kvp\": {\n",
      "        \"entityType\": \"BIOPROC\"\n",
      "      },\n",
      "      \"rejected\": false,\n",
      "      \"entityMeta\": {\n",
      "        \"_termite_id\": \"TBP002472\"\n",
      "      },\n",
      "      \"mappings\": [\n",
      "        \"BAO|http://www.bioassayontology.org/bao#BAO_0000544|http://www.bioassayontology.org/bao#BAO_0000544:seeAlso\"\n",
      "      ],\n",
      "      \"hitCount\": 1\n",
      "    },\n",
      "    {\n",
      "      \"sourceTitle\": \"\",\n",
      "      \"sourceID\": \"\",\n",
      "      \"docTitle\": \"\",\n",
      "      \"docID\": \"WO2016028682\",\n",
      "      \"hitID\": \"BP70542\",\n",
      "      \"name\": \"toxicity\",\n",
      "      \"frag_vector_array\": [\n",
      "        \"3#gnition and avoidance of {!toxicity!}.\"\n",
      "      ],\n",
      "      \"totnosyns\": 1,\n",
      "      \"goodSynCount\": 1,\n",
      "      \"nonambigsyns\": 1,\n",
      "      \"score\": 1,\n",
      "      \"hit_loc_vector\": [\n",
      "        3\n",
      "      ],\n",
      "      \"word_pos_array\": [\n",
      "        23\n",
      "      ],\n",
      "      \"exact_string\": \"3#494-502\",\n",
      "      \"exact_array\": [\n",
      "        {\n",
      "          \"fls\": [\n",
      "            3,\n",
      "            494,\n",
      "            502\n",
      "          ]\n",
      "        }\n",
      "      ],\n",
      "      \"entityType\": \"BIOPROC\",\n",
      "      \"realSynList\": [\n",
      "        \"toxicity\"\n",
      "      ],\n",
      "      \"dictSynList\": [\n",
      "        \"toxicity\"\n",
      "      ],\n",
      "      \"kvp\": {\n",
      "        \"entityType\": \"BIOPROC\"\n",
      "      },\n",
      "      \"rejected\": false,\n",
      "      \"entityMeta\": {\n",
      "        \"_termite_id\": \"TBP002341\"\n",
      "      },\n",
      "      \"mappings\": [\n",
      "        \"BAO|http://www.bioassayontology.org/bao#BAO_0002189|http://www.bioassayontology.org/bao#BAO_0002189:seeAlso\"\n",
      "      ],\n",
      "      \"hitCount\": 1\n",
      "    },\n",
      "    {\n",
      "      \"sourceTitle\": \"\",\n",
      "      \"sourceID\": \"\",\n",
      "      \"docTitle\": \"\",\n",
      "      \"docID\": \"WO2016028682\",\n",
      "      \"hitID\": \"D064112\",\n",
      "      \"name\": \"Clustered Regularly Interspaced Short Palindromic Repeats\",\n",
      "      \"frag_vector_array\": [\n",
      "        \"2#or more components of a {!CRISPR!} complex, as well as meth\",\n",
      "        \"3#are methods of directing {!CRISPR!}. complex formation in eu\"\n",
      "      ],\n",
      "      \"totnosyns\": 1,\n",
      "      \"goodSynCount\": 2,\n",
      "      \"nonambigsyns\": 1,\n",
      "      \"score\": 2,\n",
      "      \"hit_loc_vector\": [\n",
      "        2,\n",
      "        3\n",
      "      ],\n",
      "      \"word_pos_array\": [\n",
      "        17,\n",
      "        7\n",
      "      ],\n",
      "      \"exact_string\": \"2#263-269,3#377-383\",\n",
      "      \"exact_array\": [\n",
      "        {\n",
      "          \"fls\": [\n",
      "            2,\n",
      "            263,\n",
      "            269\n",
      "          ]\n",
      "        },\n",
      "        {\n",
      "          \"fls\": [\n",
      "            3,\n",
      "            377,\n",
      "            383\n",
      "          ]\n",
      "        }\n",
      "      ],\n",
      "      \"entityType\": \"BIOPROC\",\n",
      "      \"realSynList\": [\n",
      "        \"CRISPR\",\n",
      "        \"CRISPR\"\n",
      "      ],\n",
      "      \"dictSynList\": [\n",
      "        \"crispr\",\n",
      "        \"crispr\"\n",
      "      ],\n",
      "      \"kvp\": {\n",
      "        \"entityType\": \"BIOPROC\"\n",
      "      },\n",
      "      \"rejected\": false,\n",
      "      \"entityMeta\": {\n",
      "        \"_ext_name\": \"MESH\",\n",
      "        \"_ext_uri\": \"http://www.nlm.nih.gov/cgi/mesh/2013/MB_cgi?field=uid&term=D064112\",\n",
      "        \"_termite_id\": \"TBP001778\",\n",
      "        \"mesh_tree\": \"G02.111.570.080.708.800.325.500;G05.360.080.708.800.325.500;G05.360.340.024.850.069;\"\n",
      "      },\n",
      "      \"mappings\": [],\n",
      "      \"hitCount\": 2\n",
      "    }\n",
      "  ],\n",
      "  \"HUCELL\": [\n",
      "    {\n",
      "      \"sourceTitle\": \"\",\n",
      "      \"sourceID\": \"\",\n",
      "      \"docTitle\": \"\",\n",
      "      \"docID\": \"WO2016028682\",\n",
      "      \"hitID\": \"CL0000255\",\n",
      "      \"name\": \"eukaryotic cell\",\n",
      "      \"frag_vector_array\": [\n",
      "        \"3#PR. complex formation in {!eukaryotic cells!} to ensure enhanced speci\"\n",
      "      ],\n",
      "      \"totnosyns\": 1,\n",
      "      \"goodSynCount\": 1,\n",
      "      \"nonambigsyns\": 1,\n",
      "      \"score\": 1,\n",
      "      \"hit_loc_vector\": [\n",
      "        3\n",
      "      ],\n",
      "      \"word_pos_array\": [\n",
      "        11\n",
      "      ],\n",
      "      \"exact_string\": \"3#406-422\",\n",
      "      \"exact_array\": [\n",
      "        {\n",
      "          \"fls\": [\n",
      "            3,\n",
      "            406,\n",
      "            422\n",
      "          ]\n",
      "        }\n",
      "      ],\n",
      "      \"entityType\": \"HUCELL\",\n",
      "      \"realSynList\": [\n",
      "        \"eukaryotic cells\"\n",
      "      ],\n",
      "      \"dictSynList\": [\n",
      "        \"eukaryotic cells\"\n",
      "      ],\n",
      "      \"kvp\": {\n",
      "        \"entityType\": \"HUCELL\"\n",
      "      },\n",
      "      \"rejected\": false,\n",
      "      \"hitCount\": 1\n",
      "    }\n",
      "  ],\n",
      "  \"PKPD\": [\n",
      "    {\n",
      "      \"sourceTitle\": \"\",\n",
      "      \"sourceID\": \"\",\n",
      "      \"docTitle\": \"\",\n",
      "      \"docID\": \"WO2016028682\",\n",
      "      \"hitID\": \"PKPD20018\",\n",
      "      \"name\": \"toxicity\",\n",
      "      \"frag_vector_array\": [\n",
      "        \"3#gnition and avoidance of {!toxicity!}.\"\n",
      "      ],\n",
      "      \"totnosyns\": 1,\n",
      "      \"goodSynCount\": 0,\n",
      "      \"nonambigsyns\": 0,\n",
      "      \"score\": 1,\n",
      "      \"hit_loc_vector\": [\n",
      "        3\n",
      "      ],\n",
      "      \"word_pos_array\": [\n",
      "        23\n",
      "      ],\n",
      "      \"exact_string\": \"3#494-502\",\n",
      "      \"exact_array\": [\n",
      "        {\n",
      "          \"fls\": [\n",
      "            3,\n",
      "            494,\n",
      "            502\n",
      "          ]\n",
      "        }\n",
      "      ],\n",
      "      \"entityType\": \"PKPD\",\n",
      "      \"realSynList\": [\n",
      "        \"toxicity\"\n",
      "      ],\n",
      "      \"dictSynList\": [\n",
      "        \"toxicity\"\n",
      "      ],\n",
      "      \"kvp\": {\n",
      "        \"entityType\": \"PKPD\"\n",
      "      },\n",
      "      \"rejected\": false,\n",
      "      \"hitCount\": 1\n",
      "    }\n",
      "  ]\n",
      "}\n",
      "}\n"
     ]
    }
   ],
   "source": [
    "print r.content"
   ]
  },
  {
   "cell_type": "code",
   "execution_count": 10,
   "metadata": {
    "collapsed": false,
    "scrolled": true
   },
   "outputs": [],
   "source": [
    "data=json.loads(r.content) #convert str object to dict (incl. nested dicts and lists)"
   ]
  },
  {
   "cell_type": "code",
   "execution_count": 11,
   "metadata": {
    "collapsed": false
   },
   "outputs": [
    {
     "data": {
      "text/plain": [
       "dict"
      ]
     },
     "execution_count": 11,
     "metadata": {},
     "output_type": "execute_result"
    }
   ],
   "source": [
    "type(data)"
   ]
  },
  {
   "cell_type": "code",
   "execution_count": 12,
   "metadata": {
    "collapsed": false,
    "scrolled": false
   },
   "outputs": [
    {
     "name": "stdout",
     "output_type": "stream",
     "text": [
      "##################\n",
      "eukaryote\n",
      "[u'eukaryotic']\n",
      "[u'eukaryotic']\n",
      "BIOPROC\n",
      "1\n",
      "3#PR. complex formation in {!eukaryotic!} cells to ensure enhanced\n",
      "##################\n",
      "toxicity\n",
      "[u'toxicity']\n",
      "[u'toxicity']\n",
      "PKPD\n",
      "0\n",
      "3#gnition and avoidance of {!toxicity!}.\n",
      "##################\n",
      "Clustered Regularly Interspaced Short Palindromic Repeats\n",
      "[u'CRISPR', u'CRISPR']\n",
      "[u'crispr', u'crispr']\n",
      "TECH\n",
      "1\n",
      "2#or more components of a {!CRISPR!} complex, as well as meth\n",
      "##################\n",
      "eukaryotic cell\n",
      "[u'eukaryotic cells']\n",
      "[u'eukaryotic cells']\n",
      "HUCELL\n",
      "1\n",
      "3#PR. complex formation in {!eukaryotic cells!} to ensure enhanced speci\n"
     ]
    }
   ],
   "source": [
    "for each in data['RESP_PAYLOAD']:\n",
    "    print '##################'\n",
    "    print str(data['RESP_PAYLOAD'][each][0]['name'])\n",
    "    print str(data['RESP_PAYLOAD'][each][0]['realSynList'])\n",
    "    print str(data['RESP_PAYLOAD'][each][0]['dictSynList'])\n",
    "    print str(data['RESP_PAYLOAD'][each][0]['kvp']['entityType'])\n",
    "    print str(data['RESP_PAYLOAD'][each][0]['nonambigsyns'])\n",
    "    print str(data['RESP_PAYLOAD'][each][0]['frag_vector_array'][0])"
   ]
  },
  {
   "cell_type": "markdown",
   "metadata": {},
   "source": [
    "<div style=\"width:100%;margin-left:auto;margin-right:auto\">![Logo Stack](img/that_s_all_folks__by_surrimugge-d6rfav1.png)</div>"
   ]
  }
 ],
 "metadata": {
  "kernelspec": {
   "display_name": "Python 2",
   "language": "python",
   "name": "python2"
  },
  "language_info": {
   "codemirror_mode": {
    "name": "ipython",
    "version": 2
   },
   "file_extension": ".py",
   "mimetype": "text/x-python",
   "name": "python",
   "nbconvert_exporter": "python",
   "pygments_lexer": "ipython2",
   "version": "2.7.11"
  }
 },
 "nbformat": 4,
 "nbformat_minor": 0
}
