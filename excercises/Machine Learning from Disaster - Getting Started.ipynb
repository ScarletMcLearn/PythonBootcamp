{
 "cells": [
  {
   "cell_type": "markdown",
   "metadata": {},
   "source": [
    "# Titanic: Machine Learning from Disaster"
   ]
  },
  {
   "cell_type": "markdown",
   "metadata": {},
   "source": [
    "## Getting Started"
   ]
  },
  {
   "cell_type": "markdown",
   "metadata": {},
   "source": [
    "When the Titanic sank, 1502 of the 2224 passengers and crew were killed. One of the main reasons for this high level of casualties was the lack of lifeboats on this self-proclaimed \"unsinkable\" ship.\n",
    "\n",
    "Those that have seen the movie know that some individuals were more likely to survive the sinking (lucky Rose) than others (poor Jack). In this course, you will learn how to apply machine learning techniques to predict a passenger's chance of surviving using Python.\n",
    "\n",
    "Let's start with loading in the training and testing set into your Python environment. You will use the training set to build your model, and the test set to validate it. The data is stored on the web as csv files; their URLs are already available as character strings in the sample code. You can load this data with the <it>read_csv()</it> method from the Pandas library."
   ]
  },
  {
   "cell_type": "markdown",
   "metadata": {},
   "source": [
    "### Instructions \n",
    "    \n",
    "- First, import the Pandas library as pd.\n",
    "- Load the test data similarly to how the train data is loaded.\n",
    "- Inspect the first couple rows of the loaded dataframes using the .head() method with the code provided."
   ]
  },
  {
   "cell_type": "code",
   "execution_count": 1,
   "metadata": {
    "collapsed": false
   },
   "outputs": [],
   "source": [
    "# Import the Pandas library\n",
    "\n",
    "# Load the train and test datasets to create two DataFrames\n",
    "train_url = \"http://s3.amazonaws.com/assets.datacamp.com/course/Kaggle/train.csv\"\n",
    "train = pd.read_csv(train_url)\n",
    "\n",
    "test_url = \"http://s3.amazonaws.com/assets.datacamp.com/course/Kaggle/test.csv\"\n",
    "\n",
    "#Print the `head` of the train and test dataframes\n",
    "print(train.head())\n",
    "print(test.head())"
   ]
  },
  {
   "cell_type": "markdown",
   "metadata": {},
   "source": [
    "## Understanding your data"
   ]
  },
  {
   "cell_type": "markdown",
   "metadata": {},
   "source": [
    "Before starting with the actual analysis, it's important to understand the structure of your data. Both <b>test</b> and <b>train</b> are DataFrame objects, the way pandas represent datasets. You can easily explore a DataFrame using the <b>.describe()</b> method. <b>.describe()</b> summarizes the columns/features of the DataFrame, including the count of observations, mean, max and so on. Another useful trick is to look at the dimensions of the DataFrame. This is done by requesting the <b>.shape</b> attribute of your DataFrame object. (ex. <b>your_data.shape</b>)\n",
    "\n",
    "The training and test set are already available in the workspace, as <b>train</b> and <b>test</b>. Apply <b>.describe()</b> method and print the <b>.shape</b> attribute of the training set. How many observations and variables, does the training set include and what is the count for the Age variable?"
   ]
  },
  {
   "cell_type": "code",
   "execution_count": null,
   "metadata": {
    "collapsed": false
   },
   "outputs": [],
   "source": []
  },
  {
   "cell_type": "markdown",
   "metadata": {},
   "source": [
    "## Possible Answers\n",
    "1. [ ] The training set has 891 observations and 12 variables, count for Age is 714.\n",
    "\n",
    "2. [ ] The training set has 418 observations and 11 variables, count for Age is 891.\n",
    "\n",
    "3. [ ] The testing set has 891 observations and 11 variables, count for Age is 891.\n",
    "\n",
    "4. [ ] The testing set has 418 observations and 12 variables, count for Age is 714."
   ]
  },
  {
   "cell_type": "markdown",
   "metadata": {},
   "source": [
    "## Rose vs Jack, or Female vs Male"
   ]
  },
  {
   "cell_type": "markdown",
   "metadata": {},
   "source": [
    "How many people in your training set survived the disaster with the Titanic? To see this, you can use the <b>value_counts()</b> method in combination with standard bracket notation to select a single column of a DataFrame:\n",
    "\n",
    "    # absolute numbers\n",
    "    train[\"Survived\"].value_counts()\n",
    "\n",
    "    # percentages\n",
    "    train[\"Survived\"].value_counts(normalize = True)\n",
    "\n",
    "If you run these commands in the console, you'll see that 549 individuals died (62%) and 342 survived (38%). A simple way to predict heuristically could be: \"majority wins\". This would mean that you will predict every unseen observation to not survive.\n",
    "\n",
    "To dive in a little deeper we can perform similar counts and percentage calculations on subsets of the Survived column. For example, maybe gender could play a role as well? You can explore this using the <b>.value_counts()</b> method for a two-way comparison on the number of males and females that survived, with this syntax:\n",
    "    \n",
    "    train[\"Survived\"][train[\"Sex\"] == 'male'].value_counts()\n",
    "    train[\"Survived\"][train[\"Sex\"] == 'female'].value_counts()\n",
    "    \n",
    "To get proportions, you can again pass in the argument <b>normalize = True</b> to the <b>.value_counts()</b> method."
   ]
  },
  {
   "cell_type": "markdown",
   "metadata": {},
   "source": [
    "### Instructions\n",
    "\n",
    "- Calculate and print the survival rates in absolute numbers using <b>values_counts()</b> method.\n",
    "- Calculate and print the survival rates as proportions by setting the <b>normalize</b> argument to <b>True</b>.\n",
    "- Repeat the same calculations but on subsets of survivals based on Sex."
   ]
  },
  {
   "cell_type": "code",
   "execution_count": 3,
   "metadata": {
    "collapsed": false
   },
   "outputs": [],
   "source": [
    "# Passengers that survived vs passengers that passed away\n",
    "print()\n",
    "\n",
    "# As proportions\n",
    "print()\n",
    "\n",
    "# Males that survived vs males that passed away\n",
    "print()\n",
    "\n",
    "# Females that survived vs Females that passed away\n",
    "print()\n",
    "\n",
    "# Normalized male survival\n",
    "print()\n",
    "\n",
    "# Normalized female survival\n",
    "print()"
   ]
  },
  {
   "cell_type": "markdown",
   "metadata": {},
   "source": [
    "## Does age play a role?"
   ]
  },
  {
   "cell_type": "markdown",
   "metadata": {},
   "source": [
    "Another variable that could influence survival is age; since it's probable that children were saved first. You can test this by creating a new column with a categorical variable <b>Child</b>. <b>Child</b> will take the value 1 in cases where age is less than 18, and a value of 0 in cases where age is greater than or equal to 18.\n",
    "\n",
    "To add this new variable you need to do two things (i) create a new column, and (ii) provide the values for each observation (i.e., row) based on the age of the passenger.\n",
    "\n",
    "Adding a new column with Pandas in Python is easy and can be done via the following syntax:\n",
    "\n",
    "    your_data[\"new_var\"] = 0\n",
    "    \n",
    "This code would create a new column in the <b>train</b> DataFrame titled <b>new_var</b> with <b>0</b> for each observation.\n",
    "\n",
    "To set the values based on the age of the passenger, you make use of a boolean test inside the square bracket operator. With the <b>[]</b>-operator you create a subset of rows and assign a value to a certain variable of that subset of observations. For example,\n",
    "\n",
    "    train.ix[train.Fare > 10 ,\"new_var\"] = 1\n",
    "    \n",
    "would give a value of <b>1</b> to the variable <b>new_var</b> for the subset of passengers whose fares greater than 10. Remember that <b>new_var</b> has a value of 0 for all other values (including missing values).\n",
    "\n",
    "A new column called <b>Child</b> in the train data frame has been created for you that takes the value <b>NaN</b> for all observations."
   ]
  },
  {
   "cell_type": "markdown",
   "metadata": {},
   "source": [
    "### Instructions\n",
    "\n",
    "- Set the values of <b>Child</b> to <b>1</b> is the passenger's age is less than 18 years.\n",
    "- Then assign the value <b>0</b> to observations where the passenger is greater than or equal to 18 years in the new <b>Child</b> column.\n",
    "- Compare the normalized survival rates for those who are <18 and those who are older. Use code similar to what you had in the previous exercise.    "
   ]
  },
  {
   "cell_type": "code",
   "execution_count": 4,
   "metadata": {
    "collapsed": false
   },
   "outputs": [],
   "source": [
    "# Create the column Child and assign to 'NaN'\n",
    "train[\"Child\"] = float('NaN')\n",
    "\n",
    "# Assign 1 to passengers under 18, 0 to those 18 or older. Print the new column.\n",
    "\n",
    "\n",
    "\n",
    "\n",
    "# Print normalized Survival Rates for passengers under 18\n",
    "print(train[\"Survived\"][train[\"Child\"] == 1].value_counts(normalize = True))\n",
    "\n",
    "# Print normalized Survival Rates for passengers 18 or older\n",
    "\n"
   ]
  },
  {
   "cell_type": "markdown",
   "metadata": {},
   "source": [
    "## First Prediction\n",
    "In one of the previous exercises you discovered that in your training set, females had over a 50% chance of surviving and males had less than a 50% chance of surviving. Hence, you could use this information for your first prediction: all females in the test set survive and all males in the test set die.\n",
    "\n",
    "You use your test set for validating your predictions. You might have seen that contrary to the training set, the test set has no <b>Survived</b> column. You add such a column using your predicted values."
   ]
  },
  {
   "cell_type": "markdown",
   "metadata": {},
   "source": [
    "### Instructions\n",
    "\n",
    "- Create a variable <b>test_one</b>, identical to dataset <b>test</b>\n",
    "- Add an additional column, <b>Survived</b>, that you initialize to zero.\n",
    "- Use vector subsetting like in the previous exercise to set the value of <b>Survived</b> to 1 for observations whose <b>Sex</b> equals \"female\".\n",
    "- Print the <b>Survived</b> column of predictions from the <b>test_one</b> dataset.\n"
   ]
  },
  {
   "cell_type": "code",
   "execution_count": 5,
   "metadata": {
    "collapsed": false
   },
   "outputs": [],
   "source": [
    "# Create a copy of test: test_one\n",
    "\n",
    "# Initialize a Survived column to 0\n",
    "\n",
    "# Set Survived to 1 if Sex equals \"female\" and print the `Survived` column from `test_one`\n"
   ]
  }
 ],
 "metadata": {
  "anaconda-cloud": {},
  "kernelspec": {
   "display_name": "Python [default]",
   "language": "python",
   "name": "python2"
  },
  "language_info": {
   "codemirror_mode": {
    "name": "ipython",
    "version": 2
   },
   "file_extension": ".py",
   "mimetype": "text/x-python",
   "name": "python",
   "nbconvert_exporter": "python",
   "pygments_lexer": "ipython2",
   "version": "2.7.12"
  }
 },
 "nbformat": 4,
 "nbformat_minor": 1
}
