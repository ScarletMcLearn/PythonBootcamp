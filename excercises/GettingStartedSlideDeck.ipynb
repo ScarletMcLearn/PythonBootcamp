{
 "cells": [
  {
   "cell_type": "markdown",
   "metadata": {
    "nbpresent": {
     "id": "fcf40357-59ed-4f7d-8d79-8d3837da60d3"
    },
    "slideshow": {
     "slide_type": "slide"
    }
   },
   "source": [
    "<center><h1>Titanic: Machine Learning from Disaster</h1></center>\n",
    "![Titanic](img/titanic.jpg)"
   ]
  },
  {
   "cell_type": "markdown",
   "metadata": {
    "slideshow": {
     "slide_type": "slide"
    }
   },
   "source": [
    "# Getting Started\n",
    "- 1502 of the 2224 passengers and crew where killed\n",
    "- Reasons: Lack of lifeboats\n",
    "- BUT some individuals where more lucky than others"
   ]
  },
  {
   "cell_type": "markdown",
   "metadata": {
    "slideshow": {
     "slide_type": "subslide"
    }
   },
   "source": [
    "![Lucky](img/LuckyUnluckyMeme.jpg)"
   ]
  },
  {
   "cell_type": "markdown",
   "metadata": {
    "nbpresent": {
     "id": "a2e4d6ba-ce26-417e-80de-7750512d6240"
    },
    "slideshow": {
     "slide_type": "slide"
    }
   },
   "source": [
    "<h1>Instructions<h1>\n",
    "- First, import the Pandas library as pd.\n",
    "- Load the test data similarly to how the train data is loaded.\n",
    "- Inspect the first couple rows of the loaded dataframes using the .head() method with the code provided."
   ]
  },
  {
   "cell_type": "code",
   "execution_count": 7,
   "metadata": {
    "collapsed": false,
    "nbpresent": {
     "id": "d6809d95-e32b-4e90-b058-75a818dd39e9"
    },
    "slideshow": {
     "slide_type": "slide"
    }
   },
   "outputs": [
    {
     "name": "stdout",
     "output_type": "stream",
     "text": [
      "   PassengerId  Survived  Pclass  \\\n",
      "0            1         0       3   \n",
      "1            2         1       1   \n",
      "2            3         1       3   \n",
      "3            4         1       1   \n",
      "4            5         0       3   \n",
      "\n",
      "                                                Name     Sex   Age  SibSp  \\\n",
      "0                            Braund, Mr. Owen Harris    male  22.0      1   \n",
      "1  Cumings, Mrs. John Bradley (Florence Briggs Th...  female  38.0      1   \n",
      "2                             Heikkinen, Miss. Laina  female  26.0      0   \n",
      "3       Futrelle, Mrs. Jacques Heath (Lily May Peel)  female  35.0      1   \n",
      "4                           Allen, Mr. William Henry    male  35.0      0   \n",
      "\n",
      "   Parch            Ticket     Fare Cabin Embarked  \n",
      "0      0         A/5 21171   7.2500   NaN        S  \n",
      "1      0          PC 17599  71.2833   C85        C  \n",
      "2      0  STON/O2. 3101282   7.9250   NaN        S  \n",
      "3      0            113803  53.1000  C123        S  \n",
      "4      0            373450   8.0500   NaN        S  \n"
     ]
    }
   ],
   "source": [
    "# Import the Pandas library\n",
    "\n",
    "# Load the train and test datasets to create two DataFrames\n",
    "train_url = \"http://s3.amazonaws.com/assets.datacamp.com/course/Kaggle/train.csv\"\n",
    "train = pd.read_csv(train_url)\n",
    "\n",
    "test_url = \"http://s3.amazonaws.com/assets.datacamp.com/course/Kaggle/test.csv\"\n",
    "test = pd.read_csv(test_url)\n",
    "\n",
    "#Print the `head` of the train and test dataframes\n",
    "print(train.head())"
   ]
  },
  {
   "cell_type": "markdown",
   "metadata": {
    "nbpresent": {
     "id": "be1c16cd-a0ae-48ad-bcd1-ac55d8f32c6f"
    },
    "slideshow": {
     "slide_type": "slide"
    }
   },
   "source": [
    "## Understanding your data\n",
    "Before starting with the actual analysis, it's important to understand the structure of your data. Both <b>test</b> and <b>train</b> are DataFrame objects, the way pandas represent datasets. You can easily explore a DataFrame using the <b>.describe()</b> method. <b>.describe()</b> summarizes the columns/features of the DataFrame, including the count of observations, mean, max and so on. Another useful trick is to look at the dimensions of the DataFrame. This is done by requesting the <b>.shape</b> attribute of your DataFrame object. (ex. <b>your_data.shape</b>)\n",
    "\n",
    "The training and test set are already available in the workspace, as <b>train</b> and <b>test</b>. Apply <b>.describe()</b> method and print the <b>.shape</b> attribute of the training set. How many observations and variables, does the training set include and what is the count for the Age variable?"
   ]
  },
  {
   "cell_type": "markdown",
   "metadata": {
    "nbpresent": {
     "id": "ebe19362-6620-4297-930f-caff0186b47a"
    },
    "slideshow": {
     "slide_type": "subslide"
    }
   },
   "source": [
    "## Possible Answers\n",
    "1. [ ] The training set has 891 observations and 12 variables, count for Age is 714.\n",
    "\n",
    "2. [ ] The training set has 418 observations and 11 variables, count for Age is 891.\n",
    "\n",
    "3. [ ] The testing set has 891 observations and 11 variables, count for Age is 891.\n",
    "\n",
    "4. [ ] The testing set has 418 observations and 12 variables, count for Age is 714."
   ]
  },
  {
   "cell_type": "markdown",
   "metadata": {
    "nbpresent": {
     "id": "a73fcb58-2560-4840-8975-fefec72b23a7"
    },
    "slideshow": {
     "slide_type": "slide"
    }
   },
   "source": [
    "## Rose vs Jack, or Female vs Male\n",
    "How many people in your training set survived the disaster with the Titanic? To see this, you can use the <b>value_counts()</b> method in combination with standard bracket notation to select a single column of a DataFrame:\n",
    "\n",
    "    # absolute numbers\n",
    "    train[\"Survived\"].value_counts()\n",
    "\n",
    "    # percentages\n",
    "    train[\"Survived\"].value_counts(normalize = True)\n",
    "\n",
    "If you run these commands in the console, you'll see that 549 individuals died (62%) and 342 survived (38%). A simple way to predict heuristically could be: \"majority wins\". This would mean that you will predict every unseen observation to not survive.\n",
    "\n",
    "To dive in a little deeper we can perform similar counts and percentage calculations on subsets of the Survived column. For example, maybe gender could play a role as well? You can explore this using the <b>.value_counts()</b> method for a two-way comparison on the number of males and females that survived, with this syntax:\n",
    "    \n",
    "    train[\"Survived\"][train[\"Sex\"] == 'male'].value_counts()\n",
    "    train[\"Survived\"][train[\"Sex\"] == 'female'].value_counts()\n",
    "    \n",
    "To get proportions, you can again pass in the argument <b>normalize = True</b> to the <b>.value_counts()</b> method."
   ]
  },
  {
   "cell_type": "markdown",
   "metadata": {
    "nbpresent": {
     "id": "2d5213bc-43a1-49a3-99ef-d9f4f9a2afc0"
    },
    "slideshow": {
     "slide_type": "subslide"
    }
   },
   "source": [
    "### Instructions\n",
    "\n",
    "- Calculate and print the survival rates in absolute numbers using <b>values_counts()</b> method.\n",
    "- Calculate and print the survival rates as proportions by setting the <b>normalize</b> argument to <b>True</b>.\n",
    "- Repeat the same calculations but on subsets of survivals based on Sex."
   ]
  },
  {
   "cell_type": "code",
   "execution_count": 3,
   "metadata": {
    "collapsed": false,
    "nbpresent": {
     "id": "c93af852-bc3c-464d-adbe-9ca55d73f44c"
    },
    "slideshow": {
     "slide_type": "subslide"
    }
   },
   "outputs": [],
   "source": [
    "# Passengers that survived vs passengers that passed away\n",
    "print()\n",
    "\n",
    "# As proportions\n",
    "print()\n",
    "\n",
    "# Males that survived vs males that passed away\n",
    "print()\n",
    "\n",
    "# Females that survived vs Females that passed away\n",
    "print()\n",
    "\n",
    "# Normalized male survival\n",
    "print()\n",
    "\n",
    "# Normalized female survival\n",
    "print()"
   ]
  },
  {
   "cell_type": "markdown",
   "metadata": {
    "nbpresent": {
     "id": "0410ec52-f490-4a52-9b09-5818e8edd712"
    },
    "slideshow": {
     "slide_type": "slide"
    }
   },
   "source": [
    "## Does age play a role?\n",
    "Another variable that could influence survival is age; since it's probable that children were saved first. You can test this by creating a new column with a categorical variable <b>Child</b>. <b>Child</b> will take the value 1 in cases where age is less than 18, and a value of 0 in cases where age is greater than or equal to 18.\n",
    "\n",
    "To add this new variable you need to do two things (i) create a new column, and (ii) provide the values for each observation (i.e., row) based on the age of the passenger.\n",
    "\n",
    "Adding a new column with Pandas in Python is easy and can be done via the following syntax:\n",
    "\n",
    "    your_data[\"new_var\"] = 0\n",
    "    \n",
    "This code would create a new column in the <b>train</b> DataFrame titled <b>new_var</b> with <b>0</b> for each observation.\n",
    "\n",
    "To set the values based on the age of the passenger, you make use of a boolean test inside the square bracket operator. With the <b>[]</b>-operator you create a subset of rows and assign a value to a certain variable of that subset of observations. For example,\n",
    "\n",
    "    train.ix[train.Fare > 10 ,\"new_var\"] = 1\n",
    "    \n",
    "would give a value of <b>1</b> to the variable <b>new_var</b> for the subset of passengers whose fares greater than 10. Remember that <b>new_var</b> has a value of 0 for all other values (including missing values).\n",
    "\n",
    "A new column called <b>Child</b> in the train data frame has been created for you that takes the value <b>NaN</b> for all observations."
   ]
  },
  {
   "cell_type": "markdown",
   "metadata": {
    "nbpresent": {
     "id": "05f41b09-4e89-40de-b808-baa4c3eda489"
    },
    "slideshow": {
     "slide_type": "subslide"
    }
   },
   "source": [
    "### Instructions\n",
    "\n",
    "- Set the values of <b>Child</b> to <b>1</b> is the passenger's age is less than 18 years.\n",
    "- Then assign the value <b>0</b> to observations where the passenger is greater than or equal to 18 years in the new <b>Child</b> column.\n",
    "- Compare the normalized survival rates for those who are <18 and those who are older. Use code similar to what you had in the previous exercise.    "
   ]
  },
  {
   "cell_type": "code",
   "execution_count": 4,
   "metadata": {
    "collapsed": false,
    "nbpresent": {
     "id": "a9eceb5e-f41b-4a33-90b4-9a6e6bbf3edb"
    },
    "slideshow": {
     "slide_type": "subslide"
    }
   },
   "outputs": [],
   "source": [
    "# Create the column Child and assign to 'NaN'\n",
    "train[\"Child\"] = float('NaN')\n",
    "\n",
    "# Assign 1 to passengers under 18, 0 to those 18 or older. Print the new column.\n",
    "\n",
    "\n",
    "\n",
    "\n",
    "# Print normalized Survival Rates for passengers under 18\n",
    "print(train[\"Survived\"][train[\"Child\"] == 1].value_counts(normalize = True))\n",
    "\n",
    "# Print normalized Survival Rates for passengers 18 or older\n",
    "\n"
   ]
  },
  {
   "cell_type": "markdown",
   "metadata": {
    "nbpresent": {
     "id": "e93b0e40-f5ab-4a75-b0ec-de250815e823"
    },
    "slideshow": {
     "slide_type": "slide"
    }
   },
   "source": [
    "## First Prediction\n",
    "In one of the previous exercises you discovered that in your training set, females had over a 50% chance of surviving and males had less than a 50% chance of surviving. Hence, you could use this information for your first prediction: all females in the test set survive and all males in the test set die.\n",
    "\n",
    "You use your test set for validating your predictions. You might have seen that contrary to the training set, the test set has no <b>Survived</b> column. You add such a column using your predicted values."
   ]
  },
  {
   "cell_type": "markdown",
   "metadata": {
    "nbpresent": {
     "id": "4215990b-0e72-4f9f-9983-ab7c5c6334d5"
    },
    "slideshow": {
     "slide_type": "subslide"
    }
   },
   "source": [
    "### Instructions\n",
    "\n",
    "- Create a variable <b>test_one</b>, identical to dataset <b>test</b>\n",
    "- Add an additional column, <b>Survived</b>, that you initialize to zero.\n",
    "- Use vector subsetting like in the previous exercise to set the value of <b>Survived</b> to 1 for observations whose <b>Sex</b> equals \"female\".\n",
    "- Print the <b>Survived</b> column of predictions from the <b>test_one</b> dataset.\n"
   ]
  },
  {
   "cell_type": "code",
   "execution_count": 5,
   "metadata": {
    "collapsed": false,
    "nbpresent": {
     "id": "1c035f10-6042-40a9-a3a7-e68c08fcb6c4"
    },
    "slideshow": {
     "slide_type": "subslide"
    }
   },
   "outputs": [],
   "source": [
    "# Create a copy of test: test_one\n",
    "\n",
    "# Initialize a Survived column to 0\n",
    "\n",
    "# Set Survived to 1 if Sex equals \"female\" and print the `Survived` column from `test_one`\n"
   ]
  }
 ],
 "metadata": {
  "anaconda-cloud": {},
  "celltoolbar": "Slideshow",
  "kernelspec": {
   "display_name": "Python [default]",
   "language": "python",
   "name": "python2"
  },
  "language_info": {
   "codemirror_mode": {
    "name": "ipython",
    "version": 2
   },
   "file_extension": ".py",
   "mimetype": "text/x-python",
   "name": "python",
   "nbconvert_exporter": "python",
   "pygments_lexer": "ipython2",
   "version": "2.7.12"
  },
  "nbpresent": {
   "slides": {
    "1aa9d732-8917-4ccb-91c4-e65bdc562dd5": {
     "id": "1aa9d732-8917-4ccb-91c4-e65bdc562dd5",
     "prev": "8c3c9855-ce9e-47a9-97cf-3a14c556bd8d",
     "regions": {
      "be13310d-c371-4284-8a0f-b7522302bf11": {
       "attrs": {
        "height": 0.8,
        "width": 0.8,
        "x": 0.1,
        "y": 0.1
       },
       "content": {
        "cell": "4215990b-0e72-4f9f-9983-ab7c5c6334d5",
        "part": "whole"
       },
       "id": "be13310d-c371-4284-8a0f-b7522302bf11"
      }
     }
    },
    "268e4a7b-2a30-40e3-ad4e-1014719ba370": {
     "id": "268e4a7b-2a30-40e3-ad4e-1014719ba370",
     "prev": "56e48119-ac01-4a1c-bf0f-7e7aab8b98e0",
     "regions": {
      "50ed53e9-f908-484b-8f7a-a509ea0666dc": {
       "attrs": {
        "height": 0.8,
        "width": 0.8,
        "x": 0.1,
        "y": 0.1
       },
       "content": {
        "cell": "d6809d95-e32b-4e90-b058-75a818dd39e9",
        "part": "whole"
       },
       "id": "50ed53e9-f908-484b-8f7a-a509ea0666dc"
      }
     }
    },
    "3b744178-ba7e-42d5-8faf-62e1a10bb141": {
     "id": "3b744178-ba7e-42d5-8faf-62e1a10bb141",
     "prev": "eed77ee6-e01b-4a71-8022-094db49deac4",
     "regions": {
      "7badfa42-c0d5-48c2-87ab-ba57dfade226": {
       "attrs": {
        "height": 0.4,
        "width": 0.8,
        "x": 0.1,
        "y": 0.5
       },
       "content": {
        "cell": "0410ec52-f490-4a52-9b09-5818e8edd712",
        "part": "whole"
       },
       "id": "7badfa42-c0d5-48c2-87ab-ba57dfade226"
      },
      "a21c6538-cee0-426a-9989-372d525749bf": {
       "attrs": {
        "height": 0.8,
        "width": 0.8,
        "x": 0.1,
        "y": 0.1
       },
       "content": {
        "cell": "c93af852-bc3c-464d-adbe-9ca55d73f44c",
        "part": "whole"
       },
       "id": "a21c6538-cee0-426a-9989-372d525749bf"
      }
     }
    },
    "533b74a4-fe10-4839-9275-615390bbdf87": {
     "id": "533b74a4-fe10-4839-9275-615390bbdf87",
     "prev": "e901fdf5-26d9-49ce-89c3-55783f4c66b0",
     "regions": {
      "335db28f-a842-42c3-8aca-1c4e126d5a37": {
       "attrs": {
        "height": 0.8,
        "width": 0.8,
        "x": 0.1,
        "y": 0.1
       },
       "content": {
        "cell": "3157effa-5d6e-45ad-96c4-f7d5210817dd",
        "part": "whole"
       },
       "id": "335db28f-a842-42c3-8aca-1c4e126d5a37"
      }
     }
    },
    "56e48119-ac01-4a1c-bf0f-7e7aab8b98e0": {
     "id": "56e48119-ac01-4a1c-bf0f-7e7aab8b98e0",
     "prev": "533b74a4-fe10-4839-9275-615390bbdf87",
     "regions": {
      "dab9cd61-b6e8-480a-a5a2-1fbd27071739": {
       "attrs": {
        "height": 0.8,
        "width": 0.8,
        "x": 0.1,
        "y": 0.1
       },
       "content": {
        "cell": "a2e4d6ba-ce26-417e-80de-7750512d6240",
        "part": "whole"
       },
       "id": "dab9cd61-b6e8-480a-a5a2-1fbd27071739"
      }
     }
    },
    "5795ef31-57fa-4b5f-b9dd-69e39a262bf2": {
     "id": "5795ef31-57fa-4b5f-b9dd-69e39a262bf2",
     "prev": "6f55f3be-8d4b-4b01-9b5c-a017d9f999d6",
     "regions": {
      "94c2c428-d2d4-4dd0-aff8-534e76ea07bb": {
       "attrs": {
        "height": 0.8,
        "width": 0.8,
        "x": 0.1,
        "y": 0.1
       },
       "content": {
        "cell": "a9eceb5e-f41b-4a33-90b4-9a6e6bbf3edb",
        "part": "whole"
       },
       "id": "94c2c428-d2d4-4dd0-aff8-534e76ea07bb"
      }
     }
    },
    "66268826-4024-42f0-a86d-c0ccbff43698": {
     "id": "66268826-4024-42f0-a86d-c0ccbff43698",
     "prev": "268e4a7b-2a30-40e3-ad4e-1014719ba370",
     "regions": {
      "bdabd37c-4da0-4c36-bdb5-f2c7b243d610": {
       "attrs": {
        "height": 0.8,
        "width": 0.8,
        "x": 0.1,
        "y": 0.1
       },
       "content": {
        "cell": "be1c16cd-a0ae-48ad-bcd1-ac55d8f32c6f",
        "part": "whole"
       },
       "id": "bdabd37c-4da0-4c36-bdb5-f2c7b243d610"
      }
     }
    },
    "6f55f3be-8d4b-4b01-9b5c-a017d9f999d6": {
     "id": "6f55f3be-8d4b-4b01-9b5c-a017d9f999d6",
     "prev": "3b744178-ba7e-42d5-8faf-62e1a10bb141",
     "regions": {
      "9dbc8a84-14c3-4c43-8eb8-5f9855d344fa": {
       "attrs": {
        "height": 0.8,
        "width": 0.8,
        "x": 0.1,
        "y": 0.1
       },
       "content": {
        "cell": "05f41b09-4e89-40de-b808-baa4c3eda489",
        "part": "whole"
       },
       "id": "9dbc8a84-14c3-4c43-8eb8-5f9855d344fa"
      }
     }
    },
    "83701b01-9558-46f1-a693-04b7e2f3016a": {
     "id": "83701b01-9558-46f1-a693-04b7e2f3016a",
     "prev": "dd8e92a9-3d74-4e58-bae9-40a33fc5c79c",
     "regions": {
      "c372cde9-2afb-4ea0-99c0-0cb1447a9c4d": {
       "attrs": {
        "height": 0.8,
        "width": 0.8,
        "x": 0.1,
        "y": 0.1
       },
       "content": {
        "cell": "a73fcb58-2560-4840-8975-fefec72b23a7",
        "part": "whole"
       },
       "id": "c372cde9-2afb-4ea0-99c0-0cb1447a9c4d"
      }
     }
    },
    "8c3c9855-ce9e-47a9-97cf-3a14c556bd8d": {
     "id": "8c3c9855-ce9e-47a9-97cf-3a14c556bd8d",
     "prev": "5795ef31-57fa-4b5f-b9dd-69e39a262bf2",
     "regions": {
      "874b9b6e-d099-4549-bac6-97c8ce6b1c81": {
       "attrs": {
        "height": 0.8,
        "width": 0.8,
        "x": 0.1,
        "y": 0.1
       },
       "content": {
        "cell": "e93b0e40-f5ab-4a75-b0ec-de250815e823",
        "part": "whole"
       },
       "id": "874b9b6e-d099-4549-bac6-97c8ce6b1c81"
      }
     }
    },
    "bca5ac1b-e4fb-4a67-afe2-6b19f487ea48": {
     "id": "bca5ac1b-e4fb-4a67-afe2-6b19f487ea48",
     "prev": "1aa9d732-8917-4ccb-91c4-e65bdc562dd5",
     "regions": {
      "ca23c993-b407-4e4d-8763-2e0cb0513251": {
       "attrs": {
        "height": 0.8,
        "width": 0.8,
        "x": 0.1,
        "y": 0.1
       },
       "content": {
        "cell": "1c035f10-6042-40a9-a3a7-e68c08fcb6c4",
        "part": "whole"
       },
       "id": "ca23c993-b407-4e4d-8763-2e0cb0513251"
      }
     }
    },
    "dd8e92a9-3d74-4e58-bae9-40a33fc5c79c": {
     "id": "dd8e92a9-3d74-4e58-bae9-40a33fc5c79c",
     "prev": "66268826-4024-42f0-a86d-c0ccbff43698",
     "regions": {
      "7247f0d3-6cfb-49a1-83b6-aaf5c0e04898": {
       "attrs": {
        "height": 0.8,
        "width": 0.8,
        "x": 0.1,
        "y": 0.1
       },
       "content": {
        "cell": "ebe19362-6620-4297-930f-caff0186b47a",
        "part": "whole"
       },
       "id": "7247f0d3-6cfb-49a1-83b6-aaf5c0e04898"
      }
     }
    },
    "e901fdf5-26d9-49ce-89c3-55783f4c66b0": {
     "id": "e901fdf5-26d9-49ce-89c3-55783f4c66b0",
     "layout": "manual",
     "prev": null,
     "regions": {
      "89f0dcf0-a40e-470b-81e2-08789cbeb476": {
       "attrs": {
        "height": 0.8,
        "width": 0.8,
        "x": 0.1,
        "y": 0.1
       },
       "id": "89f0dcf0-a40e-470b-81e2-08789cbeb476"
      },
      "90532428-81e3-4a73-8d43-1439c3369cfd": {
       "attrs": {
        "height": 1,
        "pad": 0.01,
        "treemap:weight": 1,
        "width": 1,
        "x": 0,
        "y": 0
       },
       "content": {
        "cell": "fcf40357-59ed-4f7d-8d79-8d3837da60d3",
        "part": "whole"
       },
       "id": "90532428-81e3-4a73-8d43-1439c3369cfd"
      }
     }
    },
    "eed77ee6-e01b-4a71-8022-094db49deac4": {
     "id": "eed77ee6-e01b-4a71-8022-094db49deac4",
     "prev": "83701b01-9558-46f1-a693-04b7e2f3016a",
     "regions": {
      "6b3ea5d0-6c5e-45e0-8372-aa128d29a0bd": {
       "attrs": {
        "height": 0.8,
        "width": 0.8,
        "x": 0.1,
        "y": 0.1
       },
       "content": {
        "cell": "2d5213bc-43a1-49a3-99ef-d9f4f9a2afc0",
        "part": "whole"
       },
       "id": "6b3ea5d0-6c5e-45e0-8372-aa128d29a0bd"
      }
     }
    }
   },
   "themes": {
    "default": "6460e1d8-b6d7-43d4-ad96-c8c27bd07781",
    "theme": {
     "46ad7fd7-ae38-4728-8a97-e1564667ea1c": {
      "backgrounds": {
       "backgroundColor": {
        "background-color": "backgroundColor",
        "id": "backgroundColor"
       }
      },
      "id": "46ad7fd7-ae38-4728-8a97-e1564667ea1c",
      "palette": {
       "backgroundColor": {
        "id": "backgroundColor",
        "rgb": [
         43,
         43,
         43
        ]
       },
       "headingColor": {
        "id": "headingColor",
        "rgb": [
         238,
         238,
         238
        ]
       },
       "linkColor": {
        "id": "linkColor",
        "rgb": [
         19,
         218,
         236
        ]
       },
       "mainColor": {
        "id": "mainColor",
        "rgb": [
         238,
         238,
         238
        ]
       }
      },
      "rules": {
       "a": {
        "color": "linkColor"
       },
       "h1": {
        "color": "headingColor",
        "font-family": "Oswald",
        "font-size": 7
       },
       "h2": {
        "color": "headingColor",
        "font-family": "Oswald",
        "font-size": 5
       },
       "h3": {
        "color": "headingColor",
        "font-family": "Oswald",
        "font-size": 3.75
       },
       "h4": {
        "color": "headingColor",
        "font-family": "Oswald",
        "font-size": 3
       },
       "h5": {
        "color": "headingColor",
        "font-family": "Oswald"
       },
       "h6": {
        "color": "headingColor",
        "font-family": "Oswald"
       },
       "h7": {
        "color": "headingColor",
        "font-family": "Oswald"
       },
       "li": {
        "color": "mainColor",
        "font-family": "Lato",
        "font-size": 5
       },
       "p": {
        "color": "mainColor",
        "font-family": "Lato",
        "font-size": 5
       }
      },
      "text-base": {
       "color": "mainColor",
       "font-family": "Lato",
       "font-size": 5
      }
     },
     "6460e1d8-b6d7-43d4-ad96-c8c27bd07781": {
      "backgrounds": {
       "backgroundColor": {
        "background-color": "backgroundColor",
        "id": "backgroundColor"
       }
      },
      "id": "6460e1d8-b6d7-43d4-ad96-c8c27bd07781",
      "palette": {
       "backgroundColor": {
        "id": "backgroundColor",
        "rgb": [
         256,
         256,
         256
        ]
       },
       "headingColor": {
        "id": "headingColor",
        "rgb": [
         34,
         34,
         34
        ]
       },
       "linkColor": {
        "id": "linkColor",
        "rgb": [
         42,
         118,
         221
        ]
       },
       "mainColor": {
        "id": "mainColor",
        "rgb": [
         34,
         34,
         34
        ]
       }
      },
      "rules": {
       "a": {
        "color": "linkColor"
       },
       "h1": {
        "color": "headingColor",
        "font-family": "Source Sans Pro",
        "font-size": 5.25
       },
       "h2": {
        "color": "headingColor",
        "font-family": "Source Sans Pro",
        "font-size": 4
       },
       "h3": {
        "color": "headingColor",
        "font-family": "Source Sans Pro",
        "font-size": 3.5
       },
       "h4": {
        "color": "headingColor",
        "font-family": "Source Sans Pro",
        "font-size": 3
       },
       "h5": {
        "color": "headingColor",
        "font-family": "Source Sans Pro"
       },
       "h6": {
        "color": "headingColor",
        "font-family": "Source Sans Pro"
       },
       "h7": {
        "color": "headingColor",
        "font-family": "Source Sans Pro"
       },
       "li": {
        "color": "mainColor",
        "font-family": "Source Sans Pro",
        "font-size": 6
       },
       "p": {
        "color": "mainColor",
        "font-family": "Source Sans Pro",
        "font-size": 6
       }
      },
      "text-base": {
       "color": "mainColor",
       "font-family": "Source Sans Pro",
       "font-size": 6
      }
     }
    }
   }
  }
 },
 "nbformat": 4,
 "nbformat_minor": 1
}
