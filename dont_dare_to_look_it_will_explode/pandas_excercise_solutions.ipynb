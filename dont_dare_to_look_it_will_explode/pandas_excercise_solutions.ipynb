{
 "cells": [
  {
   "cell_type": "code",
   "execution_count": 2,
   "metadata": {
    "collapsed": false
   },
   "outputs": [
    {
     "name": "stderr",
     "output_type": "stream",
     "text": [
      "/Users/steffena/anaconda/lib/python2.7/site-packages/matplotlib/font_manager.py:273: UserWarning: Matplotlib is building the font cache using fc-list. This may take a moment.\n",
      "  warnings.warn('Matplotlib is building the font cache using fc-list. This may take a moment.')\n"
     ]
    },
    {
     "name": "stdout",
     "output_type": "stream",
     "text": [
      "Populating the interactive namespace from numpy and matplotlib\n"
     ]
    }
   ],
   "source": [
    "import pandas as pd\n",
    "import seaborn as sns\n",
    "%pylab inline"
   ]
  },
  {
   "cell_type": "markdown",
   "metadata": {},
   "source": [
    "# Excercises"
   ]
  },
  {
   "cell_type": "markdown",
   "metadata": {},
   "source": [
    "* how many districts represented?\n",
    "* clean the umlauts in bezirk_name\n",
    "* what is the district with the most kids of age <=5 years?\n",
    "* where do the most retired persons live?\n",
    "* what is the district with the highest total population?\n",
    "* plot the histogram of number of german people from 0 till <20 across all districts"
   ]
  },
  {
   "cell_type": "code",
   "execution_count": 30,
   "metadata": {
    "collapsed": true
   },
   "outputs": [],
   "source": [
    "# load data, beware the seperator\n",
    "data = pd.read_csv('../data/EWR_Ortsteile_2015-12-31.csv', sep = ';', decimal = ',')"
   ]
  },
  {
   "cell_type": "code",
   "execution_count": 31,
   "metadata": {
    "collapsed": false
   },
   "outputs": [],
   "source": [
    "# clean columns manually\n",
    "data.columns = ['bezirk','bezirk_name','ortsteil','ortsteil_name','geschlecht','staatsangehoerigkeit','altersgruppe','haeufigkeit']"
   ]
  },
  {
   "cell_type": "code",
   "execution_count": 32,
   "metadata": {
    "collapsed": false
   },
   "outputs": [
    {
     "data": {
      "text/plain": [
       "array(['Mitte', 'Friedrichshain-Kreuzberg', 'Pankow',\n",
       "       'Charlottenburg-Wilmersdorf', 'Spandau', 'Steglitz-Zehlendorf',\n",
       "       'Tempelhof-Sch\\xf6neberg', 'Neuk\\xf6lln', 'Treptow-K\\xf6penick',\n",
       "       'Marzahn-Hellersdorf', 'Lichtenberg', 'Reinickendorf'], dtype=object)"
      ]
     },
     "execution_count": 32,
     "metadata": {},
     "output_type": "execute_result"
    }
   ],
   "source": [
    "# how many bezirke?\n",
    "data.bezirk_name.unique()"
   ]
  },
  {
   "cell_type": "code",
   "execution_count": 33,
   "metadata": {
    "collapsed": false
   },
   "outputs": [],
   "source": [
    "# clean the umlauts using data.bezirk_name.str.replace\n",
    "data.bezirk_name = data.bezirk_name.str.replace('\\xf6','oe')\n",
    "data.bezirk_name = data.bezirk_name.str.replace('\\xf6','oe')"
   ]
  },
  {
   "cell_type": "code",
   "execution_count": 36,
   "metadata": {
    "collapsed": false
   },
   "outputs": [
    {
     "data": {
      "text/plain": [
       "bezirk_name\n",
       "Charlottenburg-Wilmersdorf    12877.0\n",
       "Friedrichshain-Kreuzberg      14883.0\n",
       "Lichtenberg                   14176.0\n",
       "Marzahn-Hellersdorf           13514.0\n",
       "Mitte                         18783.0\n",
       "Neukoelln                     16744.0\n",
       "Pankow                        22475.0\n",
       "Reinickendorf                 11862.0\n",
       "Spandau                       11253.0\n",
       "Steglitz-Zehlendorf           12164.0\n",
       "Tempelhof-Schoeneberg         15140.0\n",
       "Treptow-Koepenick             11980.0\n",
       "dtype: float64"
      ]
     },
     "execution_count": 36,
     "metadata": {},
     "output_type": "execute_result"
    }
   ],
   "source": [
    "# what is the bezirk with the most kids of age <=5 years? \n",
    "# groupby and apply with lambda returning x.haeufigkeit.sum\n",
    "data.query('altersgruppe == \"00_05\"').groupby('bezirk_name').apply(lambda x: x.haeufigkeit.sum())"
   ]
  },
  {
   "cell_type": "code",
   "execution_count": 55,
   "metadata": {
    "collapsed": false
   },
   "outputs": [
    {
     "name": "stderr",
     "output_type": "stream",
     "text": [
      "/Users/steffena/anaconda/lib/python2.7/site-packages/ipykernel/__main__.py:2: FutureWarning: currently extract(expand=None) means expand=False (return Index/Series/DataFrame) but in a future version of pandas this will be changed to expand=True (return DataFrame)\n",
      "  from ipykernel import kernelapp as app\n"
     ]
    }
   ],
   "source": [
    "# where do the most retired persons live (>=65)? use regex on altersgruppe to extract age and convert to int via astype('int')\n",
    "data['alter_linke_seite'] = data.altersgruppe.str.extract('^(\\d{2})').astype('int')"
   ]
  },
  {
   "cell_type": "code",
   "execution_count": 67,
   "metadata": {
    "collapsed": false
   },
   "outputs": [
    {
     "data": {
      "text/plain": [
       "bezirk_name\n",
       "Friedrichshain-Kreuzberg      27667.0\n",
       "Marzahn-Hellersdorf           47653.0\n",
       "Mitte                         47823.0\n",
       "Spandau                       52355.0\n",
       "Lichtenberg                   54788.0\n",
       "Neukoelln                     57243.0\n",
       "Treptow-Koepenick             58887.0\n",
       "Pankow                        59049.0\n",
       "Reinickendorf                 61647.0\n",
       "Tempelhof-Schoeneberg         70734.0\n",
       "Charlottenburg-Wilmersdorf    76040.0\n",
       "Steglitz-Zehlendorf           76946.0\n",
       "dtype: float64"
      ]
     },
     "execution_count": 67,
     "metadata": {},
     "output_type": "execute_result"
    }
   ],
   "source": [
    "data.query('alter_linke_seite >= 65').groupby('bezirk_name').apply(lambda x: x.haeufigkeit.sum()).sort_values()"
   ]
  },
  {
   "cell_type": "code",
   "execution_count": 71,
   "metadata": {
    "collapsed": false
   },
   "outputs": [
    {
     "data": {
      "text/html": [
       "<div>\n",
       "<table border=\"1\" class=\"dataframe\">\n",
       "  <thead>\n",
       "    <tr style=\"text-align: right;\">\n",
       "      <th></th>\n",
       "      <th>bezirk</th>\n",
       "      <th>bezirk_name</th>\n",
       "      <th>ortsteil</th>\n",
       "      <th>ortsteil_name</th>\n",
       "      <th>geschlecht</th>\n",
       "      <th>staatsangehoerigkeit</th>\n",
       "      <th>altersgruppe</th>\n",
       "      <th>haeufigkeit</th>\n",
       "      <th>alter_linke_seite</th>\n",
       "    </tr>\n",
       "  </thead>\n",
       "  <tbody>\n",
       "    <tr>\n",
       "      <th>0</th>\n",
       "      <td>1</td>\n",
       "      <td>Mitte</td>\n",
       "      <td>101</td>\n",
       "      <td>Mitte</td>\n",
       "      <td>1</td>\n",
       "      <td>A</td>\n",
       "      <td>00_05</td>\n",
       "      <td>337.0</td>\n",
       "      <td>0</td>\n",
       "    </tr>\n",
       "    <tr>\n",
       "      <th>1</th>\n",
       "      <td>1</td>\n",
       "      <td>Mitte</td>\n",
       "      <td>101</td>\n",
       "      <td>Mitte</td>\n",
       "      <td>1</td>\n",
       "      <td>A</td>\n",
       "      <td>05_10</td>\n",
       "      <td>276.0</td>\n",
       "      <td>5</td>\n",
       "    </tr>\n",
       "    <tr>\n",
       "      <th>2</th>\n",
       "      <td>1</td>\n",
       "      <td>Mitte</td>\n",
       "      <td>101</td>\n",
       "      <td>Mitte</td>\n",
       "      <td>1</td>\n",
       "      <td>A</td>\n",
       "      <td>10_15</td>\n",
       "      <td>246.0</td>\n",
       "      <td>10</td>\n",
       "    </tr>\n",
       "    <tr>\n",
       "      <th>3</th>\n",
       "      <td>1</td>\n",
       "      <td>Mitte</td>\n",
       "      <td>101</td>\n",
       "      <td>Mitte</td>\n",
       "      <td>1</td>\n",
       "      <td>A</td>\n",
       "      <td>15_20</td>\n",
       "      <td>272.0</td>\n",
       "      <td>15</td>\n",
       "    </tr>\n",
       "    <tr>\n",
       "      <th>4</th>\n",
       "      <td>1</td>\n",
       "      <td>Mitte</td>\n",
       "      <td>101</td>\n",
       "      <td>Mitte</td>\n",
       "      <td>1</td>\n",
       "      <td>A</td>\n",
       "      <td>20_25</td>\n",
       "      <td>910.0</td>\n",
       "      <td>20</td>\n",
       "    </tr>\n",
       "  </tbody>\n",
       "</table>\n",
       "</div>"
      ],
      "text/plain": [
       "   bezirk bezirk_name  ortsteil ortsteil_name  geschlecht  \\\n",
       "0       1       Mitte       101         Mitte           1   \n",
       "1       1       Mitte       101         Mitte           1   \n",
       "2       1       Mitte       101         Mitte           1   \n",
       "3       1       Mitte       101         Mitte           1   \n",
       "4       1       Mitte       101         Mitte           1   \n",
       "\n",
       "  staatsangehoerigkeit altersgruppe  haeufigkeit  alter_linke_seite  \n",
       "0                    A        00_05        337.0                  0  \n",
       "1                    A        05_10        276.0                  5  \n",
       "2                    A        10_15        246.0                 10  \n",
       "3                    A        15_20        272.0                 15  \n",
       "4                    A        20_25        910.0                 20  "
      ]
     },
     "execution_count": 71,
     "metadata": {},
     "output_type": "execute_result"
    }
   ],
   "source": [
    "data.head()"
   ]
  },
  {
   "cell_type": "code",
   "execution_count": 81,
   "metadata": {
    "collapsed": false
   },
   "outputs": [
    {
     "data": {
      "text/plain": [
       "<matplotlib.axes._subplots.AxesSubplot at 0x118e45810>"
      ]
     },
     "execution_count": 81,
     "metadata": {},
     "output_type": "execute_result"
    },
    {
     "data": {
      "image/png": "[encoded data removed]",
      "text/plain": [
       "<matplotlib.figure.Figure at 0x118e45a90>"
      ]
     },
     "metadata": {},
     "output_type": "display_data"
    }
   ],
   "source": [
    "# plot the histogram of number of german people from 0 till 20 across all districts\n",
    "tmp = data.query('alter_linke_seite < 20').groupby('altersgruppe').apply(lambda x: x.haeufigkeit.sum())\n",
    "tmp.plot(kind = 'bar')"
   ]
  },
  {
   "cell_type": "code",
   "execution_count": null,
   "metadata": {
    "collapsed": true
   },
   "outputs": [],
   "source": []
  }
 ],
 "metadata": {
  "kernelspec": {
   "display_name": "Python 2",
   "language": "python",
   "name": "python2"
  },
  "language_info": {
   "codemirror_mode": {
    "name": "ipython",
    "version": 2
   },
   "file_extension": ".py",
   "mimetype": "text/x-python",
   "name": "python",
   "nbconvert_exporter": "python",
   "pygments_lexer": "ipython2",
   "version": "2.7.12"
  }
 },
 "nbformat": 4,
 "nbformat_minor": 0
}
